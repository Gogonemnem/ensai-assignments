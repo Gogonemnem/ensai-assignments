{
  "nbformat": 4,
  "nbformat_minor": 0,
  "metadata": {
    "colab": {
      "provenance": [],
      "mount_file_id": "1Ne5ckAgiSUsBaA1OjAvA8zRmfYKm1qpv",
      "authorship_tag": "ABX9TyOhmYx4uzdCpdEg4fdpvHUJ",
      "include_colab_link": true
    },
    "kernelspec": {
      "name": "python3",
      "display_name": "Python 3"
    },
    "language_info": {
      "name": "python"
    }
  },
  "cells": [
    {
      "cell_type": "markdown",
      "metadata": {
        "id": "view-in-github",
        "colab_type": "text"
      },
      "source": [
        "<a href=\"https://colab.research.google.com/github/RobDrie/IT-Tools-Spark/blob/main/Spark_Project.ipynb\" target=\"_parent\"><img src=\"https://colab.research.google.com/assets/colab-badge.svg\" alt=\"Open In Colab\"/></a>"
      ]
    },
    {
      "cell_type": "code",
      "execution_count": 86,
      "metadata": {
        "colab": {
          "base_uri": "https://localhost:8080/"
        },
        "id": "2lGDl83gpePX",
        "outputId": "d4ed9f80-6ba3-48f6-90d4-1b1d591a0a8a"
      },
      "outputs": [
        {
          "output_type": "stream",
          "name": "stdout",
          "text": [
            "Requirement already satisfied: pyspark in /usr/local/lib/python3.10/dist-packages (3.5.0)\n",
            "Requirement already satisfied: py4j==0.10.9.7 in /usr/local/lib/python3.10/dist-packages (from pyspark) (0.10.9.7)\n"
          ]
        }
      ],
      "source": [
        "!pip install pyspark"
      ]
    },
    {
      "cell_type": "code",
      "source": [
        "import pyspark\n",
        "from pyspark.sql.functions import year, month, dayofweek, col, split\n",
        "from pyspark.sql.functions import weekofyear"
      ],
      "metadata": {
        "id": "fs29WSXXqa5b"
      },
      "execution_count": 111,
      "outputs": []
    },
    {
      "cell_type": "code",
      "source": [
        "spark = pyspark.sql.SparkSession.builder.appName('Session1').getOrCreate()"
      ],
      "metadata": {
        "id": "5q9Om-hiqdWT"
      },
      "execution_count": 88,
      "outputs": []
    },
    {
      "cell_type": "markdown",
      "source": [
        "## Load & Process gas price data with Spark\n",
        "* Download 2010 to 2023 gas price data\n",
        "* Download gas Stations file & Services file (2022 versions)"
      ],
      "metadata": {
        "id": "JfGk4f7rqks4"
      }
    },
    {
      "cell_type": "code",
      "source": [
        "!git clone https://github.com/rvm-courses/GasPrices"
      ],
      "metadata": {
        "colab": {
          "base_uri": "https://localhost:8080/"
        },
        "id": "Om9p_VrVrmEp",
        "outputId": "1d93e4b7-ea2e-4dba-f2e6-a0136f3572d1"
      },
      "execution_count": 89,
      "outputs": [
        {
          "output_type": "stream",
          "name": "stdout",
          "text": [
            "fatal: destination path 'GasPrices' already exists and is not an empty directory.\n"
          ]
        }
      ]
    },
    {
      "cell_type": "markdown",
      "source": [
        "## Data Preparation - step 1\n",
        "* Read and merge all gas files\n",
        "* Split date in year, month, week of the year\n",
        "* Prepare latitude & longitude for mapping (divide by the right power of 10)\n",
        "* Make data available as a table in order to be able to use Spark S"
      ],
      "metadata": {
        "id": "jX5fGrZR6aQa"
      }
    },
    {
      "cell_type": "code",
      "source": [
        "def price_download(year_list):\n",
        "  prices_df = None\n",
        "\n",
        "  for year in year_list:\n",
        "    file_path = f'GasPrices/Prix{year}.csv.gz'\n",
        "    current_df = spark.read.option(\"header\", \"False\").option('delimiter', ';').csv(file_path)\n",
        "\n",
        "    if prices_df is None:\n",
        "      prices_df = current_df\n",
        "    else:\n",
        "      prices_df = prices_df.union(current_df)\n",
        "\n",
        "  return prices_df"
      ],
      "metadata": {
        "id": "Fc8FMc1fL0RX"
      },
      "execution_count": 94,
      "outputs": []
    },
    {
      "cell_type": "code",
      "source": [
        "year_list = ['2019', '2020', '2021', '2022S1', '2022S2']\n",
        "prices_df = price_download(year_list)\n",
        "\n",
        "file_path = 'GasPrices/Stations2022.csv.gz'\n",
        "station_df = spark.read.option(\"header\", \"False\").option('delimiter', '|').csv(file_path)\n",
        "\n",
        "file_path = 'GasPrices/Services2022.csv.gz'\n",
        "station_df = spark.read.option(\"header\", \"False\").option('delimiter', '|').csv(file_path)"
      ],
      "metadata": {
        "id": "nJNqWmleNBMR"
      },
      "execution_count": 156,
      "outputs": []
    },
    {
      "cell_type": "markdown",
      "source": [
        "### Variable definitions\n",
        "* id_pdv = points of sales\n",
        "* cp = zip code\n",
        "* pop = type of population\n",
        "* latitude\n",
        "* longitude\n",
        "* date\n",
        "* id carburant = gas id\n",
        "* nom carburant = gas label\n",
        "* prix = price in millieuros"
      ],
      "metadata": {
        "id": "EP0pHc6f0uHD"
      }
    },
    {
      "cell_type": "code",
      "source": [
        "# Set the column headers\n",
        "old_names = prices_df.columns\n",
        "new_names = ['id_pdv', 'cp', 'pop', 'latitude', 'longitude',\n",
        "             'date', 'id_carburant', 'nom_carburant', 'prix']\n",
        "\n",
        "for new_name, old_name in zip(new_names, old_names):\n",
        "  prices_df = prices_df.withColumnRenamed(f'{old_name}', f'{new_name}')"
      ],
      "metadata": {
        "id": "YaI0fwa0l7-c"
      },
      "execution_count": 136,
      "outputs": []
    },
    {
      "cell_type": "markdown",
      "source": [
        "### Split date in year, month, week of the year"
      ],
      "metadata": {
        "id": "8Lg1ccY36yMD"
      }
    },
    {
      "cell_type": "code",
      "source": [
        "split_datetime = split(prices_df['date'], 'T')\n",
        "prices_df = prices_df.withColumn('Date', split_datetime.getItem(0))\n",
        "split_date = split(prices_df['Date'], '-')\n",
        "\n",
        "prices_df = prices_df.withColumn('Year', split_date.getItem(0))\n",
        "prices_df = prices_df.withColumn('Month', split_date.getItem(1))\n",
        "prices_df = prices_df.withColumn('Day', split_date.getItem(2))\n",
        "prices_df = prices_df.withColumn('WeekOfYear', weekofyear(prices_df['date']))"
      ],
      "metadata": {
        "id": "Pa7_uUFvuD7K"
      },
      "execution_count": 137,
      "outputs": []
    },
    {
      "cell_type": "code",
      "source": [
        "prices_df.show(10)"
      ],
      "metadata": {
        "colab": {
          "base_uri": "https://localhost:8080/"
        },
        "id": "HQGS-dm8sYa1",
        "outputId": "808906d0-030f-4d89-9e16-7bfd6c38e625"
      },
      "execution_count": 131,
      "outputs": [
        {
          "output_type": "stream",
          "name": "stdout",
          "text": [
            "+-------+-----+---+--------+---------+----------+------------+-------------+----+----+-----+---+----------+\n",
            "| id_pdv|   cp|pop|latitude|longitude|      Date|id_carburant|nom_carburant|prix|Year|Month|Day|WeekOfYear|\n",
            "+-------+-----+---+--------+---------+----------+------------+-------------+----+----+-----+---+----------+\n",
            "|1000001|01000|  R| 4620114|   519791|2019-01-04|           1|       Gazole|1328|2019|   01| 04|         1|\n",
            "|1000001|01000|  R| 4620114|   519791|2019-01-07|           1|       Gazole|1348|2019|   01| 07|         2|\n",
            "|1000001|01000|  R| 4620114|   519791|2019-01-10|           1|       Gazole|1374|2019|   01| 10|         2|\n",
            "|1000001|01000|  R| 4620114|   519791|2019-01-11|           1|       Gazole|1387|2019|   01| 11|         2|\n",
            "|1000001|01000|  R| 4620114|   519791|2019-01-14|           1|       Gazole|1394|2019|   01| 14|         3|\n",
            "|1000001|01000|  R| 4620114|   519791|2019-01-16|           1|       Gazole|1394|2019|   01| 16|         3|\n",
            "|1000001|01000|  R| 4620114|   519791|2019-01-17|           1|       Gazole|1391|2019|   01| 17|         3|\n",
            "|1000001|01000|  R| 4620114|   519791|2019-01-18|           1|       Gazole|1401|2019|   01| 18|         3|\n",
            "|1000001|01000|  R| 4620114|   519791|2019-01-21|           1|       Gazole|1401|2019|   01| 21|         4|\n",
            "|1000001|01000|  R| 4620114|   519791|2019-01-21|           1|       Gazole|1401|2019|   01| 21|         4|\n",
            "+-------+-----+---+--------+---------+----------+------------+-------------+----+----+-----+---+----------+\n",
            "only showing top 10 rows\n",
            "\n"
          ]
        }
      ]
    },
    {
      "cell_type": "markdown",
      "source": [
        "### Prepare latitude & longitude for mapping (Divide by the right power of 10) to map the latitude & longitude on a [0,1] scale, we identity two different constants"
      ],
      "metadata": {
        "id": "wvw5gmzL65oN"
      }
    },
    {
      "cell_type": "code",
      "source": [
        "division_constant_latitude = 10**7\n",
        "division_constant_longitude = 10**6\n",
        "prices_df = prices_df.withColumn('latitude_adj', col('latitude') / division_constant_latitude)\n",
        "prices_df = prices_df.withColumn('longitude_adj', col('longitude') / division_constant_longitude)"
      ],
      "metadata": {
        "id": "VceUXLASwuNf"
      },
      "execution_count": 140,
      "outputs": []
    },
    {
      "cell_type": "code",
      "source": [
        "prices_df.show(5)"
      ],
      "metadata": {
        "colab": {
          "base_uri": "https://localhost:8080/"
        },
        "id": "V-PsannwxnAG",
        "outputId": "4949ea45-15b7-4760-f500-dc68ab0d7e4e"
      },
      "execution_count": 141,
      "outputs": [
        {
          "output_type": "stream",
          "name": "stdout",
          "text": [
            "+-------+-----+---+--------+---------+----------+------------+-------------+----+----+-----+---+----------+------------+-------------+\n",
            "| id_pdv|   cp|pop|latitude|longitude|      Date|id_carburant|nom_carburant|prix|Year|Month|Day|WeekOfYear|latitude_adj|longitude_adj|\n",
            "+-------+-----+---+--------+---------+----------+------------+-------------+----+----+-----+---+----------+------------+-------------+\n",
            "|1000001|01000|  R| 4620114|   519791|2019-01-04|           1|       Gazole|1328|2019|   01| 04|         1|   0.4620114|     0.519791|\n",
            "|1000001|01000|  R| 4620114|   519791|2019-01-07|           1|       Gazole|1348|2019|   01| 07|         2|   0.4620114|     0.519791|\n",
            "|1000001|01000|  R| 4620114|   519791|2019-01-10|           1|       Gazole|1374|2019|   01| 10|         2|   0.4620114|     0.519791|\n",
            "|1000001|01000|  R| 4620114|   519791|2019-01-11|           1|       Gazole|1387|2019|   01| 11|         2|   0.4620114|     0.519791|\n",
            "|1000001|01000|  R| 4620114|   519791|2019-01-14|           1|       Gazole|1394|2019|   01| 14|         3|   0.4620114|     0.519791|\n",
            "+-------+-----+---+--------+---------+----------+------------+-------------+----+----+-----+---+----------+------------+-------------+\n",
            "only showing top 5 rows\n",
            "\n"
          ]
        }
      ]
    },
    {
      "cell_type": "markdown",
      "source": [
        "### Make data available as a table in order to be able to use Spark SQL"
      ],
      "metadata": {
        "id": "Tr22TmKb7HGp"
      }
    },
    {
      "cell_type": "code",
      "source": [
        "prices_df.createOrReplaceTempView(\"Gas_prices\")"
      ],
      "metadata": {
        "id": "jJ4uIeAeze70"
      },
      "execution_count": 149,
      "outputs": []
    },
    {
      "cell_type": "markdown",
      "source": [
        "### Through basic statistics, consider which gas types have some interest for the rest of the project\n"
      ],
      "metadata": {
        "id": "lPOsyPpO7LbA"
      }
    },
    {
      "cell_type": "code",
      "source": [
        "# Idenitify the different gas types\n",
        "spark.sql(\"\"\"\n",
        "  SELECT DISTINCT nom_carburant\n",
        "  FROM Gas_prices\n",
        "\"\"\").show()"
      ],
      "metadata": {
        "colab": {
          "base_uri": "https://localhost:8080/"
        },
        "id": "36SplyRi1iXv",
        "outputId": "ab6e9f21-b86e-4e5f-df49-e0b9d43218f8"
      },
      "execution_count": 143,
      "outputs": [
        {
          "output_type": "stream",
          "name": "stdout",
          "text": [
            "+-------------+\n",
            "|nom_carburant|\n",
            "+-------------+\n",
            "|          E10|\n",
            "|         SP98|\n",
            "|          E85|\n",
            "|       Gazole|\n",
            "|         SP95|\n",
            "|         GPLc|\n",
            "|         NULL|\n",
            "+-------------+\n",
            "\n"
          ]
        }
      ]
    },
    {
      "cell_type": "code",
      "source": [
        "# Inspect summary statistics for different gas types\n",
        "spark.sql(\"\"\"\n",
        "    SELECT\n",
        "        nom_carburant,\n",
        "        COUNT(*) as count,\n",
        "        AVG(prix) as mean,\n",
        "        STDDEV(prix) as stddev,\n",
        "        MIN(prix) as min,\n",
        "        MAX(prix) as max\n",
        "    FROM\n",
        "        Gas_prices\n",
        "    GROUP BY\n",
        "        nom_carburant\n",
        "\"\"\").show()"
      ],
      "metadata": {
        "colab": {
          "base_uri": "https://localhost:8080/"
        },
        "id": "T8e5X6Iu3QaZ",
        "outputId": "e2ad94cb-42a7-413b-9730-43351e3c931d"
      },
      "execution_count": 147,
      "outputs": [
        {
          "output_type": "stream",
          "name": "stdout",
          "text": [
            "+-------------+-------+------------------+------------------+-----+-----+\n",
            "|nom_carburant|  count|              mean|            stddev|  min|  max|\n",
            "+-------------+-------+------------------+------------------+-----+-----+\n",
            "|         NULL|  14566|              NULL|              NULL| NULL| NULL|\n",
            "|          E10|4357845|1061.6209274556575|  668.596370536261|0.001|  959|\n",
            "|          E85|1141058|443.79118290393654|342.67485665722415|0.001|  999|\n",
            "|         GPLc| 753286| 641.0837959314258| 392.8441353639444|0.019|  999|\n",
            "|       Gazole|5273314| 999.6524478986081| 642.1946477857184|0.001|  999|\n",
            "|         SP95|1327084|1071.6206721887988| 671.9647156310942|0.004|9.999|\n",
            "|         SP98|4433584|1135.2852601017596| 702.3608904771925|0.001|  969|\n",
            "+-------------+-------+------------------+------------------+-----+-----+\n",
            "\n"
          ]
        }
      ]
    },
    {
      "cell_type": "markdown",
      "source": [
        "## Data Preparation - step 2\n",
        "* Compute price index for each station per week:\n"
      ],
      "metadata": {
        "id": "GH2x2HDH7V4i"
      }
    }
  ]
}