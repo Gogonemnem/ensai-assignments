{
  "nbformat": 4,
  "nbformat_minor": 0,
  "metadata": {
    "colab": {
      "provenance": [],
      "mount_file_id": "1Ne5ckAgiSUsBaA1OjAvA8zRmfYKm1qpv",
      "authorship_tag": "ABX9TyNeSGsdMbhGx2j+bLHmzPZ9",
      "include_colab_link": true
    },
    "kernelspec": {
      "name": "python3",
      "display_name": "Python 3"
    },
    "language_info": {
      "name": "python"
    }
  },
  "cells": [
    {
      "cell_type": "markdown",
      "metadata": {
        "id": "view-in-github",
        "colab_type": "text"
      },
      "source": [
        "<a href=\"https://colab.research.google.com/github/RobDrie/IT-Tools-Spark/blob/main/Spark_Project.ipynb\" target=\"_parent\"><img src=\"https://colab.research.google.com/assets/colab-badge.svg\" alt=\"Open In Colab\"/></a>"
      ]
    },
    {
      "cell_type": "code",
      "execution_count": null,
      "metadata": {
        "colab": {
          "base_uri": "https://localhost:8080/"
        },
        "id": "2lGDl83gpePX",
        "outputId": "f0b1a1f5-6ace-41ce-838c-2681128b5027"
      },
      "outputs": [
        {
          "output_type": "stream",
          "name": "stdout",
          "text": [
            "Collecting pyspark\n",
            "  Downloading pyspark-3.5.0.tar.gz (316.9 MB)\n",
            "\u001b[2K     \u001b[90m━━━━━━━━━━━━━━━━━━━━━━━━━━━━━━━━━━━━━━━━\u001b[0m \u001b[32m316.9/316.9 MB\u001b[0m \u001b[31m2.2 MB/s\u001b[0m eta \u001b[36m0:00:00\u001b[0m\n",
            "\u001b[?25h  Preparing metadata (setup.py) ... \u001b[?25l\u001b[?25hdone\n",
            "Requirement already satisfied: py4j==0.10.9.7 in /usr/local/lib/python3.10/dist-packages (from pyspark) (0.10.9.7)\n",
            "Building wheels for collected packages: pyspark\n",
            "  Building wheel for pyspark (setup.py) ... \u001b[?25l\u001b[?25hdone\n",
            "  Created wheel for pyspark: filename=pyspark-3.5.0-py2.py3-none-any.whl size=317425345 sha256=62263b7c76d76521675bec785e48b498ebc198f2b921b241dbc66c86b760176d\n",
            "  Stored in directory: /root/.cache/pip/wheels/41/4e/10/c2cf2467f71c678cfc8a6b9ac9241e5e44a01940da8fbb17fc\n",
            "Successfully built pyspark\n",
            "Installing collected packages: pyspark\n",
            "Successfully installed pyspark-3.5.0\n"
          ]
        }
      ],
      "source": [
        "!pip install pyspark"
      ]
    },
    {
      "cell_type": "code",
      "source": [
        "import pyspark\n",
        "from pyspark.sql.functions import year, month, dayofweek, col, split\n",
        "from pyspark.sql.functions import weekofyear"
      ],
      "metadata": {
        "id": "fs29WSXXqa5b"
      },
      "execution_count": null,
      "outputs": []
    },
    {
      "cell_type": "code",
      "source": [
        "spark = pyspark.sql.SparkSession.builder.appName('Session1').getOrCreate()"
      ],
      "metadata": {
        "id": "5q9Om-hiqdWT"
      },
      "execution_count": null,
      "outputs": []
    },
    {
      "cell_type": "markdown",
      "source": [
        "## Load & Process gas price data with Spark\n",
        "* Download 2010 to 2023 gas price data\n",
        "* Download gas Stations file & Services file (2022 versions)"
      ],
      "metadata": {
        "id": "JfGk4f7rqks4"
      }
    },
    {
      "cell_type": "code",
      "source": [
        "!git clone https://github.com/rvm-courses/GasPrices"
      ],
      "metadata": {
        "colab": {
          "base_uri": "https://localhost:8080/"
        },
        "id": "Om9p_VrVrmEp",
        "outputId": "28bd1752-bead-428f-cd9f-4ebdbe4da1e5"
      },
      "execution_count": null,
      "outputs": [
        {
          "output_type": "stream",
          "name": "stdout",
          "text": [
            "Cloning into 'GasPrices'...\n",
            "remote: Enumerating objects: 143, done.\u001b[K\n",
            "remote: Counting objects: 100% (19/19), done.\u001b[K\n",
            "remote: Compressing objects: 100% (19/19), done.\u001b[K\n",
            "remote: Total 143 (delta 3), reused 0 (delta 0), pack-reused 124\u001b[K\n",
            "Receiving objects: 100% (143/143), 619.51 MiB | 29.93 MiB/s, done.\n",
            "Resolving deltas: 100% (33/33), done.\n",
            "Updating files: 100% (40/40), done.\n"
          ]
        }
      ]
    },
    {
      "cell_type": "markdown",
      "source": [
        "## Data Preparation - step 1\n",
        "* Read and merge all gas files\n",
        "* Split date in year, month, week of the year\n",
        "* Prepare latitude & longitude for mapping (divide by the right power of 10)\n",
        "* Make data available as a table in order to be able to use Spark S"
      ],
      "metadata": {
        "id": "jX5fGrZR6aQa"
      }
    },
    {
      "cell_type": "code",
      "source": [
        "def price_download(year_list):\n",
        "  prices_df = None\n",
        "\n",
        "  for year in year_list:\n",
        "    file_path = f'GasPrices/Prix{year}.csv.gz'\n",
        "    current_df = spark.read.option(\"header\", \"False\").option('delimiter', ';').csv(file_path)\n",
        "\n",
        "    if prices_df is None:\n",
        "      prices_df = current_df\n",
        "    else:\n",
        "      prices_df = prices_df.union(current_df)\n",
        "\n",
        "  return prices_df"
      ],
      "metadata": {
        "id": "Fc8FMc1fL0RX"
      },
      "execution_count": null,
      "outputs": []
    },
    {
      "cell_type": "code",
      "source": [
        "year_list = ['2019', '2020', '2021', '2022S1', '2022S2']\n",
        "prices_df = price_download(year_list)\n",
        "\n",
        "file_path = 'GasPrices/Stations2022.csv.gz'\n",
        "stations_df = spark.read.option(\"header\", \"False\").option('delimiter', '|').csv(file_path)\n",
        "\n",
        "file_path = 'GasPrices/Services2022.csv.gz'\n",
        "services_df = spark.read.option(\"header\", \"False\").option('delimiter', '|').csv(file_path)"
      ],
      "metadata": {
        "id": "nJNqWmleNBMR"
      },
      "execution_count": null,
      "outputs": []
    },
    {
      "cell_type": "markdown",
      "source": [
        "### Variable definitions\n",
        "* id_pdv = points of sales\n",
        "* cp = zip code\n",
        "* pop = type of population\n",
        "* latitude\n",
        "* longitude\n",
        "* date\n",
        "* id carburant = gas id\n",
        "* nom carburant = gas label\n",
        "* prix = price in millieuros"
      ],
      "metadata": {
        "id": "EP0pHc6f0uHD"
      }
    },
    {
      "cell_type": "code",
      "source": [
        "# # Set the column headers for price dataframe\n",
        "# old_names_prices = prices_df.columns\n",
        "# old_names_stations = station_df.columns\n",
        "# old_names_services = services_df.columns\n",
        "\n",
        "# new_names_prices = ['id_pdv', 'cp', 'pop', 'latitude', 'longitude',\n",
        "#              'date', 'id_carburant', 'nom_carburant', 'prix']\n",
        "\n",
        "# new_names_stations = ['id_pdv', 'cp', 'pop', 'latitude', 'longitude',\n",
        "#              'adresse', 'vile']\n",
        "\n",
        "# new_names_services = ['id_pdv', 'cp', 'pop', 'latitude', 'longitude',\n",
        "#              'services']\n",
        "\n",
        "# for new_name, old_name in zip(new_names, old_names):\n",
        "#   prices_df = prices_df.withColumnRenamed(f'{old_name}', f'{new_name}')"
      ],
      "metadata": {
        "id": "YaI0fwa0l7-c"
      },
      "execution_count": null,
      "outputs": []
    },
    {
      "cell_type": "code",
      "source": [
        "# Set the column headers for price dataframe\n",
        "columns_mapping = {\n",
        "    'prices_df': {'old': prices_df.columns, 'new': ['id_pdv', 'cp', 'pop', 'latitude', 'longitude', 'date', 'id_carburant', 'nom_carburant', 'prix']},\n",
        "    'stations_df': {'old': stations_df.columns, 'new': ['id_pdv', 'cp', 'pop', 'latitude', 'longitude', 'adresse', 'vile']},\n",
        "    'services_df': {'old': services_df.columns, 'new': ['id_pdv', 'cp', 'pop', 'latitude', 'longitude', 'services']}\n",
        "}\n",
        "\n",
        "for df_name, mapping in columns_mapping.items():\n",
        "    for new_name, old_name in zip(mapping['new'], mapping['old']):\n",
        "        globals()[df_name] = globals()[df_name].withColumnRenamed(f'{old_name}', f'{new_name}')\n"
      ],
      "metadata": {
        "id": "RJRSHaVyNABB"
      },
      "execution_count": null,
      "outputs": []
    },
    {
      "cell_type": "markdown",
      "source": [
        "### Split date in year, month, week of the year"
      ],
      "metadata": {
        "id": "8Lg1ccY36yMD"
      }
    },
    {
      "cell_type": "code",
      "source": [
        "split_datetime = split(prices_df['date'], 'T')\n",
        "prices_df = prices_df.withColumn('Date', split_datetime.getItem(0))\n",
        "split_date = split(prices_df['Date'], '-')\n",
        "\n",
        "prices_df = prices_df.withColumn('Year', split_date.getItem(0))\n",
        "prices_df = prices_df.withColumn('Month', split_date.getItem(1))\n",
        "prices_df = prices_df.withColumn('Day', split_date.getItem(2))\n",
        "prices_df = prices_df.withColumn('WeekOfYear', weekofyear(prices_df['date']))"
      ],
      "metadata": {
        "id": "Pa7_uUFvuD7K"
      },
      "execution_count": null,
      "outputs": []
    },
    {
      "cell_type": "code",
      "source": [
        "prices_df.show(10)\n",
        "stations_df.show(10)\n",
        "services_df.show(10)"
      ],
      "metadata": {
        "colab": {
          "base_uri": "https://localhost:8080/"
        },
        "id": "HQGS-dm8sYa1",
        "outputId": "7734c1d6-e448-4238-f41e-907b6884be5b"
      },
      "execution_count": null,
      "outputs": [
        {
          "output_type": "stream",
          "name": "stdout",
          "text": [
            "+-------+-----+---+--------+---------+----------+------------+-------------+----+----+-----+---+----------+\n",
            "| id_pdv|   cp|pop|latitude|longitude|      Date|id_carburant|nom_carburant|prix|Year|Month|Day|WeekOfYear|\n",
            "+-------+-----+---+--------+---------+----------+------------+-------------+----+----+-----+---+----------+\n",
            "|1000001|01000|  R| 4620114|   519791|2019-01-04|           1|       Gazole|1328|2019|   01| 04|         1|\n",
            "|1000001|01000|  R| 4620114|   519791|2019-01-07|           1|       Gazole|1348|2019|   01| 07|         2|\n",
            "|1000001|01000|  R| 4620114|   519791|2019-01-10|           1|       Gazole|1374|2019|   01| 10|         2|\n",
            "|1000001|01000|  R| 4620114|   519791|2019-01-11|           1|       Gazole|1387|2019|   01| 11|         2|\n",
            "|1000001|01000|  R| 4620114|   519791|2019-01-14|           1|       Gazole|1394|2019|   01| 14|         3|\n",
            "|1000001|01000|  R| 4620114|   519791|2019-01-16|           1|       Gazole|1394|2019|   01| 16|         3|\n",
            "|1000001|01000|  R| 4620114|   519791|2019-01-17|           1|       Gazole|1391|2019|   01| 17|         3|\n",
            "|1000001|01000|  R| 4620114|   519791|2019-01-18|           1|       Gazole|1401|2019|   01| 18|         3|\n",
            "|1000001|01000|  R| 4620114|   519791|2019-01-21|           1|       Gazole|1401|2019|   01| 21|         4|\n",
            "|1000001|01000|  R| 4620114|   519791|2019-01-21|           1|       Gazole|1401|2019|   01| 21|         4|\n",
            "+-------+-----+---+--------+---------+----------+------------+-------------+----+----+-----+---+----------+\n",
            "only showing top 10 rows\n",
            "\n",
            "+-------+-----+---+-------------+-------------+--------------------+--------------------+\n",
            "| id_pdv|   cp|pop|     latitude|    longitude|             adresse|                vile|\n",
            "+-------+-----+---+-------------+-------------+--------------------+--------------------+\n",
            "|1000001|01000|  R|      4620100|       519800|596 AVENUE DE TRE...|SAINT-DENIS-LèS-B...|\n",
            "|1000002|01000|  R|      4621842|       522767| 16 Avenue de Marboz|     BOURG-EN-BRESSE|\n",
            "|1000004|01000|  R|      4618800|       524500|20 Avenue du Maré...|     Bourg-en-Bresse|\n",
            "|1000005|01000|  R|4620093.59235|519942.024022|642 Avenue de Tré...|SAINT-DENIS-LèS-B...|\n",
            "|1000006|01000|  R|      4620754|       523758|1 Boulevard John ...|     BOURG-EN-BRESSE|\n",
            "|1000007|01000|  R|      4622100|       524500|AVENUE FRANCOIS P...|     Bourg-en-Bresse|\n",
            "|1000008|01000|  R|      4619900|       524100|Bd Charles de Gaulle|     BOURG-EN-BRESSE|\n",
            "|1000009|01000|  R|      4619600|       522900|     56 Rue du Stand|     Bourg-en-Bresse|\n",
            "|1000010|01000|  R|4619851.83794|524350.637881|Boulevard Charles...|     BOURG-EN-BRESSE|\n",
            "|1000012|01000|  R|      4620100|       520000|642 AVENUE DE TRE...|SAINT DENIS LES B...|\n",
            "+-------+-----+---+-------------+-------------+--------------------+--------------------+\n",
            "only showing top 10 rows\n",
            "\n",
            "+-------+-----+---+-------------+-------------+--------------------+\n",
            "| id_pdv|   cp|pop|     latitude|    longitude|            services|\n",
            "+-------+-----+---+-------------+-------------+--------------------+\n",
            "|1000001|01000|  R|      4620100|       519800|Station de gonfla...|\n",
            "|1000002|01000|  R|      4621842|       522767|Vente de gaz dome...|\n",
            "|1000004|01000|  R|      4618800|       524500|Toilettes publiqu...|\n",
            "|1000005|01000|  R|4620093.59235|519942.024022|Boutique alimenta...|\n",
            "|1000006|01000|  R|      4620754|       523758|Vente de gaz dome...|\n",
            "|1000007|01000|  R|      4622100|       524500|Vente de fioul do...|\n",
            "|1000008|01000|  R|      4619900|       524100|Toilettes publiqu...|\n",
            "|1000009|01000|  R|      4619600|       522900|Laverie,Boutique ...|\n",
            "|1000010|01000|  R|4619851.83794|524350.637881|DAB (Distributeur...|\n",
            "|1000012|01000|  R|      4620100|       520000|Boutique alimenta...|\n",
            "+-------+-----+---+-------------+-------------+--------------------+\n",
            "only showing top 10 rows\n",
            "\n"
          ]
        }
      ]
    },
    {
      "cell_type": "markdown",
      "source": [
        "### Prepare latitude & longitude for mapping (Divide by the right power of 10) to map the latitude & longitude on a [0,1] scale, we identity two different constants"
      ],
      "metadata": {
        "id": "wvw5gmzL65oN"
      }
    },
    {
      "cell_type": "code",
      "source": [
        "division_constant_latitude = 10**7\n",
        "division_constant_longitude = 10**6\n",
        "\n",
        "dataframes = [prices_df, stations_df, services_df]\n",
        "\n",
        "for i in range(len(dataframes)):\n",
        "    dataframes[i] = dataframes[i].withColumn('latitude_adj', col('latitude') / division_constant_latitude)\n",
        "    dataframes[i] = dataframes[i].withColumn('longitude_adj', col('longitude') / division_constant_longitude)\n",
        "\n",
        "prices_df, stations_df, services_df = dataframes"
      ],
      "metadata": {
        "id": "VceUXLASwuNf"
      },
      "execution_count": null,
      "outputs": []
    },
    {
      "cell_type": "markdown",
      "source": [
        "### Make data available as a table in order to be able to use Spark SQL"
      ],
      "metadata": {
        "id": "Tr22TmKb7HGp"
      }
    },
    {
      "cell_type": "code",
      "source": [
        "prices_df.createOrReplaceTempView(\"Gas_prices\")\n",
        "stations_df.createOrReplaceTempView(\"Stations\")\n",
        "services_df.createOrReplaceTempView(\"Services\")"
      ],
      "metadata": {
        "id": "jJ4uIeAeze70"
      },
      "execution_count": null,
      "outputs": []
    },
    {
      "cell_type": "markdown",
      "source": [
        "### Through basic statistics, consider which gas types have some interest for the rest of the project\n"
      ],
      "metadata": {
        "id": "lPOsyPpO7LbA"
      }
    },
    {
      "cell_type": "code",
      "source": [
        "# Idenitify the different gas types\n",
        "spark.sql(\"\"\"\n",
        "  SELECT DISTINCT nom_carburant\n",
        "  FROM Gas_prices\n",
        "\"\"\").show()"
      ],
      "metadata": {
        "colab": {
          "base_uri": "https://localhost:8080/"
        },
        "id": "36SplyRi1iXv",
        "outputId": "1610cbd6-14de-42ee-bf9e-9544a8d0a6cd"
      },
      "execution_count": null,
      "outputs": [
        {
          "output_type": "stream",
          "name": "stdout",
          "text": [
            "+-------------+\n",
            "|nom_carburant|\n",
            "+-------------+\n",
            "|          E10|\n",
            "|         SP98|\n",
            "|          E85|\n",
            "|       Gazole|\n",
            "|         SP95|\n",
            "|         GPLc|\n",
            "|         NULL|\n",
            "+-------------+\n",
            "\n"
          ]
        }
      ]
    },
    {
      "cell_type": "code",
      "source": [
        "# Inspect summary statistics for different gas types\n",
        "spark.sql(\"\"\"\n",
        "    SELECT\n",
        "        nom_carburant,\n",
        "        COUNT(*) as count,\n",
        "        AVG(prix) as mean,\n",
        "        STDDEV(prix) as stddev,\n",
        "        MIN(prix) as min,\n",
        "        MAX(prix) as max\n",
        "    FROM\n",
        "        Gas_prices\n",
        "    GROUP BY\n",
        "        nom_carburant\n",
        "\"\"\").show()"
      ],
      "metadata": {
        "colab": {
          "base_uri": "https://localhost:8080/"
        },
        "id": "T8e5X6Iu3QaZ",
        "outputId": "de934bf0-0d95-421b-bc7e-d793f62d4afc"
      },
      "execution_count": null,
      "outputs": [
        {
          "output_type": "stream",
          "name": "stdout",
          "text": [
            "+-------------+-------+------------------+------------------+-----+-----+\n",
            "|nom_carburant|  count|              mean|            stddev|  min|  max|\n",
            "+-------------+-------+------------------+------------------+-----+-----+\n",
            "|         NULL|  14566|              NULL|              NULL| NULL| NULL|\n",
            "|          E10|4357845|1061.6209274556575|  668.596370536261|0.001|  959|\n",
            "|          E85|1141058|443.79118290393654|342.67485665722415|0.001|  999|\n",
            "|         GPLc| 753286| 641.0837959314258| 392.8441353639444|0.019|  999|\n",
            "|       Gazole|5273314| 999.6524478986081| 642.1946477857184|0.001|  999|\n",
            "|         SP95|1327084|1071.6206721887988| 671.9647156310942|0.004|9.999|\n",
            "|         SP98|4433584|1135.2852601017596| 702.3608904771925|0.001|  969|\n",
            "+-------------+-------+------------------+------------------+-----+-----+\n",
            "\n"
          ]
        }
      ]
    },
    {
      "cell_type": "markdown",
      "source": [
        "## Data Preparation - step 2\n",
        "* Compute price index for each station per week:\n"
      ],
      "metadata": {
        "id": "GH2x2HDH7V4i"
      }
    },
    {
      "cell_type": "code",
      "source": [
        "# Idenitify the different stations\n",
        "result_df = spark.sql(\"\"\"\n",
        "  SELECT DISTINCT id_pdv\n",
        "  FROM Stations\n",
        "\"\"\")\n",
        "count = result_df.count()\n",
        "print(count)"
      ],
      "metadata": {
        "colab": {
          "base_uri": "https://localhost:8080/"
        },
        "id": "QGT4aR6eTOMO",
        "outputId": "d4355617-afe8-4b37-aeae-440c9775b5bc"
      },
      "execution_count": null,
      "outputs": [
        {
          "output_type": "stream",
          "name": "stdout",
          "text": [
            "13637\n"
          ]
        }
      ]
    },
    {
      "cell_type": "code",
      "source": [
        "from pyspark.sql import functions as F\n",
        "# Compute price index\n",
        "\n",
        "# Average week price for each gas type\n",
        "average_price_gas_type = (\n",
        "    prices_df\n",
        "    .groupBy(\"id_carburant\", \"WeekOfYear\")\n",
        "    .agg(F.avg(\"prix\")\n",
        "    .alias(\"avg_price\"))\n",
        ")"
      ],
      "metadata": {
        "id": "vnShgsW3U_qV"
      },
      "execution_count": null,
      "outputs": []
    },
    {
      "cell_type": "code",
      "source": [
        "# Average week price across all stations\n"
      ],
      "metadata": {
        "id": "ewXBsocMmeGw"
      },
      "execution_count": null,
      "outputs": []
    },
    {
      "cell_type": "code",
      "source": [
        "average_price_gas_type.show()"
      ],
      "metadata": {
        "colab": {
          "base_uri": "https://localhost:8080/"
        },
        "id": "OuTAsJWWZNxm",
        "outputId": "6facb834-13a7-4425-cfd5-52d67e594810"
      },
      "execution_count": null,
      "outputs": [
        {
          "output_type": "stream",
          "name": "stdout",
          "text": [
            "+------------+----------+------------------+\n",
            "|id_carburant|WeekOfYear|         avg_price|\n",
            "+------------+----------+------------------+\n",
            "|           5|        15|1026.8279417468495|\n",
            "|           1|        23| 967.6790876084692|\n",
            "|           6|         6|1131.3485029268845|\n",
            "|           4|         1| 625.1007167437825|\n",
            "|           5|        40| 1079.047403827629|\n",
            "|           3|        41| 479.9917641923257|\n",
            "|           2|        42|1166.5154194870593|\n",
            "|           2|        51|1268.2314869539136|\n",
            "|           6|        49|1157.8346213971126|\n",
            "|           2|        39| 1138.549206085533|\n",
            "|           5|        32|1030.8693405235476|\n",
            "|           5|        41|1143.5995631037706|\n",
            "|           5|        50|1084.8844499713553|\n",
            "|           3|        32|421.52906523526724|\n",
            "|           3|        44|471.49127773253707|\n",
            "|           3|        13| 399.8121020398829|\n",
            "|           5|        38|  1094.80155703838|\n",
            "|           3|         8|426.81525787281834|\n",
            "|           1|        44|1045.5431524325854|\n",
            "|           3|        21| 438.8869656802403|\n",
            "+------------+----------+------------------+\n",
            "only showing top 20 rows\n",
            "\n"
          ]
        }
      ]
    },
    {
      "cell_type": "code",
      "source": [
        "average_price_gas_type.count()"
      ],
      "metadata": {
        "colab": {
          "base_uri": "https://localhost:8080/"
        },
        "id": "F1BB11_aaffl",
        "outputId": "26c68bc1-f429-4328-9b4f-99fa20f8c0b0"
      },
      "execution_count": null,
      "outputs": [
        {
          "output_type": "execute_result",
          "data": {
            "text/plain": [
              "319"
            ]
          },
          "metadata": {},
          "execution_count": 84
        }
      ]
    },
    {
      "cell_type": "code",
      "source": [
        "prices_stations_df = prices_df.join(stations_df, \"id_pdv\")\n",
        "\n",
        "average_week_price_per_station_gas_type = (\n",
        "    prices_stations_df\n",
        "    .groupBy(\"id_carburant\", \"id_pdv\", \"WeekOfYear\")\n",
        "    .agg(F.avg(\"prix\").alias(\"avg_week_price\"))\n",
        "    )\n",
        "\n",
        "average_week_price_per_station_gas_type.show()\n"
      ],
      "metadata": {
        "colab": {
          "base_uri": "https://localhost:8080/"
        },
        "id": "VY84K80gn_0P",
        "outputId": "6c0fe969-29e5-47b6-ed24-01373aca1682"
      },
      "execution_count": 88,
      "outputs": [
        {
          "output_type": "stream",
          "name": "stdout",
          "text": [
            "+------------+-------+----------+------------------+\n",
            "|id_carburant| id_pdv|WeekOfYear|    avg_week_price|\n",
            "+------------+-------+----------+------------------+\n",
            "|           1|1000001|        11|1055.0000714285713|\n",
            "|           2|1000007|        31|  642.233090909091|\n",
            "|           6|1000007|        38|490.00977777777774|\n",
            "|           1|1000008|        38|1354.2307692307693|\n",
            "|           1|1000009|        29|            1406.8|\n",
            "|           1|1000009|        44|1445.5714285714287|\n",
            "|           6|1000012|        34|1207.1395357142858|\n",
            "|           1|1000013|         5|1034.4170357142857|\n",
            "|           2|1100001|        11|1087.6548181818182|\n",
            "|           4|1100001|        19|402.58050000000003|\n",
            "|           5|1100001|        10|           945.732|\n",
            "|           2|1100006|        33|            1459.0|\n",
            "|           3|1100007|        42|             729.0|\n",
            "|           2|1110001|        28|            1514.0|\n",
            "|           5|1120004|         3|          844.1653|\n",
            "|           6|1120004|        19|           1463.75|\n",
            "|           2|1120005|        41|            1464.5|\n",
            "|           6|1120006|        44|          786.0085|\n",
            "|           2|1130002|        30|         817.69475|\n",
            "|           1|1130003|        19|           983.723|\n",
            "+------------+-------+----------+------------------+\n",
            "only showing top 20 rows\n",
            "\n"
          ]
        }
      ]
    },
    {
      "cell_type": "code",
      "source": [
        "prices_stations_df.show(5)"
      ],
      "metadata": {
        "colab": {
          "base_uri": "https://localhost:8080/"
        },
        "id": "o-t7Rn-hoKz8",
        "outputId": "98882f29-e4e5-4309-fa44-ac1c1870c8d5"
      },
      "execution_count": 86,
      "outputs": [
        {
          "output_type": "stream",
          "name": "stdout",
          "text": [
            "+-------+-----+---+--------+---------+----------+------------+-------------+----+----+-----+---+----------+------------+-------------+-----+---+--------+---------+--------------------+--------------------+------------+-------------+\n",
            "| id_pdv|   cp|pop|latitude|longitude|      Date|id_carburant|nom_carburant|prix|Year|Month|Day|WeekOfYear|latitude_adj|longitude_adj|   cp|pop|latitude|longitude|             adresse|                vile|latitude_adj|longitude_adj|\n",
            "+-------+-----+---+--------+---------+----------+------------+-------------+----+----+-----+---+----------+------------+-------------+-----+---+--------+---------+--------------------+--------------------+------------+-------------+\n",
            "|1000001|01000|  R| 4620114|   519791|2019-01-04|           1|       Gazole|1328|2019|   01| 04|         1|   0.4620114|     0.519791|01000|  R| 4620100|   519800|596 AVENUE DE TRE...|SAINT-DENIS-LèS-B...|     0.46201|       0.5198|\n",
            "|1000001|01000|  R| 4620114|   519791|2019-01-07|           1|       Gazole|1348|2019|   01| 07|         2|   0.4620114|     0.519791|01000|  R| 4620100|   519800|596 AVENUE DE TRE...|SAINT-DENIS-LèS-B...|     0.46201|       0.5198|\n",
            "|1000001|01000|  R| 4620114|   519791|2019-01-10|           1|       Gazole|1374|2019|   01| 10|         2|   0.4620114|     0.519791|01000|  R| 4620100|   519800|596 AVENUE DE TRE...|SAINT-DENIS-LèS-B...|     0.46201|       0.5198|\n",
            "|1000001|01000|  R| 4620114|   519791|2019-01-11|           1|       Gazole|1387|2019|   01| 11|         2|   0.4620114|     0.519791|01000|  R| 4620100|   519800|596 AVENUE DE TRE...|SAINT-DENIS-LèS-B...|     0.46201|       0.5198|\n",
            "|1000001|01000|  R| 4620114|   519791|2019-01-14|           1|       Gazole|1394|2019|   01| 14|         3|   0.4620114|     0.519791|01000|  R| 4620100|   519800|596 AVENUE DE TRE...|SAINT-DENIS-LèS-B...|     0.46201|       0.5198|\n",
            "+-------+-----+---+--------+---------+----------+------------+-------------+----+----+-----+---+----------+------------+-------------+-----+---+--------+---------+--------------------+--------------------+------------+-------------+\n",
            "only showing top 5 rows\n",
            "\n"
          ]
        }
      ]
    }
  ]
}