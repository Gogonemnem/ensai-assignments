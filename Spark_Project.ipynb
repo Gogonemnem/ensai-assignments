{
  "nbformat": 4,
  "nbformat_minor": 0,
  "metadata": {
    "colab": {
      "provenance": [],
      "mount_file_id": "1Ne5ckAgiSUsBaA1OjAvA8zRmfYKm1qpv",
      "authorship_tag": "ABX9TyM/eCUao9IksSid5+435F1A",
      "include_colab_link": true
    },
    "kernelspec": {
      "name": "python3",
      "display_name": "Python 3"
    },
    "language_info": {
      "name": "python"
    }
  },
  "cells": [
    {
      "cell_type": "markdown",
      "metadata": {
        "id": "view-in-github",
        "colab_type": "text"
      },
      "source": [
        "<a href=\"https://colab.research.google.com/github/RobDrie/IT-Tools-Spark/blob/main/Spark_Project.ipynb\" target=\"_parent\"><img src=\"https://colab.research.google.com/assets/colab-badge.svg\" alt=\"Open In Colab\"/></a>"
      ]
    },
    {
      "cell_type": "code",
      "execution_count": 13,
      "metadata": {
        "colab": {
          "base_uri": "https://localhost:8080/"
        },
        "id": "2lGDl83gpePX",
        "outputId": "00bb110f-509b-4e5f-d826-acaabf4c6a6d"
      },
      "outputs": [
        {
          "output_type": "stream",
          "name": "stdout",
          "text": [
            "Requirement already satisfied: pyspark in /usr/local/lib/python3.10/dist-packages (3.5.0)\n",
            "Requirement already satisfied: py4j==0.10.9.7 in /usr/local/lib/python3.10/dist-packages (from pyspark) (0.10.9.7)\n"
          ]
        }
      ],
      "source": [
        "!pip install pyspark"
      ]
    },
    {
      "cell_type": "code",
      "source": [
        "import pyspark"
      ],
      "metadata": {
        "id": "fs29WSXXqa5b"
      },
      "execution_count": 14,
      "outputs": []
    },
    {
      "cell_type": "code",
      "source": [
        "spark = pyspark.sql.SparkSession.builder.appName('Session1').getOrCreate()"
      ],
      "metadata": {
        "id": "5q9Om-hiqdWT"
      },
      "execution_count": 15,
      "outputs": []
    },
    {
      "cell_type": "markdown",
      "source": [
        "## Load & Process gas price data with Spark\n",
        "* Download 2010 to 2023 gas price data\n",
        "* Download gas Stations file & Services file (2022 versions)"
      ],
      "metadata": {
        "id": "JfGk4f7rqks4"
      }
    },
    {
      "cell_type": "code",
      "source": [
        "!git clone https://github.com/rvm-courses/GasPrices"
      ],
      "metadata": {
        "colab": {
          "base_uri": "https://localhost:8080/"
        },
        "id": "Om9p_VrVrmEp",
        "outputId": "543b26ca-c795-4a3e-9065-caae57a27987"
      },
      "execution_count": 16,
      "outputs": [
        {
          "output_type": "stream",
          "name": "stdout",
          "text": [
            "fatal: destination path 'GasPrices' already exists and is not an empty directory.\n"
          ]
        }
      ]
    },
    {
      "cell_type": "code",
      "source": [
        "!ls"
      ],
      "metadata": {
        "colab": {
          "base_uri": "https://localhost:8080/"
        },
        "id": "Ej6bL5Ict992",
        "outputId": "c5a539ee-288d-46e7-e63b-2972c2e62e38"
      },
      "execution_count": 19,
      "outputs": [
        {
          "output_type": "stream",
          "name": "stdout",
          "text": [
            "drive  GasPrices  sample_data\n"
          ]
        }
      ]
    },
    {
      "cell_type": "code",
      "source": [
        "def price_download(year_list):\n",
        "\n",
        "  return year_list\n",
        "\n",
        "price19_df = spark.read.option(\"header\", \"False\").option('delimiter', ';').csv('GasPrices/Prix2019.csv.gz')\n",
        "price20_df = spark.read.option(\"header\", \"False\").option('delimiter', ';').csv('GasPrices/Prix2020.csv.gz')\n",
        "price21_df = spark.read.option(\"header\", \"False\").option('delimiter', ';').csv('GasPrices/Prix2021.csv.gz')\n",
        "price22_df = spark.read.option(\"header\", \"False\").option('delimiter', ';').csv('GasPrices/Prix2022.csv.gz')\n",
        "price23_df = spark.read.option(\"header\", \"False\").option('delimiter', ';').csv('GasPrices/Prix2023.csv.gz')\n"
      ],
      "metadata": {
        "colab": {
          "base_uri": "https://localhost:8080/"
        },
        "id": "VU-6bH63EUQn",
        "outputId": "d17e1b94-cc14-469a-90e4-40317cc851cf"
      },
      "execution_count": 36,
      "outputs": [
        {
          "output_type": "stream",
          "name": "stdout",
          "text": [
            "+-------+-----+---+-------+------+-------------------+---+------+----+\n",
            "|    _c0|  _c1|_c2|    _c3|   _c4|                _c5|_c6|   _c7| _c8|\n",
            "+-------+-----+---+-------+------+-------------------+---+------+----+\n",
            "|1000001|01000|  R|4620114|519791|2019-01-04T10:53:48|  1|Gazole|1328|\n",
            "|1000001|01000|  R|4620114|519791|2019-01-07T10:25:25|  1|Gazole|1348|\n",
            "|1000001|01000|  R|4620114|519791|2019-01-10T08:54:28|  1|Gazole|1374|\n",
            "|1000001|01000|  R|4620114|519791|2019-01-11T10:01:54|  1|Gazole|1387|\n",
            "|1000001|01000|  R|4620114|519791|2019-01-14T11:04:53|  1|Gazole|1394|\n",
            "|1000001|01000|  R|4620114|519791|2019-01-16T10:21:21|  1|Gazole|1394|\n",
            "|1000001|01000|  R|4620114|519791|2019-01-17T08:30:12|  1|Gazole|1391|\n",
            "|1000001|01000|  R|4620114|519791|2019-01-18T10:08:25|  1|Gazole|1401|\n",
            "|1000001|01000|  R|4620114|519791|2019-01-21T10:30:12|  1|Gazole|1401|\n",
            "|1000001|01000|  R|4620114|519791|2019-01-21T10:30:14|  1|Gazole|1401|\n",
            "|1000001|01000|  R|4620114|519791|2019-01-21T13:44:25|  1|Gazole|1401|\n",
            "|1000001|01000|  R|4620114|519791|2019-01-21T13:44:27|  1|Gazole|1401|\n",
            "|1000001|01000|  R|4620114|519791|2019-01-23T10:47:24|  1|Gazole|1408|\n",
            "|1000001|01000|  R|4620114|519791|2019-01-26T09:38:17|  1|Gazole|1403|\n",
            "|1000001|01000|  R|4620114|519791|2019-01-26T09:39:15|  1|Gazole|1403|\n",
            "|1000001|01000|  R|4620114|519791|2019-01-29T14:19:00|  1|Gazole|1403|\n",
            "|1000001|01000|  R|4620114|519791|2019-02-01T10:52:18|  1|Gazole|1409|\n",
            "|1000001|01000|  R|4620114|519791|2019-02-04T09:46:15|  1|Gazole|1410|\n",
            "|1000001|01000|  R|4620114|519791|2019-02-08T10:25:46|  1|Gazole|1415|\n",
            "|1000001|01000|  R|4620114|519791|2019-02-09T08:18:44|  1|Gazole|1415|\n",
            "+-------+-----+---+-------+------+-------------------+---+------+----+\n",
            "only showing top 20 rows\n",
            "\n"
          ]
        }
      ]
    },
    {
      "cell_type": "code",
      "source": [
        "price19_df = spark.read.option(\"header\", \"False\").option('delimiter', ';').csv('GasPrices/Prix2019.csv.gz')"
      ],
      "metadata": {
        "id": "UrysZqUhH8wk"
      },
      "execution_count": 40,
      "outputs": []
    },
    {
      "cell_type": "code",
      "source": [
        "price19_df.describe().show()"
      ],
      "metadata": {
        "colab": {
          "base_uri": "https://localhost:8080/"
        },
        "id": "623U9GlLIH4_",
        "outputId": "11bf0c27-6f54-42ab-9da7-3dacbdd6f7f6"
      },
      "execution_count": 43,
      "outputs": [
        {
          "output_type": "stream",
          "name": "stdout",
          "text": [
            "+-------+-------------------+------------------+-------+------------------+------------------+-------------------+------------------+-------+-----------------+\n",
            "|summary|                _c0|               _c1|    _c2|               _c3|               _c4|                _c5|               _c6|    _c7|              _c8|\n",
            "+-------+-------------------+------------------+-------+------------------+------------------+-------------------+------------------+-------+-----------------+\n",
            "|  count|            4214434|           4214434|4214434|           4214365|           4214366|            4211139|           4211139|4211139|          4211139|\n",
            "|   mean| 5.18963796666219E7|51875.984411192585|   NULL| 4692007.950184234|272806.73717118654|               NULL|3.6451427986585103|   NULL|  1448.3370548918|\n",
            "| stddev|2.702708443595504E7|27021.667680420647|   NULL|227978.09061629817| 268085.1364792995|               NULL|2.0889886055186047|   NULL|217.9316078476333|\n",
            "|    min|           10000001|             01000|      A|            -0.192|            -10000|2019-01-01T00:00:00|                 1|    E10|                1|\n",
            "|    max|            9700001|             97429|      R|     752078.111179|     999.000000001|2019-12-31T23:59:00|                 6|   SP98|              999|\n",
            "+-------+-------------------+------------------+-------+------------------+------------------+-------------------+------------------+-------+-----------------+\n",
            "\n"
          ]
        }
      ]
    },
    {
      "cell_type": "code",
      "source": [
        "price20_df = spark.read.option(\"header\", \"False\").option('delimiter', ';').csv('GasPrices/Prix2020.csv.gz')"
      ],
      "metadata": {
        "id": "2R8rx8LWI3VQ"
      },
      "execution_count": 45,
      "outputs": []
    },
    {
      "cell_type": "code",
      "source": [
        "def price_download(year_list):\n",
        "  prices_df = None\n",
        "\n",
        "  for year in year_list:\n",
        "    file_path = f'GasPrices/Prix{year}.csv.gz'\n",
        "    current_df = spark.read.option(\"header\", \"False\").option('delimiter', ';').csv(file_path)\n",
        "\n",
        "    if prices_df is None:\n",
        "      prices_df = current_df\n",
        "    else:\n",
        "      #prices_df = prices_df.join(current_df, on='_c1')\n",
        "      prices_df = prices_df.union(current_df)\n",
        "\n",
        "  return prices_df"
      ],
      "metadata": {
        "id": "Fc8FMc1fL0RX"
      },
      "execution_count": 57,
      "outputs": []
    },
    {
      "cell_type": "code",
      "source": [
        "year_list = ['2019', '2020', '2021', '2022S1', '2022S2']\n",
        "prices_df = price_download(year_list)"
      ],
      "metadata": {
        "id": "nJNqWmleNBMR"
      },
      "execution_count": null,
      "outputs": []
    },
    {
      "cell_type": "code",
      "source": [
        "prices_df.describe().show()"
      ],
      "metadata": {
        "colab": {
          "base_uri": "https://localhost:8080/"
        },
        "id": "T4eiOPPZPbDm",
        "outputId": "620968a1-f004-4d1b-d80c-8fce1d4ebc07"
      },
      "execution_count": 54,
      "outputs": [
        {
          "output_type": "stream",
          "name": "stdout",
          "text": [
            "+-------+-------------------+-----------------+-------+------------------+------------------+-------------------+------------------+-------+------------------+\n",
            "|summary|                _c0|              _c1|    _c2|               _c3|               _c4|                _c5|               _c6|    _c7|               _c8|\n",
            "+-------+-------------------+-----------------+-------+------------------+------------------+-------------------+------------------+-------+------------------+\n",
            "|  count|            8078229|          8078229|8078229|           8078091|           8078093|            8071364|           8071364|8071364|           8071364|\n",
            "|   mean|5.231202629768393E7|52291.21371466444|   NULL|4692863.4873890625|270377.69208340236|               NULL|3.6473824002981403|   NULL|1377.5847254565647|\n",
            "| stddev|2.708808289615172E7|27084.33199284704|   NULL|227360.79700082072| 267849.8594372738|               NULL| 2.079695881620992|   NULL|231.03690571227645|\n",
            "|    min|           10000001|            01000|      A|            -0.192|            -10000|2019-01-01T00:00:00|                 1|    E10|                 1|\n",
            "|    max|            9700001|            97429|      R|     752078.111179|     999.000000001|2020-12-31T23:59:00|                 6|   SP98|               999|\n",
            "+-------+-------------------+-----------------+-------+------------------+------------------+-------------------+------------------+-------+------------------+\n",
            "\n"
          ]
        }
      ]
    },
    {
      "cell_type": "code",
      "source": [
        "prices_df.describe().show()"
      ],
      "metadata": {
        "id": "fZeEj_-KQFW0"
      },
      "execution_count": null,
      "outputs": []
    }
  ]
}