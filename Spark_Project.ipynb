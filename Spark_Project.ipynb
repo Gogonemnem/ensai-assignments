{
  "cells": [
    {
      "cell_type": "markdown",
      "metadata": {
        "id": "view-in-github",
        "colab_type": "text"
      },
      "source": [
        "<a href=\"https://colab.research.google.com/github/RobDrie/IT-Tools-Spark/blob/main/Spark_Project.ipynb\" target=\"_parent\"><img src=\"https://colab.research.google.com/assets/colab-badge.svg\" alt=\"Open In Colab\"/></a>"
      ]
    },
    {
      "cell_type": "code",
      "execution_count": 1,
      "metadata": {
        "colab": {
          "base_uri": "https://localhost:8080/"
        },
        "id": "2lGDl83gpePX",
        "outputId": "947a4496-4e26-41af-908f-951736c8d3bb"
      },
      "outputs": [
        {
          "output_type": "stream",
          "name": "stdout",
          "text": [
            "Collecting pyspark\n",
            "  Downloading pyspark-3.5.0.tar.gz (316.9 MB)\n",
            "\u001b[2K     \u001b[90m━━━━━━━━━━━━━━━━━━━━━━━━━━━━━━━━━━━━━━━━\u001b[0m \u001b[32m316.9/316.9 MB\u001b[0m \u001b[31m1.6 MB/s\u001b[0m eta \u001b[36m0:00:00\u001b[0m\n",
            "\u001b[?25h  Preparing metadata (setup.py) ... \u001b[?25l\u001b[?25hdone\n",
            "Requirement already satisfied: py4j==0.10.9.7 in /usr/local/lib/python3.10/dist-packages (from pyspark) (0.10.9.7)\n",
            "Building wheels for collected packages: pyspark\n",
            "  Building wheel for pyspark (setup.py) ... \u001b[?25l\u001b[?25hdone\n",
            "  Created wheel for pyspark: filename=pyspark-3.5.0-py2.py3-none-any.whl size=317425345 sha256=e80df14fafdbb779d64216501d8ac5954fe8f2bb144bd27b4c59831aab17449e\n",
            "  Stored in directory: /root/.cache/pip/wheels/41/4e/10/c2cf2467f71c678cfc8a6b9ac9241e5e44a01940da8fbb17fc\n",
            "Successfully built pyspark\n",
            "Installing collected packages: pyspark\n",
            "Successfully installed pyspark-3.5.0\n"
          ]
        }
      ],
      "source": [
        "!pip install pyspark"
      ]
    },
    {
      "cell_type": "code",
      "execution_count": 2,
      "metadata": {
        "id": "fs29WSXXqa5b"
      },
      "outputs": [],
      "source": [
        "import pyspark\n",
        "import seaborn as sns\n",
        "from pyspark.sql.functions import year, month, dayofweek, col, split\n",
        "from pyspark.sql.functions import weekofyear\n",
        "import seaborn as sns\n",
        "import matplotlib.pyplot as plt\n",
        "import pandas as pd\n",
        "from pyspark.sql.functions import col, datediff, lit, floor, when\n",
        "from pyspark.sql import functions as F\n",
        "from pyspark.sql.functions import avg\n",
        "from pyspark.sql.functions import desc"
      ]
    },
    {
      "cell_type": "code",
      "execution_count": 3,
      "metadata": {
        "id": "5q9Om-hiqdWT"
      },
      "outputs": [],
      "source": [
        "spark = pyspark.sql.SparkSession.builder.appName('Session1').getOrCreate()"
      ]
    },
    {
      "cell_type": "markdown",
      "metadata": {
        "id": "JfGk4f7rqks4"
      },
      "source": [
        "## Load & Process gas price data with Spark\n",
        "# * Download 2019 to 2023 gas price data\n",
        "* Download gas Stations file & Services file (2022 versions)"
      ]
    },
    {
      "cell_type": "code",
      "execution_count": 4,
      "metadata": {
        "colab": {
          "base_uri": "https://localhost:8080/"
        },
        "id": "Om9p_VrVrmEp",
        "outputId": "d606f6e6-8098-463a-e182-1f64a7d22e6c"
      },
      "outputs": [
        {
          "output_type": "stream",
          "name": "stdout",
          "text": [
            "Cloning into 'GasPrices'...\n",
            "remote: Enumerating objects: 143, done.\u001b[K\n",
            "remote: Counting objects: 100% (19/19), done.\u001b[K\n",
            "remote: Compressing objects: 100% (19/19), done.\u001b[K\n",
            "remote: Total 143 (delta 3), reused 0 (delta 0), pack-reused 124\u001b[K\n",
            "Receiving objects: 100% (143/143), 619.51 MiB | 26.08 MiB/s, done.\n",
            "Resolving deltas: 100% (33/33), done.\n",
            "Updating files: 100% (40/40), done.\n"
          ]
        }
      ],
      "source": [
        "!git clone https://github.com/rvm-courses/GasPrices"
      ]
    },
    {
      "cell_type": "markdown",
      "metadata": {
        "id": "jX5fGrZR6aQa"
      },
      "source": [
        "## Data Preparation - step 1\n",
        "* Read and merge all gas files\n",
        "* Split date in year, month, week of the year\n",
        "* Prepare latitude & longitude for mapping (divide by the right power of 10)\n",
        "* Make data available as a table in order to be able to use Spark S"
      ]
    },
    {
      "cell_type": "code",
      "execution_count": 5,
      "metadata": {
        "id": "Fc8FMc1fL0RX"
      },
      "outputs": [],
      "source": [
        "def price_download(year_list):\n",
        "  prices_df = None\n",
        "\n",
        "  for year in year_list:\n",
        "    file_path = f'GasPrices/Prix{year}.csv.gz'\n",
        "    current_df = spark.read.option(\"header\", \"False\").option('delimiter', ';').csv(file_path)\n",
        "\n",
        "    if prices_df is None:\n",
        "      prices_df = current_df\n",
        "    else:\n",
        "      prices_df = prices_df.union(current_df)\n",
        "\n",
        "  return prices_df"
      ]
    },
    {
      "cell_type": "code",
      "execution_count": 6,
      "metadata": {
        "id": "nJNqWmleNBMR"
      },
      "outputs": [],
      "source": [
        "# Download price data for 2019 to 2023\n",
        "year_list = ['2019', '2020', '2021', '2022S1', '2022S2']\n",
        "prices_df = price_download(year_list)\n",
        "\n",
        "file_path = 'GasPrices/Stations2022.csv.gz'\n",
        "stations_df = spark.read.option(\"header\", \"False\").option('delimiter', '|').csv(file_path)\n",
        "\n",
        "file_path = 'GasPrices/Services2022.csv.gz'\n",
        "services_df = spark.read.option(\"header\", \"False\").option('delimiter', '|').csv(file_path)"
      ]
    },
    {
      "cell_type": "markdown",
      "metadata": {
        "id": "EP0pHc6f0uHD"
      },
      "source": [
        "### Variable definitions\n",
        "* id_pdv = points of sales\n",
        "* cp = zip code\n",
        "* pop = type of population\n",
        "* latitude\n",
        "* longitude\n",
        "* date\n",
        "* id carburant = gas id\n",
        "* nom carburant = gas label\n",
        "* prix = price in millieuros"
      ]
    },
    {
      "cell_type": "code",
      "execution_count": 7,
      "metadata": {
        "id": "RJRSHaVyNABB"
      },
      "outputs": [],
      "source": [
        "# Set the column headers for price dataframe\n",
        "columns_mapping = {\n",
        "    'prices_df': {'old': prices_df.columns, 'new': ['id_pdv', 'cp', 'pop', 'latitude', 'longitude', 'date', 'id_carburant', 'nom_carburant', 'prix']},\n",
        "    'stations_df': {'old': stations_df.columns, 'new': ['id_pdv', 'cp', 'pop', 'latitude', 'longitude', 'adresse', 'vile']},\n",
        "    'services_df': {'old': services_df.columns, 'new': ['id_pdv', 'cp', 'pop', 'latitude', 'longitude', 'services']}\n",
        "}\n",
        "\n",
        "for df_name, mapping in columns_mapping.items():\n",
        "    for new_name, old_name in zip(mapping['new'], mapping['old']):\n",
        "        globals()[df_name] = globals()[df_name].withColumnRenamed(f'{old_name}', f'{new_name}')"
      ]
    },
    {
      "cell_type": "markdown",
      "metadata": {
        "id": "8Lg1ccY36yMD"
      },
      "source": [
        "### Split prices date in year, month, day, and week of the year"
      ]
    },
    {
      "cell_type": "code",
      "execution_count": 13,
      "metadata": {
        "id": "Pa7_uUFvuD7K"
      },
      "outputs": [],
      "source": [
        "# Split the date column into date and time to extract the dates\n",
        "split_datetime = split(prices_df['date'], 'T')\n",
        "prices_df = prices_df.withColumn('Date', split_datetime.getItem(0))\n",
        "split_date = split(prices_df['Date'], '-')\n",
        "\n",
        "# Add columns year, month, day, and weekofyear\n",
        "prices_df = prices_df.withColumn('Year', split_date.getItem(0))\n",
        "prices_df = prices_df.withColumn('Month', split_date.getItem(1))\n",
        "prices_df = prices_df.withColumn('Day', split_date.getItem(2))\n",
        "prices_df = prices_df.withColumn('WeekOfYear', weekofyear(prices_df['Date']))"
      ]
    },
    {
      "cell_type": "code",
      "execution_count": null,
      "metadata": {
        "id": "enfHc9erYz-H"
      },
      "outputs": [],
      "source": [
        "# prices_df.filter(\"continuous_week_number =  0  AND id_carburant = 1\").show(5)"
      ]
    },
    {
      "cell_type": "code",
      "execution_count": 8,
      "metadata": {
        "id": "nMjW-hGfYz-H",
        "outputId": "18727baf-bfac-4889-e386-4905c80b68d8",
        "colab": {
          "base_uri": "https://localhost:8080/"
        }
      },
      "outputs": [
        {
          "output_type": "stream",
          "name": "stdout",
          "text": [
            "+------+---+---+--------+---------+----+------------+-------------+----+----------------------+\n",
            "|id_pdv| cp|pop|latitude|longitude|Date|id_carburant|nom_carburant|prix|continuous_week_number|\n",
            "+------+---+---+--------+---------+----+------------+-------------+----+----------------------+\n",
            "+------+---+---+--------+---------+----+------------+-------------+----+----------------------+\n",
            "\n",
            "+-------+-----+---+-------------+-------------+----------+------------+-------------+----+----------------------+\n",
            "| id_pdv|   cp|pop|     latitude|    longitude|      Date|id_carburant|nom_carburant|prix|continuous_week_number|\n",
            "+-------+-----+---+-------------+-------------+----------+------------+-------------+----+----------------------+\n",
            "|1000001|01000|  R|      4620114|       519791|2019-01-04|           1|       Gazole|1328|                     1|\n",
            "|1000002|01000|  R|      4621842|       522767|2019-01-03|           1|       Gazole|1344|                     1|\n",
            "|1000002|01000|  R|      4621842|       522767|2019-01-04|           1|       Gazole|1344|                     1|\n",
            "|1000002|01000|  R|      4621842|       522767|2019-01-05|           1|       Gazole|1344|                     1|\n",
            "|1000004|01000|  R|      4618800|       524500|2019-01-04|           1|       Gazole|1440|                     1|\n",
            "|1000007|01000|  R|      4620105|       524891|2019-01-03|           1|       Gazole|1322|                     1|\n",
            "|1000008|01000|  R|      4619900|       524100|2019-01-01|           1|       Gazole|1347|                     1|\n",
            "|1000008|01000|  R|      4619900|       524100|2019-01-02|           1|       Gazole|1347|                     1|\n",
            "|1000008|01000|  R|      4619900|       524100|2019-01-03|           1|       Gazole|1328|                     1|\n",
            "|1000008|01000|  R|      4619900|       524100|2019-01-04|           1|       Gazole|1328|                     1|\n",
            "|1000008|01000|  R|      4619900|       524100|2019-01-05|           1|       Gazole|1328|                     1|\n",
            "|1000008|01000|  R|      4619900|       524100|2019-01-06|           1|       Gazole|1328|                     1|\n",
            "|1000009|01000|  R|      4619566|       522935|2019-01-04|           1|       Gazole|1328|                     1|\n",
            "|1000013|01000|  R|4619851.83794|524350.637881|2019-01-01|           1|       Gazole|1347|                     1|\n",
            "|1000013|01000|  R|4619851.83794|524350.637881|2019-01-02|           1|       Gazole|1347|                     1|\n",
            "+-------+-----+---+-------------+-------------+----------+------------+-------------+----+----------------------+\n",
            "only showing top 15 rows\n",
            "\n",
            "+-------+-----+---+-------------+-------------+----------+------------+-------------+----+----------------------+\n",
            "| id_pdv|   cp|pop|     latitude|    longitude|      Date|id_carburant|nom_carburant|prix|continuous_week_number|\n",
            "+-------+-----+---+-------------+-------------+----------+------------+-------------+----+----------------------+\n",
            "|1000001|01000|  R|      4620114|       519791|2019-12-31|           1|       Gazole|1441|                    53|\n",
            "|1000008|01000|  R|      4619900|       524100|2019-12-31|           1|       Gazole|1435|                    53|\n",
            "|1000013|01000|  R|4619851.83794|524350.637881|2019-12-30|           1|       Gazole|1438|                    53|\n",
            "|1000013|01000|  R|4619851.83794|524350.637881|2019-12-31|           1|       Gazole|1438|                    53|\n",
            "|1100001|01100|  R|      4628404|       566282|2019-12-30|           1|       Gazole|1479|                    53|\n",
            "|1100006|01100|  R|      4626200|       564800|2019-12-31|           1|       Gazole|1469|                    53|\n",
            "|1100007|01100|  R|      4624966|       564134|2019-12-30|           1|       Gazole|1539|                    53|\n",
            "|1100007|01100|  R|      4624966|       564134|2019-12-31|           1|       Gazole|1544|                    53|\n",
            "|1120006|01120|  R|      4584641|       504093|2019-12-31|           1|       Gazole|1574|                    53|\n",
            "|1120008|01120|  A|4584715.18044|507404.780227|2019-12-30|           1|       Gazole|1604|                    53|\n",
            "|1120008|01120|  A|4584715.18044|507404.780227|2019-12-31|           1|       Gazole|1609|                    53|\n",
            "|1130003|01130|  R|      4615800|       560400|2019-12-30|           1|       Gazole|1467|                    53|\n",
            "|1130003|01130|  R|      4615800|       560400|2019-12-31|           1|       Gazole|1467|                    53|\n",
            "|1150002|01150|  R|      4583900|       527800|2019-12-30|           1|       Gazole|1547|                    53|\n",
            "|1160005|01160|  R|4605335.06156|533741.036717|2019-12-30|           1|       Gazole|1466|                    53|\n",
            "+-------+-----+---+-------------+-------------+----------+------------+-------------+----+----------------------+\n",
            "only showing top 15 rows\n",
            "\n",
            "+-------+-----+---+--------+---------+----------+------------+-------------+----+----------------------+\n",
            "| id_pdv|   cp|pop|latitude|longitude|      Date|id_carburant|nom_carburant|prix|continuous_week_number|\n",
            "+-------+-----+---+--------+---------+----------+------------+-------------+----+----------------------+\n",
            "|1000001|01000|  R| 4620114|   519791|2021-12-20|           1|       Gazole|1512|                   156|\n",
            "|1000001|01000|  R| 4620114|   519791|2021-12-20|           1|       Gazole|1512|                   156|\n",
            "|1000001|01000|  R| 4620114|   519791|2021-12-22|           1|       Gazole|1492|                   156|\n",
            "|1000001|01000|  R| 4620114|   519791|2021-12-23|           1|       Gazole|1473|                   156|\n",
            "|1000001|01000|  R| 4620114|   519791|2021-12-26|           1|       Gazole|1495|                   156|\n",
            "|1000002|01000|  R| 4621842|   522767|2021-12-22|           1|       Gazole|1505|                   156|\n",
            "|1000004|01000|  R| 4618800|   524500|2021-12-23|           1|       Gazole|1620|                   156|\n",
            "|1000007|01000|  R| 4622100|   524500|2021-12-20|           1|       Gazole|1454|                   156|\n",
            "|1000007|01000|  R| 4622100|   524500|2021-12-23|           1|       Gazole|1438|                   156|\n",
            "|1000008|01000|  R| 4619900|   524100|2021-12-20|           1|       Gazole|1504|                   156|\n",
            "|1000008|01000|  R| 4619900|   524100|2021-12-20|           1|       Gazole|1504|                   156|\n",
            "|1000008|01000|  R| 4619900|   524100|2021-12-21|           1|       Gazole|1492|                   156|\n",
            "|1000008|01000|  R| 4619900|   524100|2021-12-22|           1|       Gazole|1464|                   156|\n",
            "|1000008|01000|  R| 4619900|   524100|2021-12-22|           1|       Gazole|1458|                   156|\n",
            "|1000008|01000|  R| 4619900|   524100|2021-12-24|           1|       Gazole|1495|                   156|\n",
            "+-------+-----+---+--------+---------+----------+------------+-------------+----+----------------------+\n",
            "only showing top 15 rows\n",
            "\n",
            "+-------+-----+---+-------------+-------------+----------+------------+-------------+----+----------------------+\n",
            "| id_pdv|   cp|pop|     latitude|    longitude|      Date|id_carburant|nom_carburant|prix|continuous_week_number|\n",
            "+-------+-----+---+-------------+-------------+----------+------------+-------------+----+----------------------+\n",
            "|1000001|01000|  R|      4620114|       519791|2021-12-27|           1|       Gazole|1520|                   157|\n",
            "|1000002|01000|  R|      4621842|       522767|2021-12-27|           1|       Gazole|1506|                   157|\n",
            "|1000004|01000|  R|      4618800|       524500|2021-12-27|           1|       Gazole|1640|                   157|\n",
            "|1000007|01000|  R|      4622100|       524500|2021-12-27|           1|       Gazole|1444|                   157|\n",
            "|1000008|01000|  R|      4619900|       524100|2021-12-27|           1|       Gazole|1506|                   157|\n",
            "|1000008|01000|  R|      4619900|       524100|2021-12-29|           1|       Gazole|1506|                   157|\n",
            "|1000008|01000|  R|      4619900|       524100|2021-12-31|           1|       Gazole|1520|                   157|\n",
            "|1000009|01000|  R|      4619566|       522935|2021-12-27|           1|       Gazole|1509|                   157|\n",
            "|1000009|01000|  R|      4619566|       522935|2021-12-27|           1|       Gazole|1506|                   157|\n",
            "|1000012|01000|  R|      4620100|       520000|2021-12-27|           1|       Gazole|1616|                   157|\n",
            "|1000012|01000|  R|      4620100|       520000|2021-12-28|           1|       Gazole|1623|                   157|\n",
            "|1000012|01000|  R|      4620100|       520000|2021-12-29|           1|       Gazole|1653|                   157|\n",
            "|1000012|01000|  R|      4620100|       520000|2021-12-30|           1|       Gazole|1653|                   157|\n",
            "|1000012|01000|  R|      4620100|       520000|2021-12-31|           1|       Gazole|1653|                   157|\n",
            "|1000013|01000|  R|4619851.83794|524350.637881|2021-12-27|           1|       Gazole|1504|                   157|\n",
            "+-------+-----+---+-------------+-------------+----------+------------+-------------+----+----------------------+\n",
            "only showing top 15 rows\n",
            "\n"
          ]
        }
      ],
      "source": [
        "from pyspark.sql.functions import expr, to_date, year as year_col, date_sub\n",
        "\n",
        "def calculate_continuous_week_number(df, start_date, date_column, start_week_number=1):\n",
        "    # Convert the date column to a date type\n",
        "    df = df.withColumn(date_column, to_date(col(date_column)))\n",
        "    start_date = to_date(lit(start_date))\n",
        "    start_date = date_sub(start_date, dayofweek(start_date) - 2)\n",
        "\n",
        "    # Calculate the difference in days and then convert to weeks\n",
        "    days_diff = datediff(df[date_column], start_date)\n",
        "    weeks_diff = (days_diff / 7).cast('int')\n",
        "\n",
        "    return df.withColumn(\"continuous_week_number\", weeks_diff + 1)\n",
        "\n",
        "start_date = \"2019-01-01\"\n",
        "prices_df = calculate_continuous_week_number(prices_df, start_date, \"Date\")\n",
        "prices_df.filter(\"continuous_week_number =  0  AND id_carburant = 1\").show(15)\n",
        "prices_df.filter(\"continuous_week_number =  1  AND id_carburant = 1\").show(15)\n",
        "prices_df.filter(\"continuous_week_number =  53  AND id_carburant = 1\").show(15)\n",
        "prices_df.filter(\"continuous_week_number =  156 AND id_carburant = 1\").show(15)\n",
        "prices_df.filter(\"continuous_week_number =  157 AND id_carburant = 1\").show(15)"
      ]
    },
    {
      "cell_type": "code",
      "execution_count": null,
      "metadata": {
        "id": "yXogSO3Glfz3"
      },
      "outputs": [],
      "source": [
        "# # Filter out the Null observations\n",
        "# prices_df2 =  prices_df.withColumn('Date2', col(\"date\").cast(\"date\"))\n",
        "# prices_df2 = prices_df2.filter(col(\"Date2\").isNotNull())\n",
        "\n",
        "# # Create reference for first week\n",
        "# reference_date = spark.createDataFrame([(\"2019-01-01\",)], [\"reference_date\"])\n",
        "# reference_date = reference_date.withColumn(\"reference_date\", col(\"reference_date\").cast(\"date\"))\n",
        "# reference_week_number = lit(1)\n",
        "\n",
        "# # Calculate the week numbers based on the reference\n",
        "# prices_df2 = prices_df2.crossJoin(reference_date)\n",
        "# df = prices_df2.withColumn(\"continuous_week_number\", floor(datediff(col(\"date\"), col(\"reference_date\")) / 7) + reference_week_number)\n",
        "# df.filter(\"continuous_week_number =  53 AND id_carburant = 1\").show(5)\n",
        "# df.filter(\"continuous_week_number =  157 AND id_carburant = 1\").show(5)\n"
      ]
    },
    {
      "cell_type": "code",
      "execution_count": null,
      "metadata": {
        "id": "RnuQ4Yoo1qM-"
      },
      "outputs": [],
      "source": [
        "# from pyspark.sql.window import Window\n",
        "# from pyspark.sql import functions as F\n",
        "# window_spec = Window.orderBy(\"Date\")\n",
        "\n",
        "# # Calculate the week index using the dense rank function\n",
        "# df = prices_df2.withColumn(\"Week_Index\", F.dense_rank().over(window_spec) - 1)"
      ]
    },
    {
      "cell_type": "code",
      "execution_count": null,
      "metadata": {
        "id": "oR-01OkzkWsg"
      },
      "outputs": [],
      "source": [
        "# from pyspark.sql.functions import col, unix_timestamp, from_unixtime, weekofyear, datediff\n",
        "# df = prices_df.withColumn(\"date\", col(\"date\").cast(\"date\"))\n",
        "\n",
        "# # Convert the 'date' column to DateType\n",
        "# df = df.withColumn(\"date\", col(\"date\").cast(\"date\"))\n",
        "\n",
        "# # Find the minimum date in the DataFrame\n",
        "# min_date = df.agg({\"date\": \"min\"}).collect()[0][0]\n",
        "\n",
        "# # Calculate the difference in days from the minimum date using datediff\n",
        "# df = df.withColumn(\"WeekOfYear\", weekofyear(datediff(col(\"date\"), min_date.cast(\"date\"))) + 1)"
      ]
    },
    {
      "cell_type": "markdown",
      "metadata": {
        "id": "wvw5gmzL65oN"
      },
      "source": [
        "### Prepare latitude & longitude for mapping (Divide by the right power of 10) to map the latitude & longitude on a [0,1] scale, we identity two different constants"
      ]
    },
    {
      "cell_type": "code",
      "source": [
        "prices_df.printSchema()\n",
        "services_df.printSchema()\n",
        "stations_df.printSchema()\n",
        "\n",
        "prices_df = prices_df.withColumn(\"latitude_int\", col(\"latitude\").cast(\"Integer\"))\n",
        "prices_df = prices_df.withColumn(\"longitude_int\", col(\"longitude\").cast(\"Integer\"))\n",
        "prices_df = prices_df.withColumn(\"prix_int\", col(\"prix\").cast(\"Integer\"))\n",
        "\n",
        "services_df = services_df.withColumn(\"latitude_int\", col(\"latitude\").cast(\"Integer\"))\n",
        "services_df = services_df.withColumn(\"longitude_int\", col(\"longitude\").cast(\"Integer\"))\n",
        "\n",
        "stations_df = services_df.withColumn(\"latitude_int\", col(\"latitude\").cast(\"Integer\"))\n",
        "stations_df = services_df.withColumn(\"longitude_int\", col(\"longitude\").cast(\"Integer\"))\n",
        "\n",
        "prices_df.printSchema()\n",
        "services_df.printSchema()\n",
        "stations_df.printSchema()"
      ],
      "metadata": {
        "id": "H8F6HjHh3Iu4",
        "outputId": "7ff6fc08-e5c8-41c7-c682-6839e48bbcf1",
        "colab": {
          "base_uri": "https://localhost:8080/"
        }
      },
      "execution_count": 9,
      "outputs": [
        {
          "output_type": "stream",
          "name": "stdout",
          "text": [
            "root\n",
            " |-- id_pdv: string (nullable = true)\n",
            " |-- cp: string (nullable = true)\n",
            " |-- pop: string (nullable = true)\n",
            " |-- latitude: string (nullable = true)\n",
            " |-- longitude: string (nullable = true)\n",
            " |-- Date: date (nullable = true)\n",
            " |-- id_carburant: string (nullable = true)\n",
            " |-- nom_carburant: string (nullable = true)\n",
            " |-- prix: string (nullable = true)\n",
            " |-- continuous_week_number: integer (nullable = true)\n",
            "\n",
            "root\n",
            " |-- id_pdv: string (nullable = true)\n",
            " |-- cp: string (nullable = true)\n",
            " |-- pop: string (nullable = true)\n",
            " |-- latitude: string (nullable = true)\n",
            " |-- longitude: string (nullable = true)\n",
            " |-- services: string (nullable = true)\n",
            "\n",
            "root\n",
            " |-- id_pdv: string (nullable = true)\n",
            " |-- cp: string (nullable = true)\n",
            " |-- pop: string (nullable = true)\n",
            " |-- latitude: string (nullable = true)\n",
            " |-- longitude: string (nullable = true)\n",
            " |-- adresse: string (nullable = true)\n",
            " |-- vile: string (nullable = true)\n",
            "\n",
            "root\n",
            " |-- id_pdv: string (nullable = true)\n",
            " |-- cp: string (nullable = true)\n",
            " |-- pop: string (nullable = true)\n",
            " |-- latitude: string (nullable = true)\n",
            " |-- longitude: string (nullable = true)\n",
            " |-- Date: date (nullable = true)\n",
            " |-- id_carburant: string (nullable = true)\n",
            " |-- nom_carburant: string (nullable = true)\n",
            " |-- prix: string (nullable = true)\n",
            " |-- continuous_week_number: integer (nullable = true)\n",
            " |-- latitude_int: integer (nullable = true)\n",
            " |-- longitude_int: integer (nullable = true)\n",
            " |-- prix_int: integer (nullable = true)\n",
            "\n",
            "root\n",
            " |-- id_pdv: string (nullable = true)\n",
            " |-- cp: string (nullable = true)\n",
            " |-- pop: string (nullable = true)\n",
            " |-- latitude: string (nullable = true)\n",
            " |-- longitude: string (nullable = true)\n",
            " |-- services: string (nullable = true)\n",
            " |-- latitude_int: integer (nullable = true)\n",
            " |-- longitude_int: integer (nullable = true)\n",
            "\n",
            "root\n",
            " |-- id_pdv: string (nullable = true)\n",
            " |-- cp: string (nullable = true)\n",
            " |-- pop: string (nullable = true)\n",
            " |-- latitude: string (nullable = true)\n",
            " |-- longitude: string (nullable = true)\n",
            " |-- services: string (nullable = true)\n",
            " |-- latitude_int: integer (nullable = true)\n",
            " |-- longitude_int: integer (nullable = true)\n",
            "\n"
          ]
        }
      ]
    },
    {
      "cell_type": "code",
      "execution_count": 10,
      "metadata": {
        "id": "VceUXLASwuNf"
      },
      "outputs": [],
      "source": [
        "division_constant_latitude = 10**7\n",
        "division_constant_longitude = 10**6\n",
        "\n",
        "dataframes = [prices_df, stations_df, services_df]\n",
        "\n",
        "for i in range(len(dataframes)):\n",
        "    dataframes[i] = dataframes[i].withColumn('latitude_adj', col('latitude_int') / division_constant_latitude)\n",
        "    dataframes[i] = dataframes[i].withColumn('longitude_adj', col('longitude_int') / division_constant_longitude)\n",
        "\n",
        "prices_df, stations_df, services_df = dataframes"
      ]
    },
    {
      "cell_type": "code",
      "source": [
        "# Check if all columns contain values or some have NULL (missing) value\n",
        "rows_null = prices_df.where(\n",
        "    col(\"prix_int\").isNull() |\n",
        "    col(\"id_carburant\").isNull() |\n",
        "    col(\"Year\").isNull()\n",
        ")\n",
        "rows_null.show(10)"
      ],
      "metadata": {
        "id": "wmBPxctYzxK5",
        "outputId": "cf92bc79-edd8-4ab2-e3f2-45fdbd1c1d83",
        "colab": {
          "base_uri": "https://localhost:8080/"
        }
      },
      "execution_count": 14,
      "outputs": [
        {
          "output_type": "stream",
          "name": "stdout",
          "text": [
            "+-------+-----+---+-------------+-------------+----+------------+-------------+----+----------------------+------------+-------------+--------+------------+-------------+----+-----+----+----------+\n",
            "| id_pdv|   cp|pop|     latitude|    longitude|Date|id_carburant|nom_carburant|prix|continuous_week_number|latitude_int|longitude_int|prix_int|latitude_adj|longitude_adj|Year|Month| Day|WeekOfYear|\n",
            "+-------+-----+---+-------------+-------------+----+------------+-------------+----+----------------------+------------+-------------+--------+------------+-------------+----+-----+----+----------+\n",
            "|1000005|01000|  R|4620093.59235|519942.024022|NULL|        NULL|         NULL|NULL|                  NULL|     4620093|       519942|    NULL|   0.4620093|     0.519942|NULL| NULL|NULL|      NULL|\n",
            "|1000006|01000|  R|      4620754|       523758|NULL|        NULL|         NULL|NULL|                  NULL|     4620754|       523758|    NULL|   0.4620754|     0.523758|NULL| NULL|NULL|      NULL|\n",
            "|1000010|01000|  R|4619851.83794|524350.637881|NULL|        NULL|         NULL|NULL|                  NULL|     4619851|       524350|    NULL|   0.4619851|      0.52435|NULL| NULL|NULL|      NULL|\n",
            "|1100002|01100|  R|      4625000|       564400|NULL|        NULL|         NULL|NULL|                  NULL|     4625000|       564400|    NULL|      0.4625|       0.5644|NULL| NULL|NULL|      NULL|\n",
            "|1100003|01100|  R|      4624966|       564134|NULL|        NULL|         NULL|NULL|                  NULL|     4624966|       564134|    NULL|   0.4624966|     0.564134|NULL| NULL|NULL|      NULL|\n",
            "|1120002|01120|  A|4584715.18044|507404.780227|NULL|        NULL|         NULL|NULL|                  NULL|     4584715|       507404|    NULL|   0.4584715|     0.507404|NULL| NULL|NULL|      NULL|\n",
            "|1120003|01120|  A|      4585103|       505543|NULL|        NULL|         NULL|NULL|                  NULL|     4585103|       505543|    NULL|   0.4585103|     0.505543|NULL| NULL|NULL|      NULL|\n",
            "|1130001|01130|  R|      4615785|       560352|NULL|        NULL|         NULL|NULL|                  NULL|     4615785|       560352|    NULL|   0.4615785|     0.560352|NULL| NULL|NULL|      NULL|\n",
            "|1160001|01160|  R|4605335.06156|533741.036717|NULL|        NULL|         NULL|NULL|                  NULL|     4605335|       533741|    NULL|   0.4605335|     0.533741|NULL| NULL|NULL|      NULL|\n",
            "|1200004|01200|  R|         NULL|         NULL|NULL|        NULL|         NULL|NULL|                  NULL|        NULL|         NULL|    NULL|        NULL|         NULL|NULL| NULL|NULL|      NULL|\n",
            "+-------+-----+---+-------------+-------------+----+------------+-------------+----+----------------------+------------+-------------+--------+------------+-------------+----+-----+----+----------+\n",
            "only showing top 10 rows\n",
            "\n"
          ]
        }
      ]
    },
    {
      "cell_type": "code",
      "source": [
        "# Deletet missing values\n",
        "prices_df_without_null = prices_df.na.drop()"
      ],
      "metadata": {
        "id": "C4VF4S64_1rd"
      },
      "execution_count": 21,
      "outputs": []
    },
    {
      "cell_type": "code",
      "source": [
        "# Prices in the dataframes 2019-2021 are given in mili-euros, whereas the prices\n",
        "# in the dataframes 2022S1 and 2022S2 are given in euros. Divide by 1000 to get\n",
        "# the same scale\n",
        "\n",
        "division_constant_prix = 1000\n",
        "condition = (col(\"Year\") != \"2022S1\") & (col(\"Year\") != \"2022S2\")\n",
        "prices_df_without_null_adj = prices_df_without_null.withColumn('prix_adj', when(condition, col('prix_int') / division_constant_prix).otherwise(col('prix_int')))\n",
        "\n",
        "ordered_df = prices_df_without_null_adj.orderBy(desc(\"prix_adj\"))\n",
        "ordered_df.show()"
      ],
      "metadata": {
        "id": "eMEnXW-UrVNO",
        "outputId": "b03dcfd7-3937-4478-c1ba-71742fc9665e",
        "colab": {
          "base_uri": "https://localhost:8080/"
        }
      },
      "execution_count": 24,
      "outputs": [
        {
          "output_type": "stream",
          "name": "stdout",
          "text": [
            "+--------+-----+---+---------------+--------------+----------+------------+-------------+----+----------------------+------------+-------------+--------+------------+-------------+----+-----+---+----------+--------+\n",
            "|  id_pdv|   cp|pop|       latitude|     longitude|      Date|id_carburant|nom_carburant|prix|continuous_week_number|latitude_int|longitude_int|prix_int|latitude_adj|longitude_adj|Year|Month|Day|WeekOfYear|prix_adj|\n",
            "+--------+-----+---+---------------+--------------+----------+------------+-------------+----+----------------------+------------+-------------+--------+------------+-------------+----+-----+---+----------+--------+\n",
            "|76300007|76300|  R|        4942100|        110700|2021-08-11|           3|          E85|9659|                   137|     4942100|       110700|    9659|     0.49421|       0.1107|2021|   08| 11|        32|   9.659|\n",
            "|76300007|76300|  R|        4942100|        110700|2021-08-11|           3|          E85|9659|                   137|     4942100|       110700|    9659|     0.49421|       0.1107|2021|   08| 11|        32|   9.659|\n",
            "|22100006|22100|  R|   4845336.8845|  -202551.5676|2019-07-02|           2|         SP95|8888|                    27|     4845336|      -202551|    8888|   0.4845336|    -0.202551|2019|   07| 02|        27|   8.888|\n",
            "|35580001|35580|  R|   4797024.4514|-179613.185032|2021-10-06|           1|       Gazole|8888|                   145|     4797024|      -179613|    8888|   0.4797024|    -0.179613|2021|   10| 06|        40|   8.888|\n",
            "|35580001|35580|  R|   4797024.4514|-179613.185032|2021-10-06|           3|          E85|8888|                   145|     4797024|      -179613|    8888|   0.4797024|    -0.179613|2021|   10| 06|        40|   8.888|\n",
            "|35580001|35580|  R|   4797024.4514|-179613.185032|2021-10-06|           5|          E10|8888|                   145|     4797024|      -179613|    8888|   0.4797024|    -0.179613|2021|   10| 06|        40|   8.888|\n",
            "|35580001|35580|  R|   4797024.4514|-179613.185032|2021-10-06|           6|         SP98|8888|                   145|     4797024|      -179613|    8888|   0.4797024|    -0.179613|2021|   10| 06|        40|   8.888|\n",
            "|34500008|34500|  R|        4334700|        324500|2020-02-28|           5|          E10|8433|                    61|     4334700|       324500|    8433|     0.43347|       0.3245|2020|   02| 28|         9|   8.433|\n",
            "|59350002|59350|  R|        5065800|        305200|2021-07-21|           6|         SP98|8000|                   134|     5065800|       305200|    8000|     0.50658|       0.3052|2021|   07| 21|        29|     8.0|\n",
            "|56340003|56340|  R|        4758100|       -308200|2021-11-12|           6|         SP98|7789|                   150|     4758100|      -308200|    7789|     0.47581|      -0.3082|2021|   11| 12|        45|   7.789|\n",
            "|56400005|56400|  R|        4766700|       -298800|2021-12-21|           6|         SP98|7759|                   156|     4766700|      -298800|    7759|     0.47667|      -0.2988|2021|   12| 21|        51|   7.759|\n",
            "|18150001|18150|  R|        4695100|        294900|2021-10-27|           6|         SP98|7745|                   148|     4695100|       294900|    7745|     0.46951|       0.2949|2021|   10| 27|        43|   7.745|\n",
            "|64110003|64110|  R|        4328000|        -38800|2021-09-15|           6|         SP98|7737|                   142|     4328000|       -38800|    7737|      0.4328|      -0.0388|2021|   09| 15|        37|   7.737|\n",
            "|60390003|60390|  R|        4937000|        198700|2021-08-20|           6|         SP98|7730|                   138|     4937000|       198700|    7730|      0.4937|       0.1987|2021|   08| 20|        33|    7.73|\n",
            "|13790004|13790|  A|4346994.5749775| 565464.431632|2021-05-27|           6|         SP98|7728|                   126|     4346994|       565464|    7728|   0.4346994|     0.565464|2021|   05| 27|        21|   7.728|\n",
            "|55300001|55300|  R|        4889000|        555100|2021-11-23|           6|         SP98|7727|                   152|     4889000|       555100|    7727|      0.4889|       0.5551|2021|   11| 23|        47|   7.727|\n",
            "|29720002|29720|  R|        4791300|       -432100|2021-11-12|           5|          E10|7709|                   150|     4791300|      -432100|    7709|     0.47913|      -0.4321|2021|   11| 12|        45|   7.709|\n",
            "|76600001|76600|  R|        4949500|         15500|2021-10-29|           6|         SP98|7702|                   148|     4949500|        15500|    7702|     0.49495|       0.0155|2021|   10| 29|        43|   7.702|\n",
            "|13120001|13120|  R|        4346500|        546400|2021-10-25|           6|         SP98|7701|                   148|     4346500|       546400|    7701|     0.43465|       0.5464|2021|   10| 25|        43|   7.701|\n",
            "|26208001|26200|  R|        4453200|        474800|2019-06-05|           6|         SP98|7589|                    23|     4453200|       474800|    7589|     0.44532|       0.4748|2019|   06| 05|        23|   7.589|\n",
            "+--------+-----+---+---------------+--------------+----------+------------+-------------+----+----------------------+------------+-------------+--------+------------+-------------+----+-----+---+----------+--------+\n",
            "only showing top 20 rows\n",
            "\n"
          ]
        }
      ]
    },
    {
      "cell_type": "markdown",
      "metadata": {
        "id": "Tr22TmKb7HGp"
      },
      "source": [
        "### Make data available as a table in order to be able to use Spark SQL"
      ]
    },
    {
      "cell_type": "code",
      "execution_count": 18,
      "metadata": {
        "id": "jJ4uIeAeze70"
      },
      "outputs": [],
      "source": [
        "prices_df_without_null_adj.createOrReplaceTempView(\"Gas_prices\")\n",
        "stations_df.createOrReplaceTempView(\"Stations\")\n",
        "services_df.createOrReplaceTempView(\"Services\")"
      ]
    },
    {
      "cell_type": "markdown",
      "metadata": {
        "id": "lPOsyPpO7LbA"
      },
      "source": [
        "### Through basic statistics, consider which gas types have some interest for the rest of the project\n"
      ]
    },
    {
      "cell_type": "code",
      "execution_count": 52,
      "metadata": {
        "colab": {
          "base_uri": "https://localhost:8080/"
        },
        "id": "36SplyRi1iXv",
        "outputId": "3fa03dc8-6aa5-438e-88eb-6733f1ebfbd5"
      },
      "outputs": [
        {
          "output_type": "stream",
          "name": "stdout",
          "text": [
            "+-------------+\n",
            "|nom_carburant|\n",
            "+-------------+\n",
            "|          E10|\n",
            "|         SP98|\n",
            "|          E85|\n",
            "|       Gazole|\n",
            "|         SP95|\n",
            "|         GPLc|\n",
            "+-------------+\n",
            "\n"
          ]
        }
      ],
      "source": [
        "# Idenitify the different gas types\n",
        "spark.sql(\"\"\"\n",
        "  SELECT DISTINCT nom_carburant\n",
        "  FROM Gas_prices\n",
        "\"\"\").show()"
      ]
    },
    {
      "cell_type": "code",
      "source": [
        "# Idenitify the different gas types\n",
        "spark.sql(\"\"\"\n",
        "  SELECT DISTINCT nom_carburant\n",
        "  FROM Gas_prices\n",
        "  WHERE nom_carburant IS NULL\n",
        "\"\"\").count()"
      ],
      "metadata": {
        "id": "-jYJ9WWchN1m",
        "outputId": "fdbc4f39-4c6b-4031-eece-c66b8aa403e0",
        "colab": {
          "base_uri": "https://localhost:8080/"
        }
      },
      "execution_count": 51,
      "outputs": [
        {
          "output_type": "execute_result",
          "data": {
            "text/plain": [
              "1"
            ]
          },
          "metadata": {},
          "execution_count": 51
        }
      ]
    },
    {
      "cell_type": "code",
      "source": [
        "spark.sql(\"\"\"\n",
        "  SELECT *\n",
        "  FROM Gas_prices\n",
        "  WHERE nom_carburant IS NULL\n",
        "\"\"\").show()"
      ],
      "metadata": {
        "id": "_0o4L2Eln9f_",
        "outputId": "a8a1cd81-6b6c-4fac-f993-0cb511344b6e",
        "colab": {
          "base_uri": "https://localhost:8080/"
        }
      },
      "execution_count": 19,
      "outputs": [
        {
          "output_type": "stream",
          "name": "stdout",
          "text": [
            "+------+---+---+--------+---------+----+------------+-------------+----+----------------------+------------+-------------+--------+------------+-------------+----+-----+---+----------+--------+\n",
            "|id_pdv| cp|pop|latitude|longitude|Date|id_carburant|nom_carburant|prix|continuous_week_number|latitude_int|longitude_int|prix_int|latitude_adj|longitude_adj|Year|Month|Day|WeekOfYear|prix_adj|\n",
            "+------+---+---+--------+---------+----+------------+-------------+----+----------------------+------------+-------------+--------+------------+-------------+----+-----+---+----------+--------+\n",
            "+------+---+---+--------+---------+----+------------+-------------+----+----------------------+------------+-------------+--------+------------+-------------+----+-----+---+----------+--------+\n",
            "\n"
          ]
        }
      ]
    },
    {
      "cell_type": "code",
      "execution_count": 20,
      "metadata": {
        "colab": {
          "base_uri": "https://localhost:8080/"
        },
        "id": "T8e5X6Iu3QaZ",
        "outputId": "e6e608a6-0561-4312-a4c2-211bd56dfd0c"
      },
      "outputs": [
        {
          "output_type": "stream",
          "name": "stdout",
          "text": [
            "+-------------+-------+-------------------+-------------------+---+-----+\n",
            "|nom_carburant|  count|               mean|             stddev|min|  max|\n",
            "+-------------+-------+-------------------+-------------------+---+-----+\n",
            "|          E10|4357845| 1.0614392177792857| 0.6688844283515107|0.0|8.888|\n",
            "|         SP98|4433584| 1.1351182603056582| 0.7026304092462548|0.0|8.888|\n",
            "|          E85|1141058|0.44349662944401425| 0.3430556366786851|0.0|9.659|\n",
            "|       Gazole|5273314|  0.999460822929513| 0.6424924079712973|0.0|8.888|\n",
            "|         SP95|1327084| 1.0714398071259272| 0.6722526841078132|0.0|8.888|\n",
            "|         GPLc| 753286| 0.6408711511965082|0.39319070737258777|0.0|  5.0|\n",
            "+-------------+-------+-------------------+-------------------+---+-----+\n",
            "\n"
          ]
        }
      ],
      "source": [
        "# Inspect summary statistics for different gas types\n",
        "spark.sql(\"\"\"\n",
        "    SELECT\n",
        "        nom_carburant,\n",
        "        COUNT(*) as count,\n",
        "        AVG(prix_adj) as mean,\n",
        "        STDDEV(prix_adj) as stddev,\n",
        "        MIN(prix_adj) as min,\n",
        "        MAX(prix_adj) as max\n",
        "    FROM\n",
        "        Gas_prices\n",
        "    GROUP BY\n",
        "        nom_carburant\n",
        "\"\"\").show()"
      ]
    },
    {
      "cell_type": "code",
      "source": [
        "spark.sql(\"\"\"\n",
        "SELECT\n",
        "nom_carburant,\n",
        "MAX(prix) as max\n",
        "FROM Gas_prices\n",
        "GROUP BY\n",
        "nom_carburant\"\"\").show()"
      ],
      "metadata": {
        "id": "OBzoKNMrZsxa",
        "outputId": "6968ba61-fcf3-4a0b-f374-2191a7f11d1f",
        "colab": {
          "base_uri": "https://localhost:8080/"
        }
      },
      "execution_count": 56,
      "outputs": [
        {
          "output_type": "stream",
          "name": "stdout",
          "text": [
            "+-------------+-----+\n",
            "|nom_carburant|  max|\n",
            "+-------------+-----+\n",
            "|         NULL| NULL|\n",
            "|          E10|  959|\n",
            "|          E85|  999|\n",
            "|         GPLc|  999|\n",
            "|       Gazole|  999|\n",
            "|         SP95|9.999|\n",
            "|         SP98|  969|\n",
            "+-------------+-----+\n",
            "\n"
          ]
        }
      ]
    },
    {
      "cell_type": "markdown",
      "metadata": {
        "id": "GH2x2HDH7V4i"
      },
      "source": [
        "## Data Preparation - step 2\n",
        "* Compute price index for each station per week:\n"
      ]
    },
    {
      "cell_type": "code",
      "source": [
        "valid_combinations = prices_df_without_null.groupBy(\"id_pdv\", \"nom_carburant\").agg(F.count(\"prix\").alias(\"count_prix\")).filter(\"count_prix > 0\")"
      ],
      "metadata": {
        "id": "ET4wyuqwBvZ9",
        "outputId": "e8787b10-8214-448c-90a5-ec6bdf4aee4a",
        "colab": {
          "base_uri": "https://localhost:8080/"
        }
      },
      "execution_count": 94,
      "outputs": [
        {
          "output_type": "stream",
          "name": "stdout",
          "text": [
            "+--------+-------------+----------+\n",
            "|  id_pdv|nom_carburant|count_prix|\n",
            "+--------+-------------+----------+\n",
            "| 1310001|         SP98|       279|\n",
            "| 2000007|          E10|      1474|\n",
            "| 2100009|       Gazole|       516|\n",
            "| 2380002|          E85|      1175|\n",
            "| 3160001|         SP95|      1216|\n",
            "| 3200003|          E10|       257|\n",
            "| 3320001|         SP98|       111|\n",
            "| 4120003|         SP98|       402|\n",
            "| 5120002|          E10|        88|\n",
            "| 5300003|          E10|       195|\n",
            "| 6250009|          E10|       990|\n",
            "| 7110004|         SP95|       112|\n",
            "| 7250004|       Gazole|       212|\n",
            "| 9140001|          E85|        84|\n",
            "|11150001|         SP98|       201|\n",
            "|12400007|         SP98|        98|\n",
            "|13014014|       Gazole|        28|\n",
            "|13127005|         SP98|      1433|\n",
            "|13370005|       Gazole|        84|\n",
            "|13510001|       Gazole|       142|\n",
            "+--------+-------------+----------+\n",
            "only showing top 20 rows\n",
            "\n"
          ]
        }
      ]
    },
    {
      "cell_type": "code",
      "source": [
        "joined_df = prices_df_without_null.join(valid_combinations, [\"id_pdv\", \"nom_carburant\"], \"inner\")\n",
        "joined_df.show()"
      ],
      "metadata": {
        "id": "COP9-Y5HFfbH",
        "outputId": "01d3ceed-0cf4-4bea-ba2a-79fa4bab589d",
        "colab": {
          "base_uri": "https://localhost:8080/"
        }
      },
      "execution_count": 95,
      "outputs": [
        {
          "output_type": "stream",
          "name": "stdout",
          "text": [
            "+-------+-------------+-----+---+-------------+-------------+----------+------------+----+----+-----+---+----------+----------------------+--------------+--------------+--------+----------+\n",
            "| id_pdv|nom_carburant|   cp|pop|     latitude|    longitude|      Date|id_carburant|prix|Year|Month|Day|WeekOfYear|continuous_week_number|  latitude_adj| longitude_adj|prix_adj|count_prix|\n",
            "+-------+-------------+-----+---+-------------+-------------+----------+------------+----+----+-----+---+----------+----------------------+--------------+--------------+--------+----------+\n",
            "|1310001|         SP98|01310|  R|4625082.58935|511211.332738|2019-01-02|           6|1549|2019|   01| 02|         1|                     1|0.462508258935|0.511211332738|   1.549|       279|\n",
            "|1310001|         SP98|01310|  R|4625082.58935|511211.332738|2019-01-02|           6|1549|2019|   01| 02|         1|                     1|0.462508258935|0.511211332738|   1.549|       279|\n",
            "|1310001|         SP98|01310|  R|4625082.58935|511211.332738|2019-01-10|           6|1562|2019|   01| 10|         2|                     2|0.462508258935|0.511211332738|   1.562|       279|\n",
            "|1310001|         SP98|01310|  R|4625082.58935|511211.332738|2019-01-11|           6|1569|2019|   01| 11|         2|                     2|0.462508258935|0.511211332738|   1.569|       279|\n",
            "|1310001|         SP98|01310|  R|4625082.58935|511211.332738|2019-01-16|           6|1574|2019|   01| 16|         3|                     3|0.462508258935|0.511211332738|   1.574|       279|\n",
            "|1310001|         SP98|01310|  R|4625082.58935|511211.332738|2019-01-23|           6|1584|2019|   01| 23|         4|                     4|0.462508258935|0.511211332738|   1.584|       279|\n",
            "|1310001|         SP98|01310|  R|4625082.58935|511211.332738|2019-01-23|           6|1584|2019|   01| 23|         4|                     4|0.462508258935|0.511211332738|   1.584|       279|\n",
            "|1310001|         SP98|01310|  R|4625082.58935|511211.332738|2019-02-01|           6|1589|2019|   02| 01|         5|                     5|0.462508258935|0.511211332738|   1.589|       279|\n",
            "|1310001|         SP98|01310|  R|4625082.58935|511211.332738|2019-02-15|           6|1596|2019|   02| 15|         7|                     7|0.462508258935|0.511211332738|   1.596|       279|\n",
            "|1310001|         SP98|01310|  R|4625082.58935|511211.332738|2019-02-18|           6|1609|2019|   02| 18|         8|                     8|0.462508258935|0.511211332738|   1.609|       279|\n",
            "|1310001|         SP98|01310|  R|4625082.58935|511211.332738|2019-02-23|           6|1619|2019|   02| 23|         8|                     8|0.462508258935|0.511211332738|   1.619|       279|\n",
            "|1310001|         SP98|01310|  R|4625082.58935|511211.332738|2019-02-26|           6|1624|2019|   02| 26|         9|                     9|0.462508258935|0.511211332738|   1.624|       279|\n",
            "|1310001|         SP98|01310|  R|4625082.58935|511211.332738|2019-03-11|           6|1632|2019|   03| 11|        11|                    11|0.462508258935|0.511211332738|   1.632|       279|\n",
            "|1310001|         SP98|01310|  R|4625082.58935|511211.332738|2019-03-13|           6|1637|2019|   03| 13|        11|                    11|0.462508258935|0.511211332738|   1.637|       279|\n",
            "|1310001|         SP98|01310|  R|4625082.58935|511211.332738|2019-03-15|           6|1646|2019|   03| 15|        11|                    11|0.462508258935|0.511211332738|   1.646|       279|\n",
            "|1310001|         SP98|01310|  R|4625082.58935|511211.332738|2019-03-21|           6|1652|2019|   03| 21|        12|                    12|0.462508258935|0.511211332738|   1.652|       279|\n",
            "|1310001|         SP98|01310|  R|4625082.58935|511211.332738|2019-03-22|           6|1662|2019|   03| 22|        12|                    12|0.462508258935|0.511211332738|   1.662|       279|\n",
            "|1310001|         SP98|01310|  R|4625082.58935|511211.332738|2019-04-05|           6|1678|2019|   04| 05|        14|                    14|0.462508258935|0.511211332738|   1.678|       279|\n",
            "|1310001|         SP98|01310|  R|4625082.58935|511211.332738|2019-04-11|           6|1697|2019|   04| 11|        15|                    15|0.462508258935|0.511211332738|   1.697|       279|\n",
            "|1310001|         SP98|01310|  R|4625082.58935|511211.332738|2019-04-11|           6|1704|2019|   04| 11|        15|                    15|0.462508258935|0.511211332738|   1.704|       279|\n",
            "+-------+-------------+-----+---+-------------+-------------+----------+------------+----+----+-----+---+----------+----------------------+--------------+--------------+--------+----------+\n",
            "only showing top 20 rows\n",
            "\n"
          ]
        }
      ]
    },
    {
      "cell_type": "code",
      "source": [
        "\n",
        "\n",
        "price_index_df = (prices_df_without_null\n",
        "  .groupBy(\"Date\", \"id_pdv\", \"nom_carburant\")\n",
        "  .agg(\n",
        "    avg(\"prix\").alias(\"mean_price\")\n",
        "  )\n",
        ")\n",
        "\n",
        "price_index_df_France = (prices_df_without_null\n",
        "    .groupBy(\"Date\", \"nom_carburant\")\n",
        "    .agg(\n",
        "        avg(\"prix\").alias(\"mean_price\")\n",
        "    )\n",
        "  )\n",
        "\n",
        "\n",
        "price_index_df.show()"
      ],
      "metadata": {
        "id": "2PxQ-Er_7_xy",
        "outputId": "5f033a4a-c907-4dd0-d05b-e76a6112ec64",
        "colab": {
          "base_uri": "https://localhost:8080/"
        }
      },
      "execution_count": 88,
      "outputs": [
        {
          "output_type": "stream",
          "name": "stdout",
          "text": [
            "+----------+--------+-------------+----------+\n",
            "|      Date|  id_pdv|nom_carburant|mean_price|\n",
            "+----------+--------+-------------+----------+\n",
            "|2019-01-01|10000018|          E10|    1444.0|\n",
            "|2019-01-01|10000018|       Gazole|    1459.0|\n",
            "|2019-01-01|10000019|       Gazole|    1354.0|\n",
            "|2019-01-01|10000019|         SP98|    1434.0|\n",
            "|2019-01-01|10000020|          E10|    1363.0|\n",
            "|2019-01-01|10000020|          E85|     649.0|\n",
            "|2019-01-01| 1000008|         SP95|    1375.0|\n",
            "|2019-01-01| 1000013|       Gazole|    1347.0|\n",
            "|2019-01-01|10150001|         SP98|    1452.0|\n",
            "|2019-01-01|10270006|         SP98|    1614.0|\n",
            "|2019-01-01|10270007|         SP98|    1624.0|\n",
            "|2019-01-01|10300002|         SP98|    1438.0|\n",
            "|2019-01-01|10300005|       Gazole|    1344.0|\n",
            "|2019-01-01|11100009|         SP98|    1458.0|\n",
            "|2019-01-01|11100013|         GPLc|     869.0|\n",
            "|2019-01-01|11110005|          E10|    1514.0|\n",
            "|2019-01-01|11200008|          E10|    1329.0|\n",
            "|2019-01-01| 1120008|       Gazole|    1509.0|\n",
            "|2019-01-01|11480001|          E85|     899.0|\n",
            "|2019-01-01|11480001|         SP95|    1544.0|\n",
            "+----------+--------+-------------+----------+\n",
            "only showing top 20 rows\n",
            "\n"
          ]
        }
      ]
    },
    {
      "cell_type": "code",
      "source": [
        "price_index_df_France = (prices_df_without_null\n",
        "    .groupBy(\"Date\", \"nom_carburant\")\n",
        "    .agg(\n",
        "        avg(\"prix\").alias(\"mean_price\")\n",
        "    )\n",
        "  )\n",
        "\n",
        "price_index_df_France.show()"
      ],
      "metadata": {
        "id": "Nfed5FoH8izX"
      },
      "execution_count": null,
      "outputs": []
    },
    {
      "cell_type": "code",
      "source": [
        "prices_df.filter(prices_df[\"prix\"].isNull()).count()\n"
      ],
      "metadata": {
        "id": "IZQhOpkc9kFF",
        "outputId": "45eed9de-1c2b-4e5d-830f-c17f35955032",
        "colab": {
          "base_uri": "https://localhost:8080/"
        }
      },
      "execution_count": 86,
      "outputs": [
        {
          "output_type": "execute_result",
          "data": {
            "text/plain": [
              "14566"
            ]
          },
          "metadata": {},
          "execution_count": 86
        }
      ]
    },
    {
      "cell_type": "code",
      "source": [
        "price_index_df = prices_df.groupBy(\"Date\", \"id_pdv\", \"nom_carburant\").agg(avg(\"prix\").alias(\"mean_price_day\"))\n",
        "\n",
        "price_index_df.show()\n"
      ],
      "metadata": {
        "id": "EnuKykha434t",
        "outputId": "1e740627-8a9d-4dbf-d728-b0b4c10255cd",
        "colab": {
          "base_uri": "https://localhost:8080/"
        }
      },
      "execution_count": 80,
      "outputs": [
        {
          "output_type": "stream",
          "name": "stdout",
          "text": [
            "+----+--------+-------------+--------------+\n",
            "|Date|  id_pdv|nom_carburant|mean_price_day|\n",
            "+----+--------+-------------+--------------+\n",
            "|NULL|10000001|         NULL|          NULL|\n",
            "|NULL|10092001|         NULL|          NULL|\n",
            "|NULL|10120002|         NULL|          NULL|\n",
            "|NULL|10270008|         NULL|          NULL|\n",
            "|NULL|10400001|         NULL|          NULL|\n",
            "|NULL|10400005|         NULL|          NULL|\n",
            "|NULL|10410002|         NULL|          NULL|\n",
            "|NULL|10430002|         NULL|          NULL|\n",
            "|NULL|10500004|         NULL|          NULL|\n",
            "|NULL|10700003|         NULL|          NULL|\n",
            "|NULL|10800001|         NULL|          NULL|\n",
            "|NULL|11100006|         NULL|          NULL|\n",
            "|NULL| 1120003|         NULL|          NULL|\n",
            "|NULL| 1130001|         NULL|          NULL|\n",
            "|NULL| 1170001|         NULL|          NULL|\n",
            "|NULL|12000001|         NULL|          NULL|\n",
            "|NULL|12000009|         NULL|          NULL|\n",
            "|NULL|12000013|         NULL|          NULL|\n",
            "|NULL| 1200004|         NULL|          NULL|\n",
            "|NULL|12150001|         NULL|          NULL|\n",
            "+----+--------+-------------+--------------+\n",
            "only showing top 20 rows\n",
            "\n"
          ]
        }
      ]
    },
    {
      "cell_type": "code",
      "execution_count": null,
      "metadata": {
        "colab": {
          "base_uri": "https://localhost:8080/"
        },
        "id": "QGT4aR6eTOMO",
        "outputId": "20e28488-48c9-4260-9331-a161d80afb6f"
      },
      "outputs": [
        {
          "name": "stdout",
          "output_type": "stream",
          "text": [
            "13637\n"
          ]
        }
      ],
      "source": [
        "# Idenitify the different stations\n",
        "result_df = spark.sql(\"\"\"\n",
        "  SELECT DISTINCT id_pdv\n",
        "  FROM Stations\n",
        "\"\"\").count()\n",
        "\n",
        "print(result_df)"
      ]
    },
    {
      "cell_type": "code",
      "execution_count": null,
      "metadata": {
        "id": "vnShgsW3U_qV"
      },
      "outputs": [],
      "source": [
        "# Compute price index\n",
        "\n",
        "# Average week price for each gas type\n",
        "average_price_gas_type = (\n",
        "    prices_df\n",
        "    .groupBy(\"id_carburant\", \"WeekOfYear\")\n",
        "    .agg(F.avg(\"prix\")\n",
        "    .alias(\"avg_price\"))\n",
        ")"
      ]
    },
    {
      "cell_type": "code",
      "execution_count": null,
      "metadata": {
        "id": "ewXBsocMmeGw"
      },
      "outputs": [],
      "source": [
        "# Average week price across all stations\n"
      ]
    },
    {
      "cell_type": "code",
      "execution_count": null,
      "metadata": {
        "colab": {
          "base_uri": "https://localhost:8080/"
        },
        "id": "OuTAsJWWZNxm",
        "outputId": "2532608c-1913-4dd1-c581-472570615d9b"
      },
      "outputs": [
        {
          "name": "stderr",
          "output_type": "stream",
          "text": [
            "[Stage 26:==================================>                       (3 + 2) / 5]\r"
          ]
        },
        {
          "name": "stdout",
          "output_type": "stream",
          "text": [
            "+------------+----------+------------------+\n",
            "|id_carburant|WeekOfYear|         avg_price|\n",
            "+------------+----------+------------------+\n",
            "|           5|        15|1026.8279417468495|\n",
            "|           1|        23| 967.6790876084692|\n",
            "|           6|         6|1131.3485029268845|\n",
            "|           4|         1| 625.1007167437825|\n",
            "|           5|        40| 1079.047403827629|\n",
            "|           3|        41| 479.9917641923257|\n",
            "|           2|        42|1166.5154194870593|\n",
            "|           2|        51|1268.2314869539136|\n",
            "|           6|        49|1157.8346213971126|\n",
            "|           2|        39| 1138.549206085533|\n",
            "|           5|        32|1030.8693405235476|\n",
            "|           5|        41|1143.5995631037706|\n",
            "|           5|        50|1084.8844499713553|\n",
            "|           3|        32|421.52906523526724|\n",
            "|           3|        44|471.49127773253707|\n",
            "|           3|        13| 399.8121020398829|\n",
            "|           5|        38|  1094.80155703838|\n",
            "|           3|         8|426.81525787281834|\n",
            "|           1|        44|1045.5431524325854|\n",
            "|           3|        21| 438.8869656802403|\n",
            "+------------+----------+------------------+\n",
            "only showing top 20 rows\n",
            "\n"
          ]
        },
        {
          "name": "stderr",
          "output_type": "stream",
          "text": [
            "                                                                                \r"
          ]
        }
      ],
      "source": [
        "average_price_gas_type.show()"
      ]
    },
    {
      "cell_type": "code",
      "execution_count": null,
      "metadata": {
        "id": "VY84K80gn_0P"
      },
      "outputs": [],
      "source": [
        "# prices_stations_df = prices_df.join(stations_df, \"id_pdv\")\n",
        "\n",
        "# average_week_price_per_station_gas_type = (\n",
        "#     prices_stations_df\n",
        "#     .groupBy(\"id_carburant\", \"id_pdv\", \"WeekOfYear\")\n",
        "#     .agg(F.avg(\"prix\").alias(\"avg_week_price\"))\n",
        "#     )\n",
        "\n",
        "# average_week_price_per_station_gas_type.show()\n"
      ]
    },
    {
      "cell_type": "code",
      "execution_count": null,
      "metadata": {
        "id": "mgY54l6pHDoq"
      },
      "outputs": [],
      "source": [
        "# # Join prices_df and stations_df on \"id_pdv\"\n",
        "# prices_stations_df = prices_df.join(stations_df, \"id_pdv\")\n",
        "\n",
        "# # Order the DataFrame by \"id_carburant\", \"id_pdv\", and \"WeekOfYear\"\n",
        "# sorted_average_week_price = (\n",
        "#     average_week_price_per_station_gas_type\n",
        "#     .orderBy(\"id_pdv\", \"id_carburant\", \"WeekOfYear\")\n",
        "# )\n",
        "\n",
        "# # Show the sorted DataFrame\n",
        "# selected_row = sorted_average_week_price.filter((sorted_average_week_price[\"\"]))\n"
      ]
    },
    {
      "cell_type": "markdown",
      "metadata": {
        "id": "qclVBO8mVEe6"
      },
      "source": [
        "## Data Visualization\n",
        "* Represent the weekly evolution of average gas price over France such as:\n",
        "- Each gas type is a line\n",
        "- X coordinates is the week index\n",
        "- Y coordinates is the average price for gas type in France over week index\n",
        "\n"
      ]
    },
    {
      "cell_type": "code",
      "execution_count": null,
      "metadata": {
        "colab": {
          "base_uri": "https://localhost:8080/"
        },
        "id": "WpPky7uvVvru",
        "outputId": "b7ee7769-3441-49c9-a3b3-5731e614996f"
      },
      "outputs": [
        {
          "name": "stderr",
          "output_type": "stream",
          "text": [
            "[Stage 29:==============================================>           (4 + 1) / 5]\r"
          ]
        },
        {
          "name": "stdout",
          "output_type": "stream",
          "text": [
            "+------------+----------+----+------------------+\n",
            "|id_carburant|WeekOfYear|Year|         avg_price|\n",
            "+------------+----------+----+------------------+\n",
            "|           1|         1|2019|1424.7996734815035|\n",
            "|           1|         2|2019|1399.0902171155171|\n",
            "|           1|         3|2019|1417.6400794367214|\n",
            "|           1|         4|2019| 1430.798795278137|\n",
            "|           1|         5|2019|1433.4229831189325|\n",
            "|           1|         6|2019|1435.8464358272238|\n",
            "|           1|         7|2019|1443.1619467657072|\n",
            "|           1|         8|2019|1464.4919273285211|\n",
            "|           1|         9|2019|1471.5890047879616|\n",
            "|           1|        10|2019|1474.4341013006615|\n",
            "|           1|        11|2019|1475.9064935064935|\n",
            "|           1|        12|2019|1474.3793739360697|\n",
            "|           1|        13|2019|1472.6341167813705|\n",
            "|           1|        14|2019|1475.5626392230242|\n",
            "|           1|        15|2019|1483.7557456122572|\n",
            "|           1|        16|2019|1481.2622031407132|\n",
            "|           1|        17|2019|1494.8242936687977|\n",
            "|           1|        18|2019|1494.4240882466117|\n",
            "|           1|        19|2019|1494.1711548649125|\n",
            "|           1|        20|2019|1495.4959804121609|\n",
            "+------------+----------+----+------------------+\n",
            "only showing top 20 rows\n",
            "\n"
          ]
        },
        {
          "name": "stderr",
          "output_type": "stream",
          "text": [
            "                                                                                \r"
          ]
        }
      ],
      "source": [
        "# Compute price index\n",
        "\n",
        "# Average week price for each gas type\n",
        "average_price_gas_type = (\n",
        "    prices_df\n",
        "    .groupBy(\"id_carburant\", \"WeekOfYear\", \"Year\")\n",
        "    .agg(F.avg(\"prix\")\n",
        "    .alias(\"avg_price\"))\n",
        ")\n",
        "\n",
        "filtered_average_price_gas_type = (\n",
        "    average_price_gas_type\n",
        "    .filter(average_price_gas_type[\"id_carburant\"].isNotNull())\n",
        "    .where(\"Year = 2019\")\n",
        ")\n",
        "\n",
        "sorted_average_price_gas_type = (\n",
        "    filtered_average_price_gas_type\n",
        "    .orderBy(\"id_carburant\", \"WeekOfYear\")\n",
        ")\n",
        "\n",
        "\n",
        "#average_price_gas_type.show()\n",
        "sorted_average_price_gas_type.show()"
      ]
    },
    {
      "cell_type": "code",
      "execution_count": null,
      "metadata": {
        "id": "jHEiAqMYdWpF"
      },
      "outputs": [],
      "source": [
        "# Alternative for plotting gas types separately\n",
        "\n",
        "# Convert PySpark DataFrame to Pandas DataFrame\n",
        "# pandas_df = sorted_average_price_gas_type.toPandas()\n",
        "\n",
        "# sns.set(style=\"whitegrid\")\n",
        "\n",
        "# # Create a FacetGrid with gas types as columns\n",
        "# sns.set(style=\"whitegrid\")\n",
        "# g = sns.FacetGrid(pandas_df, col=\"id_carburant\", col_wrap=3, height=4, sharey=False)\n",
        "\n",
        "# # Map the line plot to the FacetGrid\n",
        "# g.map(sns.lineplot, \"WeekOfYear\", \"avg_price\")\n",
        "# g.set_axis_labels(\"Week of Year\", \"Average Price\")\n",
        "# g.set_titles(col_template=\"{col_name}\")\n",
        "\n",
        "# plt.tight_layout()\n",
        "# plt.show()\n"
      ]
    },
    {
      "cell_type": "code",
      "execution_count": null,
      "metadata": {
        "colab": {
          "base_uri": "https://localhost:8080/",
          "height": 727
        },
        "id": "J-UiYncpfJ_P",
        "outputId": "e7095899-a629-447a-c261-54e04a291959"
      },
      "outputs": [
        {
          "name": "stderr",
          "output_type": "stream",
          "text": [
            "                                                                                \r"
          ]
        },
        {
          "data": {
            "image/png": "[encoded data removed]",
            "text/plain": [
              "<Figure size 1200x800 with 1 Axes>"
            ]
          },
          "metadata": {},
          "output_type": "display_data"
        }
      ],
      "source": [
        "# Convert PySpark DataFrame to Pandas DataFrame\n",
        "pandas_df = sorted_average_price_gas_type.toPandas()\n",
        "\n",
        "# Initialize Seaborn\n",
        "sns.set(style=\"whitegrid\")\n",
        "\n",
        "# Create a line plot for each gas type\n",
        "plt.figure(figsize=(12, 8))\n",
        "sns.lineplot(data=pandas_df, x=\"WeekOfYear\", y=\"avg_price\", hue=\"id_carburant\", marker=\"o\", markersize=8, linewidth=2)\n",
        "plt.title(\"Weekly Evolution of Average Gas Prices by Gas Type\")\n",
        "plt.xlabel(\"Week of Year\")\n",
        "plt.ylabel(\"Average Price\")\n",
        "plt.legend(title=\"Gas Type\")\n",
        "\n",
        "# Show the plot\n",
        "plt.show()"
      ]
    },
    {
      "cell_type": "markdown",
      "metadata": {
        "id": "nvsu0HUvcCFF"
      },
      "source": [
        "### Data Visualization Bonus\n",
        "* Represent a map for each gas type of France geo heat maps of price indexes, for example at department level"
      ]
    },
    {
      "cell_type": "markdown",
      "metadata": {
        "id": "DOyBybFycsyG"
      },
      "source": [
        "## Modeling - Forecast next day price\n",
        "* Build a model based on Spark ML to forecast the next day price for gas type in a station\n",
        "(Do not consider using time series models but rely on existing techniques from Spark ML / MLLib such as LInearRegression, RandomForestRegressor\n",
        "* Provide relevant accuracy measures and a relevant dispersion plot between actual and forecast\n"
      ]
    },
    {
      "cell_type": "markdown",
      "metadata": {
        "id": "X0yIcZzLfTTX"
      },
      "source": [
        "### Variables to be used in regression\n",
        "* prix (number; gas price)\n",
        "* latitude_adj and longitude_adj (number; station information)\n",
        "* id_carburant (number; gas type)\n"
      ]
    },
    {
      "cell_type": "markdown",
      "metadata": {
        "id": "Q-qvXZ8yYz-R"
      },
      "source": []
    }
  ],
  "metadata": {
    "colab": {
      "provenance": [],
      "include_colab_link": true
    },
    "kernelspec": {
      "display_name": "Python 3",
      "name": "python3"
    },
    "language_info": {
      "codemirror_mode": {
        "name": "ipython",
        "version": 3
      },
      "file_extension": ".py",
      "mimetype": "text/x-python",
      "name": "python",
      "nbconvert_exporter": "python",
      "pygments_lexer": "ipython3",
      "version": "3.10.0"
    }
  },
  "nbformat": 4,
  "nbformat_minor": 0
}