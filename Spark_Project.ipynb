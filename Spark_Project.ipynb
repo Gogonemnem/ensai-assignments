{
  "cells": [
    {
      "cell_type": "markdown",
      "metadata": {
        "colab_type": "text",
        "id": "view-in-github"
      },
      "source": [
        "<a href=\"https://colab.research.google.com/github/RobDrie/IT-Tools-Spark/blob/main/Spark_Project.ipynb\" target=\"_parent\"><img src=\"https://colab.research.google.com/assets/colab-badge.svg\" alt=\"Open In Colab\"/></a>"
      ]
    },
    {
      "cell_type": "code",
      "execution_count": 1,
      "metadata": {
        "colab": {
          "base_uri": "https://localhost:8080/"
        },
        "id": "2lGDl83gpePX",
        "outputId": "00d45218-541e-43e6-f37d-5fc269011388"
      },
      "outputs": [
        {
          "name": "stdout",
          "output_type": "stream",
          "text": [
            "Collecting pyspark\n",
            "  Downloading pyspark-3.5.0.tar.gz (316.9 MB)\n",
            "\u001b[2K     \u001b[90m━━━━━━━━━━━━━━━━━━━━━━━━━━━━━━━━━━━━━━━━\u001b[0m \u001b[32m316.9/316.9 MB\u001b[0m \u001b[31m2.9 MB/s\u001b[0m eta \u001b[36m0:00:00\u001b[0m\n",
            "\u001b[?25h  Preparing metadata (setup.py) ... \u001b[?25l\u001b[?25hdone\n",
            "Requirement already satisfied: py4j==0.10.9.7 in /usr/local/lib/python3.10/dist-packages (from pyspark) (0.10.9.7)\n",
            "Building wheels for collected packages: pyspark\n",
            "  Building wheel for pyspark (setup.py) ... \u001b[?25l\u001b[?25hdone\n",
            "  Created wheel for pyspark: filename=pyspark-3.5.0-py2.py3-none-any.whl size=317425345 sha256=ed397c86fa737abec567ab0d2d745a34c8a8ad4b6e162bf0e167089419a66684\n",
            "  Stored in directory: /root/.cache/pip/wheels/41/4e/10/c2cf2467f71c678cfc8a6b9ac9241e5e44a01940da8fbb17fc\n",
            "Successfully built pyspark\n",
            "Installing collected packages: pyspark\n",
            "Successfully installed pyspark-3.5.0\n"
          ]
        }
      ],
      "source": [
        "%pip install pyspark"
      ]
    },
    {
      "cell_type": "code",
      "execution_count": 1,
      "metadata": {
        "id": "fs29WSXXqa5b"
      },
      "outputs": [],
      "source": [
        "import pyspark\n",
        "import seaborn as sns\n",
        "from pyspark.sql.functions import year, month, dayofweek, col, split\n",
        "from pyspark.sql.functions import weekofyear\n",
        "import seaborn as sns\n",
        "import matplotlib.pyplot as plt\n",
        "import pandas as pd\n",
        "from pyspark.sql.functions import col, datediff, lit, floor, when\n",
        "from pyspark.sql import functions as F\n",
        "from pyspark.sql.functions import avg\n",
        "from pyspark.sql.functions import desc"
      ]
    },
    {
      "cell_type": "code",
      "execution_count": 2,
      "metadata": {
        "id": "5q9Om-hiqdWT"
      },
      "outputs": [
        {
          "name": "stderr",
          "output_type": "stream",
          "text": [
            "24/01/19 17:26:49 WARN Utils: Your hostname, gonem-rogzephyrusg15ga503qmga503qm resolves to a loopback address: 127.0.1.1; using 10.10.255.105 instead (on interface wlp4s0)\n",
            "24/01/19 17:26:49 WARN Utils: Set SPARK_LOCAL_IP if you need to bind to another address\n",
            "Setting default log level to \"WARN\".\n",
            "To adjust logging level use sc.setLogLevel(newLevel). For SparkR, use setLogLevel(newLevel).\n",
            "24/01/19 17:26:50 WARN NativeCodeLoader: Unable to load native-hadoop library for your platform... using builtin-java classes where applicable\n"
          ]
        }
      ],
      "source": [
        "spark = pyspark.sql.SparkSession.builder.appName('Session1').getOrCreate()"
      ]
    },
    {
      "cell_type": "markdown",
      "metadata": {
        "id": "JfGk4f7rqks4"
      },
      "source": [
        "## Load & Process gas price data with Spark\n",
        "# * Download 2019 to 2023 gas price data\n",
        "* Download gas Stations file & Services file (2022 versions)"
      ]
    },
    {
      "cell_type": "code",
      "execution_count": null,
      "metadata": {
        "colab": {
          "base_uri": "https://localhost:8080/"
        },
        "id": "Om9p_VrVrmEp",
        "outputId": "82a28ce3-e9a9-4d58-8428-a9292f04c8ce"
      },
      "outputs": [
        {
          "name": "stdout",
          "output_type": "stream",
          "text": [
            "Cloning into 'GasPrices'...\n",
            "remote: Enumerating objects: 143, done.\u001b[K\n",
            "remote: Counting objects: 100% (19/19), done.\u001b[K\n",
            "remote: Compressing objects: 100% (19/19), done.\u001b[K\n",
            "remote: Total 143 (delta 3), reused 0 (delta 0), pack-reused 124\u001b[K\n",
            "Receiving objects: 100% (143/143), 619.51 MiB | 36.71 MiB/s, done.\n",
            "Resolving deltas: 100% (33/33), done.\n",
            "Updating files: 100% (40/40), done.\n"
          ]
        }
      ],
      "source": [
        "!git clone https://github.com/rvm-courses/GasPrices"
      ]
    },
    {
      "cell_type": "markdown",
      "metadata": {
        "id": "jX5fGrZR6aQa"
      },
      "source": [
        "## Data Preparation - step 1\n",
        "* Read and merge all gas files\n",
        "* Split date in year, month, week of the year\n",
        "* Prepare latitude & longitude for mapping (divide by the right power of 10)\n",
        "* Make data available as a table in order to be able to use Spark S"
      ]
    },
    {
      "cell_type": "code",
      "execution_count": 3,
      "metadata": {
        "id": "Fc8FMc1fL0RX"
      },
      "outputs": [],
      "source": [
        "def price_download(year_list):\n",
        "  prices_df = None\n",
        "\n",
        "  for year in year_list:\n",
        "    file_path = f'GasPrices/Prix{year}.csv.gz'\n",
        "    current_df = spark.read.option(\"header\", \"False\").option('delimiter', ';').csv(file_path)\n",
        "\n",
        "    if prices_df is None:\n",
        "      prices_df = current_df\n",
        "    else:\n",
        "      prices_df = prices_df.union(current_df)\n",
        "\n",
        "  return prices_df"
      ]
    },
    {
      "cell_type": "code",
      "execution_count": 4,
      "metadata": {
        "id": "nJNqWmleNBMR"
      },
      "outputs": [],
      "source": [
        "# Download price data for 2019 to 2023\n",
        "year_list = ['2019', '2020', '2021', '2022S1', '2022S2']\n",
        "prices_df = price_download(year_list)\n",
        "\n",
        "file_path = 'GasPrices/Stations2022.csv.gz'\n",
        "stations_df = spark.read.option(\"header\", \"False\").option('delimiter', '|').csv(file_path)\n",
        "\n",
        "file_path = 'GasPrices/Services2022.csv.gz'\n",
        "services_df = spark.read.option(\"header\", \"False\").option('delimiter', '|').csv(file_path)"
      ]
    },
    {
      "cell_type": "markdown",
      "metadata": {
        "id": "EP0pHc6f0uHD"
      },
      "source": [
        "### Variable definitions\n",
        "* id_pdv = points of sales\n",
        "* cp = zip code\n",
        "* pop = type of population\n",
        "* latitude\n",
        "* longitude\n",
        "* date\n",
        "* id carburant = gas id\n",
        "* nom carburant = gas label\n",
        "* prix = price in millieuros"
      ]
    },
    {
      "cell_type": "code",
      "execution_count": 5,
      "metadata": {
        "id": "RJRSHaVyNABB"
      },
      "outputs": [],
      "source": [
        "# Set the column headers for price dataframe\n",
        "columns_mapping = {\n",
        "    'prices_df': {'old': prices_df.columns, 'new': ['id_pdv', 'cp', 'pop', 'latitude', 'longitude', 'date', 'id_carburant', 'nom_carburant', 'prix']},\n",
        "    'stations_df': {'old': stations_df.columns, 'new': ['id_pdv', 'cp', 'pop', 'latitude', 'longitude', 'adresse', 'vile']},\n",
        "    'services_df': {'old': services_df.columns, 'new': ['id_pdv', 'cp', 'pop', 'latitude', 'longitude', 'services']}\n",
        "}\n",
        "\n",
        "for df_name, mapping in columns_mapping.items():\n",
        "    for new_name, old_name in zip(mapping['new'], mapping['old']):\n",
        "        globals()[df_name] = globals()[df_name].withColumnRenamed(f'{old_name}', f'{new_name}')"
      ]
    },
    {
      "cell_type": "markdown",
      "metadata": {
        "id": "8Lg1ccY36yMD"
      },
      "source": [
        "### Split prices date in year, month, day, and week of the year"
      ]
    },
    {
      "cell_type": "code",
      "execution_count": 6,
      "metadata": {
        "id": "Pa7_uUFvuD7K"
      },
      "outputs": [],
      "source": [
        "# Split the date column into date and time to extract the dates\n",
        "split_datetime = split(prices_df['date'], 'T')\n",
        "prices_df = prices_df.withColumn('Date', split_datetime.getItem(0))\n",
        "split_date = split(prices_df['Date'], '-')\n",
        "\n",
        "# Add columns year, month, day, and weekofyear\n",
        "prices_df = prices_df.withColumn('Year', split_date.getItem(0))\n",
        "prices_df = prices_df.withColumn('Month', split_date.getItem(1))\n",
        "prices_df = prices_df.withColumn('Day', split_date.getItem(2))\n",
        "prices_df = prices_df.withColumn('WeekOfYear', weekofyear(prices_df['Date']))"
      ]
    },
    {
      "cell_type": "code",
      "execution_count": 7,
      "metadata": {
        "id": "enfHc9erYz-H"
      },
      "outputs": [],
      "source": [
        "# prices_df.filter(\"continuous_week_number =  0  AND id_carburant = 1\").show(5)"
      ]
    },
    {
      "cell_type": "code",
      "execution_count": 8,
      "metadata": {
        "colab": {
          "base_uri": "https://localhost:8080/"
        },
        "id": "nMjW-hGfYz-H",
        "outputId": "e0f0110b-7460-4dba-b58c-878241d0d362"
      },
      "outputs": [
        {
          "name": "stderr",
          "output_type": "stream",
          "text": [
            "                                                                                \r"
          ]
        },
        {
          "name": "stdout",
          "output_type": "stream",
          "text": [
            "+------+---+---+--------+---------+----+------------+-------------+----+----+-----+---+----------+----------------------+\n",
            "|id_pdv| cp|pop|latitude|longitude|Date|id_carburant|nom_carburant|prix|Year|Month|Day|WeekOfYear|continuous_week_number|\n",
            "+------+---+---+--------+---------+----+------------+-------------+----+----+-----+---+----------+----------------------+\n",
            "+------+---+---+--------+---------+----+------------+-------------+----+----+-----+---+----------+----------------------+\n",
            "\n",
            "+-------+-----+---+---------------+---------------+----------+------------+-------------+----+----+-----+---+----------+----------------------+\n",
            "| id_pdv|   cp|pop|       latitude|      longitude|      Date|id_carburant|nom_carburant|prix|Year|Month|Day|WeekOfYear|continuous_week_number|\n",
            "+-------+-----+---+---------------+---------------+----------+------------+-------------+----+----+-----+---+----------+----------------------+\n",
            "|1100007|01100|  R|        4624966|         564134|2019-01-01|           3|          E85| 749|2019|   01| 01|         1|                     1|\n",
            "|1100007|01100|  R|        4624966|         564134|2019-01-02|           3|          E85| 749|2019|   01| 02|         1|                     1|\n",
            "|1100007|01100|  R|        4624966|         564134|2019-01-03|           3|          E85| 749|2019|   01| 03|         1|                     1|\n",
            "|1100007|01100|  R|        4624966|         564134|2019-01-04|           3|          E85| 749|2019|   01| 04|         1|                     1|\n",
            "|1100007|01100|  R|        4624966|         564134|2019-01-05|           3|          E85| 749|2019|   01| 05|         1|                     1|\n",
            "|1100007|01100|  R|        4624966|         564134|2019-01-06|           3|          E85| 749|2019|   01| 06|         1|                     1|\n",
            "|1120004|01120|  R|        4585300|         505900|2019-01-04|           3|          E85| 599|2019|   01| 04|         1|                     1|\n",
            "|1210003|01210|  R|        4624400|         609500|2019-01-02|           3|          E85| 599|2019|   01| 02|         1|                     1|\n",
            "|1210003|01210|  R|        4624400|         609500|2019-01-03|           3|          E85| 608|2019|   01| 03|         1|                     1|\n",
            "|1250005|01250|  A|4620355.8237727|529588.28488323|2019-01-01|           3|          E85| 819|2019|   01| 01|         1|                     1|\n",
            "|1250005|01250|  A|4620355.8237727|529588.28488323|2019-01-02|           3|          E85| 819|2019|   01| 02|         1|                     1|\n",
            "|1250005|01250|  A|4620355.8237727|529588.28488323|2019-01-03|           3|          E85| 819|2019|   01| 03|         1|                     1|\n",
            "|1250005|01250|  A|4620355.8237727|529588.28488323|2019-01-04|           3|          E85| 819|2019|   01| 04|         1|                     1|\n",
            "|1250005|01250|  A|4620355.8237727|529588.28488323|2019-01-05|           3|          E85| 819|2019|   01| 05|         1|                     1|\n",
            "|1250005|01250|  A|4620355.8237727|529588.28488323|2019-01-06|           3|          E85| 819|2019|   01| 06|         1|                     1|\n",
            "+-------+-----+---+---------------+---------------+----------+------------+-------------+----+----+-----+---+----------+----------------------+\n",
            "only showing top 15 rows\n",
            "\n",
            "+-------+-----+---+---------------+---------------+----------+------------+-------------+----+----+-----+---+----------+----------------------+\n",
            "| id_pdv|   cp|pop|       latitude|      longitude|      Date|id_carburant|nom_carburant|prix|Year|Month|Day|WeekOfYear|continuous_week_number|\n",
            "+-------+-----+---+---------------+---------------+----------+------------+-------------+----+----+-----+---+----------+----------------------+\n",
            "|1100007|01100|  R|        4624966|         564134|2019-12-30|           3|          E85| 769|2019|   12| 30|         1|                    53|\n",
            "|1100007|01100|  R|        4624966|         564134|2019-12-31|           3|          E85| 769|2019|   12| 31|         1|                    53|\n",
            "|1120008|01120|  A|  4584715.18044|  507404.780227|2019-12-30|           3|          E85| 829|2019|   12| 30|         1|                    53|\n",
            "|1120008|01120|  A|  4584715.18044|  507404.780227|2019-12-31|           3|          E85| 829|2019|   12| 31|         1|                    53|\n",
            "|1150002|01150|  R|        4583900|         527800|2019-12-30|           3|          E85| 669|2019|   12| 30|         1|                    53|\n",
            "|1210003|01210|  R|        4624400|         609500|2019-12-30|           3|          E85| 608|2019|   12| 30|         1|                    53|\n",
            "|1250005|01250|  A|4620355.8237727|529588.28488323|2019-12-30|           3|          E85| 829|2019|   12| 30|         1|                    53|\n",
            "|1250005|01250|  A|4620355.8237727|529588.28488323|2019-12-31|           3|          E85| 829|2019|   12| 31|         1|                    53|\n",
            "|1430005|01430|  A|        4612370|         549956|2019-12-30|           3|          E85| 819|2019|   12| 30|         1|                    53|\n",
            "|1430005|01430|  A|        4612370|         549956|2019-12-31|           3|          E85| 819|2019|   12| 31|         1|                    53|\n",
            "|1500007|01500|  R|        4597200|         533800|2019-12-30|           3|          E85| 599|2019|   12| 30|         1|                    53|\n",
            "|1500007|01500|  R|        4597200|         533800|2019-12-31|           3|          E85| 599|2019|   12| 31|         1|                    53|\n",
            "|2200013|02200|  R|  4938135.44743|  330178.391501|2019-12-30|           3|          E85| 669|2019|   12| 30|         1|                    53|\n",
            "|2200013|02200|  R|  4938135.44743|  330178.391501|2019-12-31|           3|          E85| 669|2019|   12| 31|         1|                    53|\n",
            "|2200014|02200|  R|        4936800|         332900|2019-12-30|           3|          E85| 669|2019|   12| 30|         1|                    53|\n",
            "+-------+-----+---+---------------+---------------+----------+------------+-------------+----+----+-----+---+----------+----------------------+\n",
            "only showing top 15 rows\n",
            "\n"
          ]
        },
        {
          "name": "stderr",
          "output_type": "stream",
          "text": [
            "                                                                                \r"
          ]
        },
        {
          "name": "stdout",
          "output_type": "stream",
          "text": [
            "+-------+-----+---+-------------+-------------+----------+------------+-------------+----+----+-----+---+----------+----------------------+\n",
            "| id_pdv|   cp|pop|     latitude|    longitude|      Date|id_carburant|nom_carburant|prix|Year|Month|Day|WeekOfYear|continuous_week_number|\n",
            "+-------+-----+---+-------------+-------------+----------+------------+-------------+----+----+-----+---+----------+----------------------+\n",
            "|1000012|01000|  R|      4620100|       520000|2021-12-20|           3|          E85| 699|2021|   12| 20|        51|                   156|\n",
            "|1000012|01000|  R|      4620100|       520000|2021-12-21|           3|          E85| 699|2021|   12| 21|        51|                   156|\n",
            "|1000012|01000|  R|      4620100|       520000|2021-12-22|           3|          E85| 699|2021|   12| 22|        51|                   156|\n",
            "|1000012|01000|  R|      4620100|       520000|2021-12-23|           3|          E85| 699|2021|   12| 23|        51|                   156|\n",
            "|1000012|01000|  R|      4620100|       520000|2021-12-24|           3|          E85| 699|2021|   12| 24|        51|                   156|\n",
            "|1000012|01000|  R|      4620100|       520000|2021-12-25|           3|          E85| 699|2021|   12| 25|        51|                   156|\n",
            "|1100007|01100|  R|      4624966|       564134|2021-12-20|           3|          E85| 729|2021|   12| 20|        51|                   156|\n",
            "|1100007|01100|  R|      4624966|       564134|2021-12-21|           3|          E85| 729|2021|   12| 21|        51|                   156|\n",
            "|1100007|01100|  R|      4624966|       564134|2021-12-22|           3|          E85| 729|2021|   12| 22|        51|                   156|\n",
            "|1100007|01100|  R|      4624966|       564134|2021-12-23|           3|          E85| 729|2021|   12| 23|        51|                   156|\n",
            "|1100007|01100|  R|      4624966|       564134|2021-12-24|           3|          E85| 729|2021|   12| 24|        51|                   156|\n",
            "|1100007|01100|  R|      4624966|       564134|2021-12-25|           3|          E85| 729|2021|   12| 25|        51|                   156|\n",
            "|1120005|01120|  R|      4584700|       504800|2021-12-21|           3|          E85| 659|2021|   12| 21|        51|                   156|\n",
            "|1120008|01120|  A|4584715.18044|507404.780227|2021-12-20|           3|          E85| 839|2021|   12| 20|        51|                   156|\n",
            "|1120008|01120|  A|4584715.18044|507404.780227|2021-12-21|           3|          E85| 839|2021|   12| 21|        51|                   156|\n",
            "+-------+-----+---+-------------+-------------+----------+------------+-------------+----+----+-----+---+----------+----------------------+\n",
            "only showing top 15 rows\n",
            "\n"
          ]
        },
        {
          "name": "stderr",
          "output_type": "stream",
          "text": [
            "[Stage 14:===========================================>              (3 + 1) / 4]\r"
          ]
        },
        {
          "name": "stdout",
          "output_type": "stream",
          "text": [
            "+-------+-----+---+-------------+-------------+----------+------------+-------------+----+----+-----+---+----------+----------------------+\n",
            "| id_pdv|   cp|pop|     latitude|    longitude|      Date|id_carburant|nom_carburant|prix|Year|Month|Day|WeekOfYear|continuous_week_number|\n",
            "+-------+-----+---+-------------+-------------+----------+------------+-------------+----+----+-----+---+----------+----------------------+\n",
            "|1000012|01000|  R|      4620100|       520000|2021-12-27|           3|          E85| 699|2021|   12| 27|        52|                   157|\n",
            "|1000012|01000|  R|      4620100|       520000|2021-12-28|           3|          E85| 699|2021|   12| 28|        52|                   157|\n",
            "|1000012|01000|  R|      4620100|       520000|2021-12-29|           3|          E85| 699|2021|   12| 29|        52|                   157|\n",
            "|1000012|01000|  R|      4620100|       520000|2021-12-30|           3|          E85| 719|2021|   12| 30|        52|                   157|\n",
            "|1000012|01000|  R|      4620100|       520000|2021-12-31|           3|          E85| 719|2021|   12| 31|        52|                   157|\n",
            "|1100007|01100|  R|      4624966|       564134|2021-12-27|           3|          E85| 729|2021|   12| 27|        52|                   157|\n",
            "|1100007|01100|  R|      4624966|       564134|2021-12-28|           3|          E85| 729|2021|   12| 28|        52|                   157|\n",
            "|1100007|01100|  R|      4624966|       564134|2021-12-29|           3|          E85| 729|2021|   12| 29|        52|                   157|\n",
            "|1100007|01100|  R|      4624966|       564134|2021-12-30|           3|          E85| 729|2021|   12| 30|        52|                   157|\n",
            "|1100007|01100|  R|      4624966|       564134|2021-12-31|           3|          E85| 729|2021|   12| 31|        52|                   157|\n",
            "|1120005|01120|  R|      4584700|       504800|2021-12-29|           3|          E85| 659|2021|   12| 29|        52|                   157|\n",
            "|1120008|01120|  A|4584715.18044|507404.780227|2021-12-27|           3|          E85| 839|2021|   12| 27|        52|                   157|\n",
            "|1120008|01120|  A|4584715.18044|507404.780227|2021-12-28|           3|          E85| 839|2021|   12| 28|        52|                   157|\n",
            "|1120008|01120|  A|4584715.18044|507404.780227|2021-12-29|           3|          E85| 839|2021|   12| 29|        52|                   157|\n",
            "|1120008|01120|  A|4584715.18044|507404.780227|2021-12-30|           3|          E85| 839|2021|   12| 30|        52|                   157|\n",
            "+-------+-----+---+-------------+-------------+----------+------------+-------------+----+----+-----+---+----------+----------------------+\n",
            "only showing top 15 rows\n",
            "\n"
          ]
        },
        {
          "name": "stderr",
          "output_type": "stream",
          "text": [
            "                                                                                \r"
          ]
        }
      ],
      "source": [
        "from pyspark.sql.functions import expr, to_date, year as year_col, date_sub\n",
        "\n",
        "def calculate_continuous_week_number(df, start_date, date_column, start_week_number=1):\n",
        "    # Convert the date column to a date type\n",
        "    df = df.withColumn(date_column, to_date(col(date_column)))\n",
        "    start_date = to_date(lit(start_date))\n",
        "    start_date = date_sub(start_date, dayofweek(start_date) - 2)\n",
        "\n",
        "    # Calculate the difference in days and then convert to weeks\n",
        "    days_diff = datediff(df[date_column], start_date)\n",
        "    weeks_diff = (days_diff / 7).cast('int')\n",
        "\n",
        "    return df.withColumn(\"continuous_week_number\", weeks_diff + 1)\n",
        "\n",
        "start_date = \"2019-01-01\"\n",
        "prices_df = calculate_continuous_week_number(prices_df, start_date, \"Date\")\n",
        "prices_df.filter(\"continuous_week_number =  0  AND id_carburant = 3\").show(15)\n",
        "prices_df.filter(\"continuous_week_number =  1  AND id_carburant = 3\").show(15)\n",
        "prices_df.filter(\"continuous_week_number =  53  AND id_carburant = 3\").show(15)\n",
        "prices_df.filter(\"continuous_week_number =  156 AND id_carburant = 3\").show(15)\n",
        "prices_df.filter(\"continuous_week_number =  157 AND id_carburant = 3\").show(15)"
      ]
    },
    {
      "cell_type": "code",
      "execution_count": 9,
      "metadata": {
        "colab": {
          "base_uri": "https://localhost:8080/"
        },
        "id": "tPOUvBm2bqjn",
        "outputId": "a0e8064d-589b-42d6-b770-6eb7508455b5"
      },
      "outputs": [
        {
          "name": "stderr",
          "output_type": "stream",
          "text": [
            "[Stage 16:===========================================>              (3 + 1) / 4]\r"
          ]
        },
        {
          "name": "stdout",
          "output_type": "stream",
          "text": [
            "+-------+-----+---+-------------+-------------+----------+------------+-------------+-----+----+-----+---+----------+----------------------+\n",
            "| id_pdv|   cp|pop|     latitude|    longitude|      Date|id_carburant|nom_carburant| prix|Year|Month|Day|WeekOfYear|continuous_week_number|\n",
            "+-------+-----+---+-------------+-------------+----------+------------+-------------+-----+----+-----+---+----------+----------------------+\n",
            "|1000012|01000|  R|      4620100|       520000|2022-01-03|           3|          E85|0.739|2022|   01| 03|         1|                   158|\n",
            "|1000012|01000|  R|      4620100|       520000|2022-01-04|           3|          E85|0.739|2022|   01| 04|         1|                   158|\n",
            "|1000012|01000|  R|      4620100|       520000|2022-01-05|           3|          E85|0.739|2022|   01| 05|         1|                   158|\n",
            "|1000012|01000|  R|      4620100|       520000|2022-01-06|           3|          E85|0.739|2022|   01| 06|         1|                   158|\n",
            "|1000012|01000|  R|      4620100|       520000|2022-01-07|           3|          E85|0.739|2022|   01| 07|         1|                   158|\n",
            "|1000012|01000|  R|      4620100|       520000|2022-01-08|           3|          E85|0.749|2022|   01| 08|         1|                   158|\n",
            "|1000012|01000|  R|      4620100|       520000|2022-01-09|           3|          E85|0.749|2022|   01| 09|         1|                   158|\n",
            "|1120004|01120|  R|      4585300|       505900|2022-01-03|           3|          E85|0.699|2022|   01| 03|         1|                   158|\n",
            "|1120004|01120|  R|      4585300|       505900|2022-01-06|           3|          E85|0.749|2022|   01| 06|         1|                   158|\n",
            "|1120005|01120|  R|      4584700|       504800|2022-01-05|           3|          E85|0.749|2022|   01| 05|         1|                   158|\n",
            "|1120008|01120|  A|4584715.18044|507404.780227|2022-01-03|           3|          E85|0.859|2022|   01| 03|         1|                   158|\n",
            "|1120008|01120|  A|4584715.18044|507404.780227|2022-01-04|           3|          E85|0.859|2022|   01| 04|         1|                   158|\n",
            "|1120008|01120|  A|4584715.18044|507404.780227|2022-01-05|           3|          E85|0.859|2022|   01| 05|         1|                   158|\n",
            "|1120008|01120|  A|4584715.18044|507404.780227|2022-01-06|           3|          E85|0.859|2022|   01| 06|         1|                   158|\n",
            "|1120008|01120|  A|4584715.18044|507404.780227|2022-01-07|           3|          E85|0.859|2022|   01| 07|         1|                   158|\n",
            "+-------+-----+---+-------------+-------------+----------+------------+-------------+-----+----+-----+---+----------+----------------------+\n",
            "only showing top 15 rows\n",
            "\n"
          ]
        },
        {
          "name": "stderr",
          "output_type": "stream",
          "text": [
            "                                                                                \r"
          ]
        }
      ],
      "source": [
        "prices_df.filter(\"continuous_week_number =  158 AND id_carburant = 3\").show(15)"
      ]
    },
    {
      "cell_type": "code",
      "execution_count": 10,
      "metadata": {
        "id": "yXogSO3Glfz3"
      },
      "outputs": [],
      "source": [
        "# # Filter out the Null observations\n",
        "# prices_df2 =  prices_df.withColumn('Date2', col(\"date\").cast(\"date\"))\n",
        "# prices_df2 = prices_df2.filter(col(\"Date2\").isNotNull())\n",
        "\n",
        "# # Create reference for first week\n",
        "# reference_date = spark.createDataFrame([(\"2019-01-01\",)], [\"reference_date\"])\n",
        "# reference_date = reference_date.withColumn(\"reference_date\", col(\"reference_date\").cast(\"date\"))\n",
        "# reference_week_number = lit(1)\n",
        "\n",
        "# # Calculate the week numbers based on the reference\n",
        "# prices_df2 = prices_df2.crossJoin(reference_date)\n",
        "# df = prices_df2.withColumn(\"continuous_week_number\", floor(datediff(col(\"date\"), col(\"reference_date\")) / 7) + reference_week_number)\n",
        "# df.filter(\"continuous_week_number =  53 AND id_carburant = 1\").show(5)\n",
        "# df.filter(\"continuous_week_number =  157 AND id_carburant = 1\").show(5)\n"
      ]
    },
    {
      "cell_type": "code",
      "execution_count": 11,
      "metadata": {
        "id": "RnuQ4Yoo1qM-"
      },
      "outputs": [],
      "source": [
        "# from pyspark.sql.window import Window\n",
        "# from pyspark.sql import functions as F\n",
        "# window_spec = Window.orderBy(\"Date\")\n",
        "\n",
        "# # Calculate the week index using the dense rank function\n",
        "# df = prices_df2.withColumn(\"Week_Index\", F.dense_rank().over(window_spec) - 1)"
      ]
    },
    {
      "cell_type": "code",
      "execution_count": 12,
      "metadata": {
        "id": "oR-01OkzkWsg"
      },
      "outputs": [],
      "source": [
        "# from pyspark.sql.functions import col, unix_timestamp, from_unixtime, weekofyear, datediff\n",
        "# df = prices_df.withColumn(\"date\", col(\"date\").cast(\"date\"))\n",
        "\n",
        "# # Convert the 'date' column to DateType\n",
        "# df = df.withColumn(\"date\", col(\"date\").cast(\"date\"))\n",
        "\n",
        "# # Find the minimum date in the DataFrame\n",
        "# min_date = df.agg({\"date\": \"min\"}).collect()[0][0]\n",
        "\n",
        "# # Calculate the difference in days from the minimum date using datediff\n",
        "# df = df.withColumn(\"WeekOfYear\", weekofyear(datediff(col(\"date\"), min_date.cast(\"date\"))) + 1)"
      ]
    },
    {
      "cell_type": "markdown",
      "metadata": {
        "id": "wvw5gmzL65oN"
      },
      "source": [
        "### Prepare latitude & longitude for mapping (Divide by the right power of 10) to map the latitude & longitude on a [0,1] scale, we identity two different constants"
      ]
    },
    {
      "cell_type": "code",
      "execution_count": 13,
      "metadata": {
        "id": "H8F6HjHh3Iu4"
      },
      "outputs": [],
      "source": [
        "# prices_df.printSchema()\n",
        "# services_df.printSchema()\n",
        "# stations_df.printSchema()\n",
        "from pyspark.sql.types import DoubleType\n",
        "\n",
        "prices_df = prices_df.withColumn(\"latitude_int\", col(\"latitude\").cast(\"Integer\"))\n",
        "prices_df = prices_df.withColumn(\"longitude_int\", col(\"longitude\").cast(\"Integer\"))\n",
        "prices_df = prices_df.withColumn(\"prix_int\", col(\"prix\").cast(DoubleType()))\n",
        "\n",
        "services_df = services_df.withColumn(\"latitude_int\", col(\"latitude\").cast(\"Integer\"))\n",
        "services_df = services_df.withColumn(\"longitude_int\", col(\"longitude\").cast(\"Integer\"))\n",
        "\n",
        "stations_df = services_df.withColumn(\"latitude_int\", col(\"latitude\").cast(\"Integer\"))\n",
        "stations_df = services_df.withColumn(\"longitude_int\", col(\"longitude\").cast(\"Integer\"))\n",
        "\n",
        "# prices_df.printSchema()\n",
        "# services_df.printSchema()\n",
        "# stations_df.printSchema()"
      ]
    },
    {
      "cell_type": "code",
      "execution_count": 14,
      "metadata": {
        "id": "VceUXLASwuNf"
      },
      "outputs": [],
      "source": [
        "division_constant_latitude = 10**7\n",
        "division_constant_longitude = 10**6\n",
        "\n",
        "dataframes = [prices_df, stations_df, services_df]\n",
        "\n",
        "for i in range(len(dataframes)):\n",
        "    dataframes[i] = dataframes[i].withColumn('latitude_adj', col('latitude_int') / division_constant_latitude)\n",
        "    dataframes[i] = dataframes[i].withColumn('longitude_adj', col('longitude_int') / division_constant_longitude)\n",
        "\n",
        "prices_df, stations_df, services_df = dataframes"
      ]
    },
    {
      "cell_type": "code",
      "execution_count": 15,
      "metadata": {
        "colab": {
          "base_uri": "https://localhost:8080/"
        },
        "id": "wmBPxctYzxK5",
        "outputId": "971bad6d-1806-4073-a9a4-b618dad469c2"
      },
      "outputs": [
        {
          "name": "stdout",
          "output_type": "stream",
          "text": [
            "+-------+-----+---+-------------+-------------+----+------------+-------------+----+----+-----+----+----------+----------------------+------------+-------------+--------+------------+-------------+\n",
            "| id_pdv|   cp|pop|     latitude|    longitude|Date|id_carburant|nom_carburant|prix|Year|Month| Day|WeekOfYear|continuous_week_number|latitude_int|longitude_int|prix_int|latitude_adj|longitude_adj|\n",
            "+-------+-----+---+-------------+-------------+----+------------+-------------+----+----+-----+----+----------+----------------------+------------+-------------+--------+------------+-------------+\n",
            "|1000005|01000|  R|4620093.59235|519942.024022|NULL|        NULL|         NULL|NULL|NULL| NULL|NULL|      NULL|                  NULL|     4620093|       519942|    NULL|   0.4620093|     0.519942|\n",
            "|1000006|01000|  R|      4620754|       523758|NULL|        NULL|         NULL|NULL|NULL| NULL|NULL|      NULL|                  NULL|     4620754|       523758|    NULL|   0.4620754|     0.523758|\n",
            "|1000010|01000|  R|4619851.83794|524350.637881|NULL|        NULL|         NULL|NULL|NULL| NULL|NULL|      NULL|                  NULL|     4619851|       524350|    NULL|   0.4619851|      0.52435|\n",
            "|1100002|01100|  R|      4625000|       564400|NULL|        NULL|         NULL|NULL|NULL| NULL|NULL|      NULL|                  NULL|     4625000|       564400|    NULL|      0.4625|       0.5644|\n",
            "|1100003|01100|  R|      4624966|       564134|NULL|        NULL|         NULL|NULL|NULL| NULL|NULL|      NULL|                  NULL|     4624966|       564134|    NULL|   0.4624966|     0.564134|\n",
            "|1120002|01120|  A|4584715.18044|507404.780227|NULL|        NULL|         NULL|NULL|NULL| NULL|NULL|      NULL|                  NULL|     4584715|       507404|    NULL|   0.4584715|     0.507404|\n",
            "|1120003|01120|  A|      4585103|       505543|NULL|        NULL|         NULL|NULL|NULL| NULL|NULL|      NULL|                  NULL|     4585103|       505543|    NULL|   0.4585103|     0.505543|\n",
            "|1130001|01130|  R|      4615785|       560352|NULL|        NULL|         NULL|NULL|NULL| NULL|NULL|      NULL|                  NULL|     4615785|       560352|    NULL|   0.4615785|     0.560352|\n",
            "|1160001|01160|  R|4605335.06156|533741.036717|NULL|        NULL|         NULL|NULL|NULL| NULL|NULL|      NULL|                  NULL|     4605335|       533741|    NULL|   0.4605335|     0.533741|\n",
            "|1200004|01200|  R|         NULL|         NULL|NULL|        NULL|         NULL|NULL|NULL| NULL|NULL|      NULL|                  NULL|        NULL|         NULL|    NULL|        NULL|         NULL|\n",
            "+-------+-----+---+-------------+-------------+----+------------+-------------+----+----+-----+----+----------+----------------------+------------+-------------+--------+------------+-------------+\n",
            "only showing top 10 rows\n",
            "\n"
          ]
        }
      ],
      "source": [
        "# Check if all columns contain values or some have NULL (missing) value\n",
        "rows_null = prices_df.where(\n",
        "    col(\"prix_int\").isNull() |\n",
        "    col(\"id_carburant\").isNull() |\n",
        "    col(\"Year\").isNull()\n",
        ")\n",
        "rows_null.show(10)"
      ]
    },
    {
      "cell_type": "code",
      "execution_count": 16,
      "metadata": {
        "id": "C4VF4S64_1rd"
      },
      "outputs": [],
      "source": [
        "# Delete missing values\n",
        "prices_df_without_null = prices_df.na.drop()"
      ]
    },
    {
      "cell_type": "code",
      "execution_count": 17,
      "metadata": {
        "colab": {
          "base_uri": "https://localhost:8080/"
        },
        "id": "eMEnXW-UrVNO",
        "outputId": "0e7accf3-aa3f-466b-c562-c52bc266e52f"
      },
      "outputs": [
        {
          "name": "stderr",
          "output_type": "stream",
          "text": [
            "[Stage 18:==============================================>           (4 + 1) / 5]\r"
          ]
        },
        {
          "name": "stdout",
          "output_type": "stream",
          "text": [
            "+--------+-----+---+---------------+----------------+----------+------------+-------------+-----+----+-----+---+----------+----------------------+------------+-------------+--------+------------+-------------+--------+\n",
            "|  id_pdv|   cp|pop|       latitude|       longitude|      Date|id_carburant|nom_carburant| prix|Year|Month|Day|WeekOfYear|continuous_week_number|latitude_int|longitude_int|prix_int|latitude_adj|longitude_adj|prix_adj|\n",
            "+--------+-----+---+---------------+----------------+----------+------------+-------------+-----+----+-----+---+----------+----------------------+------------+-------------+--------+------------+-------------+--------+\n",
            "|31140008|31140|  R|        4369000|          145200|2022-10-14|           1|       Gazole|9.999|2022|   10| 14|        41|                   198|     4369000|       145200|   9.999|      0.4369|       0.1452|   9.999|\n",
            "| 5240001|05240|  R|        4494700|          655900|2022-03-05|           1|       Gazole|9.999|2022|   03| 05|         9|                   166|     4494700|       655900|   9.999|     0.44947|       0.6559|   9.999|\n",
            "|25800002|25800|  R|        4714800|          633500|2022-07-25|           2|         SP95|9.999|2022|   07| 25|        30|                   187|     4714800|       633500|   9.999|     0.47148|       0.6335|   9.999|\n",
            "| 5240001|05240|  R|        4494700|          655900|2022-06-24|           1|       Gazole|9.999|2022|   06| 24|        25|                   182|     4494700|       655900|   9.999|     0.44947|       0.6559|   9.999|\n",
            "|25800002|25800|  R|        4714800|          633500|2022-07-25|           2|         SP95|9.999|2022|   07| 25|        30|                   187|     4714800|       633500|   9.999|     0.47148|       0.6335|   9.999|\n",
            "| 5240001|05240|  R|        4494700|          655900|2022-03-05|           5|          E10|9.999|2022|   03| 05|         9|                   166|     4494700|       655900|   9.999|     0.44947|       0.6559|   9.999|\n",
            "|25800002|25800|  R|        4714800|          633500|2022-07-26|           2|         SP95|9.999|2022|   07| 26|        30|                   187|     4714800|       633500|   9.999|     0.47148|       0.6335|   9.999|\n",
            "| 5240001|05240|  R|        4494700|          655900|2022-06-24|           5|          E10|9.999|2022|   06| 24|        25|                   182|     4494700|       655900|   9.999|     0.44947|       0.6559|   9.999|\n",
            "|25800002|25800|  R|        4714800|          633500|2022-07-26|           2|         SP95|9.999|2022|   07| 26|        30|                   187|     4714800|       633500|   9.999|     0.47148|       0.6335|   9.999|\n",
            "| 5240001|05240|  R|        4494700|          655900|2022-03-05|           6|         SP98|9.999|2022|   03| 05|         9|                   166|     4494700|       655900|   9.999|     0.44947|       0.6559|   9.999|\n",
            "|25800002|25800|  R|        4714800|          633500|2022-07-26|           2|         SP95|9.999|2022|   07| 26|        30|                   187|     4714800|       633500|   9.999|     0.47148|       0.6335|   9.999|\n",
            "| 5240001|05240|  R|        4494700|          655900|2022-06-24|           6|         SP98|9.999|2022|   06| 24|        25|                   182|     4494700|       655900|   9.999|     0.44947|       0.6559|   9.999|\n",
            "|25800002|25800|  R|        4714800|          633500|2022-07-25|           5|          E10|9.999|2022|   07| 25|        30|                   187|     4714800|       633500|   9.999|     0.47148|       0.6335|   9.999|\n",
            "|44720005|44720|  R|4738623.2393331|-220349.03965864|2022-04-26|           6|         SP98|9.999|2022|   04| 26|        17|                   174|     4738623|      -220349|   9.999|   0.4738623|    -0.220349|   9.999|\n",
            "|25800002|25800|  R|        4714800|          633500|2022-07-25|           5|          E10|9.999|2022|   07| 25|        30|                   187|     4714800|       633500|   9.999|     0.47148|       0.6335|   9.999|\n",
            "|70004001|70004|  R|        4763500|          615700|2022-03-30|           1|       Gazole|9.999|2022|   03| 30|        13|                   170|     4763500|       615700|   9.999|     0.47635|       0.6157|   9.999|\n",
            "|25800002|25800|  R|        4714800|          633500|2022-07-26|           5|          E10|9.999|2022|   07| 26|        30|                   187|     4714800|       633500|   9.999|     0.47148|       0.6335|   9.999|\n",
            "|25800002|25800|  R|        4714800|          633500|2022-07-26|           5|          E10|9.999|2022|   07| 26|        30|                   187|     4714800|       633500|   9.999|     0.47148|       0.6335|   9.999|\n",
            "|25800002|25800|  R|        4714800|          633500|2022-07-26|           5|          E10|9.999|2022|   07| 26|        30|                   187|     4714800|       633500|   9.999|     0.47148|       0.6335|   9.999|\n",
            "| 2000005|02000|  R|        4956900|          364600|2022-10-11|           1|       Gazole|9.999|2022|   10| 11|        41|                   198|     4956900|       364600|   9.999|     0.49569|       0.3646|   9.999|\n",
            "+--------+-----+---+---------------+----------------+----------+------------+-------------+-----+----+-----+---+----------+----------------------+------------+-------------+--------+------------+-------------+--------+\n",
            "only showing top 20 rows\n",
            "\n"
          ]
        },
        {
          "name": "stderr",
          "output_type": "stream",
          "text": [
            "                                                                                \r"
          ]
        }
      ],
      "source": [
        "# Prices in the dataframes 2019-2021 are given in mili-euros, whereas the prices\n",
        "# in the dataframes 2022S1 and 2022S2 are given in euros. Divide by 1000 to get\n",
        "# the same scale\n",
        "\n",
        "division_constant_prix = 1000\n",
        "condition = (col(\"Year\") != \"2022\")\n",
        "prices_df_without_null_adj = prices_df_without_null.withColumn('prix_adj', when(condition, col('prix_int') / division_constant_prix).otherwise(col('prix_int')))\n",
        "\n",
        "ordered_df = prices_df_without_null_adj.orderBy(desc(\"prix_adj\"))\n",
        "ordered_df.show()"
      ]
    },
    {
      "cell_type": "code",
      "execution_count": 51,
      "metadata": {},
      "outputs": [],
      "source": [
        "from pyspark.sql import Window\n",
        "from pyspark.sql.functions import lag\n",
        "\n",
        "\n",
        "# Assume df is your DataFrame and it has columns 'latitude', 'longitude', 'population', 'price' and 'time'\n",
        "window = Window.partitionBy('id_pdv', 'nom_carburant').orderBy('Date')\n",
        "prices_df_without_null_adj = prices_df_without_null_adj.withColumn('lagged_price', lag('prix_adj').over(window))"
      ]
    },
    {
      "cell_type": "code",
      "execution_count": 52,
      "metadata": {},
      "outputs": [
        {
          "name": "stderr",
          "output_type": "stream",
          "text": [
            "[Stage 76:==============================================>           (4 + 1) / 5]\r"
          ]
        },
        {
          "name": "stdout",
          "output_type": "stream",
          "text": [
            "+-------+-----+---+--------+---------+----------+------------+-------------+----+----+-----+---+----------+----------------------+------------+-------------+--------+------------+-------------+--------+------------+\n",
            "| id_pdv|   cp|pop|latitude|longitude|      Date|id_carburant|nom_carburant|prix|Year|Month|Day|WeekOfYear|continuous_week_number|latitude_int|longitude_int|prix_int|latitude_adj|longitude_adj|prix_adj|lagged_price|\n",
            "+-------+-----+---+--------+---------+----------+------------+-------------+----+----+-----+---+----------+----------------------+------------+-------------+--------+------------+-------------+--------+------------+\n",
            "|1000004|01000|  R| 4618800|   524500|2022-11-18|           3|          E85|1.76|2022|   11| 18|        46|                   203|     4618800|       524500|    1.76|     0.46188|       0.5245|    1.76|        NULL|\n",
            "|1000007|01000|  R| 4620105|   524891|2019-01-03|           5|          E10|1320|2019|   01| 03|         1|                     1|     4620105|       524891|  1320.0|   0.4620105|     0.524891|    1.32|        NULL|\n",
            "|1000007|01000|  R| 4620105|   524891|2019-01-08|           5|          E10|1357|2019|   01| 08|         2|                     2|     4620105|       524891|  1357.0|   0.4620105|     0.524891|   1.357|        1.32|\n",
            "|1000007|01000|  R| 4620105|   524891|2019-01-15|           5|          E10|1374|2019|   01| 15|         3|                     3|     4620105|       524891|  1374.0|   0.4620105|     0.524891|   1.374|       1.357|\n",
            "|1000007|01000|  R| 4620105|   524891|2019-01-16|           5|          E10|1379|2019|   01| 16|         3|                     3|     4620105|       524891|  1379.0|   0.4620105|     0.524891|   1.379|       1.374|\n",
            "+-------+-----+---+--------+---------+----------+------------+-------------+----+----+-----+---+----------+----------------------+------------+-------------+--------+------------+-------------+--------+------------+\n",
            "only showing top 5 rows\n",
            "\n"
          ]
        },
        {
          "name": "stderr",
          "output_type": "stream",
          "text": [
            "                                                                                \r"
          ]
        }
      ],
      "source": [
        "prices_df_without_null_adj.show(5)"
      ]
    },
    {
      "cell_type": "markdown",
      "metadata": {
        "id": "Tr22TmKb7HGp"
      },
      "source": [
        "### Make data available as a table in order to be able to use Spark SQL"
      ]
    },
    {
      "cell_type": "code",
      "execution_count": 18,
      "metadata": {
        "id": "jJ4uIeAeze70"
      },
      "outputs": [],
      "source": [
        "prices_df_without_null_adj.createOrReplaceTempView(\"Gas_prices\")\n",
        "stations_df.createOrReplaceTempView(\"Stations\")\n",
        "services_df.createOrReplaceTempView(\"Services\")"
      ]
    },
    {
      "cell_type": "markdown",
      "metadata": {
        "id": "lPOsyPpO7LbA"
      },
      "source": [
        "### Through basic statistics, consider which gas types have some interest for the rest of the project\n"
      ]
    },
    {
      "cell_type": "code",
      "execution_count": 19,
      "metadata": {
        "id": "36SplyRi1iXv"
      },
      "outputs": [],
      "source": [
        "# # Idenitify the different gas types\n",
        "# spark.sql(\"\"\"\n",
        "#   SELECT DISTINCT nom_carburant\n",
        "#   FROM Gas_prices\n",
        "# \"\"\").show()"
      ]
    },
    {
      "cell_type": "code",
      "execution_count": 20,
      "metadata": {
        "id": "-jYJ9WWchN1m"
      },
      "outputs": [],
      "source": [
        "# # Identify the different gas types\n",
        "# spark.sql(\"\"\"\n",
        "#   SELECT DISTINCT nom_carburant\n",
        "#   FROM Gas_prices\n",
        "#   WHERE nom_carburant IS NULL\n",
        "# \"\"\").count()"
      ]
    },
    {
      "cell_type": "code",
      "execution_count": 21,
      "metadata": {
        "id": "_0o4L2Eln9f_"
      },
      "outputs": [],
      "source": [
        "# spark.sql(\"\"\"\n",
        "#   SELECT *\n",
        "#   FROM Gas_prices\n",
        "#   WHERE nom_carburant IS NULL\n",
        "# \"\"\").show()"
      ]
    },
    {
      "cell_type": "code",
      "execution_count": 22,
      "metadata": {
        "colab": {
          "base_uri": "https://localhost:8080/"
        },
        "id": "T8e5X6Iu3QaZ",
        "outputId": "0a72ddb7-c425-430e-acb4-ebf9bf4796b1"
      },
      "outputs": [
        {
          "name": "stderr",
          "output_type": "stream",
          "text": [
            "[Stage 19:==============================================>           (4 + 1) / 5]\r"
          ]
        },
        {
          "name": "stdout",
          "output_type": "stream",
          "text": [
            "+-------------+-------+------------------+-------------------+-----+-----+\n",
            "|nom_carburant|  count|              mean|             stddev|  min|  max|\n",
            "+-------------+-------+------------------+-------------------+-----+-----+\n",
            "|          E10|4357845|1.5622816031784394|0.20413587329806365|0.001|9.999|\n",
            "|         SP98|4433584|   1.6510165051568| 0.2127089510266803|0.001|9.999|\n",
            "|          E85|1141058|0.7419075568464791|0.09760913013459967|0.001|9.969|\n",
            "|       Gazole|5273314|1.5377435371772963| 0.2558945897235682|0.001|9.999|\n",
            "|         SP95|1327084|1.5822859781293965|0.20949648148984476|0.004|9.999|\n",
            "|         GPLc| 753286|0.8716661161898648|0.08613000973919263|0.001|  7.0|\n",
            "+-------------+-------+------------------+-------------------+-----+-----+\n",
            "\n"
          ]
        },
        {
          "name": "stderr",
          "output_type": "stream",
          "text": [
            "                                                                                \r"
          ]
        }
      ],
      "source": [
        "# Inspect summary statistics for different gas types\n",
        "spark.sql(\"\"\"\n",
        "    SELECT\n",
        "        nom_carburant,\n",
        "        COUNT(*) as count,\n",
        "        AVG(prix_adj) as mean,\n",
        "        STDDEV(prix_adj) as stddev,\n",
        "        MIN(prix_adj) as min,\n",
        "        MAX(prix_adj) as max\n",
        "    FROM\n",
        "        Gas_prices\n",
        "    GROUP BY\n",
        "        nom_carburant\n",
        "\"\"\").show()"
      ]
    },
    {
      "cell_type": "code",
      "execution_count": 23,
      "metadata": {
        "id": "OBzoKNMrZsxa"
      },
      "outputs": [],
      "source": [
        "# spark.sql(\"\"\"\n",
        "# SELECT\n",
        "# nom_carburant,\n",
        "# MAX(prix_adj) as max\n",
        "# FROM Gas_prices\n",
        "# GROUP BY\n",
        "# nom_carburant\"\"\").show()"
      ]
    },
    {
      "cell_type": "markdown",
      "metadata": {
        "id": "GH2x2HDH7V4i"
      },
      "source": [
        "## Data Preparation - step 2\n",
        "* Compute price index for each station per week:\n"
      ]
    },
    {
      "cell_type": "code",
      "execution_count": 24,
      "metadata": {
        "id": "ET4wyuqwBvZ9"
      },
      "outputs": [],
      "source": [
        "# valid_combinations = prices_df_without_null.groupBy(\"id_pdv\", \"nom_carburant\").agg(F.count(\"prix\").alias(\"count_prix\")).filter(\"count_prix > 0\")"
      ]
    },
    {
      "cell_type": "code",
      "execution_count": 25,
      "metadata": {
        "id": "COP9-Y5HFfbH"
      },
      "outputs": [],
      "source": [
        "# joined_df = prices_df_without_null.join(valid_combinations, [\"id_pdv\", \"nom_carburant\"], \"inner\")\n",
        "# joined_df.show()"
      ]
    },
    {
      "cell_type": "code",
      "execution_count": 26,
      "metadata": {
        "id": "2PxQ-Er_7_xy"
      },
      "outputs": [],
      "source": [
        "# price_index_df = (prices_df_without_null\n",
        "#   .groupBy(\"Date\", \"id_pdv\", \"nom_carburant\")\n",
        "#   .agg(\n",
        "#     avg(\"prix\").alias(\"mean_price\")\n",
        "#   )\n",
        "# )\n",
        "\n",
        "# price_index_df_France = (prices_df_without_null\n",
        "#     .groupBy(\"Date\", \"nom_carburant\")\n",
        "#     .agg(\n",
        "#         avg(\"prix\").alias(\"mean_price\")\n",
        "#     )\n",
        "#   )\n",
        "\n",
        "\n",
        "# price_index_df.show()"
      ]
    },
    {
      "cell_type": "code",
      "execution_count": 27,
      "metadata": {
        "id": "Nfed5FoH8izX"
      },
      "outputs": [],
      "source": [
        "# price_index_df_France = (prices_df_without_null\n",
        "#     .groupBy(\"Date\", \"nom_carburant\")\n",
        "#     .agg(\n",
        "#         avg(\"prix\").alias(\"mean_price\")\n",
        "#     )\n",
        "#   )\n",
        "\n",
        "# price_index_df_France.show()"
      ]
    },
    {
      "cell_type": "code",
      "execution_count": 28,
      "metadata": {
        "colab": {
          "base_uri": "https://localhost:8080/"
        },
        "id": "QGT4aR6eTOMO",
        "outputId": "20e28488-48c9-4260-9331-a161d80afb6f"
      },
      "outputs": [],
      "source": [
        "# # Idenitify the different stations\n",
        "# result_df = spark.sql(\"\"\"\n",
        "#   SELECT DISTINCT id_pdv\n",
        "#   FROM Stations\n",
        "# \"\"\").count()\n",
        "\n",
        "# print(result_df)"
      ]
    },
    {
      "cell_type": "code",
      "execution_count": 29,
      "metadata": {
        "id": "vnShgsW3U_qV"
      },
      "outputs": [],
      "source": [
        "# # Compute price index\n",
        "\n",
        "# # Average week price for each gas type\n",
        "# average_price_gas_type = (\n",
        "#     prices_df\n",
        "#     .groupBy(\"id_carburant\", \"WeekOfYear\")\n",
        "#     .agg(F.avg(\"prix\")\n",
        "#     .alias(\"avg_price\"))\n",
        "# )"
      ]
    },
    {
      "cell_type": "code",
      "execution_count": 30,
      "metadata": {
        "id": "VY84K80gn_0P"
      },
      "outputs": [],
      "source": [
        "# prices_stations_df = prices_df.join(stations_df, \"id_pdv\")\n",
        "\n",
        "# average_week_price_per_station_gas_type = (\n",
        "#     prices_stations_df\n",
        "#     .groupBy(\"id_carburant\", \"id_pdv\", \"WeekOfYear\")\n",
        "#     .agg(F.avg(\"prix\").alias(\"avg_week_price\"))\n",
        "#     )\n",
        "\n",
        "# average_week_price_per_station_gas_type.show()\n"
      ]
    },
    {
      "cell_type": "code",
      "execution_count": 31,
      "metadata": {
        "id": "mgY54l6pHDoq"
      },
      "outputs": [],
      "source": [
        "# # Join prices_df and stations_df on \"id_pdv\"\n",
        "# prices_stations_df = prices_df.join(stations_df, \"id_pdv\")\n",
        "\n",
        "# # Order the DataFrame by \"id_carburant\", \"id_pdv\", and \"WeekOfYear\"\n",
        "# sorted_average_week_price = (\n",
        "#     average_week_price_per_station_gas_type\n",
        "#     .orderBy(\"id_pdv\", \"id_carburant\", \"WeekOfYear\")\n",
        "# )\n",
        "\n",
        "# # Show the sorted DataFrame\n",
        "# selected_row = sorted_average_week_price.filter((sorted_average_week_price[\"\"]))\n"
      ]
    },
    {
      "cell_type": "markdown",
      "metadata": {
        "id": "qclVBO8mVEe6"
      },
      "source": [
        "## Data Visualization\n",
        "* Represent the weekly evolution of average gas price over France such as:\n",
        "- Each gas type is a line\n",
        "- X coordinates is the week index\n",
        "- Y coordinates is the average price for gas type in France over week index\n",
        "\n"
      ]
    },
    {
      "cell_type": "code",
      "execution_count": 32,
      "metadata": {
        "id": "WpPky7uvVvru"
      },
      "outputs": [],
      "source": [
        "# # Compute price index\n",
        "\n",
        "# # Average week price for each gas type\n",
        "# average_price_gas_type = (\n",
        "#     prices_df\n",
        "#     .groupBy(\"id_carburant\", \"WeekOfYear\", \"Year\")\n",
        "#     .agg(F.avg(\"prix\")\n",
        "#     .alias(\"avg_price\"))\n",
        "# )\n",
        "\n",
        "# filtered_average_price_gas_type = (\n",
        "#     average_price_gas_type\n",
        "#     .filter(average_price_gas_type[\"id_carburant\"].isNotNull())\n",
        "#     .where(\"Year = 2019\")\n",
        "# )\n",
        "\n",
        "# sorted_average_price_gas_type = (\n",
        "#     filtered_average_price_gas_type\n",
        "#     .orderBy(\"id_carburant\", \"WeekOfYear\")\n",
        "# )\n",
        "\n",
        "\n",
        "# #average_price_gas_type.show()\n",
        "# sorted_average_price_gas_type.show()"
      ]
    },
    {
      "cell_type": "code",
      "execution_count": 33,
      "metadata": {
        "colab": {
          "base_uri": "https://localhost:8080/"
        },
        "id": "8QWCl8PyH1iR",
        "outputId": "fa634cf0-8779-4f32-ee2d-4deeab63344a"
      },
      "outputs": [
        {
          "name": "stderr",
          "output_type": "stream",
          "text": [
            "[Stage 22:==============================================>           (4 + 1) / 5]\r"
          ]
        },
        {
          "name": "stdout",
          "output_type": "stream",
          "text": [
            "+------------+----------------------+------------------+\n",
            "|id_carburant|continuous_week_number|         avg_price|\n",
            "+------------+----------------------+------------------+\n",
            "|           1|                     1|1.3966680130088027|\n",
            "|           1|                     2|1.3990902171155124|\n",
            "|           1|                     3| 1.417640079436685|\n",
            "|           1|                     4| 1.430798795278124|\n",
            "|           1|                     5|1.4334229831189347|\n",
            "|           1|                     6|1.4358464358272323|\n",
            "|           1|                     7|1.4431619467656793|\n",
            "|           1|                     8| 1.464491927328519|\n",
            "|           1|                     9|1.4715890047879596|\n",
            "|           1|                    10| 1.474434101300644|\n",
            "|           1|                    11|1.4759064935064772|\n",
            "|           1|                    12|1.4743793739360649|\n",
            "|           1|                    13|1.4726341167813486|\n",
            "|           1|                    14|1.4755626392230203|\n",
            "|           1|                    15|1.4837557456122628|\n",
            "|           1|                    16| 1.481262203140705|\n",
            "|           1|                    17| 1.494824293668783|\n",
            "|           1|                    18|1.4944240882465905|\n",
            "|           1|                    19|1.4941711548648984|\n",
            "|           1|                    20|1.4954959804121475|\n",
            "+------------+----------------------+------------------+\n",
            "only showing top 20 rows\n",
            "\n"
          ]
        },
        {
          "name": "stderr",
          "output_type": "stream",
          "text": [
            "                                                                                \r"
          ]
        }
      ],
      "source": [
        "# Compute price index\n",
        "# NEW\n",
        "# Average week price for each gas type\n",
        "average_price_gas_type = (\n",
        "    prices_df_without_null_adj\n",
        "    .groupBy(\"id_carburant\", \"continuous_week_number\")\n",
        "    .agg(F.avg(\"prix_adj\")\n",
        "    .alias(\"avg_price\"))\n",
        ")\n",
        "\n",
        "filtered_average_price_gas_type = (\n",
        "    average_price_gas_type\n",
        "    .filter(average_price_gas_type[\"id_carburant\"].isNotNull())\n",
        ")\n",
        "\n",
        "sorted_average_price_gas_type = (\n",
        "    filtered_average_price_gas_type\n",
        "    .orderBy(\"id_carburant\", \"continuous_week_number\")\n",
        ")\n",
        "\n",
        "#average_price_gas_type.show()\n",
        "sorted_average_price_gas_type.show()"
      ]
    },
    {
      "cell_type": "code",
      "execution_count": 34,
      "metadata": {
        "colab": {
          "base_uri": "https://localhost:8080/"
        },
        "id": "hVfXr8cMR4Wi",
        "outputId": "effe7ffd-cfe7-420f-c5c5-214c1db098c9"
      },
      "outputs": [
        {
          "name": "stderr",
          "output_type": "stream",
          "text": [
            "[Stage 25:==============================================>           (4 + 1) / 5]\r"
          ]
        },
        {
          "name": "stdout",
          "output_type": "stream",
          "text": [
            "+------------+----------------------+------------------+\n",
            "|id_carburant|continuous_week_number|avg_price         |\n",
            "+------------+----------------------+------------------+\n",
            "|3           |1                     |0.6881233701103335|\n",
            "|3           |2                     |0.6890728874649654|\n",
            "|3           |3                     |0.6898180727709   |\n",
            "|3           |4                     |0.6869370899266775|\n",
            "|3           |5                     |0.686351675630952 |\n",
            "|3           |6                     |0.6753567839196055|\n",
            "|3           |7                     |0.6752137518684682|\n",
            "|3           |8                     |0.6740822463768199|\n",
            "|3           |9                     |0.6792762224710795|\n",
            "|3           |10                    |0.6836103053435185|\n",
            "|3           |11                    |0.6838545025560417|\n",
            "|3           |12                    |0.684969019607851 |\n",
            "|3           |13                    |0.6871525294788977|\n",
            "|3           |14                    |0.6869379662347925|\n",
            "|3           |15                    |0.6886206630686287|\n",
            "|3           |16                    |0.6914798705966989|\n",
            "|3           |17                    |0.6939512291831963|\n",
            "|3           |18                    |0.6933485691574003|\n",
            "|3           |19                    |0.6953819253438194|\n",
            "|3           |20                    |0.6999725213516613|\n",
            "|3           |21                    |0.700853013746925 |\n",
            "|3           |22                    |0.7022059455587494|\n",
            "|3           |23                    |0.6995334855403434|\n",
            "|3           |24                    |0.7029656844461118|\n",
            "|3           |25                    |0.7014670349908028|\n",
            "|3           |26                    |0.6952620209059326|\n",
            "|3           |27                    |0.6900876272755353|\n",
            "|3           |28                    |0.6909366852886419|\n",
            "|3           |29                    |0.692170003079765 |\n",
            "|3           |30                    |0.6930875420875405|\n",
            "|3           |31                    |0.6947245981194997|\n",
            "|3           |32                    |0.6908981156180122|\n",
            "|3           |33                    |0.6930808641975292|\n",
            "|3           |34                    |0.6926972313188415|\n",
            "|3           |35                    |0.6928283604135866|\n",
            "|3           |36                    |0.6960400115141022|\n",
            "|3           |37                    |0.7006059232396443|\n",
            "|3           |38                    |0.699451091579241 |\n",
            "|3           |39                    |0.6937502079290229|\n",
            "|3           |40                    |0.6906635981062568|\n",
            "|3           |41                    |0.6894985620914994|\n",
            "|3           |42                    |0.6902293906809988|\n",
            "|3           |43                    |0.6923664321084126|\n",
            "|3           |44                    |0.6841006530925866|\n",
            "|3           |45                    |0.6984788394995952|\n",
            "|3           |46                    |0.703536661911548 |\n",
            "|3           |47                    |0.7016216730037973|\n",
            "|3           |48                    |0.7008925619834674|\n",
            "|3           |49                    |0.7012066311426849|\n",
            "|3           |50                    |0.7028208252561565|\n",
            "|3           |51                    |0.7000269380424978|\n",
            "|3           |52                    |0.7081712989222889|\n",
            "|3           |53                    |0.7144417396061323|\n",
            "|3           |54                    |0.7149819312796232|\n",
            "|3           |55                    |0.7169065581854029|\n",
            "|3           |56                    |0.7170953621677943|\n",
            "|3           |57                    |0.7165941248470004|\n",
            "|3           |58                    |0.716377558569666 |\n",
            "|3           |59                    |0.7138261542429709|\n",
            "|3           |60                    |0.7104128148691595|\n",
            "|3           |61                    |0.7115210991167799|\n",
            "|3           |62                    |0.7115155075187954|\n",
            "|3           |63                    |0.7056588928754509|\n",
            "|3           |64                    |0.7065963954123422|\n",
            "|3           |65                    |0.7071182058047483|\n",
            "|3           |66                    |0.7054542028985494|\n",
            "|3           |67                    |0.7043343965975527|\n",
            "|3           |68                    |0.7057311886586685|\n",
            "|3           |69                    |0.7046614583333315|\n",
            "|3           |70                    |0.7050757900374909|\n",
            "|3           |71                    |0.7023683514157167|\n",
            "|3           |72                    |0.6985922476717846|\n",
            "|3           |73                    |0.6968253690267714|\n",
            "|3           |74                    |0.6976912402428451|\n",
            "|3           |75                    |0.6986566009483411|\n",
            "|3           |76                    |0.695415606653622 |\n",
            "|3           |77                    |0.6951087666415476|\n",
            "|3           |78                    |0.6950324469382803|\n",
            "|3           |79                    |0.691533222591365 |\n",
            "|3           |80                    |0.6889009717723288|\n",
            "|3           |81                    |0.6956795594262299|\n",
            "|3           |82                    |0.6973909158600174|\n",
            "|3           |83                    |0.684266574902501 |\n",
            "|3           |84                    |0.6900874355368053|\n",
            "|3           |85                    |0.6922912061508918|\n",
            "|3           |86                    |0.6914518536350542|\n",
            "|3           |87                    |0.6816596127870337|\n",
            "|3           |88                    |0.6856430939226508|\n",
            "|3           |89                    |0.6884881463084228|\n",
            "|3           |90                    |0.6879180986386956|\n",
            "|3           |91                    |0.687656689747598 |\n",
            "|3           |92                    |0.6890915429599626|\n",
            "|3           |93                    |0.6869881266490733|\n",
            "|3           |94                    |0.6861583546462012|\n",
            "|3           |95                    |0.6829953175895741|\n",
            "|3           |96                    |0.6850353473078468|\n",
            "|3           |97                    |0.6846435866013029|\n",
            "|3           |98                    |0.6841090721649428|\n",
            "|3           |99                    |0.6830865731462887|\n",
            "|3           |100                   |0.6834950178604998|\n",
            "|3           |101                   |0.6831783804430875|\n",
            "|3           |102                   |0.6817246758128189|\n",
            "|3           |103                   |0.679092237243787 |\n",
            "|3           |104                   |0.6848979238754339|\n",
            "|3           |105                   |0.6903511394712867|\n",
            "|3           |106                   |0.6935564343384412|\n",
            "|3           |107                   |0.693165754747341 |\n",
            "|3           |108                   |0.6972437147254996|\n",
            "|3           |109                   |0.6976470485808757|\n",
            "|3           |110                   |0.6960326979953895|\n",
            "|3           |111                   |0.696809276678547 |\n",
            "|3           |112                   |0.6969127149975728|\n",
            "|3           |113                   |0.6988357969151525|\n",
            "|3           |114                   |0.6998474953617717|\n",
            "|3           |115                   |0.701129504327291 |\n",
            "|3           |116                   |0.7011196210661432|\n",
            "|3           |117                   |0.7017808835341283|\n",
            "|3           |118                   |0.7031392384105905|\n",
            "|3           |119                   |0.7051312775330375|\n",
            "|3           |120                   |0.7049603094517309|\n",
            "|3           |121                   |0.7052354204526663|\n",
            "|3           |122                   |0.7059560551865167|\n",
            "|3           |123                   |0.7045882543802705|\n",
            "|3           |124                   |0.7024184202007121|\n",
            "|3           |125                   |0.7045605815831989|\n",
            "|3           |126                   |0.7058982240437224|\n",
            "|3           |127                   |0.7047648574649713|\n",
            "|3           |128                   |0.707966672221304 |\n",
            "|3           |129                   |0.7068724767702685|\n",
            "|3           |130                   |0.7058791395852633|\n",
            "|3           |131                   |0.7073933281613575|\n",
            "|3           |132                   |0.7047631733882723|\n",
            "|3           |133                   |0.7082843246691054|\n",
            "|3           |134                   |0.709168330955774 |\n",
            "|3           |135                   |0.7023359386101955|\n",
            "|3           |136                   |0.7094820418768073|\n",
            "|3           |137                   |0.7125651420651415|\n",
            "|3           |138                   |0.7106226512670228|\n",
            "|3           |139                   |0.7101463190183953|\n",
            "|3           |140                   |0.7092835558163306|\n",
            "|3           |141                   |0.7112963363734683|\n",
            "|3           |142                   |0.7109284213685388|\n",
            "|3           |143                   |0.7124438005185207|\n",
            "|3           |144                   |0.7114221091320172|\n",
            "|3           |145                   |0.7125120489947901|\n",
            "|3           |146                   |0.7134261083743686|\n",
            "|3           |147                   |0.7125993634627509|\n",
            "|3           |148                   |0.7157336144116364|\n",
            "|3           |149                   |0.7187020469025188|\n",
            "|3           |150                   |0.7228515562649388|\n",
            "|3           |151                   |0.725393839383908 |\n",
            "|3           |152                   |0.7249000380083254|\n",
            "|3           |153                   |0.7262932239849128|\n",
            "|3           |154                   |0.7261151548825967|\n",
            "|3           |155                   |0.7252037137435332|\n",
            "|3           |156                   |0.7229525122548784|\n",
            "|3           |157                   |0.7323532592370036|\n",
            "|3           |158                   |0.7532327197366702|\n",
            "|3           |159                   |0.7576412021713085|\n",
            "|3           |160                   |0.7600768618080309|\n",
            "|3           |161                   |0.7642381933003669|\n",
            "|3           |162                   |0.7711473631087451|\n",
            "|3           |163                   |0.7787100309437945|\n",
            "|3           |164                   |0.7811468514165621|\n",
            "|3           |165                   |0.7917421065317066|\n",
            "|3           |166                   |0.8252412558805683|\n",
            "|3           |167                   |0.9002789493155681|\n",
            "|3           |168                   |0.9283993261298902|\n",
            "|3           |169                   |0.9378804405520119|\n",
            "|3           |170                   |0.8536734715576617|\n",
            "|3           |171                   |0.7634957574244736|\n",
            "|3           |172                   |0.7632608974358587|\n",
            "|3           |173                   |0.7608496282015624|\n",
            "|3           |174                   |0.7585206412825238|\n",
            "|3           |175                   |0.7701083470134968|\n",
            "|3           |176                   |0.7772539877300726|\n",
            "|3           |177                   |0.7925446059317192|\n",
            "|3           |178                   |0.7985806536290982|\n",
            "|3           |179                   |0.8253027774728562|\n",
            "|3           |180                   |0.8549385544915995|\n",
            "|3           |181                   |0.8613357348703463|\n",
            "|3           |182                   |0.8573442801745333|\n",
            "|3           |183                   |0.8614365482233511|\n",
            "|3           |184                   |0.8635142857142928|\n",
            "|3           |185                   |0.8631609610357401|\n",
            "|3           |186                   |0.8611747871334133|\n",
            "|3           |187                   |0.8392434436206769|\n",
            "|3           |188                   |0.8403317730334535|\n",
            "|3           |189                   |0.8290606581814188|\n",
            "|3           |190                   |0.828102064367244 |\n",
            "|3           |191                   |0.8280125286110278|\n",
            "|3           |192                   |0.751407738983396 |\n",
            "|3           |193                   |0.6966399532710128|\n",
            "|3           |194                   |0.6763074255649826|\n",
            "|3           |195                   |0.6748554201411073|\n",
            "|3           |196                   |0.6772318200080253|\n",
            "|3           |197                   |0.6979888888888821|\n",
            "|3           |198                   |0.7524499594265409|\n",
            "|3           |199                   |0.7870089208632961|\n",
            "|3           |200                   |0.8066834886128413|\n",
            "|3           |201                   |0.8104440617250087|\n",
            "|3           |202                   |0.8149238443164386|\n",
            "|3           |203                   |0.8891490985510279|\n",
            "|3           |204                   |0.9098065675934585|\n",
            "|3           |205                   |0.9059353020739278|\n",
            "|3           |206                   |0.8942153743464148|\n",
            "|3           |207                   |0.8812112166440371|\n",
            "|3           |208                   |0.8822174935842493|\n",
            "+------------+----------------------+------------------+\n",
            "\n"
          ]
        },
        {
          "name": "stderr",
          "output_type": "stream",
          "text": [
            "                                                                                \r"
          ]
        }
      ],
      "source": [
        "filtered_average_price_gas_type.filter(filtered_average_price_gas_type[\"id_carburant\"] == 3).orderBy(\"continuous_week_number\").show(250, False)"
      ]
    },
    {
      "cell_type": "code",
      "execution_count": 35,
      "metadata": {
        "id": "jHEiAqMYdWpF"
      },
      "outputs": [],
      "source": [
        "# Alternative for plotting gas types separately\n",
        "\n",
        "# Convert PySpark DataFrame to Pandas DataFrame\n",
        "# pandas_df = sorted_average_price_gas_type.toPandas()\n",
        "\n",
        "# sns.set(style=\"whitegrid\")\n",
        "\n",
        "# # Create a FacetGrid with gas types as columns\n",
        "# sns.set(style=\"whitegrid\")\n",
        "# g = sns.FacetGrid(pandas_df, col=\"id_carburant\", col_wrap=3, height=4, sharey=False)\n",
        "\n",
        "# # Map the line plot to the FacetGrid\n",
        "# g.map(sns.lineplot, \"WeekOfYear\", \"avg_price\")\n",
        "# g.set_axis_labels(\"Week of Year\", \"Average Price\")\n",
        "# g.set_titles(col_template=\"{col_name}\")\n",
        "\n",
        "# plt.tight_layout()\n",
        "# plt.show()\n"
      ]
    },
    {
      "cell_type": "code",
      "execution_count": 36,
      "metadata": {
        "colab": {
          "base_uri": "https://localhost:8080/",
          "height": 727
        },
        "id": "J-UiYncpfJ_P",
        "outputId": "8e2f5604-7b1d-4d4b-d702-1eb7b0fe444e"
      },
      "outputs": [
        {
          "name": "stderr",
          "output_type": "stream",
          "text": [
            "                                                                                \r"
          ]
        },
        {
          "data": {
            "image/png": "[encoded data removed]",
            "text/plain": [
              "<Figure size 1200x800 with 1 Axes>"
            ]
          },
          "metadata": {},
          "output_type": "display_data"
        }
      ],
      "source": [
        "# Convert PySpark DataFrame to Pandas DataFrame\n",
        "pandas_df = sorted_average_price_gas_type.toPandas()\n",
        "\n",
        "# Initialize Seaborn\n",
        "sns.set(style=\"whitegrid\")\n",
        "\n",
        "# Create a line plot for each gas type\n",
        "plt.figure(figsize=(12, 8))\n",
        "sns.lineplot(data=pandas_df, x=\"continuous_week_number\", y=\"avg_price\", hue=\"id_carburant\", marker=\"o\", markersize=8, linewidth=2)\n",
        "plt.title(\"Weekly Evolution of Average Gas Prices by Gas Type\")\n",
        "plt.xlabel(\"Week of Year\")\n",
        "plt.ylabel(\"Average Price\")\n",
        "plt.legend(title=\"Gas Type\")\n",
        "\n",
        "# Show the plot\n",
        "plt.show()"
      ]
    },
    {
      "cell_type": "markdown",
      "metadata": {
        "id": "nvsu0HUvcCFF"
      },
      "source": [
        "### Data Visualization Bonus\n",
        "* Represent a map for each gas type of France geo heat maps of price indexes, for example at department level"
      ]
    },
    {
      "cell_type": "markdown",
      "metadata": {
        "id": "DOyBybFycsyG"
      },
      "source": [
        "## Modeling - Forecast next day price\n",
        "* Build a model based on Spark ML to forecast the next day price for gas type in a station\n",
        "(Do not consider using time series models but rely on existing techniques from Spark ML / MLLib such as LInearRegression, RandomForestRegressor\n",
        "* Provide relevant accuracy measures and a relevant dispersion plot between actual and forecast\n"
      ]
    },
    {
      "cell_type": "markdown",
      "metadata": {
        "id": "X0yIcZzLfTTX"
      },
      "source": [
        "### Variables to be used in regression\n",
        "* prix (number; gas price)\n",
        "* latitude_adj and longitude_adj (number; station information)\n",
        "* id_carburant (number; gas type)\n"
      ]
    },
    {
      "cell_type": "code",
      "execution_count": 37,
      "metadata": {
        "id": "cHZ0iVayvc-s"
      },
      "outputs": [],
      "source": [
        "from pyspark.ml.feature import VectorAssembler\n",
        "from pyspark.ml.pipeline import Pipeline\n",
        "from pyspark.ml.feature import StringIndexer, OneHotEncoder, Imputer\n"
      ]
    },
    {
      "cell_type": "code",
      "execution_count": 38,
      "metadata": {
        "colab": {
          "base_uri": "https://localhost:8080/"
        },
        "id": "V0uyzx951JBA",
        "outputId": "0b452484-5be0-4f02-8493-04973f825c4d"
      },
      "outputs": [
        {
          "name": "stdout",
          "output_type": "stream",
          "text": [
            "root\n",
            " |-- id_pdv: string (nullable = true)\n",
            " |-- cp: string (nullable = true)\n",
            " |-- pop: string (nullable = true)\n",
            " |-- latitude: string (nullable = true)\n",
            " |-- longitude: string (nullable = true)\n",
            " |-- Date: date (nullable = true)\n",
            " |-- id_carburant: string (nullable = true)\n",
            " |-- nom_carburant: string (nullable = true)\n",
            " |-- prix: string (nullable = true)\n",
            " |-- Year: string (nullable = true)\n",
            " |-- Month: string (nullable = true)\n",
            " |-- Day: string (nullable = true)\n",
            " |-- WeekOfYear: integer (nullable = true)\n",
            " |-- continuous_week_number: integer (nullable = true)\n",
            " |-- latitude_int: integer (nullable = true)\n",
            " |-- longitude_int: integer (nullable = true)\n",
            " |-- prix_int: double (nullable = true)\n",
            " |-- latitude_adj: double (nullable = true)\n",
            " |-- longitude_adj: double (nullable = true)\n",
            " |-- prix_adj: double (nullable = true)\n",
            "\n"
          ]
        }
      ],
      "source": [
        "prices_df_without_null_adj.printSchema()"
      ]
    },
    {
      "cell_type": "code",
      "execution_count": 39,
      "metadata": {
        "colab": {
          "base_uri": "https://localhost:8080/"
        },
        "id": "kwhvdbnt2I0a",
        "outputId": "30b03993-54d1-43ea-8131-748f3edb0d1f"
      },
      "outputs": [
        {
          "name": "stderr",
          "output_type": "stream",
          "text": [
            "                                                                                \r"
          ]
        },
        {
          "data": {
            "text/plain": [
              "4348"
            ]
          },
          "execution_count": 39,
          "metadata": {},
          "output_type": "execute_result"
        }
      ],
      "source": [
        "prices_df_without_null_adj.select(\"cp\").distinct().count()"
      ]
    },
    {
      "cell_type": "code",
      "execution_count": 40,
      "metadata": {
        "colab": {
          "base_uri": "https://localhost:8080/"
        },
        "id": "CcYFc6yw3Lw8",
        "outputId": "96d62461-d5e1-418c-9111-d5ef5850cd8d"
      },
      "outputs": [
        {
          "name": "stderr",
          "output_type": "stream",
          "text": [
            "                                                                                \r"
          ]
        },
        {
          "data": {
            "text/plain": [
              "3"
            ]
          },
          "execution_count": 40,
          "metadata": {},
          "output_type": "execute_result"
        }
      ],
      "source": [
        "prices_df_without_null_adj.select(\"pop\").distinct().count()"
      ]
    },
    {
      "cell_type": "code",
      "execution_count": 41,
      "metadata": {
        "colab": {
          "base_uri": "https://localhost:8080/"
        },
        "id": "x66sUMgc35Sb",
        "outputId": "9b8562fd-dba5-4bf6-81fe-5f8a4d74b923"
      },
      "outputs": [
        {
          "name": "stderr",
          "output_type": "stream",
          "text": [
            "                                                                                \r"
          ]
        },
        {
          "name": "stdout",
          "output_type": "stream",
          "text": [
            "+-------+-----+---+--------+---------+----------+------------+-------------+----+----+-----+---+----------+----------------------+------------+-------------+--------+------------+-------------+--------+----+-------------+----------------------------+---------------+\n",
            "|id_pdv |cp   |pop|latitude|longitude|Date      |id_carburant|nom_carburant|prix|Year|Month|Day|WeekOfYear|continuous_week_number|latitude_int|longitude_int|prix_int|latitude_adj|longitude_adj|prix_adj|npop|ohepop       |features                    |prix_adj_vector|\n",
            "+-------+-----+---+--------+---------+----------+------------+-------------+----+----+-----+---+----------+----------------------+------------+-------------+--------+------------+-------------+--------+----+-------------+----------------------------+---------------+\n",
            "|1000001|01000|R  |4620114 |519791   |2019-01-04|1           |Gazole       |1328|2019|01   |04 |1         |1                     |4620114     |519791       |1328.0  |0.4620114   |0.519791     |1.328   |0.0 |(2,[0],[1.0])|[1.0,0.0,0.4620114,0.519791]|[1.328]        |\n",
            "|1000001|01000|R  |4620114 |519791   |2019-01-07|1           |Gazole       |1348|2019|01   |07 |2         |2                     |4620114     |519791       |1348.0  |0.4620114   |0.519791     |1.348   |0.0 |(2,[0],[1.0])|[1.0,0.0,0.4620114,0.519791]|[1.348]        |\n",
            "|1000001|01000|R  |4620114 |519791   |2019-01-10|1           |Gazole       |1374|2019|01   |10 |2         |2                     |4620114     |519791       |1374.0  |0.4620114   |0.519791     |1.374   |0.0 |(2,[0],[1.0])|[1.0,0.0,0.4620114,0.519791]|[1.374]        |\n",
            "|1000001|01000|R  |4620114 |519791   |2019-01-11|1           |Gazole       |1387|2019|01   |11 |2         |2                     |4620114     |519791       |1387.0  |0.4620114   |0.519791     |1.387   |0.0 |(2,[0],[1.0])|[1.0,0.0,0.4620114,0.519791]|[1.387]        |\n",
            "|1000001|01000|R  |4620114 |519791   |2019-01-14|1           |Gazole       |1394|2019|01   |14 |3         |3                     |4620114     |519791       |1394.0  |0.4620114   |0.519791     |1.394   |0.0 |(2,[0],[1.0])|[1.0,0.0,0.4620114,0.519791]|[1.394]        |\n",
            "+-------+-----+---+--------+---------+----------+------------+-------------+----+----+-----+---+----------+----------------------+------------+-------------+--------+------------+-------------+--------+----+-------------+----------------------------+---------------+\n",
            "only showing top 5 rows\n",
            "\n"
          ]
        }
      ],
      "source": [
        "# Population variable of type: string (needs to be indexed first then OHE)\n",
        "op_pop = StringIndexer(inputCol = 'pop', outputCol = 'npop')\n",
        "op_ohe_pop = OneHotEncoder(inputCol = 'npop', outputCol = 'ohepop')\n",
        "\n",
        "op_features = VectorAssembler(inputCols = ['ohepop', 'latitude_adj', 'longitude_adj'],\n",
        "                              outputCol= 'features')\n",
        "\n",
        "pipeline_features = Pipeline(stages = [op_pop, op_ohe_pop, op_features])\n",
        "pipeline_features.fit(prices_df_without_null_adj).transform(prices_df_without_null_adj).show(5, truncate = False)"
      ]
    },
    {
      "cell_type": "code",
      "execution_count": 42,
      "metadata": {
        "id": "9KLPqFx8BUKp"
      },
      "outputs": [],
      "source": [
        "from pyspark.ml.regression import LinearRegression, RandomForestRegressor\n",
        "\n",
        "rf = RandomForestRegressor(labelCol='prix_adj')\n",
        "pipeline_rf = Pipeline(stages =[pipeline_features, rf])\n"
      ]
    },
    {
      "cell_type": "code",
      "execution_count": 43,
      "metadata": {
        "colab": {
          "base_uri": "https://localhost:8080/",
          "height": 1000
        },
        "id": "xEfXzhCKBqRe",
        "outputId": "4aa49f60-47d4-4a4f-f4af-7f4c0cfa5942"
      },
      "outputs": [
        {
          "name": "stderr",
          "output_type": "stream",
          "text": [
            "24/01/19 17:33:50 WARN MemoryStore: Not enough space to cache rdd_436_4 in memory! (computed 61.6 MiB so far)\n",
            "24/01/19 17:33:50 WARN BlockManager: Persisting block rdd_436_4 to disk instead.\n",
            "24/01/19 17:33:52 WARN MemoryStore: Not enough space to cache rdd_436_3 in memory! (computed 92.5 MiB so far)\n",
            "24/01/19 17:33:52 WARN BlockManager: Persisting block rdd_436_3 to disk instead.\n",
            "24/01/19 17:33:52 WARN MemoryStore: Not enough space to cache rdd_436_0 in memory! (computed 92.5 MiB so far)\n",
            "24/01/19 17:33:52 WARN BlockManager: Persisting block rdd_436_0 to disk instead.\n",
            "24/01/19 17:33:53 WARN MemoryStore: Not enough space to cache rdd_436_1 in memory! (computed 92.5 MiB so far)\n",
            "24/01/19 17:33:53 WARN BlockManager: Persisting block rdd_436_1 to disk instead.\n",
            "24/01/19 17:34:07 WARN MemoryStore: Not enough space to cache rdd_436_2 in memory! (computed 328.8 MiB so far)\n",
            "24/01/19 17:34:07 WARN BlockManager: Persisting block rdd_436_2 to disk instead.\n",
            "24/01/19 17:34:20 WARN MemoryStore: Not enough space to cache rdd_436_4 in memory! (computed 328.8 MiB so far)\n",
            "24/01/19 17:34:24 WARN MemoryStore: Not enough space to cache rdd_436_3 in memory! (computed 328.8 MiB so far)\n",
            "24/01/19 17:34:38 WARN MemoryStore: Not enough space to cache rdd_436_1 in memory! (computed 328.8 MiB so far)\n",
            "24/01/19 17:34:41 WARN MemoryStore: Not enough space to cache rdd_436_2 in memory! (computed 92.5 MiB so far)\n",
            "24/01/19 17:34:42 WARN MemoryStore: Not enough space to cache rdd_436_0 in memory! (computed 328.8 MiB so far)\n",
            "24/01/19 17:34:49 WARN MemoryStore: Not enough space to cache rdd_436_4 in memory! (computed 61.6 MiB so far)\n",
            "24/01/19 17:34:49 WARN MemoryStore: Not enough space to cache rdd_436_2 in memory! (computed 92.5 MiB so far)\n",
            "24/01/19 17:34:49 WARN MemoryStore: Not enough space to cache rdd_436_3 in memory! (computed 92.5 MiB so far)\n",
            "24/01/19 17:34:49 WARN MemoryStore: Not enough space to cache rdd_436_0 in memory! (computed 92.5 MiB so far)\n",
            "24/01/19 17:34:49 WARN MemoryStore: Not enough space to cache rdd_436_1 in memory! (computed 92.5 MiB so far)\n",
            "24/01/19 17:35:00 WARN MemoryStore: Not enough space to cache rdd_436_2 in memory! (computed 61.6 MiB so far)\n",
            "24/01/19 17:35:00 WARN MemoryStore: Not enough space to cache rdd_436_4 in memory! (computed 92.5 MiB so far)\n",
            "24/01/19 17:35:00 WARN MemoryStore: Not enough space to cache rdd_436_3 in memory! (computed 92.5 MiB so far)\n",
            "24/01/19 17:35:00 WARN MemoryStore: Not enough space to cache rdd_436_1 in memory! (computed 92.5 MiB so far)\n",
            "24/01/19 17:35:00 WARN MemoryStore: Not enough space to cache rdd_436_0 in memory! (computed 92.5 MiB so far)\n",
            "24/01/19 17:35:13 WARN MemoryStore: Not enough space to cache rdd_436_0 in memory! (computed 61.6 MiB so far)\n",
            "24/01/19 17:35:14 WARN MemoryStore: Not enough space to cache rdd_436_4 in memory! (computed 92.5 MiB so far)\n",
            "24/01/19 17:35:14 WARN MemoryStore: Not enough space to cache rdd_436_3 in memory! (computed 92.5 MiB so far)\n",
            "24/01/19 17:35:14 WARN MemoryStore: Not enough space to cache rdd_436_1 in memory! (computed 92.5 MiB so far)\n",
            "24/01/19 17:35:14 WARN MemoryStore: Not enough space to cache rdd_436_2 in memory! (computed 92.5 MiB so far)\n",
            "24/01/19 17:35:31 WARN MemoryStore: Not enough space to cache rdd_436_2 in memory! (computed 61.6 MiB so far)\n",
            "24/01/19 17:35:31 WARN MemoryStore: Not enough space to cache rdd_436_4 in memory! (computed 92.5 MiB so far)\n",
            "24/01/19 17:35:31 WARN MemoryStore: Not enough space to cache rdd_436_3 in memory! (computed 92.5 MiB so far)\n",
            "24/01/19 17:35:31 WARN MemoryStore: Not enough space to cache rdd_436_0 in memory! (computed 92.5 MiB so far)\n",
            "24/01/19 17:35:31 WARN MemoryStore: Not enough space to cache rdd_436_1 in memory! (computed 92.5 MiB so far)\n",
            "                                                                                \r"
          ]
        },
        {
          "name": "stdout",
          "output_type": "stream",
          "text": [
            "+-------+-----+---+--------+---------+----------+------------+-------------+----+----+-----+---+----------+----------------------+------------+-------------+--------+------------+-------------+--------+----+-------------+----------------------------+---------------+------------------+\n",
            "|id_pdv |cp   |pop|latitude|longitude|Date      |id_carburant|nom_carburant|prix|Year|Month|Day|WeekOfYear|continuous_week_number|latitude_int|longitude_int|prix_int|latitude_adj|longitude_adj|prix_adj|npop|ohepop       |features                    |prix_adj_vector|prediction        |\n",
            "+-------+-----+---+--------+---------+----------+------------+-------------+----+----+-----+---+----------+----------------------+------------+-------------+--------+------------+-------------+--------+----+-------------+----------------------------+---------------+------------------+\n",
            "|1000001|01000|R  |4620114 |519791   |2019-01-04|1           |Gazole       |1328|2019|01   |04 |1         |1                     |4620114     |519791       |1328.0  |0.4620114   |0.519791     |1.328   |0.0 |(2,[0],[1.0])|[1.0,0.0,0.4620114,0.519791]|[1.328]        |1.4951996898646367|\n",
            "|1000001|01000|R  |4620114 |519791   |2019-01-07|1           |Gazole       |1348|2019|01   |07 |2         |2                     |4620114     |519791       |1348.0  |0.4620114   |0.519791     |1.348   |0.0 |(2,[0],[1.0])|[1.0,0.0,0.4620114,0.519791]|[1.348]        |1.4951996898646367|\n",
            "|1000001|01000|R  |4620114 |519791   |2019-01-10|1           |Gazole       |1374|2019|01   |10 |2         |2                     |4620114     |519791       |1374.0  |0.4620114   |0.519791     |1.374   |0.0 |(2,[0],[1.0])|[1.0,0.0,0.4620114,0.519791]|[1.374]        |1.4951996898646367|\n",
            "|1000001|01000|R  |4620114 |519791   |2019-01-11|1           |Gazole       |1387|2019|01   |11 |2         |2                     |4620114     |519791       |1387.0  |0.4620114   |0.519791     |1.387   |0.0 |(2,[0],[1.0])|[1.0,0.0,0.4620114,0.519791]|[1.387]        |1.4951996898646367|\n",
            "|1000001|01000|R  |4620114 |519791   |2019-01-14|1           |Gazole       |1394|2019|01   |14 |3         |3                     |4620114     |519791       |1394.0  |0.4620114   |0.519791     |1.394   |0.0 |(2,[0],[1.0])|[1.0,0.0,0.4620114,0.519791]|[1.394]        |1.4951996898646367|\n",
            "+-------+-----+---+--------+---------+----------+------------+-------------+----+----+-----+---+----------+----------------------+------------+-------------+--------+------------+-------------+--------+----+-------------+----------------------------+---------------+------------------+\n",
            "only showing top 5 rows\n",
            "\n"
          ]
        }
      ],
      "source": [
        "fitted_rf = pipeline_rf.fit(prices_df_without_null_adj)\n",
        "fitted_rf.transform(prices_df_without_null_adj).show(5, truncate=False)"
      ]
    },
    {
      "cell_type": "code",
      "execution_count": null,
      "metadata": {
        "id": "1HgDQ4XTERvV"
      },
      "outputs": [],
      "source": [
        "fitted_rf.stages[-1]"
      ]
    },
    {
      "cell_type": "code",
      "execution_count": null,
      "metadata": {
        "id": "J-GR7H_SJSGI"
      },
      "outputs": [],
      "source": [
        "fitted_rf.transform(prices_df_without_null_adj).show(4)"
      ]
    },
    {
      "cell_type": "code",
      "execution_count": null,
      "metadata": {
        "id": "MQgSUAwIJYml"
      },
      "outputs": [],
      "source": [
        "fitted_rf.stages[-1].coefficients"
      ]
    }
  ],
  "metadata": {
    "colab": {
      "include_colab_link": true,
      "provenance": []
    },
    "kernelspec": {
      "display_name": "Python 3",
      "name": "python3"
    },
    "language_info": {
      "codemirror_mode": {
        "name": "ipython",
        "version": 3
      },
      "file_extension": ".py",
      "mimetype": "text/x-python",
      "name": "python",
      "nbconvert_exporter": "python",
      "pygments_lexer": "ipython3",
      "version": "3.10.0"
    }
  },
  "nbformat": 4,
  "nbformat_minor": 0
}
