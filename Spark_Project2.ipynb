{
  "cells": [
    {
      "cell_type": "markdown",
      "metadata": {
        "colab_type": "text",
        "id": "view-in-github"
      },
      "source": [
        "<a href=\"https://colab.research.google.com/github/RobDrie/IT-Tools-Spark/blob/main/Spark_Project2.ipynb\" target=\"_parent\"><img src=\"https://colab.research.google.com/assets/colab-badge.svg\" alt=\"Open In Colab\"/></a>"
      ]
    },
    {
      "cell_type": "code",
      "execution_count": 1,
      "metadata": {
        "colab": {
          "base_uri": "https://localhost:8080/"
        },
        "id": "2lGDl83gpePX",
        "outputId": "5f8bbe86-43ee-4665-b182-18211d33eb28"
      },
      "outputs": [
        {
          "name": "stdout",
          "output_type": "stream",
          "text": [
            "Collecting pyspark\n",
            "  Downloading pyspark-3.5.0.tar.gz (316.9 MB)\n",
            "\u001b[2K     \u001b[90m━━━━━━━━━━━━━━━━━━━━━━━━━━━━━━━━━━━━━━━━\u001b[0m \u001b[32m316.9/316.9 MB\u001b[0m \u001b[31m2.1 MB/s\u001b[0m eta \u001b[36m0:00:00\u001b[0m\n",
            "\u001b[?25h  Preparing metadata (setup.py) ... \u001b[?25l\u001b[?25hdone\n",
            "Requirement already satisfied: py4j==0.10.9.7 in /usr/local/lib/python3.10/dist-packages (from pyspark) (0.10.9.7)\n",
            "Building wheels for collected packages: pyspark\n",
            "  Building wheel for pyspark (setup.py) ... \u001b[?25l\u001b[?25hdone\n",
            "  Created wheel for pyspark: filename=pyspark-3.5.0-py2.py3-none-any.whl size=317425345 sha256=43dfbe12946023b6b157867813ed297316dc63d3f0368fa1fe2915a96f8dae8b\n",
            "  Stored in directory: /root/.cache/pip/wheels/41/4e/10/c2cf2467f71c678cfc8a6b9ac9241e5e44a01940da8fbb17fc\n",
            "Successfully built pyspark\n",
            "Installing collected packages: pyspark\n",
            "Successfully installed pyspark-3.5.0\n"
          ]
        }
      ],
      "source": [
        "!pip install pyspark"
      ]
    },
    {
      "cell_type": "code",
      "execution_count": 1,
      "metadata": {
        "id": "fs29WSXXqa5b"
      },
      "outputs": [],
      "source": [
        "import pyspark\n",
        "import seaborn as sns\n",
        "from pyspark.sql.functions import year, month, dayofweek, col, split\n",
        "from pyspark.sql.functions import weekofyear\n",
        "import seaborn as sns\n",
        "import matplotlib.pyplot as plt\n",
        "import pandas as pd\n",
        "from pyspark.sql.functions import col, datediff, lit, floor, when\n",
        "from pyspark.sql import functions as F\n",
        "from pyspark.sql.functions import avg\n",
        "from pyspark.sql.functions import desc"
      ]
    },
    {
      "cell_type": "code",
      "execution_count": 2,
      "metadata": {
        "id": "5q9Om-hiqdWT"
      },
      "outputs": [
        {
          "name": "stderr",
          "output_type": "stream",
          "text": [
            "24/01/19 20:25:22 WARN Utils: Your hostname, gonem-rogzephyrusg15ga503qmga503qm resolves to a loopback address: 127.0.1.1; using 10.10.255.105 instead (on interface wlp4s0)\n",
            "24/01/19 20:25:22 WARN Utils: Set SPARK_LOCAL_IP if you need to bind to another address\n",
            "Setting default log level to \"WARN\".\n",
            "To adjust logging level use sc.setLogLevel(newLevel). For SparkR, use setLogLevel(newLevel).\n",
            "24/01/19 20:25:23 WARN NativeCodeLoader: Unable to load native-hadoop library for your platform... using builtin-java classes where applicable\n"
          ]
        }
      ],
      "source": [
        "spark = pyspark.sql.SparkSession.builder.appName('Session1').getOrCreate()"
      ]
    },
    {
      "cell_type": "markdown",
      "metadata": {
        "id": "JfGk4f7rqks4"
      },
      "source": [
        "## Load & Process gas price data with Spark\n",
        "# * Download 2019 to 2023 gas price data\n",
        "* Download gas Stations file & Services file (2022 versions)"
      ]
    },
    {
      "cell_type": "code",
      "execution_count": 3,
      "metadata": {
        "colab": {
          "base_uri": "https://localhost:8080/"
        },
        "id": "Om9p_VrVrmEp",
        "outputId": "ef1e3ffc-a1af-4f2a-876e-1097eb1b8c7e"
      },
      "outputs": [
        {
          "name": "stdout",
          "output_type": "stream",
          "text": [
            "fatal: destination path 'GasPrices' already exists and is not an empty directory.\n"
          ]
        }
      ],
      "source": [
        "!git clone https://github.com/rvm-courses/GasPrices"
      ]
    },
    {
      "cell_type": "markdown",
      "metadata": {
        "id": "jX5fGrZR6aQa"
      },
      "source": [
        "## Data Preparation - step 1\n",
        "* Read and merge all gas files\n",
        "* Split date in year, month, week of the year\n",
        "* Prepare latitude & longitude for mapping (divide by the right power of 10)\n",
        "* Make data available as a table in order to be able to use Spark S"
      ]
    },
    {
      "cell_type": "code",
      "execution_count": 4,
      "metadata": {
        "id": "Fc8FMc1fL0RX"
      },
      "outputs": [],
      "source": [
        "def price_download(year_list):\n",
        "  prices_df = None\n",
        "\n",
        "  for year in year_list:\n",
        "    file_path = f'GasPrices/Prix{year}.csv.gz'\n",
        "    current_df = spark.read.option(\"header\", \"False\").option('delimiter', ';').csv(file_path)\n",
        "\n",
        "    if prices_df is None:\n",
        "      prices_df = current_df\n",
        "    else:\n",
        "      prices_df = prices_df.union(current_df)\n",
        "\n",
        "  return prices_df"
      ]
    },
    {
      "cell_type": "code",
      "execution_count": 5,
      "metadata": {
        "id": "nJNqWmleNBMR"
      },
      "outputs": [],
      "source": [
        "# Download price data for 2019 to 2023\n",
        "year_list = ['2019', '2020', '2021', '2022S1', '2022S2']\n",
        "prices_df = price_download(year_list)\n",
        "\n",
        "file_path = 'GasPrices/Stations2022.csv.gz'\n",
        "stations_df = spark.read.option(\"header\", \"False\").option('delimiter', '|').csv(file_path)\n",
        "\n",
        "file_path = 'GasPrices/Services2022.csv.gz'\n",
        "services_df = spark.read.option(\"header\", \"False\").option('delimiter', '|').csv(file_path)"
      ]
    },
    {
      "cell_type": "markdown",
      "metadata": {
        "id": "EP0pHc6f0uHD"
      },
      "source": [
        "### Variable definitions\n",
        "* id_pdv = points of sales\n",
        "* cp = zip code\n",
        "* pop = type of population\n",
        "* latitude\n",
        "* longitude\n",
        "* date\n",
        "* id carburant = gas id\n",
        "* nom carburant = gas label\n",
        "* prix = price in millieuros"
      ]
    },
    {
      "cell_type": "code",
      "execution_count": 6,
      "metadata": {
        "id": "RJRSHaVyNABB"
      },
      "outputs": [],
      "source": [
        "# Set the column headers for price dataframe\n",
        "columns_mapping = {\n",
        "    'prices_df': {'old': prices_df.columns, 'new': ['id_pdv', 'cp', 'pop', 'latitude', 'longitude', 'date', 'id_carburant', 'nom_carburant', 'prix']},\n",
        "    'stations_df': {'old': stations_df.columns, 'new': ['id_pdv', 'cp', 'pop', 'latitude', 'longitude', 'adresse', 'vile']},\n",
        "    'services_df': {'old': services_df.columns, 'new': ['id_pdv', 'cp', 'pop', 'latitude', 'longitude', 'services']}\n",
        "}\n",
        "\n",
        "for df_name, mapping in columns_mapping.items():\n",
        "    for new_name, old_name in zip(mapping['new'], mapping['old']):\n",
        "        globals()[df_name] = globals()[df_name].withColumnRenamed(f'{old_name}', f'{new_name}')"
      ]
    },
    {
      "cell_type": "markdown",
      "metadata": {
        "id": "8Lg1ccY36yMD"
      },
      "source": [
        "### Split prices date in year, month, day, and week of the year"
      ]
    },
    {
      "cell_type": "code",
      "execution_count": 7,
      "metadata": {
        "id": "Pa7_uUFvuD7K"
      },
      "outputs": [],
      "source": [
        "# Split the date column into date and time to extract the dates\n",
        "split_datetime = split(prices_df['date'], 'T')\n",
        "prices_df = prices_df.withColumn('Date', split_datetime.getItem(0))\n",
        "split_date = split(prices_df['Date'], '-')\n",
        "\n",
        "# Add columns year, month, day, and weekofyear\n",
        "prices_df = prices_df.withColumn('Year', split_date.getItem(0))\n",
        "prices_df = prices_df.withColumn('Month', split_date.getItem(1))\n",
        "prices_df = prices_df.withColumn('Day', split_date.getItem(2))\n",
        "prices_df = prices_df.withColumn('WeekOfYear', weekofyear(prices_df['Date']))"
      ]
    },
    {
      "cell_type": "code",
      "execution_count": 8,
      "metadata": {
        "id": "enfHc9erYz-H"
      },
      "outputs": [],
      "source": [
        "# prices_df.filter(\"continuous_week_number =  0  AND id_carburant = 1\").show(5)"
      ]
    },
    {
      "cell_type": "code",
      "execution_count": 9,
      "metadata": {
        "colab": {
          "base_uri": "https://localhost:8080/"
        },
        "id": "nMjW-hGfYz-H",
        "outputId": "be90cb0a-3b27-4696-b9ac-5ec438d664c1"
      },
      "outputs": [
        {
          "name": "stderr",
          "output_type": "stream",
          "text": [
            "                                                                                \r"
          ]
        },
        {
          "name": "stdout",
          "output_type": "stream",
          "text": [
            "+------+---+---+--------+---------+----+------------+-------------+----+----+-----+---+----------+----------------------+\n",
            "|id_pdv| cp|pop|latitude|longitude|Date|id_carburant|nom_carburant|prix|Year|Month|Day|WeekOfYear|continuous_week_number|\n",
            "+------+---+---+--------+---------+----+------------+-------------+----+----+-----+---+----------+----------------------+\n",
            "+------+---+---+--------+---------+----+------------+-------------+----+----+-----+---+----------+----------------------+\n",
            "\n",
            "+-------+-----+---+---------------+---------------+----------+------------+-------------+----+----+-----+---+----------+----------------------+\n",
            "| id_pdv|   cp|pop|       latitude|      longitude|      Date|id_carburant|nom_carburant|prix|Year|Month|Day|WeekOfYear|continuous_week_number|\n",
            "+-------+-----+---+---------------+---------------+----------+------------+-------------+----+----+-----+---+----------+----------------------+\n",
            "|1100007|01100|  R|        4624966|         564134|2019-01-01|           3|          E85| 749|2019|   01| 01|         1|                     1|\n",
            "|1100007|01100|  R|        4624966|         564134|2019-01-02|           3|          E85| 749|2019|   01| 02|         1|                     1|\n",
            "|1100007|01100|  R|        4624966|         564134|2019-01-03|           3|          E85| 749|2019|   01| 03|         1|                     1|\n",
            "|1100007|01100|  R|        4624966|         564134|2019-01-04|           3|          E85| 749|2019|   01| 04|         1|                     1|\n",
            "|1100007|01100|  R|        4624966|         564134|2019-01-05|           3|          E85| 749|2019|   01| 05|         1|                     1|\n",
            "|1100007|01100|  R|        4624966|         564134|2019-01-06|           3|          E85| 749|2019|   01| 06|         1|                     1|\n",
            "|1120004|01120|  R|        4585300|         505900|2019-01-04|           3|          E85| 599|2019|   01| 04|         1|                     1|\n",
            "|1210003|01210|  R|        4624400|         609500|2019-01-02|           3|          E85| 599|2019|   01| 02|         1|                     1|\n",
            "|1210003|01210|  R|        4624400|         609500|2019-01-03|           3|          E85| 608|2019|   01| 03|         1|                     1|\n",
            "|1250005|01250|  A|4620355.8237727|529588.28488323|2019-01-01|           3|          E85| 819|2019|   01| 01|         1|                     1|\n",
            "|1250005|01250|  A|4620355.8237727|529588.28488323|2019-01-02|           3|          E85| 819|2019|   01| 02|         1|                     1|\n",
            "|1250005|01250|  A|4620355.8237727|529588.28488323|2019-01-03|           3|          E85| 819|2019|   01| 03|         1|                     1|\n",
            "|1250005|01250|  A|4620355.8237727|529588.28488323|2019-01-04|           3|          E85| 819|2019|   01| 04|         1|                     1|\n",
            "|1250005|01250|  A|4620355.8237727|529588.28488323|2019-01-05|           3|          E85| 819|2019|   01| 05|         1|                     1|\n",
            "|1250005|01250|  A|4620355.8237727|529588.28488323|2019-01-06|           3|          E85| 819|2019|   01| 06|         1|                     1|\n",
            "+-------+-----+---+---------------+---------------+----------+------------+-------------+----+----+-----+---+----------+----------------------+\n",
            "only showing top 15 rows\n",
            "\n",
            "+-------+-----+---+---------------+---------------+----------+------------+-------------+----+----+-----+---+----------+----------------------+\n",
            "| id_pdv|   cp|pop|       latitude|      longitude|      Date|id_carburant|nom_carburant|prix|Year|Month|Day|WeekOfYear|continuous_week_number|\n",
            "+-------+-----+---+---------------+---------------+----------+------------+-------------+----+----+-----+---+----------+----------------------+\n",
            "|1100007|01100|  R|        4624966|         564134|2019-12-30|           3|          E85| 769|2019|   12| 30|         1|                    53|\n",
            "|1100007|01100|  R|        4624966|         564134|2019-12-31|           3|          E85| 769|2019|   12| 31|         1|                    53|\n",
            "|1120008|01120|  A|  4584715.18044|  507404.780227|2019-12-30|           3|          E85| 829|2019|   12| 30|         1|                    53|\n",
            "|1120008|01120|  A|  4584715.18044|  507404.780227|2019-12-31|           3|          E85| 829|2019|   12| 31|         1|                    53|\n",
            "|1150002|01150|  R|        4583900|         527800|2019-12-30|           3|          E85| 669|2019|   12| 30|         1|                    53|\n",
            "|1210003|01210|  R|        4624400|         609500|2019-12-30|           3|          E85| 608|2019|   12| 30|         1|                    53|\n",
            "|1250005|01250|  A|4620355.8237727|529588.28488323|2019-12-30|           3|          E85| 829|2019|   12| 30|         1|                    53|\n",
            "|1250005|01250|  A|4620355.8237727|529588.28488323|2019-12-31|           3|          E85| 829|2019|   12| 31|         1|                    53|\n",
            "|1430005|01430|  A|        4612370|         549956|2019-12-30|           3|          E85| 819|2019|   12| 30|         1|                    53|\n",
            "|1430005|01430|  A|        4612370|         549956|2019-12-31|           3|          E85| 819|2019|   12| 31|         1|                    53|\n",
            "|1500007|01500|  R|        4597200|         533800|2019-12-30|           3|          E85| 599|2019|   12| 30|         1|                    53|\n",
            "|1500007|01500|  R|        4597200|         533800|2019-12-31|           3|          E85| 599|2019|   12| 31|         1|                    53|\n",
            "|2200013|02200|  R|  4938135.44743|  330178.391501|2019-12-30|           3|          E85| 669|2019|   12| 30|         1|                    53|\n",
            "|2200013|02200|  R|  4938135.44743|  330178.391501|2019-12-31|           3|          E85| 669|2019|   12| 31|         1|                    53|\n",
            "|2200014|02200|  R|        4936800|         332900|2019-12-30|           3|          E85| 669|2019|   12| 30|         1|                    53|\n",
            "+-------+-----+---+---------------+---------------+----------+------------+-------------+----+----+-----+---+----------+----------------------+\n",
            "only showing top 15 rows\n",
            "\n"
          ]
        },
        {
          "name": "stderr",
          "output_type": "stream",
          "text": [
            "                                                                                \r"
          ]
        },
        {
          "name": "stdout",
          "output_type": "stream",
          "text": [
            "+-------+-----+---+-------------+-------------+----------+------------+-------------+----+----+-----+---+----------+----------------------+\n",
            "| id_pdv|   cp|pop|     latitude|    longitude|      Date|id_carburant|nom_carburant|prix|Year|Month|Day|WeekOfYear|continuous_week_number|\n",
            "+-------+-----+---+-------------+-------------+----------+------------+-------------+----+----+-----+---+----------+----------------------+\n",
            "|1000012|01000|  R|      4620100|       520000|2021-12-20|           3|          E85| 699|2021|   12| 20|        51|                   156|\n",
            "|1000012|01000|  R|      4620100|       520000|2021-12-21|           3|          E85| 699|2021|   12| 21|        51|                   156|\n",
            "|1000012|01000|  R|      4620100|       520000|2021-12-22|           3|          E85| 699|2021|   12| 22|        51|                   156|\n",
            "|1000012|01000|  R|      4620100|       520000|2021-12-23|           3|          E85| 699|2021|   12| 23|        51|                   156|\n",
            "|1000012|01000|  R|      4620100|       520000|2021-12-24|           3|          E85| 699|2021|   12| 24|        51|                   156|\n",
            "|1000012|01000|  R|      4620100|       520000|2021-12-25|           3|          E85| 699|2021|   12| 25|        51|                   156|\n",
            "|1100007|01100|  R|      4624966|       564134|2021-12-20|           3|          E85| 729|2021|   12| 20|        51|                   156|\n",
            "|1100007|01100|  R|      4624966|       564134|2021-12-21|           3|          E85| 729|2021|   12| 21|        51|                   156|\n",
            "|1100007|01100|  R|      4624966|       564134|2021-12-22|           3|          E85| 729|2021|   12| 22|        51|                   156|\n",
            "|1100007|01100|  R|      4624966|       564134|2021-12-23|           3|          E85| 729|2021|   12| 23|        51|                   156|\n",
            "|1100007|01100|  R|      4624966|       564134|2021-12-24|           3|          E85| 729|2021|   12| 24|        51|                   156|\n",
            "|1100007|01100|  R|      4624966|       564134|2021-12-25|           3|          E85| 729|2021|   12| 25|        51|                   156|\n",
            "|1120005|01120|  R|      4584700|       504800|2021-12-21|           3|          E85| 659|2021|   12| 21|        51|                   156|\n",
            "|1120008|01120|  A|4584715.18044|507404.780227|2021-12-20|           3|          E85| 839|2021|   12| 20|        51|                   156|\n",
            "|1120008|01120|  A|4584715.18044|507404.780227|2021-12-21|           3|          E85| 839|2021|   12| 21|        51|                   156|\n",
            "+-------+-----+---+-------------+-------------+----------+------------+-------------+----+----+-----+---+----------+----------------------+\n",
            "only showing top 15 rows\n",
            "\n"
          ]
        },
        {
          "name": "stderr",
          "output_type": "stream",
          "text": [
            "[Stage 14:===========================================>              (3 + 1) / 4]\r"
          ]
        },
        {
          "name": "stdout",
          "output_type": "stream",
          "text": [
            "+-------+-----+---+-------------+-------------+----------+------------+-------------+----+----+-----+---+----------+----------------------+\n",
            "| id_pdv|   cp|pop|     latitude|    longitude|      Date|id_carburant|nom_carburant|prix|Year|Month|Day|WeekOfYear|continuous_week_number|\n",
            "+-------+-----+---+-------------+-------------+----------+------------+-------------+----+----+-----+---+----------+----------------------+\n",
            "|1000012|01000|  R|      4620100|       520000|2021-12-27|           3|          E85| 699|2021|   12| 27|        52|                   157|\n",
            "|1000012|01000|  R|      4620100|       520000|2021-12-28|           3|          E85| 699|2021|   12| 28|        52|                   157|\n",
            "|1000012|01000|  R|      4620100|       520000|2021-12-29|           3|          E85| 699|2021|   12| 29|        52|                   157|\n",
            "|1000012|01000|  R|      4620100|       520000|2021-12-30|           3|          E85| 719|2021|   12| 30|        52|                   157|\n",
            "|1000012|01000|  R|      4620100|       520000|2021-12-31|           3|          E85| 719|2021|   12| 31|        52|                   157|\n",
            "|1100007|01100|  R|      4624966|       564134|2021-12-27|           3|          E85| 729|2021|   12| 27|        52|                   157|\n",
            "|1100007|01100|  R|      4624966|       564134|2021-12-28|           3|          E85| 729|2021|   12| 28|        52|                   157|\n",
            "|1100007|01100|  R|      4624966|       564134|2021-12-29|           3|          E85| 729|2021|   12| 29|        52|                   157|\n",
            "|1100007|01100|  R|      4624966|       564134|2021-12-30|           3|          E85| 729|2021|   12| 30|        52|                   157|\n",
            "|1100007|01100|  R|      4624966|       564134|2021-12-31|           3|          E85| 729|2021|   12| 31|        52|                   157|\n",
            "|1120005|01120|  R|      4584700|       504800|2021-12-29|           3|          E85| 659|2021|   12| 29|        52|                   157|\n",
            "|1120008|01120|  A|4584715.18044|507404.780227|2021-12-27|           3|          E85| 839|2021|   12| 27|        52|                   157|\n",
            "|1120008|01120|  A|4584715.18044|507404.780227|2021-12-28|           3|          E85| 839|2021|   12| 28|        52|                   157|\n",
            "|1120008|01120|  A|4584715.18044|507404.780227|2021-12-29|           3|          E85| 839|2021|   12| 29|        52|                   157|\n",
            "|1120008|01120|  A|4584715.18044|507404.780227|2021-12-30|           3|          E85| 839|2021|   12| 30|        52|                   157|\n",
            "+-------+-----+---+-------------+-------------+----------+------------+-------------+----+----+-----+---+----------+----------------------+\n",
            "only showing top 15 rows\n",
            "\n"
          ]
        },
        {
          "name": "stderr",
          "output_type": "stream",
          "text": [
            "                                                                                \r"
          ]
        }
      ],
      "source": [
        "from pyspark.sql.functions import expr, to_date, year as year_col, date_sub\n",
        "\n",
        "def calculate_continuous_week_number(df, start_date, date_column, start_week_number=1):\n",
        "    # Convert the date column to a date type\n",
        "    df = df.withColumn(date_column, to_date(col(date_column)))\n",
        "    start_date = to_date(lit(start_date))\n",
        "    start_date = date_sub(start_date, dayofweek(start_date) - 2)\n",
        "\n",
        "    # Calculate the difference in days and then convert to weeks\n",
        "    days_diff = datediff(df[date_column], start_date)\n",
        "    weeks_diff = (days_diff / 7).cast('int')\n",
        "\n",
        "    return df.withColumn(\"continuous_week_number\", weeks_diff + 1)\n",
        "\n",
        "start_date = \"2019-01-01\"\n",
        "prices_df = calculate_continuous_week_number(prices_df, start_date, \"Date\")\n",
        "prices_df.filter(\"continuous_week_number =  0  AND id_carburant = 3\").show(15)\n",
        "prices_df.filter(\"continuous_week_number =  1  AND id_carburant = 3\").show(15)\n",
        "prices_df.filter(\"continuous_week_number =  53  AND id_carburant = 3\").show(15)\n",
        "prices_df.filter(\"continuous_week_number =  156 AND id_carburant = 3\").show(15)\n",
        "prices_df.filter(\"continuous_week_number =  157 AND id_carburant = 3\").show(15)"
      ]
    },
    {
      "cell_type": "code",
      "execution_count": 10,
      "metadata": {
        "colab": {
          "base_uri": "https://localhost:8080/"
        },
        "id": "tPOUvBm2bqjn",
        "outputId": "a0e8064d-589b-42d6-b770-6eb7508455b5"
      },
      "outputs": [
        {
          "name": "stderr",
          "output_type": "stream",
          "text": [
            "[Stage 16:===========================================>              (3 + 1) / 4]\r"
          ]
        },
        {
          "name": "stdout",
          "output_type": "stream",
          "text": [
            "+-------+-----+---+-------------+-------------+----------+------------+-------------+-----+----+-----+---+----------+----------------------+\n",
            "| id_pdv|   cp|pop|     latitude|    longitude|      Date|id_carburant|nom_carburant| prix|Year|Month|Day|WeekOfYear|continuous_week_number|\n",
            "+-------+-----+---+-------------+-------------+----------+------------+-------------+-----+----+-----+---+----------+----------------------+\n",
            "|1000012|01000|  R|      4620100|       520000|2022-01-03|           3|          E85|0.739|2022|   01| 03|         1|                   158|\n",
            "|1000012|01000|  R|      4620100|       520000|2022-01-04|           3|          E85|0.739|2022|   01| 04|         1|                   158|\n",
            "|1000012|01000|  R|      4620100|       520000|2022-01-05|           3|          E85|0.739|2022|   01| 05|         1|                   158|\n",
            "|1000012|01000|  R|      4620100|       520000|2022-01-06|           3|          E85|0.739|2022|   01| 06|         1|                   158|\n",
            "|1000012|01000|  R|      4620100|       520000|2022-01-07|           3|          E85|0.739|2022|   01| 07|         1|                   158|\n",
            "|1000012|01000|  R|      4620100|       520000|2022-01-08|           3|          E85|0.749|2022|   01| 08|         1|                   158|\n",
            "|1000012|01000|  R|      4620100|       520000|2022-01-09|           3|          E85|0.749|2022|   01| 09|         1|                   158|\n",
            "|1120004|01120|  R|      4585300|       505900|2022-01-03|           3|          E85|0.699|2022|   01| 03|         1|                   158|\n",
            "|1120004|01120|  R|      4585300|       505900|2022-01-06|           3|          E85|0.749|2022|   01| 06|         1|                   158|\n",
            "|1120005|01120|  R|      4584700|       504800|2022-01-05|           3|          E85|0.749|2022|   01| 05|         1|                   158|\n",
            "|1120008|01120|  A|4584715.18044|507404.780227|2022-01-03|           3|          E85|0.859|2022|   01| 03|         1|                   158|\n",
            "|1120008|01120|  A|4584715.18044|507404.780227|2022-01-04|           3|          E85|0.859|2022|   01| 04|         1|                   158|\n",
            "|1120008|01120|  A|4584715.18044|507404.780227|2022-01-05|           3|          E85|0.859|2022|   01| 05|         1|                   158|\n",
            "|1120008|01120|  A|4584715.18044|507404.780227|2022-01-06|           3|          E85|0.859|2022|   01| 06|         1|                   158|\n",
            "|1120008|01120|  A|4584715.18044|507404.780227|2022-01-07|           3|          E85|0.859|2022|   01| 07|         1|                   158|\n",
            "+-------+-----+---+-------------+-------------+----------+------------+-------------+-----+----+-----+---+----------+----------------------+\n",
            "only showing top 15 rows\n",
            "\n"
          ]
        },
        {
          "name": "stderr",
          "output_type": "stream",
          "text": [
            "                                                                                \r"
          ]
        }
      ],
      "source": [
        "prices_df.filter(\"continuous_week_number =  158 AND id_carburant = 3\").show(15)"
      ]
    },
    {
      "cell_type": "code",
      "execution_count": 11,
      "metadata": {
        "id": "yXogSO3Glfz3"
      },
      "outputs": [],
      "source": [
        "# # Filter out the Null observations\n",
        "# prices_df2 =  prices_df.withColumn('Date2', col(\"date\").cast(\"date\"))\n",
        "# prices_df2 = prices_df2.filter(col(\"Date2\").isNotNull())\n",
        "\n",
        "# # Create reference for first week\n",
        "# reference_date = spark.createDataFrame([(\"2019-01-01\",)], [\"reference_date\"])\n",
        "# reference_date = reference_date.withColumn(\"reference_date\", col(\"reference_date\").cast(\"date\"))\n",
        "# reference_week_number = lit(1)\n",
        "\n",
        "# # Calculate the week numbers based on the reference\n",
        "# prices_df2 = prices_df2.crossJoin(reference_date)\n",
        "# df = prices_df2.withColumn(\"continuous_week_number\", floor(datediff(col(\"date\"), col(\"reference_date\")) / 7) + reference_week_number)\n",
        "# df.filter(\"continuous_week_number =  53 AND id_carburant = 1\").show(5)\n",
        "# df.filter(\"continuous_week_number =  157 AND id_carburant = 1\").show(5)\n"
      ]
    },
    {
      "cell_type": "code",
      "execution_count": 12,
      "metadata": {
        "id": "RnuQ4Yoo1qM-"
      },
      "outputs": [],
      "source": [
        "# from pyspark.sql.window import Window\n",
        "# from pyspark.sql import functions as F\n",
        "# window_spec = Window.orderBy(\"Date\")\n",
        "\n",
        "# # Calculate the week index using the dense rank function\n",
        "# df = prices_df2.withColumn(\"Week_Index\", F.dense_rank().over(window_spec) - 1)"
      ]
    },
    {
      "cell_type": "code",
      "execution_count": 13,
      "metadata": {
        "id": "oR-01OkzkWsg"
      },
      "outputs": [],
      "source": [
        "# from pyspark.sql.functions import col, unix_timestamp, from_unixtime, weekofyear, datediff\n",
        "# df = prices_df.withColumn(\"date\", col(\"date\").cast(\"date\"))\n",
        "\n",
        "# # Convert the 'date' column to DateType\n",
        "# df = df.withColumn(\"date\", col(\"date\").cast(\"date\"))\n",
        "\n",
        "# # Find the minimum date in the DataFrame\n",
        "# min_date = df.agg({\"date\": \"min\"}).collect()[0][0]\n",
        "\n",
        "# # Calculate the difference in days from the minimum date using datediff\n",
        "# df = df.withColumn(\"WeekOfYear\", weekofyear(datediff(col(\"date\"), min_date.cast(\"date\"))) + 1)"
      ]
    },
    {
      "cell_type": "markdown",
      "metadata": {
        "id": "wvw5gmzL65oN"
      },
      "source": [
        "### Prepare latitude & longitude for mapping (Divide by the right power of 10) to map the latitude & longitude on a [0,1] scale, we identity two different constants"
      ]
    },
    {
      "cell_type": "code",
      "execution_count": 14,
      "metadata": {
        "id": "H8F6HjHh3Iu4"
      },
      "outputs": [],
      "source": [
        "# prices_df.printSchema()\n",
        "# services_df.printSchema()\n",
        "# stations_df.printSchema()\n",
        "from pyspark.sql.types import DoubleType\n",
        "\n",
        "prices_df = prices_df.withColumn(\"latitude_int\", col(\"latitude\").cast(\"Integer\"))\n",
        "prices_df = prices_df.withColumn(\"longitude_int\", col(\"longitude\").cast(\"Integer\"))\n",
        "prices_df = prices_df.withColumn(\"prix_int\", col(\"prix\").cast(DoubleType()))\n",
        "\n",
        "services_df = services_df.withColumn(\"latitude_int\", col(\"latitude\").cast(\"Integer\"))\n",
        "services_df = services_df.withColumn(\"longitude_int\", col(\"longitude\").cast(\"Integer\"))\n",
        "\n",
        "stations_df = services_df.withColumn(\"latitude_int\", col(\"latitude\").cast(\"Integer\"))\n",
        "stations_df = services_df.withColumn(\"longitude_int\", col(\"longitude\").cast(\"Integer\"))\n",
        "\n",
        "# prices_df.printSchema()\n",
        "# services_df.printSchema()\n",
        "# stations_df.printSchema()"
      ]
    },
    {
      "cell_type": "code",
      "execution_count": 15,
      "metadata": {
        "id": "VceUXLASwuNf"
      },
      "outputs": [],
      "source": [
        "division_constant_latitude = 10**7\n",
        "division_constant_longitude = 10**6\n",
        "\n",
        "dataframes = [prices_df, stations_df, services_df]\n",
        "\n",
        "for i in range(len(dataframes)):\n",
        "    dataframes[i] = dataframes[i].withColumn('latitude_adj', col('latitude_int') / division_constant_latitude)\n",
        "    dataframes[i] = dataframes[i].withColumn('longitude_adj', col('longitude_int') / division_constant_longitude)\n",
        "\n",
        "prices_df, stations_df, services_df = dataframes"
      ]
    },
    {
      "cell_type": "code",
      "execution_count": 16,
      "metadata": {
        "colab": {
          "base_uri": "https://localhost:8080/"
        },
        "id": "wmBPxctYzxK5",
        "outputId": "305f1a7b-506f-4dfa-81a9-c57a3e8a9077"
      },
      "outputs": [
        {
          "name": "stdout",
          "output_type": "stream",
          "text": [
            "+-------+-----+---+-------------+-------------+----+------------+-------------+----+----+-----+----+----------+----------------------+------------+-------------+--------+------------+-------------+\n",
            "| id_pdv|   cp|pop|     latitude|    longitude|Date|id_carburant|nom_carburant|prix|Year|Month| Day|WeekOfYear|continuous_week_number|latitude_int|longitude_int|prix_int|latitude_adj|longitude_adj|\n",
            "+-------+-----+---+-------------+-------------+----+------------+-------------+----+----+-----+----+----------+----------------------+------------+-------------+--------+------------+-------------+\n",
            "|1000005|01000|  R|4620093.59235|519942.024022|NULL|        NULL|         NULL|NULL|NULL| NULL|NULL|      NULL|                  NULL|     4620093|       519942|    NULL|   0.4620093|     0.519942|\n",
            "|1000006|01000|  R|      4620754|       523758|NULL|        NULL|         NULL|NULL|NULL| NULL|NULL|      NULL|                  NULL|     4620754|       523758|    NULL|   0.4620754|     0.523758|\n",
            "|1000010|01000|  R|4619851.83794|524350.637881|NULL|        NULL|         NULL|NULL|NULL| NULL|NULL|      NULL|                  NULL|     4619851|       524350|    NULL|   0.4619851|      0.52435|\n",
            "|1100002|01100|  R|      4625000|       564400|NULL|        NULL|         NULL|NULL|NULL| NULL|NULL|      NULL|                  NULL|     4625000|       564400|    NULL|      0.4625|       0.5644|\n",
            "|1100003|01100|  R|      4624966|       564134|NULL|        NULL|         NULL|NULL|NULL| NULL|NULL|      NULL|                  NULL|     4624966|       564134|    NULL|   0.4624966|     0.564134|\n",
            "|1120002|01120|  A|4584715.18044|507404.780227|NULL|        NULL|         NULL|NULL|NULL| NULL|NULL|      NULL|                  NULL|     4584715|       507404|    NULL|   0.4584715|     0.507404|\n",
            "|1120003|01120|  A|      4585103|       505543|NULL|        NULL|         NULL|NULL|NULL| NULL|NULL|      NULL|                  NULL|     4585103|       505543|    NULL|   0.4585103|     0.505543|\n",
            "|1130001|01130|  R|      4615785|       560352|NULL|        NULL|         NULL|NULL|NULL| NULL|NULL|      NULL|                  NULL|     4615785|       560352|    NULL|   0.4615785|     0.560352|\n",
            "|1160001|01160|  R|4605335.06156|533741.036717|NULL|        NULL|         NULL|NULL|NULL| NULL|NULL|      NULL|                  NULL|     4605335|       533741|    NULL|   0.4605335|     0.533741|\n",
            "|1200004|01200|  R|         NULL|         NULL|NULL|        NULL|         NULL|NULL|NULL| NULL|NULL|      NULL|                  NULL|        NULL|         NULL|    NULL|        NULL|         NULL|\n",
            "+-------+-----+---+-------------+-------------+----+------------+-------------+----+----+-----+----+----------+----------------------+------------+-------------+--------+------------+-------------+\n",
            "only showing top 10 rows\n",
            "\n"
          ]
        }
      ],
      "source": [
        "# Check if all columns contain values or some have NULL (missing) value\n",
        "rows_null = prices_df.where(\n",
        "    col(\"prix_int\").isNull() |\n",
        "    col(\"id_carburant\").isNull() |\n",
        "    col(\"Year\").isNull()\n",
        ")\n",
        "rows_null.show(10)"
      ]
    },
    {
      "cell_type": "code",
      "execution_count": 17,
      "metadata": {
        "id": "C4VF4S64_1rd"
      },
      "outputs": [],
      "source": [
        "# Delete missing values\n",
        "prices_df_without_null = prices_df.na.drop()"
      ]
    },
    {
      "cell_type": "code",
      "execution_count": 18,
      "metadata": {
        "colab": {
          "base_uri": "https://localhost:8080/"
        },
        "id": "eMEnXW-UrVNO",
        "outputId": "65e5df5d-ff54-4fd7-e7e1-8bc15a45f6fd"
      },
      "outputs": [
        {
          "name": "stderr",
          "output_type": "stream",
          "text": [
            "[Stage 18:==============================================>           (4 + 1) / 5]\r"
          ]
        },
        {
          "name": "stdout",
          "output_type": "stream",
          "text": [
            "+--------+-----+---+---------------+----------------+----------+------------+-------------+-----+----+-----+---+----------+----------------------+------------+-------------+--------+------------+-------------+--------+\n",
            "|  id_pdv|   cp|pop|       latitude|       longitude|      Date|id_carburant|nom_carburant| prix|Year|Month|Day|WeekOfYear|continuous_week_number|latitude_int|longitude_int|prix_int|latitude_adj|longitude_adj|prix_adj|\n",
            "+--------+-----+---+---------------+----------------+----------+------------+-------------+-----+----+-----+---+----------+----------------------+------------+-------------+--------+------------+-------------+--------+\n",
            "|31140008|31140|  R|        4369000|          145200|2022-10-14|           1|       Gazole|9.999|2022|   10| 14|        41|                   198|     4369000|       145200|   9.999|      0.4369|       0.1452|   9.999|\n",
            "| 5240001|05240|  R|        4494700|          655900|2022-03-05|           1|       Gazole|9.999|2022|   03| 05|         9|                   166|     4494700|       655900|   9.999|     0.44947|       0.6559|   9.999|\n",
            "|25800002|25800|  R|        4714800|          633500|2022-07-25|           2|         SP95|9.999|2022|   07| 25|        30|                   187|     4714800|       633500|   9.999|     0.47148|       0.6335|   9.999|\n",
            "| 5240001|05240|  R|        4494700|          655900|2022-06-24|           1|       Gazole|9.999|2022|   06| 24|        25|                   182|     4494700|       655900|   9.999|     0.44947|       0.6559|   9.999|\n",
            "|25800002|25800|  R|        4714800|          633500|2022-07-25|           2|         SP95|9.999|2022|   07| 25|        30|                   187|     4714800|       633500|   9.999|     0.47148|       0.6335|   9.999|\n",
            "| 5240001|05240|  R|        4494700|          655900|2022-03-05|           5|          E10|9.999|2022|   03| 05|         9|                   166|     4494700|       655900|   9.999|     0.44947|       0.6559|   9.999|\n",
            "|25800002|25800|  R|        4714800|          633500|2022-07-26|           2|         SP95|9.999|2022|   07| 26|        30|                   187|     4714800|       633500|   9.999|     0.47148|       0.6335|   9.999|\n",
            "| 5240001|05240|  R|        4494700|          655900|2022-06-24|           5|          E10|9.999|2022|   06| 24|        25|                   182|     4494700|       655900|   9.999|     0.44947|       0.6559|   9.999|\n",
            "|25800002|25800|  R|        4714800|          633500|2022-07-26|           2|         SP95|9.999|2022|   07| 26|        30|                   187|     4714800|       633500|   9.999|     0.47148|       0.6335|   9.999|\n",
            "| 5240001|05240|  R|        4494700|          655900|2022-03-05|           6|         SP98|9.999|2022|   03| 05|         9|                   166|     4494700|       655900|   9.999|     0.44947|       0.6559|   9.999|\n",
            "|25800002|25800|  R|        4714800|          633500|2022-07-26|           2|         SP95|9.999|2022|   07| 26|        30|                   187|     4714800|       633500|   9.999|     0.47148|       0.6335|   9.999|\n",
            "| 5240001|05240|  R|        4494700|          655900|2022-06-24|           6|         SP98|9.999|2022|   06| 24|        25|                   182|     4494700|       655900|   9.999|     0.44947|       0.6559|   9.999|\n",
            "|25800002|25800|  R|        4714800|          633500|2022-07-25|           5|          E10|9.999|2022|   07| 25|        30|                   187|     4714800|       633500|   9.999|     0.47148|       0.6335|   9.999|\n",
            "|44720005|44720|  R|4738623.2393331|-220349.03965864|2022-04-26|           6|         SP98|9.999|2022|   04| 26|        17|                   174|     4738623|      -220349|   9.999|   0.4738623|    -0.220349|   9.999|\n",
            "|25800002|25800|  R|        4714800|          633500|2022-07-25|           5|          E10|9.999|2022|   07| 25|        30|                   187|     4714800|       633500|   9.999|     0.47148|       0.6335|   9.999|\n",
            "|70004001|70004|  R|        4763500|          615700|2022-03-30|           1|       Gazole|9.999|2022|   03| 30|        13|                   170|     4763500|       615700|   9.999|     0.47635|       0.6157|   9.999|\n",
            "|25800002|25800|  R|        4714800|          633500|2022-07-26|           5|          E10|9.999|2022|   07| 26|        30|                   187|     4714800|       633500|   9.999|     0.47148|       0.6335|   9.999|\n",
            "|25800002|25800|  R|        4714800|          633500|2022-07-26|           5|          E10|9.999|2022|   07| 26|        30|                   187|     4714800|       633500|   9.999|     0.47148|       0.6335|   9.999|\n",
            "|25800002|25800|  R|        4714800|          633500|2022-07-26|           5|          E10|9.999|2022|   07| 26|        30|                   187|     4714800|       633500|   9.999|     0.47148|       0.6335|   9.999|\n",
            "| 2000005|02000|  R|        4956900|          364600|2022-10-11|           1|       Gazole|9.999|2022|   10| 11|        41|                   198|     4956900|       364600|   9.999|     0.49569|       0.3646|   9.999|\n",
            "+--------+-----+---+---------------+----------------+----------+------------+-------------+-----+----+-----+---+----------+----------------------+------------+-------------+--------+------------+-------------+--------+\n",
            "only showing top 20 rows\n",
            "\n"
          ]
        },
        {
          "name": "stderr",
          "output_type": "stream",
          "text": [
            "                                                                                \r"
          ]
        }
      ],
      "source": [
        "# Prices in the dataframes 2019-2021 are given in mili-euros, whereas the prices\n",
        "# in the dataframes 2022S1 and 2022S2 are given in euros. Divide by 1000 to get\n",
        "# the same scale\n",
        "\n",
        "division_constant_prix = 1000\n",
        "condition = (col(\"Year\") != \"2022\")\n",
        "prices_df_without_null_adj = prices_df_without_null.withColumn('prix_adj', when(condition, col('prix_int') / division_constant_prix).otherwise(col('prix_int')))\n",
        "\n",
        "ordered_df = prices_df_without_null_adj.orderBy(desc(\"prix_adj\"))\n",
        "ordered_df.show()"
      ]
    },
    {
      "cell_type": "markdown",
      "metadata": {
        "id": "Tr22TmKb7HGp"
      },
      "source": [
        "### Make data available as a table in order to be able to use Spark SQL"
      ]
    },
    {
      "cell_type": "code",
      "execution_count": 19,
      "metadata": {
        "id": "jJ4uIeAeze70"
      },
      "outputs": [],
      "source": [
        "prices_df_without_null_adj.createOrReplaceTempView(\"Gas_prices\")\n",
        "stations_df.createOrReplaceTempView(\"Stations\")\n",
        "services_df.createOrReplaceTempView(\"Services\")"
      ]
    },
    {
      "cell_type": "markdown",
      "metadata": {
        "id": "lPOsyPpO7LbA"
      },
      "source": [
        "### Through basic statistics, consider which gas types have some interest for the rest of the project\n"
      ]
    },
    {
      "cell_type": "code",
      "execution_count": 20,
      "metadata": {
        "id": "36SplyRi1iXv"
      },
      "outputs": [],
      "source": [
        "# # Idenitify the different gas types\n",
        "# spark.sql(\"\"\"\n",
        "#   SELECT DISTINCT nom_carburant\n",
        "#   FROM Gas_prices\n",
        "# \"\"\").show()"
      ]
    },
    {
      "cell_type": "code",
      "execution_count": 21,
      "metadata": {
        "id": "-jYJ9WWchN1m"
      },
      "outputs": [],
      "source": [
        "# # Identify the different gas types\n",
        "# spark.sql(\"\"\"\n",
        "#   SELECT DISTINCT nom_carburant\n",
        "#   FROM Gas_prices\n",
        "#   WHERE nom_carburant IS NULL\n",
        "# \"\"\").count()"
      ]
    },
    {
      "cell_type": "code",
      "execution_count": 22,
      "metadata": {
        "id": "_0o4L2Eln9f_"
      },
      "outputs": [],
      "source": [
        "# spark.sql(\"\"\"\n",
        "#   SELECT *\n",
        "#   FROM Gas_prices\n",
        "#   WHERE nom_carburant IS NULL\n",
        "# \"\"\").show()"
      ]
    },
    {
      "cell_type": "code",
      "execution_count": 23,
      "metadata": {
        "colab": {
          "base_uri": "https://localhost:8080/"
        },
        "id": "T8e5X6Iu3QaZ",
        "outputId": "47562d09-9135-4a8f-bd8a-feabfae833a8"
      },
      "outputs": [
        {
          "name": "stderr",
          "output_type": "stream",
          "text": [
            "[Stage 19:==============================================>           (4 + 1) / 5]\r"
          ]
        },
        {
          "name": "stdout",
          "output_type": "stream",
          "text": [
            "+-------------+-------+------------------+-------------------+-----+-----+\n",
            "|nom_carburant|  count|              mean|             stddev|  min|  max|\n",
            "+-------------+-------+------------------+-------------------+-----+-----+\n",
            "|          E10|4357845|1.5622816031784394|0.20413587329806365|0.001|9.999|\n",
            "|         SP98|4433584|   1.6510165051568| 0.2127089510266803|0.001|9.999|\n",
            "|          E85|1141058|0.7419075568464791|0.09760913013459967|0.001|9.969|\n",
            "|       Gazole|5273314|1.5377435371772963| 0.2558945897235682|0.001|9.999|\n",
            "|         SP95|1327084|1.5822859781293965|0.20949648148984476|0.004|9.999|\n",
            "|         GPLc| 753286|0.8716661161898648|0.08613000973919263|0.001|  7.0|\n",
            "+-------------+-------+------------------+-------------------+-----+-----+\n",
            "\n"
          ]
        },
        {
          "name": "stderr",
          "output_type": "stream",
          "text": [
            "                                                                                \r"
          ]
        }
      ],
      "source": [
        "# Inspect summary statistics for different gas types\n",
        "spark.sql(\"\"\"\n",
        "    SELECT\n",
        "        nom_carburant,\n",
        "        COUNT(*) as count,\n",
        "        AVG(prix_adj) as mean,\n",
        "        STDDEV(prix_adj) as stddev,\n",
        "        MIN(prix_adj) as min,\n",
        "        MAX(prix_adj) as max\n",
        "    FROM\n",
        "        Gas_prices\n",
        "    GROUP BY\n",
        "        nom_carburant\n",
        "\"\"\").show()"
      ]
    },
    {
      "cell_type": "code",
      "execution_count": 24,
      "metadata": {
        "id": "OBzoKNMrZsxa"
      },
      "outputs": [],
      "source": [
        "# spark.sql(\"\"\"\n",
        "# SELECT\n",
        "# nom_carburant,\n",
        "# MAX(prix_adj) as max\n",
        "# FROM Gas_prices\n",
        "# GROUP BY\n",
        "# nom_carburant\"\"\").show()"
      ]
    },
    {
      "cell_type": "markdown",
      "metadata": {
        "id": "GH2x2HDH7V4i"
      },
      "source": [
        "## Data Preparation - step 2\n",
        "* Compute price index for each station per week:\n"
      ]
    },
    {
      "cell_type": "code",
      "execution_count": 25,
      "metadata": {
        "id": "ET4wyuqwBvZ9"
      },
      "outputs": [],
      "source": [
        "# valid_combinations = prices_df_without_null.groupBy(\"id_pdv\", \"nom_carburant\").agg(F.count(\"prix\").alias(\"count_prix\")).filter(\"count_prix > 0\")"
      ]
    },
    {
      "cell_type": "code",
      "execution_count": 26,
      "metadata": {
        "id": "COP9-Y5HFfbH"
      },
      "outputs": [],
      "source": [
        "# joined_df = prices_df_without_null.join(valid_combinations, [\"id_pdv\", \"nom_carburant\"], \"inner\")\n",
        "# joined_df.show()"
      ]
    },
    {
      "cell_type": "code",
      "execution_count": 27,
      "metadata": {
        "id": "2PxQ-Er_7_xy"
      },
      "outputs": [],
      "source": [
        "# price_index_df = (prices_df_without_null\n",
        "#   .groupBy(\"Date\", \"id_pdv\", \"nom_carburant\")\n",
        "#   .agg(\n",
        "#     avg(\"prix\").alias(\"mean_price\")\n",
        "#   )\n",
        "# )\n",
        "\n",
        "# price_index_df_France = (prices_df_without_null\n",
        "#     .groupBy(\"Date\", \"nom_carburant\")\n",
        "#     .agg(\n",
        "#         avg(\"prix\").alias(\"mean_price\")\n",
        "#     )\n",
        "#   )\n",
        "\n",
        "\n",
        "# price_index_df.show()"
      ]
    },
    {
      "cell_type": "code",
      "execution_count": 28,
      "metadata": {
        "id": "Nfed5FoH8izX"
      },
      "outputs": [],
      "source": [
        "# price_index_df_France = (prices_df_without_null\n",
        "#     .groupBy(\"Date\", \"nom_carburant\")\n",
        "#     .agg(\n",
        "#         avg(\"prix\").alias(\"mean_price\")\n",
        "#     )\n",
        "#   )\n",
        "\n",
        "# price_index_df_France.show()"
      ]
    },
    {
      "cell_type": "code",
      "execution_count": 29,
      "metadata": {
        "colab": {
          "base_uri": "https://localhost:8080/"
        },
        "id": "QGT4aR6eTOMO",
        "outputId": "20e28488-48c9-4260-9331-a161d80afb6f"
      },
      "outputs": [],
      "source": [
        "# # Idenitify the different stations\n",
        "# result_df = spark.sql(\"\"\"\n",
        "#   SELECT DISTINCT id_pdv\n",
        "#   FROM Stationsfrom pyspark.sql import Window\n",
        "from pyspark.sql.functions import lag\n",
        "# \"\"\").count()\n",
        "\n",
        "# print(result_df)"
      ]
    },
    {
      "cell_type": "code",
      "execution_count": 30,
      "metadata": {
        "id": "vnShgsW3U_qV"
      },
      "outputs": [],
      "source": [
        "# # Compute price index\n",
        "\n",
        "# # Average week price for each gas type\n",
        "# average_price_gas_type = (\n",
        "#     prices_df\n",
        "#     .groupBy(\"id_carburant\", \"WeekOfYear\")\n",
        "#     .agg(F.avg(\"prix\")\n",
        "#     .alias(\"avg_price\"))\n",
        "# )"
      ]
    },
    {
      "cell_type": "code",
      "execution_count": 31,
      "metadata": {
        "id": "VY84K80gn_0P"
      },
      "outputs": [],
      "source": [
        "# prices_stations_df = prices_df.join(stations_df, \"id_pdv\")\n",
        "\n",
        "# average_week_price_per_station_gas_type = (\n",
        "#     prices_stations_df\n",
        "#     .groupBy(\"id_carburant\", \"id_pdv\", \"WeekOfYear\")\n",
        "#     .agg(F.avg(\"prix\").alias(\"avg_week_price\"))\n",
        "#     )\n",
        "\n",
        "# average_week_price_per_station_gas_type.show()\n"
      ]
    },
    {
      "cell_type": "code",
      "execution_count": 32,
      "metadata": {
        "id": "mgY54l6pHDoq"
      },
      "outputs": [],
      "source": [
        "# # Join prices_df and stations_df on \"id_pdv\"\n",
        "# prices_stations_df = prices_df.join(stations_df, \"id_pdv\")\n",
        "\n",
        "# # Order the DataFrame by \"id_carburant\", \"id_pdv\", and \"WeekOfYear\"\n",
        "# sorted_average_week_price = (\n",
        "#     average_week_price_per_station_gas_type\n",
        "#     .orderBy(\"id_pdv\", \"id_carburant\", \"WeekOfYear\")\n",
        "# )\n",
        "\n",
        "# # Show the sorted DataFrame\n",
        "# selected_row = sorted_average_week_price.filter((sorted_average_week_price[\"\"]))\n"
      ]
    },
    {
      "cell_type": "markdown",
      "metadata": {
        "id": "qclVBO8mVEe6"
      },
      "source": [
        "## Data Visualization\n",
        "* Represent the weekly evolution of average gas price over France such as:\n",
        "- Each gas type is a line\n",
        "- X coordinates is the week index\n",
        "- Y coordinates is the average price for gas type in France over week index\n",
        "\n"
      ]
    },
    {
      "cell_type": "code",
      "execution_count": 33,
      "metadata": {
        "id": "WpPky7uvVvru"
      },
      "outputs": [],
      "source": [
        "# # Compute price index\n",
        "\n",
        "# # Average week price for each gas type\n",
        "# average_price_gas_type = (\n",
        "#     prices_df\n",
        "#     .groupBy(\"id_carburant\", \"WeekOfYear\", \"Year\")\n",
        "#     .agg(F.avg(\"prix\")\n",
        "#     .alias(\"avg_price\"))\n",
        "# )\n",
        "\n",
        "# filtered_average_price_gas_type = (\n",
        "#     average_price_gas_type\n",
        "#     .filter(average_price_gas_type[\"id_carburant\"].isNotNull())\n",
        "#     .where(\"Year = 2019\")\n",
        "# )\n",
        "\n",
        "# sorted_average_price_gas_type = (\n",
        "#     filtered_average_price_gas_type\n",
        "#     .orderBy(\"id_carburant\", \"WeekOfYear\")\n",
        "# )\n",
        "\n",
        "\n",
        "# #average_price_gas_type.show()\n",
        "# sorted_average_price_gas_type.show()"
      ]
    },
    {
      "cell_type": "code",
      "execution_count": 34,
      "metadata": {
        "colab": {
          "base_uri": "https://localhost:8080/"
        },
        "id": "8QWCl8PyH1iR",
        "outputId": "d36d56eb-41ce-45a6-a630-6c78a1a0f678"
      },
      "outputs": [
        {
          "name": "stderr",
          "output_type": "stream",
          "text": [
            "[Stage 22:==============================================>           (4 + 1) / 5]\r"
          ]
        },
        {
          "name": "stdout",
          "output_type": "stream",
          "text": [
            "+-------------+----------------------+------------------+\n",
            "|nom_carburant|continuous_week_number|         avg_price|\n",
            "+-------------+----------------------+------------------+\n",
            "|          E10|                     1|1.3946983350279656|\n",
            "|          E10|                     2|1.4015876641650966|\n",
            "|          E10|                     3|1.4145244974007174|\n",
            "|          E10|                     4|1.4237141221175194|\n",
            "|          E10|                     5|1.4230968766543028|\n",
            "|          E10|                     6| 1.425286288546261|\n",
            "|          E10|                     7|1.4287733672857899|\n",
            "|          E10|                     8|  1.44895776260734|\n",
            "|          E10|                     9|1.4576603250927698|\n",
            "|          E10|                    10|1.4604344662772084|\n",
            "|          E10|                    11|1.4699275783357664|\n",
            "|          E10|                    12|1.4819498392611072|\n",
            "|          E10|                    13|1.5059626681910157|\n",
            "|          E10|                    14| 1.527703061080525|\n",
            "|          E10|                    15|1.5466365516290337|\n",
            "|          E10|                    16|1.5530038731760007|\n",
            "|          E10|                    17| 1.565552016875892|\n",
            "|          E10|                    18|1.5703479681437795|\n",
            "|          E10|                    19| 1.566355126300164|\n",
            "|          E10|                    20|1.5652402415893074|\n",
            "+-------------+----------------------+------------------+\n",
            "only showing top 20 rows\n",
            "\n"
          ]
        },
        {
          "name": "stderr",
          "output_type": "stream",
          "text": [
            "                                                                                \r"
          ]
        }
      ],
      "source": [
        "# Compute price index\n",
        "# NEW\n",
        "# Average week price for each gas type\n",
        "average_price_gas_type = (\n",
        "    prices_df_without_null_adj\n",
        "    .groupBy(\"nom_carburant\", \"continuous_week_number\")\n",
        "    .agg(F.avg(\"prix_adj\")\n",
        "    .alias(\"avg_price\"))\n",
        ")\n",
        "\n",
        "filtered_average_price_gas_type = (\n",
        "    average_price_gas_type\n",
        "    .filter(average_price_gas_type[\"nom_carburant\"].isNotNull())\n",
        ")\n",
        "\n",
        "sorted_average_price_gas_type = (\n",
        "    filtered_average_price_gas_type\n",
        "    .orderBy(\"nom_carburant\", \"continuous_week_number\")\n",
        ")\n",
        "\n",
        "#average_price_gas_type.show()\n",
        "sorted_average_price_gas_type.show()"
      ]
    },
    {
      "cell_type": "code",
      "execution_count": 35,
      "metadata": {
        "colab": {
          "base_uri": "https://localhost:8080/"
        },
        "id": "hVfXr8cMR4Wi",
        "outputId": "45358df7-7ceb-4877-9c3c-d7990b6fe173"
      },
      "outputs": [
        {
          "name": "stderr",
          "output_type": "stream",
          "text": [
            "[Stage 25:==================================>                       (3 + 2) / 5]\r"
          ]
        },
        {
          "name": "stdout",
          "output_type": "stream",
          "text": [
            "+-------------+----------------------+---------+\n",
            "|nom_carburant|continuous_week_number|avg_price|\n",
            "+-------------+----------------------+---------+\n",
            "+-------------+----------------------+---------+\n",
            "\n"
          ]
        }
      ],
      "source": [
        "filtered_average_price_gas_type.filter(filtered_average_price_gas_type[\"nom_carburant\"] == 3).orderBy(\"continuous_week_number\").show(250, False)"
      ]
    },
    {
      "cell_type": "code",
      "execution_count": 36,
      "metadata": {
        "id": "jHEiAqMYdWpF"
      },
      "outputs": [],
      "source": [
        "# Alternative for plotting gas types separately\n",
        "\n",
        "# Convert PySpark DataFrame to Pandas DataFrame\n",
        "# pandas_df = sorted_average_price_gas_type.toPandas()\n",
        "\n",
        "# sns.set(style=\"whitegrid\")\n",
        "\n",
        "# # Create a FacetGrid with gas types as columns\n",
        "# sns.set(style=\"whitegrid\")\n",
        "# g = sns.FacetGrid(pandas_df, col=\"id_carburant\", col_wrap=3, height=4, sharey=False)\n",
        "\n",
        "# # Map the line plot to the FacetGrid\n",
        "# g.map(sns.lineplot, \"WeekOfYear\", \"avg_price\")\n",
        "# g.set_axis_labels(\"Week of Year\", \"Average Price\")\n",
        "# g.set_titles(col_template=\"{col_name}\")\n",
        "\n",
        "# plt.tight_layout()\n",
        "# plt.show()\n"
      ]
    },
    {
      "cell_type": "code",
      "execution_count": 37,
      "metadata": {
        "colab": {
          "base_uri": "https://localhost:8080/",
          "height": 727
        },
        "id": "J-UiYncpfJ_P",
        "outputId": "8f305c7d-40cc-4d80-83d9-78c7178971e2"
      },
      "outputs": [
        {
          "name": "stderr",
          "output_type": "stream",
          "text": [
            "                                                                                \r"
          ]
        },
        {
          "data": {
            "image/png": "[encoded data removed]",
            "text/plain": [
              "<Figure size 1200x800 with 1 Axes>"
            ]
          },
          "metadata": {},
          "output_type": "display_data"
        }
      ],
      "source": [
        "# Convert PySpark DataFrame to Pandas DataFrame\n",
        "pandas_df = sorted_average_price_gas_type.toPandas()\n",
        "\n",
        "# Initialize Seaborn\n",
        "sns.set(style=\"whitegrid\")\n",
        "\n",
        "# Create a line plot for each gas type\n",
        "plt.figure(figsize=(12, 8))\n",
        "sns.lineplot(data=pandas_df, x=\"continuous_week_number\", y=\"avg_price\", hue=\"nom_carburant\", marker=\"o\", markersize=8, linewidth=2)\n",
        "plt.title(\"Weekly Evolution of Average Gas Prices by Gas Type\")\n",
        "plt.xlabel(\"Week of Year\")\n",
        "plt.ylabel(\"Average Price\")\n",
        "plt.legend(title=\"Gas Type\")\n",
        "\n",
        "# Show the plot\n",
        "plt.show()"
      ]
    },
    {
      "cell_type": "markdown",
      "metadata": {
        "id": "nvsu0HUvcCFF"
      },
      "source": [
        "### Data Visualization Bonus\n",
        "* Represent a map for each gas type of France geo heat maps of price indexes, for example at department level"
      ]
    },
    {
      "cell_type": "markdown",
      "metadata": {
        "id": "DOyBybFycsyG"
      },
      "source": [
        "## Modeling - Forecast next day price\n",
        "* Build a model based on Spark ML to forecast the next day price for gas type in a station\n",
        "(Do not consider using time series models but rely on existing techniques from Spark ML / MLLib such as LInearRegression, RandomForestRegressor\n",
        "* Provide relevant accuracy measures and a relevant dispersion plot between actual and forecast\n"
      ]
    },
    {
      "cell_type": "markdown",
      "metadata": {
        "id": "X0yIcZzLfTTX"
      },
      "source": [
        "### Variables to be used in regression\n",
        "* prix (number; gas price)\n",
        "* latitude_adj and longitude_adj (number; station information)\n",
        "* id_carburant (number; gas type)\n"
      ]
    },
    {
      "cell_type": "code",
      "execution_count": 38,
      "metadata": {
        "colab": {
          "base_uri": "https://localhost:8080/"
        },
        "id": "RP1_K68_Q0Ub",
        "outputId": "b15fd220-5edc-4d6b-d48a-543dc93229e3"
      },
      "outputs": [
        {
          "name": "stdout",
          "output_type": "stream",
          "text": [
            "root\n",
            " |-- id_pdv: string (nullable = true)\n",
            " |-- cp: string (nullable = true)\n",
            " |-- pop: string (nullable = true)\n",
            " |-- latitude: string (nullable = true)\n",
            " |-- longitude: string (nullable = true)\n",
            " |-- Date: date (nullable = true)\n",
            " |-- id_carburant: string (nullable = true)\n",
            " |-- nom_carburant: string (nullable = true)\n",
            " |-- prix: string (nullable = true)\n",
            " |-- Year: string (nullable = true)\n",
            " |-- Month: string (nullable = true)\n",
            " |-- Day: string (nullable = true)\n",
            " |-- WeekOfYear: integer (nullable = true)\n",
            " |-- continuous_week_number: integer (nullable = true)\n",
            " |-- latitude_int: integer (nullable = true)\n",
            " |-- longitude_int: integer (nullable = true)\n",
            " |-- prix_int: double (nullable = true)\n",
            " |-- latitude_adj: double (nullable = true)\n",
            " |-- longitude_adj: double (nullable = true)\n",
            " |-- prix_adj: double (nullable = true)\n",
            "\n"
          ]
        }
      ],
      "source": [
        "prices_df_without_null_adj.printSchema()\n",
        "\n",
        "\n",
        "\n",
        "\n"
      ]
    },
    {
      "cell_type": "code",
      "execution_count": 39,
      "metadata": {
        "id": "Mj7ZxytOu_tJ"
      },
      "outputs": [],
      "source": [
        "from pyspark.sql import Window\n",
        "from pyspark.sql.functions import lag\n",
        "\n",
        "\n",
        "# Assume df is your DataFrame and it has columns 'latitude', 'longitude', 'population', 'price' and 'time'\n",
        "window = Window.partitionBy('id_pdv', 'nom_carburant').orderBy('Date')\n",
        "prices_df_without_null_adj = prices_df_without_null_adj.withColumn('lagged_price', lag('prix_adj').over(window))"
      ]
    },
    {
      "cell_type": "code",
      "execution_count": 40,
      "metadata": {
        "colab": {
          "base_uri": "https://localhost:8080/"
        },
        "id": "_C1uHYTiqcR0",
        "outputId": "3d99d428-1c61-4a56-f5bc-39e1425650fb"
      },
      "outputs": [],
      "source": [
        "test = prices_df_without_null_adj[prices_df_without_null_adj[\"Day\"] == \"13\"]"
      ]
    },
    {
      "cell_type": "code",
      "execution_count": 45,
      "metadata": {
        "id": "88cqiMqjQ0SI"
      },
      "outputs": [
        {
          "name": "stderr",
          "output_type": "stream",
          "text": [
            "                                                                                \r"
          ]
        }
      ],
      "source": [
        "from pyspark.sql import SparkSession\n",
        "from pyspark.ml.feature import StringIndexer, OneHotEncoder, VectorAssembler\n",
        "from pyspark.ml.regression import RandomForestRegressor\n",
        "from pyspark.ml import Pipeline\n",
        "\n",
        "\n",
        "\n",
        "# OneHotEncode the population column\n",
        "pop_indexer = StringIndexer(inputCol = \"pop\", outputCol = \"pop_string\")\n",
        "ohe_pop = OneHotEncoder(inputCol = \"pop_string\", outputCol = \"ohe_pop\")\n",
        "\n",
        "# OneHotEncode the gas column\n",
        "gas_indexer = StringIndexer(inputCol = \"nom_carburant\", outputCol = \"carburant_string\")\n",
        "ohe_gas = OneHotEncoder(inputCol = \"carburant_string\", outputCol = \"ohe_carburant\")\n",
        "\n",
        "assembler = VectorAssembler(inputCols = [\"ohe_pop\", \"ohe_carburant\", \"latitude_adj\", \"longitude_adj\", \"WeekOfYear\", \"lagged_price\"],\n",
        "                            outputCol = \"features\",\n",
        "                            handleInvalid='skip')\n",
        "\n",
        "pipeline = Pipeline(stages = [pop_indexer, ohe_pop, gas_indexer, ohe_gas, assembler,])\n",
        "\n",
        "pipeline.fit(prices_df_without_null_adj).transform(prices_df_without_null_adj)\n",
        "\n",
        "rf = RandomForestRegressor(labelCol = 'prix_adj')\n",
        "pipeline_rf = Pipeline(stages = [pipeline, rf])\n",
        "\n",
        "# rf = RandomForestRegressor(featuresCol = \"features\", labelCol = \"prix_adj\")\n",
        "\n",
        "# model = pipeline.fit(prices_df_without_null_adj)\n",
        "\n",
        "# prices_df_without_null_adj_transformed = model.transform(prices_df_without_null_adj)\n",
        "\n",
        "# prices_df_without_null_adj_transformed_show(1)\n",
        "\n",
        "# model = pipeline.fit(prices_df_without_null_adj)\n",
        "# price_df_without_null_adj_transformed = model.transform(prices_df_without_null_adj)\n",
        "# price_df_without_null_adj_transformed.show(5)"
      ]
    },
    {
      "cell_type": "code",
      "execution_count": 46,
      "metadata": {
        "id": "94-FeDqqwKFe"
      },
      "outputs": [
        {
          "name": "stderr",
          "output_type": "stream",
          "text": [
            "24/01/19 20:57:44 WARN MemoryStore: Not enough space to cache rdd_678_2 in memory! (computed 12.0 MiB so far)\n",
            "24/01/19 20:57:44 WARN BlockManager: Persisting block rdd_678_2 to disk instead.\n",
            "24/01/19 20:57:44 WARN MemoryStore: Not enough space to cache rdd_678_12 in memory! (computed 12.0 MiB so far)\n",
            "24/01/19 20:57:44 WARN BlockManager: Persisting block rdd_678_12 to disk instead.\n",
            "24/01/19 20:57:44 WARN MemoryStore: Not enough space to cache rdd_678_0 in memory! (computed 12.0 MiB so far)\n",
            "24/01/19 20:57:44 WARN BlockManager: Persisting block rdd_678_0 to disk instead.\n",
            "24/01/19 20:57:45 WARN MemoryStore: Not enough space to cache rdd_678_3 in memory! (computed 12.0 MiB so far)\n",
            "24/01/19 20:57:45 WARN BlockManager: Persisting block rdd_678_3 to disk instead.\n",
            "24/01/19 20:57:45 WARN MemoryStore: Not enough space to cache rdd_678_4 in memory! (computed 12.0 MiB so far)\n",
            "24/01/19 20:57:45 WARN BlockManager: Persisting block rdd_678_4 to disk instead.\n"
          ]
        },
        {
          "name": "stdout",
          "output_type": "stream",
          "text": [
            "[1944,631s][warning][gc,alloc] Executor task launch worker for task 9.0 in stage 110.0 (TID 428): Retried waiting for GCLocker too often allocating 256 words\n",
            "[1944,791s][warning][gc,alloc] Executor task launch worker for task 9.0 in stage 110.0 (TID 428): Retried waiting for GCLocker too often allocating 256 words\n",
            "[1944,795s][warning][gc,alloc] Executor task launch worker for task 6.0 in stage 110.0 (TID 425): Retried waiting for GCLocker too often allocating 256 words\n",
            "[1945,679s][warning][gc,alloc] Executor task launch worker for task 10.0 in stage 110.0 (TID 429): Retried waiting for GCLocker too often allocating 256 words\n",
            "[1945,685s][warning][gc,alloc] Executor task launch worker for task 5.0 in stage 110.0 (TID 424): Retried waiting for GCLocker too often allocating 256 words\n",
            "[1946,007s][warning][gc,alloc] Executor task launch worker for task 9.0 in stage 110.0 (TID 428): Retried waiting for GCLocker too often allocating 256 words\n",
            "[1946,748s][warning][gc,alloc] Executor task launch worker for task 13.0 in stage 110.0 (TID 432): Retried waiting for GCLocker too often allocating 256 words\n",
            "[1951,259s][warning][gc,alloc] Executor task launch worker for task 15.0 in stage 110.0 (TID 434): Retried waiting for GCLocker too often allocating 10544 words\n",
            "[1959,857s][warning][gc,alloc] Executor task launch worker for task 8.0 in stage 110.0 (TID 427): Retried waiting for GCLocker too often allocating 256 words\n"
          ]
        },
        {
          "name": "stderr",
          "output_type": "stream",
          "text": [
            "24/01/19 20:58:01 WARN MemoryStore: Not enough space to cache rdd_678_9 in memory! (computed 18.0 MiB so far)\n",
            "24/01/19 20:58:01 WARN MemoryStore: Not enough space to cache rdd_678_1 in memory! (computed 18.0 MiB so far)\n",
            "24/01/19 20:58:01 WARN MemoryStore: Not enough space to cache rdd_678_10 in memory! (computed 18.0 MiB so far)\n",
            "24/01/19 20:58:01 WARN MemoryStore: Not enough space to cache rdd_678_13 in memory! (computed 18.0 MiB so far)\n",
            "24/01/19 20:58:01 WARN BlockManager: Persisting block rdd_678_1 to disk instead.\n",
            "24/01/19 20:58:01 WARN BlockManager: Persisting block rdd_678_13 to disk instead.\n",
            "24/01/19 20:58:01 WARN BlockManager: Persisting block rdd_678_9 to disk instead.\n",
            "24/01/19 20:58:01 WARN BlockManager: Persisting block rdd_678_10 to disk instead.\n"
          ]
        },
        {
          "name": "stdout",
          "output_type": "stream",
          "text": [
            "[1961,202s][warning][gc,alloc] Executor task launch worker for task 4.0 in stage 110.0 (TID 423): Retried waiting for GCLocker too often allocating 12384 words\n",
            "[1962,469s][warning][gc,alloc] Executor task launch worker for task 8.0 in stage 110.0 (TID 427): Retried waiting for GCLocker too often allocating 256 words\n",
            "[1962,489s][warning][gc,alloc] Executor task launch worker for task 6.0 in stage 110.0 (TID 425): Retried waiting for GCLocker too often allocating 256 words\n",
            "[1962,489s][warning][gc,alloc] Executor task launch worker for task 2.0 in stage 110.0 (TID 421): Retried waiting for GCLocker too often allocating 256 words\n",
            "[1962,493s][warning][gc,alloc] Executor task launch worker for task 14.0 in stage 110.0 (TID 433): Retried waiting for GCLocker too often allocating 256 words\n",
            "[1962,493s][warning][gc,alloc] Executor task launch worker for task 12.0 in stage 110.0 (TID 431): Retried waiting for GCLocker too often allocating 256 words\n",
            "[1962,493s][warning][gc,alloc] Executor task launch worker for task 4.0 in stage 110.0 (TID 423): Retried waiting for GCLocker too often allocating 256 words\n",
            "[1962,903s][warning][gc,alloc] Executor task launch worker for task 10.0 in stage 110.0 (TID 429): Retried waiting for GCLocker too often allocating 256 words\n",
            "[1962,908s][warning][gc,alloc] Executor task launch worker for task 8.0 in stage 110.0 (TID 427): Retried waiting for GCLocker too often allocating 256 words\n",
            "[1964,611s][warning][gc,alloc] Executor task launch worker for task 15.0 in stage 110.0 (TID 434): Retried waiting for GCLocker too often allocating 256 words\n",
            "[1964,611s][warning][gc,alloc] Executor task launch worker for task 3.0 in stage 110.0 (TID 422): Retried waiting for GCLocker too often allocating 256 words\n",
            "[1965,450s][warning][gc,alloc] Executor task launch worker for task 12.0 in stage 110.0 (TID 431): Retried waiting for GCLocker too often allocating 256 words\n",
            "[1965,450s][warning][gc,alloc] Executor task launch worker for task 8.0 in stage 110.0 (TID 427): Retried waiting for GCLocker too often allocating 256 words\n",
            "[1965,463s][warning][gc,alloc] Executor task launch worker for task 0.0 in stage 110.0 (TID 419): Retried waiting for GCLocker too often allocating 256 words\n"
          ]
        },
        {
          "name": "stderr",
          "output_type": "stream",
          "text": [
            "24/01/19 20:58:09 WARN MemoryStore: Not enough space to cache rdd_678_6 in memory! (computed 27.0 MiB so far)\n",
            "24/01/19 20:58:09 WARN BlockManager: Persisting block rdd_678_6 to disk instead.\n",
            "24/01/19 20:58:09 WARN MemoryStore: Not enough space to cache rdd_678_7 in memory! (computed 27.0 MiB so far)\n",
            "24/01/19 20:58:09 WARN BlockManager: Persisting block rdd_678_7 to disk instead.\n",
            "24/01/19 20:58:13 WARN MemoryStore: Not enough space to cache rdd_678_14 in memory! (computed 40.8 MiB so far)\n",
            "24/01/19 20:58:13 WARN BlockManager: Persisting block rdd_678_14 to disk instead.\n",
            "24/01/19 20:58:13 WARN MemoryStore: Not enough space to cache rdd_678_15 in memory! (computed 40.8 MiB so far)\n",
            "24/01/19 20:58:13 WARN BlockManager: Persisting block rdd_678_15 to disk instead.\n",
            "24/01/19 20:58:13 WARN MemoryStore: Not enough space to cache rdd_678_5 in memory! (computed 40.8 MiB so far)\n",
            "24/01/19 20:58:13 WARN BlockManager: Persisting block rdd_678_5 to disk instead.\n"
          ]
        },
        {
          "name": "stdout",
          "output_type": "stream",
          "text": [
            "[1972,714s][warning][gc,alloc] Executor task launch worker for task 12.0 in stage 110.0 (TID 431): Retried waiting for GCLocker too often allocating 256 words\n"
          ]
        },
        {
          "name": "stderr",
          "output_type": "stream",
          "text": [
            "24/01/19 20:58:23 WARN MemoryStore: Not enough space to cache rdd_678_11 in memory! (computed 97.2 MiB so far)\n",
            "24/01/19 20:58:23 WARN BlockManager: Persisting block rdd_678_11 to disk instead.\n",
            "[Stage 110:>                                                      (0 + 16) / 17]\r"
          ]
        },
        {
          "name": "stdout",
          "output_type": "stream",
          "text": [
            "[2003,987s][warning][gc,alloc] Executor task launch worker for task 12.0 in stage 110.0 (TID 431): Retried waiting for GCLocker too often allocating 256 words\n",
            "[2003,987s][warning][gc,alloc] Executor task launch worker for task 10.0 in stage 110.0 (TID 429): Retried waiting for GCLocker too often allocating 256 words\n",
            "[2003,987s][warning][gc,alloc] Executor task launch worker for task 11.0 in stage 110.0 (TID 430): Retried waiting for GCLocker too often allocating 256 words\n",
            "[2003,987s][warning][gc,alloc] Executor task launch worker for task 1.0 in stage 110.0 (TID 420): Retried waiting for GCLocker too often allocating 256 words\n",
            "[2003,987s][warning][gc,alloc] Executor task launch worker for task 7.0 in stage 110.0 (TID 426): Retried waiting for GCLocker too often allocating 256 words\n"
          ]
        },
        {
          "name": "stderr",
          "output_type": "stream",
          "text": [
            "24/01/19 20:58:48 WARN MemoryStore: Not enough space to cache rdd_678_8 in memory! (computed 218.7 MiB so far)\n",
            "24/01/19 20:58:48 WARN BlockManager: Persisting block rdd_678_8 to disk instead.\n"
          ]
        },
        {
          "name": "stdout",
          "output_type": "stream",
          "text": [
            "[2006,888s][warning][gc,alloc] Executor task launch worker for task 3.0 in stage 110.0 (TID 422): Retried waiting for GCLocker too often allocating 256 words\n",
            "[2007,568s][warning][gc,alloc] Executor task launch worker for task 0.0 in stage 110.0 (TID 419): Retried waiting for GCLocker too often allocating 256 words\n",
            "[2023,553s][warning][gc,alloc] Executor task launch worker for task 4.0 in stage 110.0 (TID 423): Retried waiting for GCLocker too often allocating 256 words\n"
          ]
        },
        {
          "name": "stderr",
          "output_type": "stream",
          "text": [
            "24/01/19 20:59:26 WARN MemoryStore: Not enough space to cache rdd_678_7 in memory! (computed 12.0 MiB so far)\n",
            "24/01/19 20:59:26 WARN MemoryStore: Not enough space to cache rdd_678_6 in memory! (computed 27.0 MiB so far)\n",
            "24/01/19 20:59:26 WARN MemoryStore: Not enough space to cache rdd_678_15 in memory! (computed 18.0 MiB so far)\n",
            "24/01/19 20:59:26 WARN MemoryStore: Not enough space to cache rdd_678_11 in memory! (computed 63.6 MiB so far)\n",
            "24/01/19 20:59:26 WARN MemoryStore: Not enough space to cache rdd_678_14 in memory! (computed 97.2 MiB so far)\n",
            "24/01/19 20:59:27 WARN MemoryStore: Not enough space to cache rdd_678_8 in memory! (computed 145.8 MiB so far)\n",
            "24/01/19 20:59:27 WARN MemoryStore: Not enough space to cache rdd_678_1 in memory! (computed 18.0 MiB so far)\n",
            "24/01/19 20:59:28 WARN MemoryStore: Not enough space to cache rdd_678_13 in memory! (computed 27.0 MiB so far)\n",
            "24/01/19 20:59:28 WARN MemoryStore: Not enough space to cache rdd_678_3 in memory! (computed 7.9 MiB so far)\n",
            "24/01/19 20:59:28 WARN MemoryStore: Not enough space to cache rdd_678_4 in memory! (computed 3.5 MiB so far)\n",
            "24/01/19 20:59:28 WARN MemoryStore: Not enough space to cache rdd_678_5 in memory! (computed 40.8 MiB so far)\n",
            "24/01/19 20:59:28 WARN MemoryStore: Not enough space to cache rdd_678_0 in memory! (computed 7.9 MiB so far)\n",
            "24/01/19 20:59:28 WARN MemoryStore: Not enough space to cache rdd_678_2 in memory! (computed 18.0 MiB so far)\n",
            "24/01/19 20:59:30 WARN MemoryStore: Not enough space to cache rdd_678_12 in memory! (computed 27.0 MiB so far)\n",
            "24/01/19 20:59:30 WARN MemoryStore: Not enough space to cache rdd_678_9 in memory! (computed 97.2 MiB so far)\n",
            "24/01/19 20:59:30 WARN MemoryStore: Not enough space to cache rdd_678_10 in memory! (computed 63.6 MiB so far)\n",
            "24/01/19 20:59:41 WARN MemoryStore: Not enough space to cache rdd_678_13 in memory! (computed 18.0 MiB so far)\n",
            "24/01/19 20:59:41 WARN MemoryStore: Not enough space to cache rdd_678_8 in memory! (computed 12.0 MiB so far)\n",
            "24/01/19 20:59:41 WARN MemoryStore: Not enough space to cache rdd_678_10 in memory! (computed 18.0 MiB so far)\n",
            "24/01/19 20:59:41 WARN MemoryStore: Not enough space to cache rdd_678_0 in memory! (computed 18.0 MiB so far)\n",
            "24/01/19 20:59:41 WARN MemoryStore: Not enough space to cache rdd_678_9 in memory! (computed 18.0 MiB so far)\n",
            "24/01/19 20:59:41 WARN MemoryStore: Not enough space to cache rdd_678_15 in memory! (computed 12.0 MiB so far)\n",
            "24/01/19 20:59:41 WARN MemoryStore: Not enough space to cache rdd_678_4 in memory! (computed 12.0 MiB so far)\n",
            "24/01/19 20:59:41 WARN MemoryStore: Not enough space to cache rdd_678_14 in memory! (computed 12.0 MiB so far)\n",
            "24/01/19 20:59:41 WARN MemoryStore: Not enough space to cache rdd_678_1 in memory! (computed 12.0 MiB so far)\n",
            "24/01/19 20:59:41 WARN MemoryStore: Not enough space to cache rdd_678_2 in memory! (computed 18.0 MiB so far)\n",
            "24/01/19 20:59:41 WARN MemoryStore: Not enough space to cache rdd_678_5 in memory! (computed 18.0 MiB so far)\n",
            "24/01/19 20:59:41 WARN MemoryStore: Not enough space to cache rdd_678_3 in memory! (computed 18.0 MiB so far)\n",
            "24/01/19 20:59:41 WARN MemoryStore: Not enough space to cache rdd_678_6 in memory! (computed 27.0 MiB so far)\n",
            "24/01/19 20:59:41 WARN MemoryStore: Not enough space to cache rdd_678_12 in memory! (computed 18.0 MiB so far)\n",
            "24/01/19 20:59:41 WARN MemoryStore: Not enough space to cache rdd_678_7 in memory! (computed 18.0 MiB so far)\n",
            "24/01/19 20:59:41 WARN MemoryStore: Not enough space to cache rdd_678_11 in memory! (computed 18.0 MiB so far)\n",
            "24/01/19 20:59:52 WARN MemoryStore: Not enough space to cache rdd_678_7 in memory! (computed 12.0 MiB so far)\n",
            "24/01/19 20:59:52 WARN MemoryStore: Not enough space to cache rdd_678_15 in memory! (computed 12.0 MiB so far)\n",
            "24/01/19 20:59:52 WARN MemoryStore: Not enough space to cache rdd_678_11 in memory! (computed 12.0 MiB so far)\n",
            "24/01/19 20:59:52 WARN MemoryStore: Not enough space to cache rdd_678_0 in memory! (computed 12.0 MiB so far)\n",
            "24/01/19 20:59:52 WARN MemoryStore: Not enough space to cache rdd_678_5 in memory! (computed 18.0 MiB so far)\n",
            "24/01/19 20:59:52 WARN MemoryStore: Not enough space to cache rdd_678_8 in memory! (computed 12.0 MiB so far)\n",
            "24/01/19 20:59:52 WARN MemoryStore: Not enough space to cache rdd_678_6 in memory! (computed 18.0 MiB so far)\n",
            "24/01/19 20:59:52 WARN MemoryStore: Not enough space to cache rdd_678_2 in memory! (computed 12.0 MiB so far)\n",
            "24/01/19 20:59:52 WARN MemoryStore: Not enough space to cache rdd_678_12 in memory! (computed 18.0 MiB so far)\n",
            "24/01/19 20:59:52 WARN MemoryStore: Not enough space to cache rdd_678_9 in memory! (computed 18.0 MiB so far)\n",
            "24/01/19 20:59:52 WARN MemoryStore: Not enough space to cache rdd_678_1 in memory! (computed 27.0 MiB so far)\n",
            "24/01/19 20:59:52 WARN MemoryStore: Not enough space to cache rdd_678_13 in memory! (computed 18.0 MiB so far)\n",
            "24/01/19 20:59:52 WARN MemoryStore: Not enough space to cache rdd_678_3 in memory! (computed 18.0 MiB so far)\n",
            "24/01/19 20:59:52 WARN MemoryStore: Not enough space to cache rdd_678_10 in memory! (computed 27.0 MiB so far)\n",
            "24/01/19 20:59:52 WARN MemoryStore: Not enough space to cache rdd_678_14 in memory! (computed 12.0 MiB so far)\n",
            "24/01/19 20:59:52 WARN MemoryStore: Not enough space to cache rdd_678_4 in memory! (computed 18.0 MiB so far)\n",
            "24/01/19 21:00:05 WARN MemoryStore: Not enough space to cache rdd_678_2 in memory! (computed 18.0 MiB so far)\n",
            "24/01/19 21:00:05 WARN MemoryStore: Not enough space to cache rdd_678_12 in memory! (computed 18.0 MiB so far)\n",
            "24/01/19 21:00:05 WARN MemoryStore: Not enough space to cache rdd_678_15 in memory! (computed 18.0 MiB so far)\n",
            "24/01/19 21:00:05 WARN MemoryStore: Not enough space to cache rdd_678_10 in memory! (computed 12.0 MiB so far)\n",
            "24/01/19 21:00:05 WARN MemoryStore: Not enough space to cache rdd_678_6 in memory! (computed 12.0 MiB so far)\n",
            "24/01/19 21:00:05 WARN MemoryStore: Not enough space to cache rdd_678_13 in memory! (computed 18.0 MiB so far)\n",
            "24/01/19 21:00:05 WARN MemoryStore: Not enough space to cache rdd_678_9 in memory! (computed 12.0 MiB so far)\n",
            "24/01/19 21:00:05 WARN MemoryStore: Not enough space to cache rdd_678_3 in memory! (computed 18.0 MiB so far)\n",
            "24/01/19 21:00:05 WARN MemoryStore: Not enough space to cache rdd_678_8 in memory! (computed 18.0 MiB so far)\n",
            "24/01/19 21:00:05 WARN MemoryStore: Not enough space to cache rdd_678_11 in memory! (computed 18.0 MiB so far)\n",
            "24/01/19 21:00:05 WARN MemoryStore: Not enough space to cache rdd_678_7 in memory! (computed 12.0 MiB so far)\n",
            "24/01/19 21:00:05 WARN MemoryStore: Not enough space to cache rdd_678_14 in memory! (computed 12.0 MiB so far)\n",
            "24/01/19 21:00:05 WARN MemoryStore: Not enough space to cache rdd_678_4 in memory! (computed 18.0 MiB so far)\n",
            "24/01/19 21:00:05 WARN MemoryStore: Not enough space to cache rdd_678_1 in memory! (computed 18.0 MiB so far)\n",
            "24/01/19 21:00:05 WARN MemoryStore: Not enough space to cache rdd_678_0 in memory! (computed 18.0 MiB so far)\n",
            "24/01/19 21:00:05 WARN MemoryStore: Not enough space to cache rdd_678_5 in memory! (computed 27.0 MiB so far)\n",
            "24/01/19 21:00:18 WARN MemoryStore: Not enough space to cache rdd_678_14 in memory! (computed 12.0 MiB so far)\n",
            "24/01/19 21:00:18 WARN MemoryStore: Not enough space to cache rdd_678_13 in memory! (computed 18.0 MiB so far)\n",
            "24/01/19 21:00:18 WARN MemoryStore: Not enough space to cache rdd_678_8 in memory! (computed 18.0 MiB so far)\n",
            "24/01/19 21:00:18 WARN MemoryStore: Not enough space to cache rdd_678_10 in memory! (computed 12.0 MiB so far)\n",
            "24/01/19 21:00:18 WARN MemoryStore: Not enough space to cache rdd_678_0 in memory! (computed 12.0 MiB so far)\n",
            "24/01/19 21:00:18 WARN MemoryStore: Not enough space to cache rdd_678_4 in memory! (computed 18.0 MiB so far)\n",
            "24/01/19 21:00:18 WARN MemoryStore: Not enough space to cache rdd_678_2 in memory! (computed 18.0 MiB so far)\n",
            "24/01/19 21:00:18 WARN MemoryStore: Not enough space to cache rdd_678_9 in memory! (computed 12.0 MiB so far)\n",
            "24/01/19 21:00:18 WARN MemoryStore: Not enough space to cache rdd_678_1 in memory! (computed 18.0 MiB so far)\n",
            "24/01/19 21:00:18 WARN MemoryStore: Not enough space to cache rdd_678_5 in memory! (computed 18.0 MiB so far)\n",
            "24/01/19 21:00:18 WARN MemoryStore: Not enough space to cache rdd_678_12 in memory! (computed 18.0 MiB so far)\n",
            "24/01/19 21:00:18 WARN MemoryStore: Not enough space to cache rdd_678_6 in memory! (computed 18.0 MiB so far)\n",
            "24/01/19 21:00:18 WARN MemoryStore: Not enough space to cache rdd_678_11 in memory! (computed 12.0 MiB so far)\n",
            "24/01/19 21:00:18 WARN MemoryStore: Not enough space to cache rdd_678_7 in memory! (computed 27.0 MiB so far)\n",
            "24/01/19 21:00:18 WARN MemoryStore: Not enough space to cache rdd_678_15 in memory! (computed 18.0 MiB so far)\n",
            "24/01/19 21:00:18 WARN MemoryStore: Not enough space to cache rdd_678_3 in memory! (computed 18.0 MiB so far)\n",
            "[Stage 124:==================================>                      (3 + 2) / 5]\r"
          ]
        },
        {
          "name": "stdout",
          "output_type": "stream",
          "text": [
            "+-------+-----+---+--------+---------+----------+------------+-------------+----+----+-----+---+----------+----------------------+------------+-------------+--------+------------+-------------+--------+------------+----------+-------------+----------------+-------------+--------------------+------------------+\n",
            "| id_pdv|   cp|pop|latitude|longitude|      Date|id_carburant|nom_carburant|prix|Year|Month|Day|WeekOfYear|continuous_week_number|latitude_int|longitude_int|prix_int|latitude_adj|longitude_adj|prix_adj|lagged_price|pop_string|      ohe_pop|carburant_string|ohe_carburant|            features|        prediction|\n",
            "+-------+-----+---+--------+---------+----------+------------+-------------+----+----+-----+---+----------+----------------------+------------+-------------+--------+------------+-------------+--------+------------+----------+-------------+----------------+-------------+--------------------+------------------+\n",
            "|1000007|01000|  R| 4620105|   524891|2019-01-08|           5|          E10|1357|2019|   01| 08|         2|                     2|     4620105|       524891|  1357.0|   0.4620105|     0.524891|   1.357|        1.32|       0.0|(2,[0],[1.0])|             2.0|(5,[2],[1.0])|(11,[0,4,7,8,9,10...|1.4342616732437332|\n",
            "|1000007|01000|  R| 4620105|   524891|2019-01-15|           5|          E10|1374|2019|   01| 15|         3|                     3|     4620105|       524891|  1374.0|   0.4620105|     0.524891|   1.374|       1.357|       0.0|(2,[0],[1.0])|             2.0|(5,[2],[1.0])|(11,[0,4,7,8,9,10...|1.4342616732437332|\n",
            "|1000007|01000|  R| 4620105|   524891|2019-01-16|           5|          E10|1379|2019|   01| 16|         3|                     3|     4620105|       524891|  1379.0|   0.4620105|     0.524891|   1.379|       1.374|       0.0|(2,[0],[1.0])|             2.0|(5,[2],[1.0])|(11,[0,4,7,8,9,10...|1.4455042221747834|\n",
            "|1000007|01000|  R| 4620105|   524891|2019-02-01|           5|          E10|1383|2019|   02| 01|         5|                     5|     4620105|       524891|  1383.0|   0.4620105|     0.524891|   1.383|       1.379|       0.0|(2,[0],[1.0])|             2.0|(5,[2],[1.0])|(11,[0,4,7,8,9,10...|1.4455042221747834|\n",
            "|1000007|01000|  R| 4620105|   524891|2019-02-07|           5|          E10|1382|2019|   02| 07|         6|                     6|     4620105|       524891|  1382.0|   0.4620105|     0.524891|   1.382|       1.383|       0.0|(2,[0],[1.0])|             2.0|(5,[2],[1.0])|(11,[0,4,7,8,9,10...|1.4455042221747834|\n",
            "+-------+-----+---+--------+---------+----------+------------+-------------+----+----+-----+---+----------+----------------------+------------+-------------+--------+------------+-------------+--------+------------+----------+-------------+----------------+-------------+--------------------+------------------+\n",
            "only showing top 5 rows\n",
            "\n"
          ]
        },
        {
          "name": "stderr",
          "output_type": "stream",
          "text": [
            "                                                                                \r"
          ]
        }
      ],
      "source": [
        "fitted_rf = pipeline_rf.fit(prices_df_without_null_adj)\n",
        "fitted_rf.transform(prices_df_without_null_adj).show(5)"
      ]
    },
    {
      "cell_type": "code",
      "execution_count": null,
      "metadata": {
        "colab": {
          "base_uri": "https://localhost:8080/"
        },
        "id": "ELMHSrqSlrZX",
        "outputId": "03e124be-e846-4c15-e2f6-14c3526e3ff8"
      },
      "outputs": [
        {
          "name": "stdout",
          "output_type": "stream",
          "text": [
            "+-------+-----+---+--------+---------+----------+------------+-------------+----+----+-----+---+----------+----------------------+------------+-------------+--------+------------+-------------+--------+----------+-------------+----------------+-------------+--------------------+-----------------+\n",
            "| id_pdv|   cp|pop|latitude|longitude|      Date|id_carburant|nom_carburant|prix|Year|Month|Day|WeekOfYear|continuous_week_number|latitude_int|longitude_int|prix_int|latitude_adj|longitude_adj|prix_adj|pop_string|      ohe_pop|carburant_string|ohe_carburant|            features|       prediction|\n",
            "+-------+-----+---+--------+---------+----------+------------+-------------+----+----+-----+---+----------+----------------------+------------+-------------+--------+------------+-------------+--------+----------+-------------+----------------+-------------+--------------------+-----------------+\n",
            "|1000001|01000|  R| 4620114|   519791|2019-01-04|           1|       Gazole|1328|2019|   01| 04|         1|                     1|     4620114|       519791|  1328.0|   0.4620114|     0.519791|   1.328|       0.0|(2,[0],[1.0])|             0.0|(5,[0],[1.0])|(10,[0,2,7,8,9],[...|1.506736924926284|\n",
            "+-------+-----+---+--------+---------+----------+------------+-------------+----+----+-----+---+----------+----------------------+------------+-------------+--------+------------+-------------+--------+----------+-------------+----------------+-------------+--------------------+-----------------+\n",
            "only showing top 1 row\n",
            "\n"
          ]
        }
      ],
      "source": [
        "prices_df_without_null_adj_transformed.show(1)"
      ]
    },
    {
      "cell_type": "code",
      "execution_count": 29,
      "metadata": {
        "colab": {
          "base_uri": "https://localhost:8080/"
        },
        "id": "5webrhVgQ0Pw",
        "outputId": "30de52de-2d05-4a9a-9a32-09c62adbda79"
      },
      "outputs": [
        {
          "name": "stdout",
          "output_type": "stream",
          "text": [
            "+-------+-----+---+--------+---------+----------+------------+-------------+----+----+-----+---+----------+----------------------+------------+-------------+--------+------------+-------------+--------+----------+-------------+\n",
            "| id_pdv|   cp|pop|latitude|longitude|      Date|id_carburant|nom_carburant|prix|Year|Month|Day|WeekOfYear|continuous_week_number|latitude_int|longitude_int|prix_int|latitude_adj|longitude_adj|prix_adj|pop_string|      ohe_pop|\n",
            "+-------+-----+---+--------+---------+----------+------------+-------------+----+----+-----+---+----------+----------------------+------------+-------------+--------+------------+-------------+--------+----------+-------------+\n",
            "|1000001|01000|  R| 4620114|   519791|2019-01-04|           1|       Gazole|1328|2019|   01| 04|         1|                     1|     4620114|       519791|  1328.0|   0.4620114|     0.519791|   1.328|       0.0|(2,[0],[1.0])|\n",
            "|1000001|01000|  R| 4620114|   519791|2019-01-07|           1|       Gazole|1348|2019|   01| 07|         2|                     2|     4620114|       519791|  1348.0|   0.4620114|     0.519791|   1.348|       0.0|(2,[0],[1.0])|\n",
            "|1000001|01000|  R| 4620114|   519791|2019-01-10|           1|       Gazole|1374|2019|   01| 10|         2|                     2|     4620114|       519791|  1374.0|   0.4620114|     0.519791|   1.374|       0.0|(2,[0],[1.0])|\n",
            "|1000001|01000|  R| 4620114|   519791|2019-01-11|           1|       Gazole|1387|2019|   01| 11|         2|                     2|     4620114|       519791|  1387.0|   0.4620114|     0.519791|   1.387|       0.0|(2,[0],[1.0])|\n",
            "|1000001|01000|  R| 4620114|   519791|2019-01-14|           1|       Gazole|1394|2019|   01| 14|         3|                     3|     4620114|       519791|  1394.0|   0.4620114|     0.519791|   1.394|       0.0|(2,[0],[1.0])|\n",
            "+-------+-----+---+--------+---------+----------+------------+-------------+----+----+-----+---+----------+----------------------+------------+-------------+--------+------------+-------------+--------+----------+-------------+\n",
            "only showing top 5 rows\n",
            "\n"
          ]
        }
      ],
      "source": [
        "price_df_without_null_adj_transformed.show(5)"
      ]
    },
    {
      "cell_type": "code",
      "execution_count": null,
      "metadata": {
        "id": "2Gm4HkCbQ0NT"
      },
      "outputs": [],
      "source": []
    },
    {
      "cell_type": "code",
      "execution_count": null,
      "metadata": {
        "id": "wELm5aEAQ0Kl"
      },
      "outputs": [],
      "source": []
    },
    {
      "cell_type": "code",
      "execution_count": null,
      "metadata": {
        "id": "-rV6FEmiQ0IL"
      },
      "outputs": [],
      "source": []
    },
    {
      "cell_type": "code",
      "execution_count": null,
      "metadata": {
        "id": "ojJBzkg3Q0Cp"
      },
      "outputs": [],
      "source": []
    },
    {
      "cell_type": "code",
      "execution_count": null,
      "metadata": {
        "id": "ykCQKVj9Q0AL"
      },
      "outputs": [],
      "source": []
    },
    {
      "cell_type": "code",
      "execution_count": null,
      "metadata": {
        "id": "vyGE6pE5Qz8h"
      },
      "outputs": [],
      "source": []
    },
    {
      "cell_type": "code",
      "execution_count": null,
      "metadata": {
        "id": "cHZ0iVayvc-s"
      },
      "outputs": [],
      "source": [
        "from pyspark.ml.feature import VectorAssembler\n",
        "from pyspark.ml.pipeline import Pipeline\n",
        "from pyspark.ml.feature import StringIndexer, OneHotEncoder, Imputer\n"
      ]
    },
    {
      "cell_type": "code",
      "execution_count": null,
      "metadata": {
        "colab": {
          "base_uri": "https://localhost:8080/"
        },
        "id": "V0uyzx951JBA",
        "outputId": "0b452484-5be0-4f02-8493-04973f825c4d"
      },
      "outputs": [
        {
          "name": "stdout",
          "output_type": "stream",
          "text": [
            "root\n",
            " |-- id_pdv: string (nullable = true)\n",
            " |-- cp: string (nullable = true)\n",
            " |-- pop: string (nullable = true)\n",
            " |-- latitude: string (nullable = true)\n",
            " |-- longitude: string (nullable = true)\n",
            " |-- Date: date (nullable = true)\n",
            " |-- id_carburant: string (nullable = true)\n",
            " |-- nom_carburant: string (nullable = true)\n",
            " |-- prix: string (nullable = true)\n",
            " |-- Year: string (nullable = true)\n",
            " |-- Month: string (nullable = true)\n",
            " |-- Day: string (nullable = true)\n",
            " |-- WeekOfYear: integer (nullable = true)\n",
            " |-- continuous_week_number: integer (nullable = true)\n",
            " |-- latitude_int: integer (nullable = true)\n",
            " |-- longitude_int: integer (nullable = true)\n",
            " |-- prix_int: double (nullable = true)\n",
            " |-- latitude_adj: double (nullable = true)\n",
            " |-- longitude_adj: double (nullable = true)\n",
            " |-- prix_adj: double (nullable = true)\n",
            "\n"
          ]
        }
      ],
      "source": [
        "prices_df_without_null_adj.printSchema()\n",
        "\n"
      ]
    },
    {
      "cell_type": "code",
      "execution_count": 20,
      "metadata": {
        "colab": {
          "base_uri": "https://localhost:8080/",
          "height": 250
        },
        "id": "x66sUMgc35Sb",
        "outputId": "53349c54-6e21-4eb6-b9f3-21e9db95aee9"
      },
      "outputs": [
        {
          "ename": "NameError",
          "evalue": "name 'StringIndexer' is not defined",
          "output_type": "error",
          "traceback": [
            "\u001b[0;31m---------------------------------------------------------------------------\u001b[0m",
            "\u001b[0;31mNameError\u001b[0m                                 Traceback (most recent call last)",
            "\u001b[0;32m<ipython-input-20-5de6b661bc9e>\u001b[0m in \u001b[0;36m<cell line: 2>\u001b[0;34m()\u001b[0m\n\u001b[1;32m      1\u001b[0m \u001b[0;31m# Population variable of type: string (needs to be indexed first then OHE)\u001b[0m\u001b[0;34m\u001b[0m\u001b[0;34m\u001b[0m\u001b[0m\n\u001b[0;32m----> 2\u001b[0;31m \u001b[0mop_pop\u001b[0m \u001b[0;34m=\u001b[0m \u001b[0mStringIndexer\u001b[0m\u001b[0;34m(\u001b[0m\u001b[0minputCol\u001b[0m \u001b[0;34m=\u001b[0m \u001b[0;34m'pop'\u001b[0m\u001b[0;34m,\u001b[0m \u001b[0moutputCol\u001b[0m \u001b[0;34m=\u001b[0m \u001b[0;34m'npop'\u001b[0m\u001b[0;34m)\u001b[0m\u001b[0;34m\u001b[0m\u001b[0;34m\u001b[0m\u001b[0m\n\u001b[0m\u001b[1;32m      3\u001b[0m \u001b[0mop_ohe_pop\u001b[0m \u001b[0;34m=\u001b[0m \u001b[0mOneHotEncoder\u001b[0m\u001b[0;34m(\u001b[0m\u001b[0minputCol\u001b[0m \u001b[0;34m=\u001b[0m \u001b[0;34m'npop'\u001b[0m\u001b[0;34m,\u001b[0m \u001b[0moutputCol\u001b[0m \u001b[0;34m=\u001b[0m \u001b[0;34m'ohepop'\u001b[0m\u001b[0;34m)\u001b[0m\u001b[0;34m\u001b[0m\u001b[0;34m\u001b[0m\u001b[0m\n\u001b[1;32m      4\u001b[0m \u001b[0;34m\u001b[0m\u001b[0m\n\u001b[1;32m      5\u001b[0m op_features = VectorAssembler(inputCols = ['ohepop', 'latitude_adj', 'longitude_adj'],\n",
            "\u001b[0;31mNameError\u001b[0m: name 'StringIndexer' is not defined"
          ]
        }
      ],
      "source": [
        "# Population variable of type: string (needs to be indexed first then OHE)\n",
        "op_pop = StringIndexer(inputCol = 'pop', outputCol = 'npop')\n",
        "op_ohe_pop = OneHotEncoder(inputCol = 'npop', outputCol = 'ohepop')\n",
        "\n",
        "op_features = VectorAssembler(inputCols = ['ohepop', 'latitude_adj', 'longitude_adj'],\n",
        "                              outputCol= 'features')\n",
        "\n",
        "\n",
        "pipeline_features = Pipeline(stages = [op_pop, op_ohe_pop, op_features])\n",
        "pipeline_features.fit(prices_df_without_null_adj)\n",
        "pipeline_features.fit(prices_df_without_null_adj).transform(prices_df_without_null_adj).show(5, truncate = False)"
      ]
    },
    {
      "cell_type": "code",
      "execution_count": null,
      "metadata": {
        "id": "9KLPqFx8BUKp"
      },
      "outputs": [],
      "source": [
        "from pyspark.ml.classification import RandomForestRegressor\n",
        "from pyspark.ml.regression import LinearRegression\n",
        "\n",
        "rf = RandomForestClassifier(labelCol = 'prix_adj')\n",
        "pipeline_rf = Pipeline(stages =[pipeline_features, rf])"
      ]
    },
    {
      "cell_type": "code",
      "execution_count": null,
      "metadata": {
        "colab": {
          "base_uri": "https://localhost:8080/",
          "height": 1000
        },
        "id": "xEfXzhCKBqRe",
        "outputId": "4aa49f60-47d4-4a4f-f4af-7f4c0cfa5942"
      },
      "outputs": [
        {
          "ename": "Py4JJavaError",
          "evalue": "An error occurred while calling o1152.fit.\n: org.apache.spark.SparkException: Job aborted due to stage failure: Task 0 in stage 47.0 failed 1 times, most recent failure: Lost task 0.0 in stage 47.0 (TID 80) (c8b07dab2274 executor driver): java.lang.RuntimeException: Labels MUST be Integers, but got 1.328\n\tat org.apache.spark.sql.catalyst.expressions.GeneratedClass$GeneratedIteratorForCodegenStage6.hashAgg_doAggregate_max_0$(Unknown Source)\n\tat org.apache.spark.sql.catalyst.expressions.GeneratedClass$GeneratedIteratorForCodegenStage6.hashAgg_doConsume_0$(Unknown Source)\n\tat org.apache.spark.sql.catalyst.expressions.GeneratedClass$GeneratedIteratorForCodegenStage6.hashAgg_doAggregateWithoutKey_0$(Unknown Source)\n\tat org.apache.spark.sql.catalyst.expressions.GeneratedClass$GeneratedIteratorForCodegenStage6.processNext(Unknown Source)\n\tat org.apache.spark.sql.execution.BufferedRowIterator.hasNext(BufferedRowIterator.java:43)\n\tat org.apache.spark.sql.execution.WholeStageCodegenEvaluatorFactory$WholeStageCodegenPartitionEvaluator$$anon$1.hasNext(WholeStageCodegenEvaluatorFactory.scala:43)\n\tat scala.collection.Iterator$$anon$10.hasNext(Iterator.scala:460)\n\tat org.apache.spark.shuffle.sort.BypassMergeSortShuffleWriter.write(BypassMergeSortShuffleWriter.java:140)\n\tat org.apache.spark.shuffle.ShuffleWriteProcessor.write(ShuffleWriteProcessor.scala:59)\n\tat org.apache.spark.scheduler.ShuffleMapTask.runTask(ShuffleMapTask.scala:104)\n\tat org.apache.spark.scheduler.ShuffleMapTask.runTask(ShuffleMapTask.scala:54)\n\tat org.apache.spark.TaskContext.runTaskWithListeners(TaskContext.scala:161)\n\tat org.apache.spark.scheduler.Task.run(Task.scala:141)\n\tat org.apache.spark.executor.Executor$TaskRunner.$anonfun$run$4(Executor.scala:620)\n\tat org.apache.spark.util.SparkErrorUtils.tryWithSafeFinally(SparkErrorUtils.scala:64)\n\tat org.apache.spark.util.SparkErrorUtils.tryWithSafeFinally$(SparkErrorUtils.scala:61)\n\tat org.apache.spark.util.Utils$.tryWithSafeFinally(Utils.scala:94)\n\tat org.apache.spark.executor.Executor$TaskRunner.run(Executor.scala:623)\n\tat java.base/java.util.concurrent.ThreadPoolExecutor.runWorker(ThreadPoolExecutor.java:1128)\n\tat java.base/java.util.concurrent.ThreadPoolExecutor$Worker.run(ThreadPoolExecutor.java:628)\n\tat java.base/java.lang.Thread.run(Thread.java:829)\n\nDriver stacktrace:\n\tat org.apache.spark.scheduler.DAGScheduler.failJobAndIndependentStages(DAGScheduler.scala:2844)\n\tat org.apache.spark.scheduler.DAGScheduler.$anonfun$abortStage$2(DAGScheduler.scala:2780)\n\tat org.apache.spark.scheduler.DAGScheduler.$anonfun$abortStage$2$adapted(DAGScheduler.scala:2779)\n\tat scala.collection.mutable.ResizableArray.foreach(ResizableArray.scala:62)\n\tat scala.collection.mutable.ResizableArray.foreach$(ResizableArray.scala:55)\n\tat scala.collection.mutable.ArrayBuffer.foreach(ArrayBuffer.scala:49)\n\tat org.apache.spark.scheduler.DAGScheduler.abortStage(DAGScheduler.scala:2779)\n\tat org.apache.spark.scheduler.DAGScheduler.$anonfun$handleTaskSetFailed$1(DAGScheduler.scala:1242)\n\tat org.apache.spark.scheduler.DAGScheduler.$anonfun$handleTaskSetFailed$1$adapted(DAGScheduler.scala:1242)\n\tat scala.Option.foreach(Option.scala:407)\n\tat org.apache.spark.scheduler.DAGScheduler.handleTaskSetFailed(DAGScheduler.scala:1242)\n\tat org.apache.spark.scheduler.DAGSchedulerEventProcessLoop.doOnReceive(DAGScheduler.scala:3048)\n\tat org.apache.spark.scheduler.DAGSchedulerEventProcessLoop.onReceive(DAGScheduler.scala:2982)\n\tat org.apache.spark.scheduler.DAGSchedulerEventProcessLoop.onReceive(DAGScheduler.scala:2971)\n\tat org.apache.spark.util.EventLoop$$anon$1.run(EventLoop.scala:49)\nCaused by: java.lang.RuntimeException: Labels MUST be Integers, but got 1.328\n\tat org.apache.spark.sql.catalyst.expressions.GeneratedClass$GeneratedIteratorForCodegenStage6.hashAgg_doAggregate_max_0$(Unknown Source)\n\tat org.apache.spark.sql.catalyst.expressions.GeneratedClass$GeneratedIteratorForCodegenStage6.hashAgg_doConsume_0$(Unknown Source)\n\tat org.apache.spark.sql.catalyst.expressions.GeneratedClass$GeneratedIteratorForCodegenStage6.hashAgg_doAggregateWithoutKey_0$(Unknown Source)\n\tat org.apache.spark.sql.catalyst.expressions.GeneratedClass$GeneratedIteratorForCodegenStage6.processNext(Unknown Source)\n\tat org.apache.spark.sql.execution.BufferedRowIterator.hasNext(BufferedRowIterator.java:43)\n\tat org.apache.spark.sql.execution.WholeStageCodegenEvaluatorFactory$WholeStageCodegenPartitionEvaluator$$anon$1.hasNext(WholeStageCodegenEvaluatorFactory.scala:43)\n\tat scala.collection.Iterator$$anon$10.hasNext(Iterator.scala:460)\n\tat org.apache.spark.shuffle.sort.BypassMergeSortShuffleWriter.write(BypassMergeSortShuffleWriter.java:140)\n\tat org.apache.spark.shuffle.ShuffleWriteProcessor.write(ShuffleWriteProcessor.scala:59)\n\tat org.apache.spark.scheduler.ShuffleMapTask.runTask(ShuffleMapTask.scala:104)\n\tat org.apache.spark.scheduler.ShuffleMapTask.runTask(ShuffleMapTask.scala:54)\n\tat org.apache.spark.TaskContext.runTaskWithListeners(TaskContext.scala:161)\n\tat org.apache.spark.scheduler.Task.run(Task.scala:141)\n\tat org.apache.spark.executor.Executor$TaskRunner.$anonfun$run$4(Executor.scala:620)\n\tat org.apache.spark.util.SparkErrorUtils.tryWithSafeFinally(SparkErrorUtils.scala:64)\n\tat org.apache.spark.util.SparkErrorUtils.tryWithSafeFinally$(SparkErrorUtils.scala:61)\n\tat org.apache.spark.util.Utils$.tryWithSafeFinally(Utils.scala:94)\n\tat org.apache.spark.executor.Executor$TaskRunner.run(Executor.scala:623)\n\tat java.base/java.util.concurrent.ThreadPoolExecutor.runWorker(ThreadPoolExecutor.java:1128)\n\tat java.base/java.util.concurrent.ThreadPoolExecutor$Worker.run(ThreadPoolExecutor.java:628)\n\tat java.base/java.lang.Thread.run(Thread.java:829)\n",
          "output_type": "error",
          "traceback": [
            "\u001b[0;31m---------------------------------------------------------------------------\u001b[0m",
            "\u001b[0;31mPy4JJavaError\u001b[0m                             Traceback (most recent call last)",
            "\u001b[0;32m<ipython-input-31-8c5bd3e07028>\u001b[0m in \u001b[0;36m<cell line: 1>\u001b[0;34m()\u001b[0m\n\u001b[0;32m----> 1\u001b[0;31m \u001b[0mfitted_rf\u001b[0m \u001b[0;34m=\u001b[0m \u001b[0mpipeline_rf\u001b[0m\u001b[0;34m.\u001b[0m\u001b[0mfit\u001b[0m\u001b[0;34m(\u001b[0m\u001b[0mprices_df_without_null_adj\u001b[0m\u001b[0;34m)\u001b[0m\u001b[0;34m\u001b[0m\u001b[0;34m\u001b[0m\u001b[0m\n\u001b[0m",
            "\u001b[0;32m/usr/local/lib/python3.10/dist-packages/pyspark/ml/base.py\u001b[0m in \u001b[0;36mfit\u001b[0;34m(self, dataset, params)\u001b[0m\n\u001b[1;32m    203\u001b[0m                 \u001b[0;32mreturn\u001b[0m \u001b[0mself\u001b[0m\u001b[0;34m.\u001b[0m\u001b[0mcopy\u001b[0m\u001b[0;34m(\u001b[0m\u001b[0mparams\u001b[0m\u001b[0;34m)\u001b[0m\u001b[0;34m.\u001b[0m\u001b[0m_fit\u001b[0m\u001b[0;34m(\u001b[0m\u001b[0mdataset\u001b[0m\u001b[0;34m)\u001b[0m\u001b[0;34m\u001b[0m\u001b[0;34m\u001b[0m\u001b[0m\n\u001b[1;32m    204\u001b[0m             \u001b[0;32melse\u001b[0m\u001b[0;34m:\u001b[0m\u001b[0;34m\u001b[0m\u001b[0;34m\u001b[0m\u001b[0m\n\u001b[0;32m--> 205\u001b[0;31m                 \u001b[0;32mreturn\u001b[0m \u001b[0mself\u001b[0m\u001b[0;34m.\u001b[0m\u001b[0m_fit\u001b[0m\u001b[0;34m(\u001b[0m\u001b[0mdataset\u001b[0m\u001b[0;34m)\u001b[0m\u001b[0;34m\u001b[0m\u001b[0;34m\u001b[0m\u001b[0m\n\u001b[0m\u001b[1;32m    206\u001b[0m         \u001b[0;32melse\u001b[0m\u001b[0;34m:\u001b[0m\u001b[0;34m\u001b[0m\u001b[0;34m\u001b[0m\u001b[0m\n\u001b[1;32m    207\u001b[0m             raise TypeError(\n",
            "\u001b[0;32m/usr/local/lib/python3.10/dist-packages/pyspark/ml/pipeline.py\u001b[0m in \u001b[0;36m_fit\u001b[0;34m(self, dataset)\u001b[0m\n\u001b[1;32m    132\u001b[0m                     \u001b[0mdataset\u001b[0m \u001b[0;34m=\u001b[0m \u001b[0mstage\u001b[0m\u001b[0;34m.\u001b[0m\u001b[0mtransform\u001b[0m\u001b[0;34m(\u001b[0m\u001b[0mdataset\u001b[0m\u001b[0;34m)\u001b[0m\u001b[0;34m\u001b[0m\u001b[0;34m\u001b[0m\u001b[0m\n\u001b[1;32m    133\u001b[0m                 \u001b[0;32melse\u001b[0m\u001b[0;34m:\u001b[0m  \u001b[0;31m# must be an Estimator\u001b[0m\u001b[0;34m\u001b[0m\u001b[0;34m\u001b[0m\u001b[0m\n\u001b[0;32m--> 134\u001b[0;31m                     \u001b[0mmodel\u001b[0m \u001b[0;34m=\u001b[0m \u001b[0mstage\u001b[0m\u001b[0;34m.\u001b[0m\u001b[0mfit\u001b[0m\u001b[0;34m(\u001b[0m\u001b[0mdataset\u001b[0m\u001b[0;34m)\u001b[0m\u001b[0;34m\u001b[0m\u001b[0;34m\u001b[0m\u001b[0m\n\u001b[0m\u001b[1;32m    135\u001b[0m                     \u001b[0mtransformers\u001b[0m\u001b[0;34m.\u001b[0m\u001b[0mappend\u001b[0m\u001b[0;34m(\u001b[0m\u001b[0mmodel\u001b[0m\u001b[0;34m)\u001b[0m\u001b[0;34m\u001b[0m\u001b[0;34m\u001b[0m\u001b[0m\n\u001b[1;32m    136\u001b[0m                     \u001b[0;32mif\u001b[0m \u001b[0mi\u001b[0m \u001b[0;34m<\u001b[0m \u001b[0mindexOfLastEstimator\u001b[0m\u001b[0;34m:\u001b[0m\u001b[0;34m\u001b[0m\u001b[0;34m\u001b[0m\u001b[0m\n",
            "\u001b[0;32m/usr/local/lib/python3.10/dist-packages/pyspark/ml/base.py\u001b[0m in \u001b[0;36mfit\u001b[0;34m(self, dataset, params)\u001b[0m\n\u001b[1;32m    203\u001b[0m                 \u001b[0;32mreturn\u001b[0m \u001b[0mself\u001b[0m\u001b[0;34m.\u001b[0m\u001b[0mcopy\u001b[0m\u001b[0;34m(\u001b[0m\u001b[0mparams\u001b[0m\u001b[0;34m)\u001b[0m\u001b[0;34m.\u001b[0m\u001b[0m_fit\u001b[0m\u001b[0;34m(\u001b[0m\u001b[0mdataset\u001b[0m\u001b[0;34m)\u001b[0m\u001b[0;34m\u001b[0m\u001b[0;34m\u001b[0m\u001b[0m\n\u001b[1;32m    204\u001b[0m             \u001b[0;32melse\u001b[0m\u001b[0;34m:\u001b[0m\u001b[0;34m\u001b[0m\u001b[0;34m\u001b[0m\u001b[0m\n\u001b[0;32m--> 205\u001b[0;31m                 \u001b[0;32mreturn\u001b[0m \u001b[0mself\u001b[0m\u001b[0;34m.\u001b[0m\u001b[0m_fit\u001b[0m\u001b[0;34m(\u001b[0m\u001b[0mdataset\u001b[0m\u001b[0;34m)\u001b[0m\u001b[0;34m\u001b[0m\u001b[0;34m\u001b[0m\u001b[0m\n\u001b[0m\u001b[1;32m    206\u001b[0m         \u001b[0;32melse\u001b[0m\u001b[0;34m:\u001b[0m\u001b[0;34m\u001b[0m\u001b[0;34m\u001b[0m\u001b[0m\n\u001b[1;32m    207\u001b[0m             raise TypeError(\n",
            "\u001b[0;32m/usr/local/lib/python3.10/dist-packages/pyspark/ml/wrapper.py\u001b[0m in \u001b[0;36m_fit\u001b[0;34m(self, dataset)\u001b[0m\n\u001b[1;32m    379\u001b[0m \u001b[0;34m\u001b[0m\u001b[0m\n\u001b[1;32m    380\u001b[0m     \u001b[0;32mdef\u001b[0m \u001b[0m_fit\u001b[0m\u001b[0;34m(\u001b[0m\u001b[0mself\u001b[0m\u001b[0;34m,\u001b[0m \u001b[0mdataset\u001b[0m\u001b[0;34m:\u001b[0m \u001b[0mDataFrame\u001b[0m\u001b[0;34m)\u001b[0m \u001b[0;34m->\u001b[0m \u001b[0mJM\u001b[0m\u001b[0;34m:\u001b[0m\u001b[0;34m\u001b[0m\u001b[0;34m\u001b[0m\u001b[0m\n\u001b[0;32m--> 381\u001b[0;31m         \u001b[0mjava_model\u001b[0m \u001b[0;34m=\u001b[0m \u001b[0mself\u001b[0m\u001b[0;34m.\u001b[0m\u001b[0m_fit_java\u001b[0m\u001b[0;34m(\u001b[0m\u001b[0mdataset\u001b[0m\u001b[0;34m)\u001b[0m\u001b[0;34m\u001b[0m\u001b[0;34m\u001b[0m\u001b[0m\n\u001b[0m\u001b[1;32m    382\u001b[0m         \u001b[0mmodel\u001b[0m \u001b[0;34m=\u001b[0m \u001b[0mself\u001b[0m\u001b[0;34m.\u001b[0m\u001b[0m_create_model\u001b[0m\u001b[0;34m(\u001b[0m\u001b[0mjava_model\u001b[0m\u001b[0;34m)\u001b[0m\u001b[0;34m\u001b[0m\u001b[0;34m\u001b[0m\u001b[0m\n\u001b[1;32m    383\u001b[0m         \u001b[0;32mreturn\u001b[0m \u001b[0mself\u001b[0m\u001b[0;34m.\u001b[0m\u001b[0m_copyValues\u001b[0m\u001b[0;34m(\u001b[0m\u001b[0mmodel\u001b[0m\u001b[0;34m)\u001b[0m\u001b[0;34m\u001b[0m\u001b[0;34m\u001b[0m\u001b[0m\n",
            "\u001b[0;32m/usr/local/lib/python3.10/dist-packages/pyspark/ml/wrapper.py\u001b[0m in \u001b[0;36m_fit_java\u001b[0;34m(self, dataset)\u001b[0m\n\u001b[1;32m    376\u001b[0m \u001b[0;34m\u001b[0m\u001b[0m\n\u001b[1;32m    377\u001b[0m         \u001b[0mself\u001b[0m\u001b[0;34m.\u001b[0m\u001b[0m_transfer_params_to_java\u001b[0m\u001b[0;34m(\u001b[0m\u001b[0;34m)\u001b[0m\u001b[0;34m\u001b[0m\u001b[0;34m\u001b[0m\u001b[0m\n\u001b[0;32m--> 378\u001b[0;31m         \u001b[0;32mreturn\u001b[0m \u001b[0mself\u001b[0m\u001b[0;34m.\u001b[0m\u001b[0m_java_obj\u001b[0m\u001b[0;34m.\u001b[0m\u001b[0mfit\u001b[0m\u001b[0;34m(\u001b[0m\u001b[0mdataset\u001b[0m\u001b[0;34m.\u001b[0m\u001b[0m_jdf\u001b[0m\u001b[0;34m)\u001b[0m\u001b[0;34m\u001b[0m\u001b[0;34m\u001b[0m\u001b[0m\n\u001b[0m\u001b[1;32m    379\u001b[0m \u001b[0;34m\u001b[0m\u001b[0m\n\u001b[1;32m    380\u001b[0m     \u001b[0;32mdef\u001b[0m \u001b[0m_fit\u001b[0m\u001b[0;34m(\u001b[0m\u001b[0mself\u001b[0m\u001b[0;34m,\u001b[0m \u001b[0mdataset\u001b[0m\u001b[0;34m:\u001b[0m \u001b[0mDataFrame\u001b[0m\u001b[0;34m)\u001b[0m \u001b[0;34m->\u001b[0m \u001b[0mJM\u001b[0m\u001b[0;34m:\u001b[0m\u001b[0;34m\u001b[0m\u001b[0;34m\u001b[0m\u001b[0m\n",
            "\u001b[0;32m/usr/local/lib/python3.10/dist-packages/py4j/java_gateway.py\u001b[0m in \u001b[0;36m__call__\u001b[0;34m(self, *args)\u001b[0m\n\u001b[1;32m   1320\u001b[0m \u001b[0;34m\u001b[0m\u001b[0m\n\u001b[1;32m   1321\u001b[0m         \u001b[0manswer\u001b[0m \u001b[0;34m=\u001b[0m \u001b[0mself\u001b[0m\u001b[0;34m.\u001b[0m\u001b[0mgateway_client\u001b[0m\u001b[0;34m.\u001b[0m\u001b[0msend_command\u001b[0m\u001b[0;34m(\u001b[0m\u001b[0mcommand\u001b[0m\u001b[0;34m)\u001b[0m\u001b[0;34m\u001b[0m\u001b[0;34m\u001b[0m\u001b[0m\n\u001b[0;32m-> 1322\u001b[0;31m         return_value = get_return_value(\n\u001b[0m\u001b[1;32m   1323\u001b[0m             answer, self.gateway_client, self.target_id, self.name)\n\u001b[1;32m   1324\u001b[0m \u001b[0;34m\u001b[0m\u001b[0m\n",
            "\u001b[0;32m/usr/local/lib/python3.10/dist-packages/pyspark/errors/exceptions/captured.py\u001b[0m in \u001b[0;36mdeco\u001b[0;34m(*a, **kw)\u001b[0m\n\u001b[1;32m    177\u001b[0m     \u001b[0;32mdef\u001b[0m \u001b[0mdeco\u001b[0m\u001b[0;34m(\u001b[0m\u001b[0;34m*\u001b[0m\u001b[0ma\u001b[0m\u001b[0;34m:\u001b[0m \u001b[0mAny\u001b[0m\u001b[0;34m,\u001b[0m \u001b[0;34m**\u001b[0m\u001b[0mkw\u001b[0m\u001b[0;34m:\u001b[0m \u001b[0mAny\u001b[0m\u001b[0;34m)\u001b[0m \u001b[0;34m->\u001b[0m \u001b[0mAny\u001b[0m\u001b[0;34m:\u001b[0m\u001b[0;34m\u001b[0m\u001b[0;34m\u001b[0m\u001b[0m\n\u001b[1;32m    178\u001b[0m         \u001b[0;32mtry\u001b[0m\u001b[0;34m:\u001b[0m\u001b[0;34m\u001b[0m\u001b[0;34m\u001b[0m\u001b[0m\n\u001b[0;32m--> 179\u001b[0;31m             \u001b[0;32mreturn\u001b[0m \u001b[0mf\u001b[0m\u001b[0;34m(\u001b[0m\u001b[0;34m*\u001b[0m\u001b[0ma\u001b[0m\u001b[0;34m,\u001b[0m \u001b[0;34m**\u001b[0m\u001b[0mkw\u001b[0m\u001b[0;34m)\u001b[0m\u001b[0;34m\u001b[0m\u001b[0;34m\u001b[0m\u001b[0m\n\u001b[0m\u001b[1;32m    180\u001b[0m         \u001b[0;32mexcept\u001b[0m \u001b[0mPy4JJavaError\u001b[0m \u001b[0;32mas\u001b[0m \u001b[0me\u001b[0m\u001b[0;34m:\u001b[0m\u001b[0;34m\u001b[0m\u001b[0;34m\u001b[0m\u001b[0m\n\u001b[1;32m    181\u001b[0m             \u001b[0mconverted\u001b[0m \u001b[0;34m=\u001b[0m \u001b[0mconvert_exception\u001b[0m\u001b[0;34m(\u001b[0m\u001b[0me\u001b[0m\u001b[0;34m.\u001b[0m\u001b[0mjava_exception\u001b[0m\u001b[0;34m)\u001b[0m\u001b[0;34m\u001b[0m\u001b[0;34m\u001b[0m\u001b[0m\n",
            "\u001b[0;32m/usr/local/lib/python3.10/dist-packages/py4j/protocol.py\u001b[0m in \u001b[0;36mget_return_value\u001b[0;34m(answer, gateway_client, target_id, name)\u001b[0m\n\u001b[1;32m    324\u001b[0m             \u001b[0mvalue\u001b[0m \u001b[0;34m=\u001b[0m \u001b[0mOUTPUT_CONVERTER\u001b[0m\u001b[0;34m[\u001b[0m\u001b[0mtype\u001b[0m\u001b[0;34m]\u001b[0m\u001b[0;34m(\u001b[0m\u001b[0manswer\u001b[0m\u001b[0;34m[\u001b[0m\u001b[0;36m2\u001b[0m\u001b[0;34m:\u001b[0m\u001b[0;34m]\u001b[0m\u001b[0;34m,\u001b[0m \u001b[0mgateway_client\u001b[0m\u001b[0;34m)\u001b[0m\u001b[0;34m\u001b[0m\u001b[0;34m\u001b[0m\u001b[0m\n\u001b[1;32m    325\u001b[0m             \u001b[0;32mif\u001b[0m \u001b[0manswer\u001b[0m\u001b[0;34m[\u001b[0m\u001b[0;36m1\u001b[0m\u001b[0;34m]\u001b[0m \u001b[0;34m==\u001b[0m \u001b[0mREFERENCE_TYPE\u001b[0m\u001b[0;34m:\u001b[0m\u001b[0;34m\u001b[0m\u001b[0;34m\u001b[0m\u001b[0m\n\u001b[0;32m--> 326\u001b[0;31m                 raise Py4JJavaError(\n\u001b[0m\u001b[1;32m    327\u001b[0m                     \u001b[0;34m\"An error occurred while calling {0}{1}{2}.\\n\"\u001b[0m\u001b[0;34m.\u001b[0m\u001b[0;34m\u001b[0m\u001b[0;34m\u001b[0m\u001b[0m\n\u001b[1;32m    328\u001b[0m                     format(target_id, \".\", name), value)\n",
            "\u001b[0;31mPy4JJavaError\u001b[0m: An error occurred while calling o1152.fit.\n: org.apache.spark.SparkException: Job aborted due to stage failure: Task 0 in stage 47.0 failed 1 times, most recent failure: Lost task 0.0 in stage 47.0 (TID 80) (c8b07dab2274 executor driver): java.lang.RuntimeException: Labels MUST be Integers, but got 1.328\n\tat org.apache.spark.sql.catalyst.expressions.GeneratedClass$GeneratedIteratorForCodegenStage6.hashAgg_doAggregate_max_0$(Unknown Source)\n\tat org.apache.spark.sql.catalyst.expressions.GeneratedClass$GeneratedIteratorForCodegenStage6.hashAgg_doConsume_0$(Unknown Source)\n\tat org.apache.spark.sql.catalyst.expressions.GeneratedClass$GeneratedIteratorForCodegenStage6.hashAgg_doAggregateWithoutKey_0$(Unknown Source)\n\tat org.apache.spark.sql.catalyst.expressions.GeneratedClass$GeneratedIteratorForCodegenStage6.processNext(Unknown Source)\n\tat org.apache.spark.sql.execution.BufferedRowIterator.hasNext(BufferedRowIterator.java:43)\n\tat org.apache.spark.sql.execution.WholeStageCodegenEvaluatorFactory$WholeStageCodegenPartitionEvaluator$$anon$1.hasNext(WholeStageCodegenEvaluatorFactory.scala:43)\n\tat scala.collection.Iterator$$anon$10.hasNext(Iterator.scala:460)\n\tat org.apache.spark.shuffle.sort.BypassMergeSortShuffleWriter.write(BypassMergeSortShuffleWriter.java:140)\n\tat org.apache.spark.shuffle.ShuffleWriteProcessor.write(ShuffleWriteProcessor.scala:59)\n\tat org.apache.spark.scheduler.ShuffleMapTask.runTask(ShuffleMapTask.scala:104)\n\tat org.apache.spark.scheduler.ShuffleMapTask.runTask(ShuffleMapTask.scala:54)\n\tat org.apache.spark.TaskContext.runTaskWithListeners(TaskContext.scala:161)\n\tat org.apache.spark.scheduler.Task.run(Task.scala:141)\n\tat org.apache.spark.executor.Executor$TaskRunner.$anonfun$run$4(Executor.scala:620)\n\tat org.apache.spark.util.SparkErrorUtils.tryWithSafeFinally(SparkErrorUtils.scala:64)\n\tat org.apache.spark.util.SparkErrorUtils.tryWithSafeFinally$(SparkErrorUtils.scala:61)\n\tat org.apache.spark.util.Utils$.tryWithSafeFinally(Utils.scala:94)\n\tat org.apache.spark.executor.Executor$TaskRunner.run(Executor.scala:623)\n\tat java.base/java.util.concurrent.ThreadPoolExecutor.runWorker(ThreadPoolExecutor.java:1128)\n\tat java.base/java.util.concurrent.ThreadPoolExecutor$Worker.run(ThreadPoolExecutor.java:628)\n\tat java.base/java.lang.Thread.run(Thread.java:829)\n\nDriver stacktrace:\n\tat org.apache.spark.scheduler.DAGScheduler.failJobAndIndependentStages(DAGScheduler.scala:2844)\n\tat org.apache.spark.scheduler.DAGScheduler.$anonfun$abortStage$2(DAGScheduler.scala:2780)\n\tat org.apache.spark.scheduler.DAGScheduler.$anonfun$abortStage$2$adapted(DAGScheduler.scala:2779)\n\tat scala.collection.mutable.ResizableArray.foreach(ResizableArray.scala:62)\n\tat scala.collection.mutable.ResizableArray.foreach$(ResizableArray.scala:55)\n\tat scala.collection.mutable.ArrayBuffer.foreach(ArrayBuffer.scala:49)\n\tat org.apache.spark.scheduler.DAGScheduler.abortStage(DAGScheduler.scala:2779)\n\tat org.apache.spark.scheduler.DAGScheduler.$anonfun$handleTaskSetFailed$1(DAGScheduler.scala:1242)\n\tat org.apache.spark.scheduler.DAGScheduler.$anonfun$handleTaskSetFailed$1$adapted(DAGScheduler.scala:1242)\n\tat scala.Option.foreach(Option.scala:407)\n\tat org.apache.spark.scheduler.DAGScheduler.handleTaskSetFailed(DAGScheduler.scala:1242)\n\tat org.apache.spark.scheduler.DAGSchedulerEventProcessLoop.doOnReceive(DAGScheduler.scala:3048)\n\tat org.apache.spark.scheduler.DAGSchedulerEventProcessLoop.onReceive(DAGScheduler.scala:2982)\n\tat org.apache.spark.scheduler.DAGSchedulerEventProcessLoop.onReceive(DAGScheduler.scala:2971)\n\tat org.apache.spark.util.EventLoop$$anon$1.run(EventLoop.scala:49)\nCaused by: java.lang.RuntimeException: Labels MUST be Integers, but got 1.328\n\tat org.apache.spark.sql.catalyst.expressions.GeneratedClass$GeneratedIteratorForCodegenStage6.hashAgg_doAggregate_max_0$(Unknown Source)\n\tat org.apache.spark.sql.catalyst.expressions.GeneratedClass$GeneratedIteratorForCodegenStage6.hashAgg_doConsume_0$(Unknown Source)\n\tat org.apache.spark.sql.catalyst.expressions.GeneratedClass$GeneratedIteratorForCodegenStage6.hashAgg_doAggregateWithoutKey_0$(Unknown Source)\n\tat org.apache.spark.sql.catalyst.expressions.GeneratedClass$GeneratedIteratorForCodegenStage6.processNext(Unknown Source)\n\tat org.apache.spark.sql.execution.BufferedRowIterator.hasNext(BufferedRowIterator.java:43)\n\tat org.apache.spark.sql.execution.WholeStageCodegenEvaluatorFactory$WholeStageCodegenPartitionEvaluator$$anon$1.hasNext(WholeStageCodegenEvaluatorFactory.scala:43)\n\tat scala.collection.Iterator$$anon$10.hasNext(Iterator.scala:460)\n\tat org.apache.spark.shuffle.sort.BypassMergeSortShuffleWriter.write(BypassMergeSortShuffleWriter.java:140)\n\tat org.apache.spark.shuffle.ShuffleWriteProcessor.write(ShuffleWriteProcessor.scala:59)\n\tat org.apache.spark.scheduler.ShuffleMapTask.runTask(ShuffleMapTask.scala:104)\n\tat org.apache.spark.scheduler.ShuffleMapTask.runTask(ShuffleMapTask.scala:54)\n\tat org.apache.spark.TaskContext.runTaskWithListeners(TaskContext.scala:161)\n\tat org.apache.spark.scheduler.Task.run(Task.scala:141)\n\tat org.apache.spark.executor.Executor$TaskRunner.$anonfun$run$4(Executor.scala:620)\n\tat org.apache.spark.util.SparkErrorUtils.tryWithSafeFinally(SparkErrorUtils.scala:64)\n\tat org.apache.spark.util.SparkErrorUtils.tryWithSafeFinally$(SparkErrorUtils.scala:61)\n\tat org.apache.spark.util.Utils$.tryWithSafeFinally(Utils.scala:94)\n\tat org.apache.spark.executor.Executor$TaskRunner.run(Executor.scala:623)\n\tat java.base/java.util.concurrent.ThreadPoolExecutor.runWorker(ThreadPoolExecutor.java:1128)\n\tat java.base/java.util.concurrent.ThreadPoolExecutor$Worker.run(ThreadPoolExecutor.java:628)\n\tat java.base/java.lang.Thread.run(Thread.java:829)\n"
          ]
        }
      ],
      "source": [
        "fitted_rf = pipeline_rf.fit(prices_df_without_null_adj)"
      ]
    },
    {
      "cell_type": "code",
      "execution_count": null,
      "metadata": {
        "id": "1HgDQ4XTERvV"
      },
      "outputs": [],
      "source": [
        "fitted_rf.stages[-1]"
      ]
    },
    {
      "cell_type": "code",
      "execution_count": null,
      "metadata": {
        "id": "J-GR7H_SJSGI"
      },
      "outputs": [],
      "source": [
        "fitted_rf.transform(prices_df_without_null_adj).show(4)"
      ]
    },
    {
      "cell_type": "code",
      "execution_count": null,
      "metadata": {
        "id": "MQgSUAwIJYml"
      },
      "outputs": [],
      "source": [
        "fitted_rf.stages[-1].coefficients"
      ]
    }
  ],
  "metadata": {
    "colab": {
      "include_colab_link": true,
      "provenance": []
    },
    "kernelspec": {
      "display_name": "Python 3",
      "name": "python3"
    },
    "language_info": {
      "codemirror_mode": {
        "name": "ipython",
        "version": 3
      },
      "file_extension": ".py",
      "mimetype": "text/x-python",
      "name": "python",
      "nbconvert_exporter": "python",
      "pygments_lexer": "ipython3",
      "version": "3.10.0"
    }
  },
  "nbformat": 4,
  "nbformat_minor": 0
}
