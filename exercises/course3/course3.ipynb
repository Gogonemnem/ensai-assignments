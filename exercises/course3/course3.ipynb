{
 "cells": [
  {
   "cell_type": "markdown",
   "metadata": {},
   "source": [
    "# Course 3: Bokeh, interaction and web\n"
   ]
  },
  {
   "cell_type": "markdown",
   "metadata": {},
   "source": [
    "### Links to resources:\n",
    "\n",
    "- https://docs.bokeh.org/en/latest/docs/user_guide/interaction.html\n",
    "\n",
    "Note: Throughout this notebook, we are using the specific feature that allows direct display within the notebook rather than in a web page:\n"
   ]
  },
  {
   "cell_type": "code",
   "execution_count": 1,
   "metadata": {},
   "outputs": [
    {
     "data": {
      "text/html": [
       "    <style>\n",
       "        .bk-notebook-logo {\n",
       "            display: block;\n",
       "            width: 20px;\n",
       "            height: 20px;\n",
       "            background-image: url(data:image/png;base64,iVBORw0KGgoAAAANSUhEUgAAABQAAAAUCAYAAACNiR0NAAAABHNCSVQICAgIfAhkiAAAAAlwSFlzAAALEgAACxIB0t1+/AAAABx0RVh0U29mdHdhcmUAQWRvYmUgRmlyZXdvcmtzIENTNui8sowAAAOkSURBVDiNjZRtaJVlGMd/1/08zzln5zjP1LWcU9N0NkN8m2CYjpgQYQXqSs0I84OLIC0hkEKoPtiH3gmKoiJDU7QpLgoLjLIQCpEsNJ1vqUOdO7ppbuec5+V+rj4ctwzd8IIbbi6u+8f1539dt3A78eXC7QizUF7gyV1fD1Yqg4JWz84yffhm0qkFqBogB9rM8tZdtwVsPUhWhGcFJngGeWrPzHm5oaMmkfEg1usvLFyc8jLRqDOMru7AyC8saQr7GG7f5fvDeH7Ej8CM66nIF+8yngt6HWaKh7k49Soy9nXurCi1o3qUbS3zWfrYeQDTB/Qj6kX6Ybhw4B+bOYoLKCC9H3Nu/leUTZ1JdRWkkn2ldcCamzrcf47KKXdAJllSlxAOkRgyHsGC/zRday5Qld9DyoM4/q/rUoy/CXh3jzOu3bHUVZeU+DEn8FInkPBFlu3+nW3Nw0mk6vCDiWg8CeJaxEwuHS3+z5RgY+YBR6V1Z1nxSOfoaPa4LASWxxdNp+VWTk7+4vzaou8v8PN+xo+KY2xsw6une2frhw05CTYOmQvsEhjhWjn0bmXPjpE1+kplmmkP3suftwTubK9Vq22qKmrBhpY4jvd5afdRA3wGjFAgcnTK2s4hY0/GPNIb0nErGMCRxWOOX64Z8RAC4oCXdklmEvcL8o0BfkNK4lUg9HTl+oPlQxdNo3Mg4Nv175e/1LDGzZen30MEjRUtmXSfiTVu1kK8W4txyV6BMKlbgk3lMwYCiusNy9fVfvvwMxv8Ynl6vxoByANLTWplvuj/nF9m2+PDtt1eiHPBr1oIfhCChQMBw6Aw0UulqTKZdfVvfG7VcfIqLG9bcldL/+pdWTLxLUy8Qq38heUIjh4XlzZxzQm19lLFlr8vdQ97rjZVOLf8nclzckbcD4wxXMidpX30sFd37Fv/GtwwhzhxGVAprjbg0gCAEeIgwCZyTV2Z1REEW8O4py0wsjeloKoMr6iCY6dP92H6Vw/oTyICIthibxjm/DfN9lVz8IqtqKYLUXfoKVMVQVVJOElGjrnnUt9T9wbgp8AyYKaGlqingHZU/uG2NTZSVqwHQTWkx9hxjkpWDaCg6Ckj5qebgBVbT3V3NNXMSiWSDdGV3hrtzla7J+duwPOToIg42ChPQOQjspnSlp1V+Gjdged7+8UN5CRAV7a5EdFNwCjEaBR27b3W890TE7g24NAP/mMDXRWrGoFPQI9ls/MWO2dWFAar/xcOIImbbpA3zgAAAABJRU5ErkJggg==);\n",
       "        }\n",
       "    </style>\n",
       "    <div>\n",
       "        <a href=\"https://bokeh.org\" target=\"_blank\" class=\"bk-notebook-logo\"></a>\n",
       "        <span id=\"f9fb9c8e-9e79-4228-91fb-fe4421499f65\">Loading BokehJS ...</span>\n",
       "    </div>\n"
      ]
     },
     "metadata": {},
     "output_type": "display_data"
    },
    {
     "data": {
      "application/javascript": "(function(root) {\n  function now() {\n    return new Date();\n  }\n\n  const force = true;\n\n  if (typeof root._bokeh_onload_callbacks === \"undefined\" || force === true) {\n    root._bokeh_onload_callbacks = [];\n    root._bokeh_is_loading = undefined;\n  }\n\nconst JS_MIME_TYPE = 'application/javascript';\n  const HTML_MIME_TYPE = 'text/html';\n  const EXEC_MIME_TYPE = 'application/vnd.bokehjs_exec.v0+json';\n  const CLASS_NAME = 'output_bokeh rendered_html';\n\n  /**\n   * Render data to the DOM node\n   */\n  function render(props, node) {\n    const script = document.createElement(\"script\");\n    node.appendChild(script);\n  }\n\n  /**\n   * Handle when an output is cleared or removed\n   */\n  function handleClearOutput(event, handle) {\n    function drop(id) {\n      const view = Bokeh.index.get_by_id(id)\n      if (view != null) {\n        view.model.document.clear()\n        Bokeh.index.delete(view)\n      }\n    }\n\n    const cell = handle.cell;\n\n    const id = cell.output_area._bokeh_element_id;\n    const server_id = cell.output_area._bokeh_server_id;\n\n    // Clean up Bokeh references\n    if (id != null) {\n      drop(id)\n    }\n\n    if (server_id !== undefined) {\n      // Clean up Bokeh references\n      const cmd_clean = \"from bokeh.io.state import curstate; print(curstate().uuid_to_server['\" + server_id + \"'].get_sessions()[0].document.roots[0]._id)\";\n      cell.notebook.kernel.execute(cmd_clean, {\n        iopub: {\n          output: function(msg) {\n            const id = msg.content.text.trim()\n            drop(id)\n          }\n        }\n      });\n      // Destroy server and session\n      const cmd_destroy = \"import bokeh.io.notebook as ion; ion.destroy_server('\" + server_id + \"')\";\n      cell.notebook.kernel.execute(cmd_destroy);\n    }\n  }\n\n  /**\n   * Handle when a new output is added\n   */\n  function handleAddOutput(event, handle) {\n    const output_area = handle.output_area;\n    const output = handle.output;\n\n    // limit handleAddOutput to display_data with EXEC_MIME_TYPE content only\n    if ((output.output_type != \"display_data\") || (!Object.prototype.hasOwnProperty.call(output.data, EXEC_MIME_TYPE))) {\n      return\n    }\n\n    const toinsert = output_area.element.find(\".\" + CLASS_NAME.split(' ')[0]);\n\n    if (output.metadata[EXEC_MIME_TYPE][\"id\"] !== undefined) {\n      toinsert[toinsert.length - 1].firstChild.textContent = output.data[JS_MIME_TYPE];\n      // store reference to embed id on output_area\n      output_area._bokeh_element_id = output.metadata[EXEC_MIME_TYPE][\"id\"];\n    }\n    if (output.metadata[EXEC_MIME_TYPE][\"server_id\"] !== undefined) {\n      const bk_div = document.createElement(\"div\");\n      bk_div.innerHTML = output.data[HTML_MIME_TYPE];\n      const script_attrs = bk_div.children[0].attributes;\n      for (let i = 0; i < script_attrs.length; i++) {\n        toinsert[toinsert.length - 1].firstChild.setAttribute(script_attrs[i].name, script_attrs[i].value);\n        toinsert[toinsert.length - 1].firstChild.textContent = bk_div.children[0].textContent\n      }\n      // store reference to server id on output_area\n      output_area._bokeh_server_id = output.metadata[EXEC_MIME_TYPE][\"server_id\"];\n    }\n  }\n\n  function register_renderer(events, OutputArea) {\n\n    function append_mime(data, metadata, element) {\n      // create a DOM node to render to\n      const toinsert = this.create_output_subarea(\n        metadata,\n        CLASS_NAME,\n        EXEC_MIME_TYPE\n      );\n      this.keyboard_manager.register_events(toinsert);\n      // Render to node\n      const props = {data: data, metadata: metadata[EXEC_MIME_TYPE]};\n      render(props, toinsert[toinsert.length - 1]);\n      element.append(toinsert);\n      return toinsert\n    }\n\n    /* Handle when an output is cleared or removed */\n    events.on('clear_output.CodeCell', handleClearOutput);\n    events.on('delete.Cell', handleClearOutput);\n\n    /* Handle when a new output is added */\n    events.on('output_added.OutputArea', handleAddOutput);\n\n    /**\n     * Register the mime type and append_mime function with output_area\n     */\n    OutputArea.prototype.register_mime_type(EXEC_MIME_TYPE, append_mime, {\n      /* Is output safe? */\n      safe: true,\n      /* Index of renderer in `output_area.display_order` */\n      index: 0\n    });\n  }\n\n  // register the mime type if in Jupyter Notebook environment and previously unregistered\n  if (root.Jupyter !== undefined) {\n    const events = require('base/js/events');\n    const OutputArea = require('notebook/js/outputarea').OutputArea;\n\n    if (OutputArea.prototype.mime_types().indexOf(EXEC_MIME_TYPE) == -1) {\n      register_renderer(events, OutputArea);\n    }\n  }\n  if (typeof (root._bokeh_timeout) === \"undefined\" || force === true) {\n    root._bokeh_timeout = Date.now() + 5000;\n    root._bokeh_failed_load = false;\n  }\n\n  const NB_LOAD_WARNING = {'data': {'text/html':\n     \"<div style='background-color: #fdd'>\\n\"+\n     \"<p>\\n\"+\n     \"BokehJS does not appear to have successfully loaded. If loading BokehJS from CDN, this \\n\"+\n     \"may be due to a slow or bad network connection. Possible fixes:\\n\"+\n     \"</p>\\n\"+\n     \"<ul>\\n\"+\n     \"<li>re-rerun `output_notebook()` to attempt to load from CDN again, or</li>\\n\"+\n     \"<li>use INLINE resources instead, as so:</li>\\n\"+\n     \"</ul>\\n\"+\n     \"<code>\\n\"+\n     \"from bokeh.resources import INLINE\\n\"+\n     \"output_notebook(resources=INLINE)\\n\"+\n     \"</code>\\n\"+\n     \"</div>\"}};\n\n  function display_loaded() {\n    const el = document.getElementById(\"f9fb9c8e-9e79-4228-91fb-fe4421499f65\");\n    if (el != null) {\n      el.textContent = \"BokehJS is loading...\";\n    }\n    if (root.Bokeh !== undefined) {\n      if (el != null) {\n        el.textContent = \"BokehJS \" + root.Bokeh.version + \" successfully loaded.\";\n      }\n    } else if (Date.now() < root._bokeh_timeout) {\n      setTimeout(display_loaded, 100)\n    }\n  }\n\n  function run_callbacks() {\n    try {\n      root._bokeh_onload_callbacks.forEach(function(callback) {\n        if (callback != null)\n          callback();\n      });\n    } finally {\n      delete root._bokeh_onload_callbacks\n    }\n    console.debug(\"Bokeh: all callbacks have finished\");\n  }\n\n  function load_libs(css_urls, js_urls, callback) {\n    if (css_urls == null) css_urls = [];\n    if (js_urls == null) js_urls = [];\n\n    root._bokeh_onload_callbacks.push(callback);\n    if (root._bokeh_is_loading > 0) {\n      console.debug(\"Bokeh: BokehJS is being loaded, scheduling callback at\", now());\n      return null;\n    }\n    if (js_urls == null || js_urls.length === 0) {\n      run_callbacks();\n      return null;\n    }\n    console.debug(\"Bokeh: BokehJS not loaded, scheduling load and callback at\", now());\n    root._bokeh_is_loading = css_urls.length + js_urls.length;\n\n    function on_load() {\n      root._bokeh_is_loading--;\n      if (root._bokeh_is_loading === 0) {\n        console.debug(\"Bokeh: all BokehJS libraries/stylesheets loaded\");\n        run_callbacks()\n      }\n    }\n\n    function on_error(url) {\n      console.error(\"failed to load \" + url);\n    }\n\n    for (let i = 0; i < css_urls.length; i++) {\n      const url = css_urls[i];\n      const element = document.createElement(\"link\");\n      element.onload = on_load;\n      element.onerror = on_error.bind(null, url);\n      element.rel = \"stylesheet\";\n      element.type = \"text/css\";\n      element.href = url;\n      console.debug(\"Bokeh: injecting link tag for BokehJS stylesheet: \", url);\n      document.body.appendChild(element);\n    }\n\n    for (let i = 0; i < js_urls.length; i++) {\n      const url = js_urls[i];\n      const element = document.createElement('script');\n      element.onload = on_load;\n      element.onerror = on_error.bind(null, url);\n      element.async = false;\n      element.src = url;\n      console.debug(\"Bokeh: injecting script tag for BokehJS library: \", url);\n      document.head.appendChild(element);\n    }\n  };\n\n  function inject_raw_css(css) {\n    const element = document.createElement(\"style\");\n    element.appendChild(document.createTextNode(css));\n    document.body.appendChild(element);\n  }\n\n  const js_urls = [\"https://cdn.bokeh.org/bokeh/release/bokeh-3.3.4.min.js\", \"https://cdn.bokeh.org/bokeh/release/bokeh-gl-3.3.4.min.js\", \"https://cdn.bokeh.org/bokeh/release/bokeh-widgets-3.3.4.min.js\", \"https://cdn.bokeh.org/bokeh/release/bokeh-tables-3.3.4.min.js\", \"https://cdn.bokeh.org/bokeh/release/bokeh-mathjax-3.3.4.min.js\"];\n  const css_urls = [];\n\n  const inline_js = [    function(Bokeh) {\n      Bokeh.set_log_level(\"info\");\n    },\nfunction(Bokeh) {\n    }\n  ];\n\n  function run_inline_js() {\n    if (root.Bokeh !== undefined || force === true) {\n          for (let i = 0; i < inline_js.length; i++) {\n      inline_js[i].call(root, root.Bokeh);\n    }\nif (force === true) {\n        display_loaded();\n      }} else if (Date.now() < root._bokeh_timeout) {\n      setTimeout(run_inline_js, 100);\n    } else if (!root._bokeh_failed_load) {\n      console.log(\"Bokeh: BokehJS failed to load within specified timeout.\");\n      root._bokeh_failed_load = true;\n    } else if (force !== true) {\n      const cell = $(document.getElementById(\"f9fb9c8e-9e79-4228-91fb-fe4421499f65\")).parents('.cell').data().cell;\n      cell.output_area.append_execute_result(NB_LOAD_WARNING)\n    }\n  }\n\n  if (root._bokeh_is_loading === 0) {\n    console.debug(\"Bokeh: BokehJS loaded, going straight to plotting\");\n    run_inline_js();\n  } else {\n    load_libs(css_urls, js_urls, function() {\n      console.debug(\"Bokeh: BokehJS plotting callback run at\", now());\n      run_inline_js();\n    });\n  }\n}(window));",
      "application/vnd.bokehjs_load.v0+json": ""
     },
     "metadata": {},
     "output_type": "display_data"
    }
   ],
   "source": [
    "from bokeh.plotting import figure, show\n",
    "from bokeh.io import output_notebook\n",
    "\n",
    "output_notebook()"
   ]
  },
  {
   "cell_type": "markdown",
   "metadata": {},
   "source": [
    "# 1. Toolbar\n",
    "\n",
    "https://docs.bokeh.org/en/latest/docs/user_guide/interaction/tools.html#plot-tools\n",
    "\n",
    "Bokeh comes with a toolbar, Plot Tools, that provides access to interactive features:\n",
    "\n",
    "- Pan Tool: Move the curve within the graph\n",
    "- Box Zoom Tool: Zoom into a specific area of the graph\n",
    "- Wheel Zoom Tool: Zoom using the mouse wheel\n",
    "- Save Tool: Export the current view as PNG\n",
    "- Reset Tool: Revert to the default configuration\n",
    "- Help Symbol: Learn more about the tools\n",
    "- Bokeh logo\n",
    "\n",
    "There are many options to customize the tools, such as specifying desired tools, changing the toolbar's position (see documentation).\n"
   ]
  },
  {
   "cell_type": "code",
   "execution_count": 2,
   "metadata": {},
   "outputs": [
    {
     "data": {
      "text/html": [
       "\n",
       "  <div id=\"d9fcb1c0-fbfc-452d-83f4-b1ff591f679f\" data-root-id=\"p1001\" style=\"display: contents;\"></div>\n"
      ]
     },
     "metadata": {},
     "output_type": "display_data"
    },
    {
     "data": {
      "application/javascript": "(function(root) {\n  function embed_document(root) {\n  const docs_json = {\"4eb6b3b2-dae3-4817-b3c5-d1f5dd0eccec\":{\"version\":\"3.3.4\",\"title\":\"Bokeh Application\",\"roots\":[{\"type\":\"object\",\"name\":\"Figure\",\"id\":\"p1001\",\"attributes\":{\"width\":400,\"height\":400,\"x_range\":{\"type\":\"object\",\"name\":\"DataRange1d\",\"id\":\"p1002\"},\"y_range\":{\"type\":\"object\",\"name\":\"DataRange1d\",\"id\":\"p1003\"},\"x_scale\":{\"type\":\"object\",\"name\":\"LinearScale\",\"id\":\"p1010\"},\"y_scale\":{\"type\":\"object\",\"name\":\"LinearScale\",\"id\":\"p1011\"},\"title\":null,\"renderers\":[{\"type\":\"object\",\"name\":\"GlyphRenderer\",\"id\":\"p1039\",\"attributes\":{\"data_source\":{\"type\":\"object\",\"name\":\"ColumnDataSource\",\"id\":\"p1033\",\"attributes\":{\"selected\":{\"type\":\"object\",\"name\":\"Selection\",\"id\":\"p1034\",\"attributes\":{\"indices\":[],\"line_indices\":[]}},\"selection_policy\":{\"type\":\"object\",\"name\":\"UnionRenderers\",\"id\":\"p1035\"},\"data\":{\"type\":\"map\",\"entries\":[[\"x\",[1,2,3,4,5]],[\"y\",[2,5,8,2,7]]]}}},\"view\":{\"type\":\"object\",\"name\":\"CDSView\",\"id\":\"p1040\",\"attributes\":{\"filter\":{\"type\":\"object\",\"name\":\"AllIndices\",\"id\":\"p1041\"}}},\"glyph\":{\"type\":\"object\",\"name\":\"Circle\",\"id\":\"p1036\",\"attributes\":{\"x\":{\"type\":\"field\",\"field\":\"x\"},\"y\":{\"type\":\"field\",\"field\":\"y\"},\"size\":{\"type\":\"value\",\"value\":10},\"line_color\":{\"type\":\"value\",\"value\":\"#1f77b4\"},\"fill_color\":{\"type\":\"value\",\"value\":\"#1f77b4\"}}},\"nonselection_glyph\":{\"type\":\"object\",\"name\":\"Circle\",\"id\":\"p1037\",\"attributes\":{\"x\":{\"type\":\"field\",\"field\":\"x\"},\"y\":{\"type\":\"field\",\"field\":\"y\"},\"size\":{\"type\":\"value\",\"value\":10},\"line_color\":{\"type\":\"value\",\"value\":\"#1f77b4\"},\"line_alpha\":{\"type\":\"value\",\"value\":0.1},\"fill_color\":{\"type\":\"value\",\"value\":\"#1f77b4\"},\"fill_alpha\":{\"type\":\"value\",\"value\":0.1},\"hatch_alpha\":{\"type\":\"value\",\"value\":0.1}}},\"muted_glyph\":{\"type\":\"object\",\"name\":\"Circle\",\"id\":\"p1038\",\"attributes\":{\"x\":{\"type\":\"field\",\"field\":\"x\"},\"y\":{\"type\":\"field\",\"field\":\"y\"},\"size\":{\"type\":\"value\",\"value\":10},\"line_color\":{\"type\":\"value\",\"value\":\"#1f77b4\"},\"line_alpha\":{\"type\":\"value\",\"value\":0.2},\"fill_color\":{\"type\":\"value\",\"value\":\"#1f77b4\"},\"fill_alpha\":{\"type\":\"value\",\"value\":0.2},\"hatch_alpha\":{\"type\":\"value\",\"value\":0.2}}}}}],\"toolbar\":{\"type\":\"object\",\"name\":\"Toolbar\",\"id\":\"p1009\",\"attributes\":{\"tools\":[{\"type\":\"object\",\"name\":\"PanTool\",\"id\":\"p1022\"},{\"type\":\"object\",\"name\":\"WheelZoomTool\",\"id\":\"p1023\",\"attributes\":{\"renderers\":\"auto\"}},{\"type\":\"object\",\"name\":\"BoxZoomTool\",\"id\":\"p1024\",\"attributes\":{\"overlay\":{\"type\":\"object\",\"name\":\"BoxAnnotation\",\"id\":\"p1025\",\"attributes\":{\"syncable\":false,\"level\":\"overlay\",\"visible\":false,\"left\":{\"type\":\"number\",\"value\":\"nan\"},\"right\":{\"type\":\"number\",\"value\":\"nan\"},\"top\":{\"type\":\"number\",\"value\":\"nan\"},\"bottom\":{\"type\":\"number\",\"value\":\"nan\"},\"left_units\":\"canvas\",\"right_units\":\"canvas\",\"top_units\":\"canvas\",\"bottom_units\":\"canvas\",\"line_color\":\"black\",\"line_alpha\":1.0,\"line_width\":2,\"line_dash\":[4,4],\"fill_color\":\"lightgrey\",\"fill_alpha\":0.5}}}},{\"type\":\"object\",\"name\":\"SaveTool\",\"id\":\"p1030\"},{\"type\":\"object\",\"name\":\"ResetTool\",\"id\":\"p1031\"},{\"type\":\"object\",\"name\":\"HelpTool\",\"id\":\"p1032\"}]}},\"toolbar_location\":\"below\",\"left\":[{\"type\":\"object\",\"name\":\"LinearAxis\",\"id\":\"p1017\",\"attributes\":{\"ticker\":{\"type\":\"object\",\"name\":\"BasicTicker\",\"id\":\"p1018\",\"attributes\":{\"mantissas\":[1,2,5]}},\"formatter\":{\"type\":\"object\",\"name\":\"BasicTickFormatter\",\"id\":\"p1019\"},\"major_label_policy\":{\"type\":\"object\",\"name\":\"AllLabels\",\"id\":\"p1020\"}}}],\"below\":[{\"type\":\"object\",\"name\":\"LinearAxis\",\"id\":\"p1012\",\"attributes\":{\"ticker\":{\"type\":\"object\",\"name\":\"BasicTicker\",\"id\":\"p1013\",\"attributes\":{\"mantissas\":[1,2,5]}},\"formatter\":{\"type\":\"object\",\"name\":\"BasicTickFormatter\",\"id\":\"p1014\"},\"major_label_policy\":{\"type\":\"object\",\"name\":\"AllLabels\",\"id\":\"p1015\"}}}],\"center\":[{\"type\":\"object\",\"name\":\"Grid\",\"id\":\"p1016\",\"attributes\":{\"axis\":{\"id\":\"p1012\"}}},{\"type\":\"object\",\"name\":\"Grid\",\"id\":\"p1021\",\"attributes\":{\"dimension\":1,\"axis\":{\"id\":\"p1017\"}}}]}}]}};\n  const render_items = [{\"docid\":\"4eb6b3b2-dae3-4817-b3c5-d1f5dd0eccec\",\"roots\":{\"p1001\":\"d9fcb1c0-fbfc-452d-83f4-b1ff591f679f\"},\"root_ids\":[\"p1001\"]}];\n  root.Bokeh.embed.embed_items_notebook(docs_json, render_items);\n  }\n  if (root.Bokeh !== undefined) {\n    embed_document(root);\n  } else {\n    let attempts = 0;\n    const timer = setInterval(function(root) {\n      if (root.Bokeh !== undefined) {\n        clearInterval(timer);\n        embed_document(root);\n      } else {\n        attempts++;\n        if (attempts > 100) {\n          clearInterval(timer);\n          console.log(\"Bokeh: ERROR: Unable to run BokehJS code because BokehJS library is missing\");\n        }\n      }\n    }, 10, root)\n  }\n})(window);",
      "application/vnd.bokehjs_exec.v0+json": ""
     },
     "metadata": {
      "application/vnd.bokehjs_exec.v0+json": {
       "id": "p1001"
      }
     },
     "output_type": "display_data"
    }
   ],
   "source": [
    "# Example 1: Toolbar positioned below\n",
    "\n",
    "p = figure(width=400, height=400, title=None, toolbar_location=\"below\")\n",
    "\n",
    "p.circle([1, 2, 3, 4, 5], [2, 5, 8, 2, 7], size=10)\n",
    "show(p)"
   ]
  },
  {
   "cell_type": "code",
   "execution_count": 3,
   "metadata": {},
   "outputs": [
    {
     "data": {
      "text/html": [
       "\n",
       "  <div id=\"d45b57b9-29c6-4a0a-bb13-615918ebcde4\" data-root-id=\"p1042\" style=\"display: contents;\"></div>\n"
      ]
     },
     "metadata": {},
     "output_type": "display_data"
    },
    {
     "data": {
      "application/javascript": "(function(root) {\n  function embed_document(root) {\n  const docs_json = {\"99e86166-a1e8-4c9f-9521-3ba3c5bd11c8\":{\"version\":\"3.3.4\",\"title\":\"Bokeh Application\",\"roots\":[{\"type\":\"object\",\"name\":\"Figure\",\"id\":\"p1042\",\"attributes\":{\"width\":400,\"height\":400,\"x_range\":{\"type\":\"object\",\"name\":\"DataRange1d\",\"id\":\"p1043\"},\"y_range\":{\"type\":\"object\",\"name\":\"DataRange1d\",\"id\":\"p1044\"},\"x_scale\":{\"type\":\"object\",\"name\":\"LinearScale\",\"id\":\"p1051\"},\"y_scale\":{\"type\":\"object\",\"name\":\"LinearScale\",\"id\":\"p1052\"},\"title\":null,\"renderers\":[{\"type\":\"object\",\"name\":\"GlyphRenderer\",\"id\":\"p1072\",\"attributes\":{\"data_source\":{\"type\":\"object\",\"name\":\"ColumnDataSource\",\"id\":\"p1066\",\"attributes\":{\"selected\":{\"type\":\"object\",\"name\":\"Selection\",\"id\":\"p1067\",\"attributes\":{\"indices\":[],\"line_indices\":[]}},\"selection_policy\":{\"type\":\"object\",\"name\":\"UnionRenderers\",\"id\":\"p1068\"},\"data\":{\"type\":\"map\",\"entries\":[[\"x\",[1,2,3,4,5]],[\"y\",[2,5,8,2,7]]]}}},\"view\":{\"type\":\"object\",\"name\":\"CDSView\",\"id\":\"p1073\",\"attributes\":{\"filter\":{\"type\":\"object\",\"name\":\"AllIndices\",\"id\":\"p1074\"}}},\"glyph\":{\"type\":\"object\",\"name\":\"Circle\",\"id\":\"p1069\",\"attributes\":{\"x\":{\"type\":\"field\",\"field\":\"x\"},\"y\":{\"type\":\"field\",\"field\":\"y\"},\"size\":{\"type\":\"value\",\"value\":10},\"line_color\":{\"type\":\"value\",\"value\":\"#1f77b4\"},\"fill_color\":{\"type\":\"value\",\"value\":\"#1f77b4\"}}},\"nonselection_glyph\":{\"type\":\"object\",\"name\":\"Circle\",\"id\":\"p1070\",\"attributes\":{\"x\":{\"type\":\"field\",\"field\":\"x\"},\"y\":{\"type\":\"field\",\"field\":\"y\"},\"size\":{\"type\":\"value\",\"value\":10},\"line_color\":{\"type\":\"value\",\"value\":\"#1f77b4\"},\"line_alpha\":{\"type\":\"value\",\"value\":0.1},\"fill_color\":{\"type\":\"value\",\"value\":\"#1f77b4\"},\"fill_alpha\":{\"type\":\"value\",\"value\":0.1},\"hatch_alpha\":{\"type\":\"value\",\"value\":0.1}}},\"muted_glyph\":{\"type\":\"object\",\"name\":\"Circle\",\"id\":\"p1071\",\"attributes\":{\"x\":{\"type\":\"field\",\"field\":\"x\"},\"y\":{\"type\":\"field\",\"field\":\"y\"},\"size\":{\"type\":\"value\",\"value\":10},\"line_color\":{\"type\":\"value\",\"value\":\"#1f77b4\"},\"line_alpha\":{\"type\":\"value\",\"value\":0.2},\"fill_color\":{\"type\":\"value\",\"value\":\"#1f77b4\"},\"fill_alpha\":{\"type\":\"value\",\"value\":0.2},\"hatch_alpha\":{\"type\":\"value\",\"value\":0.2}}}}}],\"toolbar\":{\"type\":\"object\",\"name\":\"Toolbar\",\"id\":\"p1050\",\"attributes\":{\"tools\":[{\"type\":\"object\",\"name\":\"PanTool\",\"id\":\"p1063\"},{\"type\":\"object\",\"name\":\"WheelZoomTool\",\"id\":\"p1064\",\"attributes\":{\"renderers\":\"auto\"}},{\"type\":\"object\",\"name\":\"ResetTool\",\"id\":\"p1065\"}],\"active_scroll\":{\"id\":\"p1064\"}}},\"left\":[{\"type\":\"object\",\"name\":\"LinearAxis\",\"id\":\"p1058\",\"attributes\":{\"ticker\":{\"type\":\"object\",\"name\":\"BasicTicker\",\"id\":\"p1059\",\"attributes\":{\"mantissas\":[1,2,5]}},\"formatter\":{\"type\":\"object\",\"name\":\"BasicTickFormatter\",\"id\":\"p1060\"},\"major_label_policy\":{\"type\":\"object\",\"name\":\"AllLabels\",\"id\":\"p1061\"}}}],\"below\":[{\"type\":\"object\",\"name\":\"LinearAxis\",\"id\":\"p1053\",\"attributes\":{\"ticker\":{\"type\":\"object\",\"name\":\"BasicTicker\",\"id\":\"p1054\",\"attributes\":{\"mantissas\":[1,2,5]}},\"formatter\":{\"type\":\"object\",\"name\":\"BasicTickFormatter\",\"id\":\"p1055\"},\"major_label_policy\":{\"type\":\"object\",\"name\":\"AllLabels\",\"id\":\"p1056\"}}}],\"center\":[{\"type\":\"object\",\"name\":\"Grid\",\"id\":\"p1057\",\"attributes\":{\"axis\":{\"id\":\"p1053\"}}},{\"type\":\"object\",\"name\":\"Grid\",\"id\":\"p1062\",\"attributes\":{\"dimension\":1,\"axis\":{\"id\":\"p1058\"}}}]}}]}};\n  const render_items = [{\"docid\":\"99e86166-a1e8-4c9f-9521-3ba3c5bd11c8\",\"roots\":{\"p1042\":\"d45b57b9-29c6-4a0a-bb13-615918ebcde4\"},\"root_ids\":[\"p1042\"]}];\n  root.Bokeh.embed.embed_items_notebook(docs_json, render_items);\n  }\n  if (root.Bokeh !== undefined) {\n    embed_document(root);\n  } else {\n    let attempts = 0;\n    const timer = setInterval(function(root) {\n      if (root.Bokeh !== undefined) {\n        clearInterval(timer);\n        embed_document(root);\n      } else {\n        attempts++;\n        if (attempts > 100) {\n          clearInterval(timer);\n          console.log(\"Bokeh: ERROR: Unable to run BokehJS code because BokehJS library is missing\");\n        }\n      }\n    }, 10, root)\n  }\n})(window);",
      "application/vnd.bokehjs_exec.v0+json": ""
     },
     "metadata": {
      "application/vnd.bokehjs_exec.v0+json": {
       "id": "p1042"
      }
     },
     "output_type": "display_data"
    }
   ],
   "source": [
    "# Example 2: Specify the list of tools to use, and the active ones.\n",
    "\n",
    "from bokeh.plotting import figure, show\n",
    "\n",
    "p = figure(width=400, height=400, title=None,\n",
    "           tools=\"pan,wheel_zoom,reset\", active_scroll=\"wheel_zoom\")\n",
    "\n",
    "\n",
    "p.circle([1, 2, 3, 4, 5], [2, 5, 8, 2, 7], size=10)\n",
    "show(p)"
   ]
  },
  {
   "cell_type": "code",
   "execution_count": 4,
   "metadata": {},
   "outputs": [
    {
     "data": {
      "text/html": [
       "\n",
       "  <div id=\"a5889283-fb06-4c64-95d4-e9dea68312a4\" data-root-id=\"p1075\" style=\"display: contents;\"></div>\n"
      ]
     },
     "metadata": {},
     "output_type": "display_data"
    },
    {
     "data": {
      "application/javascript": "(function(root) {\n  function embed_document(root) {\n  const docs_json = {\"cedc040f-0e2f-4c8c-b186-95933781a28b\":{\"version\":\"3.3.4\",\"title\":\"Bokeh Application\",\"roots\":[{\"type\":\"object\",\"name\":\"Figure\",\"id\":\"p1075\",\"attributes\":{\"width\":400,\"height\":400,\"x_range\":{\"type\":\"object\",\"name\":\"DataRange1d\",\"id\":\"p1076\"},\"y_range\":{\"type\":\"object\",\"name\":\"DataRange1d\",\"id\":\"p1077\"},\"x_scale\":{\"type\":\"object\",\"name\":\"LinearScale\",\"id\":\"p1084\"},\"y_scale\":{\"type\":\"object\",\"name\":\"LinearScale\",\"id\":\"p1085\"},\"title\":null,\"renderers\":[{\"type\":\"object\",\"name\":\"GlyphRenderer\",\"id\":\"p1102\",\"attributes\":{\"data_source\":{\"type\":\"object\",\"name\":\"ColumnDataSource\",\"id\":\"p1096\",\"attributes\":{\"selected\":{\"type\":\"object\",\"name\":\"Selection\",\"id\":\"p1097\",\"attributes\":{\"indices\":[],\"line_indices\":[]}},\"selection_policy\":{\"type\":\"object\",\"name\":\"UnionRenderers\",\"id\":\"p1098\"},\"data\":{\"type\":\"map\",\"entries\":[[\"x\",[1,2,3,4,5]],[\"y\",[2,5,8,2,7]]]}}},\"view\":{\"type\":\"object\",\"name\":\"CDSView\",\"id\":\"p1103\",\"attributes\":{\"filter\":{\"type\":\"object\",\"name\":\"AllIndices\",\"id\":\"p1104\"}}},\"glyph\":{\"type\":\"object\",\"name\":\"Circle\",\"id\":\"p1099\",\"attributes\":{\"x\":{\"type\":\"field\",\"field\":\"x\"},\"y\":{\"type\":\"field\",\"field\":\"y\"},\"size\":{\"type\":\"value\",\"value\":10},\"line_color\":{\"type\":\"value\",\"value\":\"#1f77b4\"},\"fill_color\":{\"type\":\"value\",\"value\":\"#1f77b4\"}}},\"nonselection_glyph\":{\"type\":\"object\",\"name\":\"Circle\",\"id\":\"p1100\",\"attributes\":{\"x\":{\"type\":\"field\",\"field\":\"x\"},\"y\":{\"type\":\"field\",\"field\":\"y\"},\"size\":{\"type\":\"value\",\"value\":10},\"line_color\":{\"type\":\"value\",\"value\":\"#1f77b4\"},\"line_alpha\":{\"type\":\"value\",\"value\":0.1},\"fill_color\":{\"type\":\"value\",\"value\":\"#1f77b4\"},\"fill_alpha\":{\"type\":\"value\",\"value\":0.1},\"hatch_alpha\":{\"type\":\"value\",\"value\":0.1}}},\"muted_glyph\":{\"type\":\"object\",\"name\":\"Circle\",\"id\":\"p1101\",\"attributes\":{\"x\":{\"type\":\"field\",\"field\":\"x\"},\"y\":{\"type\":\"field\",\"field\":\"y\"},\"size\":{\"type\":\"value\",\"value\":10},\"line_color\":{\"type\":\"value\",\"value\":\"#1f77b4\"},\"line_alpha\":{\"type\":\"value\",\"value\":0.2},\"fill_color\":{\"type\":\"value\",\"value\":\"#1f77b4\"},\"fill_alpha\":{\"type\":\"value\",\"value\":0.2},\"hatch_alpha\":{\"type\":\"value\",\"value\":0.2}}}}}],\"toolbar\":{\"type\":\"object\",\"name\":\"Toolbar\",\"id\":\"p1083\",\"attributes\":{\"logo\":null}},\"left\":[{\"type\":\"object\",\"name\":\"LinearAxis\",\"id\":\"p1091\",\"attributes\":{\"ticker\":{\"type\":\"object\",\"name\":\"BasicTicker\",\"id\":\"p1092\",\"attributes\":{\"mantissas\":[1,2,5]}},\"formatter\":{\"type\":\"object\",\"name\":\"BasicTickFormatter\",\"id\":\"p1093\"},\"major_label_policy\":{\"type\":\"object\",\"name\":\"AllLabels\",\"id\":\"p1094\"}}}],\"below\":[{\"type\":\"object\",\"name\":\"LinearAxis\",\"id\":\"p1086\",\"attributes\":{\"ticker\":{\"type\":\"object\",\"name\":\"BasicTicker\",\"id\":\"p1087\",\"attributes\":{\"mantissas\":[1,2,5]}},\"formatter\":{\"type\":\"object\",\"name\":\"BasicTickFormatter\",\"id\":\"p1088\"},\"major_label_policy\":{\"type\":\"object\",\"name\":\"AllLabels\",\"id\":\"p1089\"}}}],\"center\":[{\"type\":\"object\",\"name\":\"Grid\",\"id\":\"p1090\",\"attributes\":{\"axis\":{\"id\":\"p1086\"}}},{\"type\":\"object\",\"name\":\"Grid\",\"id\":\"p1095\",\"attributes\":{\"dimension\":1,\"axis\":{\"id\":\"p1091\"}}}]}}]}};\n  const render_items = [{\"docid\":\"cedc040f-0e2f-4c8c-b186-95933781a28b\",\"roots\":{\"p1075\":\"a5889283-fb06-4c64-95d4-e9dea68312a4\"},\"root_ids\":[\"p1075\"]}];\n  root.Bokeh.embed.embed_items_notebook(docs_json, render_items);\n  }\n  if (root.Bokeh !== undefined) {\n    embed_document(root);\n  } else {\n    let attempts = 0;\n    const timer = setInterval(function(root) {\n      if (root.Bokeh !== undefined) {\n        clearInterval(timer);\n        embed_document(root);\n      } else {\n        attempts++;\n        if (attempts > 100) {\n          clearInterval(timer);\n          console.log(\"Bokeh: ERROR: Unable to run BokehJS code because BokehJS library is missing\");\n        }\n      }\n    }, 10, root)\n  }\n})(window);",
      "application/vnd.bokehjs_exec.v0+json": ""
     },
     "metadata": {
      "application/vnd.bokehjs_exec.v0+json": {
       "id": "p1075"
      }
     },
     "output_type": "display_data"
    }
   ],
   "source": [
    "# Example 3: Hide all tools and Bokeh logo\n",
    "\n",
    "from bokeh.plotting import figure, show\n",
    "\n",
    "# tools = \"\" removes all tools\n",
    "p = figure(width=400, height=400, title=None, tools=\"\")\n",
    "\n",
    "p.toolbar.logo = None  # Remove the logo\n",
    "\n",
    "p.circle([1, 2, 3, 4, 5], [2, 5, 8, 2, 7], size=10)\n",
    "show(p)"
   ]
  },
  {
   "cell_type": "markdown",
   "metadata": {},
   "source": [
    "# 2. Interactive Legend\n",
    "\n",
    "Bokeh allows making a legend clickable to partially or completely hide entries.\n",
    "\n",
    "Simply specify the \"click_policy\" option of the legend. With the \"hide\" parameter, the series is hidden when clicked. With the \"mute\" parameter, the series remains visible but in a faded color.\n",
    "\n",
    "The following example presents two configurations.\n"
   ]
  },
  {
   "cell_type": "code",
   "execution_count": 5,
   "metadata": {},
   "outputs": [
    {
     "data": {
      "text/html": [
       "\n",
       "  <div id=\"ed79af9e-4530-46ef-b2fd-b4710f341984\" data-root-id=\"p1234\" style=\"display: contents;\"></div>\n"
      ]
     },
     "metadata": {},
     "output_type": "display_data"
    },
    {
     "data": {
      "application/javascript": "(function(root) {\n  function embed_document(root) {\n  const docs_json = {\"dc90a520-396d-4506-96a4-9ffd418901dd\":{\"version\":\"3.3.4\",\"title\":\"Bokeh Application\",\"roots\":[{\"type\":\"object\",\"name\":\"Row\",\"id\":\"p1234\",\"attributes\":{\"children\":[{\"type\":\"object\",\"name\":\"Figure\",\"id\":\"p1108\",\"attributes\":{\"x_range\":{\"type\":\"object\",\"name\":\"DataRange1d\",\"id\":\"p1109\"},\"y_range\":{\"type\":\"object\",\"name\":\"DataRange1d\",\"id\":\"p1110\"},\"x_scale\":{\"type\":\"object\",\"name\":\"LinearScale\",\"id\":\"p1117\"},\"y_scale\":{\"type\":\"object\",\"name\":\"LinearScale\",\"id\":\"p1118\"},\"title\":{\"type\":\"object\",\"name\":\"Title\",\"id\":\"p1115\",\"attributes\":{\"text\":\"Click on the legend to hide entries\"}},\"renderers\":[{\"type\":\"object\",\"name\":\"GlyphRenderer\",\"id\":\"p1146\",\"attributes\":{\"data_source\":{\"type\":\"object\",\"name\":\"ColumnDataSource\",\"id\":\"p1105\",\"attributes\":{\"selected\":{\"type\":\"object\",\"name\":\"Selection\",\"id\":\"p1106\",\"attributes\":{\"indices\":[],\"line_indices\":[]}},\"selection_policy\":{\"type\":\"object\",\"name\":\"UnionRenderers\",\"id\":\"p1107\"},\"data\":{\"type\":\"map\",\"entries\":[[\"index\",{\"type\":\"ndarray\",\"array\":{\"type\":\"bytes\",\"data\":\"AAAAAAEAAAACAAAAAwAAAAQAAAA=\"},\"shape\":[5],\"dtype\":\"int32\",\"order\":\"little\"}],[\"x\",{\"type\":\"ndarray\",\"array\":{\"type\":\"bytes\",\"data\":\"AwAAAAQAAAAFAAAABgAAAAcAAAA=\"},\"shape\":[5],\"dtype\":\"int32\",\"order\":\"little\"}],[\"y1\",{\"type\":\"ndarray\",\"array\":{\"type\":\"bytes\",\"data\":\"DAAAAA8AAAAQAAAAEgAAABQAAAA=\"},\"shape\":[5],\"dtype\":\"int32\",\"order\":\"little\"}],[\"y2\",{\"type\":\"ndarray\",\"array\":{\"type\":\"bytes\",\"data\":\"DgAAAA8AAAANAAAADAAAAA4AAAA=\"},\"shape\":[5],\"dtype\":\"int32\",\"order\":\"little\"}],[\"y3\",{\"type\":\"ndarray\",\"array\":{\"type\":\"bytes\",\"data\":\"DgAAAAoAAAAIAAAABwAAAAYAAAA=\"},\"shape\":[5],\"dtype\":\"int32\",\"order\":\"little\"}]]}}},\"view\":{\"type\":\"object\",\"name\":\"CDSView\",\"id\":\"p1147\",\"attributes\":{\"filter\":{\"type\":\"object\",\"name\":\"AllIndices\",\"id\":\"p1148\"}}},\"glyph\":{\"type\":\"object\",\"name\":\"Line\",\"id\":\"p1143\",\"attributes\":{\"x\":{\"type\":\"field\",\"field\":\"x\"},\"y\":{\"type\":\"field\",\"field\":\"y1\"},\"line_color\":\"#e41a1c\",\"line_alpha\":0.8,\"line_width\":2}},\"nonselection_glyph\":{\"type\":\"object\",\"name\":\"Line\",\"id\":\"p1144\",\"attributes\":{\"x\":{\"type\":\"field\",\"field\":\"x\"},\"y\":{\"type\":\"field\",\"field\":\"y1\"},\"line_color\":\"#e41a1c\",\"line_alpha\":0.1,\"line_width\":2}},\"muted_glyph\":{\"type\":\"object\",\"name\":\"Line\",\"id\":\"p1145\",\"attributes\":{\"x\":{\"type\":\"field\",\"field\":\"x\"},\"y\":{\"type\":\"field\",\"field\":\"y1\"},\"line_color\":\"#e41a1c\",\"line_alpha\":0.2,\"line_width\":2}}}},{\"type\":\"object\",\"name\":\"GlyphRenderer\",\"id\":\"p1157\",\"attributes\":{\"data_source\":{\"id\":\"p1105\"},\"view\":{\"type\":\"object\",\"name\":\"CDSView\",\"id\":\"p1158\",\"attributes\":{\"filter\":{\"type\":\"object\",\"name\":\"AllIndices\",\"id\":\"p1159\"}}},\"glyph\":{\"type\":\"object\",\"name\":\"Line\",\"id\":\"p1154\",\"attributes\":{\"x\":{\"type\":\"field\",\"field\":\"x\"},\"y\":{\"type\":\"field\",\"field\":\"y2\"},\"line_color\":\"#377eb8\",\"line_alpha\":0.8,\"line_width\":2}},\"nonselection_glyph\":{\"type\":\"object\",\"name\":\"Line\",\"id\":\"p1155\",\"attributes\":{\"x\":{\"type\":\"field\",\"field\":\"x\"},\"y\":{\"type\":\"field\",\"field\":\"y2\"},\"line_color\":\"#377eb8\",\"line_alpha\":0.1,\"line_width\":2}},\"muted_glyph\":{\"type\":\"object\",\"name\":\"Line\",\"id\":\"p1156\",\"attributes\":{\"x\":{\"type\":\"field\",\"field\":\"x\"},\"y\":{\"type\":\"field\",\"field\":\"y2\"},\"line_color\":\"#377eb8\",\"line_alpha\":0.2,\"line_width\":2}}}},{\"type\":\"object\",\"name\":\"GlyphRenderer\",\"id\":\"p1167\",\"attributes\":{\"data_source\":{\"id\":\"p1105\"},\"view\":{\"type\":\"object\",\"name\":\"CDSView\",\"id\":\"p1168\",\"attributes\":{\"filter\":{\"type\":\"object\",\"name\":\"AllIndices\",\"id\":\"p1169\"}}},\"glyph\":{\"type\":\"object\",\"name\":\"Line\",\"id\":\"p1164\",\"attributes\":{\"x\":{\"type\":\"field\",\"field\":\"x\"},\"y\":{\"type\":\"field\",\"field\":\"y3\"},\"line_color\":\"#4daf4a\",\"line_alpha\":0.8,\"line_width\":2}},\"nonselection_glyph\":{\"type\":\"object\",\"name\":\"Line\",\"id\":\"p1165\",\"attributes\":{\"x\":{\"type\":\"field\",\"field\":\"x\"},\"y\":{\"type\":\"field\",\"field\":\"y3\"},\"line_color\":\"#4daf4a\",\"line_alpha\":0.1,\"line_width\":2}},\"muted_glyph\":{\"type\":\"object\",\"name\":\"Line\",\"id\":\"p1166\",\"attributes\":{\"x\":{\"type\":\"field\",\"field\":\"x\"},\"y\":{\"type\":\"field\",\"field\":\"y3\"},\"line_color\":\"#4daf4a\",\"line_alpha\":0.2,\"line_width\":2}}}}],\"toolbar\":{\"type\":\"object\",\"name\":\"Toolbar\",\"id\":\"p1116\",\"attributes\":{\"tools\":[{\"type\":\"object\",\"name\":\"PanTool\",\"id\":\"p1129\"},{\"type\":\"object\",\"name\":\"WheelZoomTool\",\"id\":\"p1130\",\"attributes\":{\"renderers\":\"auto\"}},{\"type\":\"object\",\"name\":\"BoxZoomTool\",\"id\":\"p1131\",\"attributes\":{\"overlay\":{\"type\":\"object\",\"name\":\"BoxAnnotation\",\"id\":\"p1132\",\"attributes\":{\"syncable\":false,\"level\":\"overlay\",\"visible\":false,\"left\":{\"type\":\"number\",\"value\":\"nan\"},\"right\":{\"type\":\"number\",\"value\":\"nan\"},\"top\":{\"type\":\"number\",\"value\":\"nan\"},\"bottom\":{\"type\":\"number\",\"value\":\"nan\"},\"left_units\":\"canvas\",\"right_units\":\"canvas\",\"top_units\":\"canvas\",\"bottom_units\":\"canvas\",\"line_color\":\"black\",\"line_alpha\":1.0,\"line_width\":2,\"line_dash\":[4,4],\"fill_color\":\"lightgrey\",\"fill_alpha\":0.5}}}},{\"type\":\"object\",\"name\":\"SaveTool\",\"id\":\"p1137\"},{\"type\":\"object\",\"name\":\"ResetTool\",\"id\":\"p1138\"},{\"type\":\"object\",\"name\":\"HelpTool\",\"id\":\"p1139\"}]}},\"left\":[{\"type\":\"object\",\"name\":\"LinearAxis\",\"id\":\"p1124\",\"attributes\":{\"ticker\":{\"type\":\"object\",\"name\":\"BasicTicker\",\"id\":\"p1125\",\"attributes\":{\"mantissas\":[1,2,5]}},\"formatter\":{\"type\":\"object\",\"name\":\"BasicTickFormatter\",\"id\":\"p1126\"},\"major_label_policy\":{\"type\":\"object\",\"name\":\"AllLabels\",\"id\":\"p1127\"}}}],\"below\":[{\"type\":\"object\",\"name\":\"LinearAxis\",\"id\":\"p1119\",\"attributes\":{\"ticker\":{\"type\":\"object\",\"name\":\"BasicTicker\",\"id\":\"p1120\",\"attributes\":{\"mantissas\":[1,2,5]}},\"formatter\":{\"type\":\"object\",\"name\":\"BasicTickFormatter\",\"id\":\"p1121\"},\"major_label_policy\":{\"type\":\"object\",\"name\":\"AllLabels\",\"id\":\"p1122\"}}}],\"center\":[{\"type\":\"object\",\"name\":\"Grid\",\"id\":\"p1123\",\"attributes\":{\"axis\":{\"id\":\"p1119\"}}},{\"type\":\"object\",\"name\":\"Grid\",\"id\":\"p1128\",\"attributes\":{\"dimension\":1,\"axis\":{\"id\":\"p1124\"}}},{\"type\":\"object\",\"name\":\"Legend\",\"id\":\"p1149\",\"attributes\":{\"click_policy\":\"hide\",\"items\":[{\"type\":\"object\",\"name\":\"LegendItem\",\"id\":\"p1150\",\"attributes\":{\"label\":{\"type\":\"value\",\"value\":\"y1\"},\"renderers\":[{\"id\":\"p1146\"}]}},{\"type\":\"object\",\"name\":\"LegendItem\",\"id\":\"p1160\",\"attributes\":{\"label\":{\"type\":\"value\",\"value\":\"y2\"},\"renderers\":[{\"id\":\"p1157\"}]}},{\"type\":\"object\",\"name\":\"LegendItem\",\"id\":\"p1170\",\"attributes\":{\"label\":{\"type\":\"value\",\"value\":\"y3\"},\"renderers\":[{\"id\":\"p1167\"}]}}]}}]}},{\"type\":\"object\",\"name\":\"Figure\",\"id\":\"p1171\",\"attributes\":{\"x_range\":{\"type\":\"object\",\"name\":\"DataRange1d\",\"id\":\"p1172\"},\"y_range\":{\"type\":\"object\",\"name\":\"DataRange1d\",\"id\":\"p1173\"},\"x_scale\":{\"type\":\"object\",\"name\":\"LinearScale\",\"id\":\"p1180\"},\"y_scale\":{\"type\":\"object\",\"name\":\"LinearScale\",\"id\":\"p1181\"},\"title\":{\"type\":\"object\",\"name\":\"Title\",\"id\":\"p1178\",\"attributes\":{\"text\":\"Click on the legend to mute entries\"}},\"renderers\":[{\"type\":\"object\",\"name\":\"GlyphRenderer\",\"id\":\"p1209\",\"attributes\":{\"data_source\":{\"id\":\"p1105\"},\"view\":{\"type\":\"object\",\"name\":\"CDSView\",\"id\":\"p1210\",\"attributes\":{\"filter\":{\"type\":\"object\",\"name\":\"AllIndices\",\"id\":\"p1211\"}}},\"glyph\":{\"type\":\"object\",\"name\":\"Line\",\"id\":\"p1206\",\"attributes\":{\"x\":{\"type\":\"field\",\"field\":\"x\"},\"y\":{\"type\":\"field\",\"field\":\"y1\"},\"line_color\":\"#e41a1c\",\"line_alpha\":0.8,\"line_width\":2}},\"nonselection_glyph\":{\"type\":\"object\",\"name\":\"Line\",\"id\":\"p1207\",\"attributes\":{\"x\":{\"type\":\"field\",\"field\":\"x\"},\"y\":{\"type\":\"field\",\"field\":\"y1\"},\"line_color\":\"#e41a1c\",\"line_alpha\":0.1,\"line_width\":2}},\"muted_glyph\":{\"type\":\"object\",\"name\":\"Line\",\"id\":\"p1208\",\"attributes\":{\"x\":{\"type\":\"field\",\"field\":\"x\"},\"y\":{\"type\":\"field\",\"field\":\"y1\"},\"line_color\":\"#e41a1c\",\"line_alpha\":0.2,\"line_width\":2}}}},{\"type\":\"object\",\"name\":\"GlyphRenderer\",\"id\":\"p1220\",\"attributes\":{\"data_source\":{\"id\":\"p1105\"},\"view\":{\"type\":\"object\",\"name\":\"CDSView\",\"id\":\"p1221\",\"attributes\":{\"filter\":{\"type\":\"object\",\"name\":\"AllIndices\",\"id\":\"p1222\"}}},\"glyph\":{\"type\":\"object\",\"name\":\"Line\",\"id\":\"p1217\",\"attributes\":{\"x\":{\"type\":\"field\",\"field\":\"x\"},\"y\":{\"type\":\"field\",\"field\":\"y2\"},\"line_color\":\"#377eb8\",\"line_alpha\":0.8,\"line_width\":2}},\"nonselection_glyph\":{\"type\":\"object\",\"name\":\"Line\",\"id\":\"p1218\",\"attributes\":{\"x\":{\"type\":\"field\",\"field\":\"x\"},\"y\":{\"type\":\"field\",\"field\":\"y2\"},\"line_color\":\"#377eb8\",\"line_alpha\":0.1,\"line_width\":2}},\"muted_glyph\":{\"type\":\"object\",\"name\":\"Line\",\"id\":\"p1219\",\"attributes\":{\"x\":{\"type\":\"field\",\"field\":\"x\"},\"y\":{\"type\":\"field\",\"field\":\"y2\"},\"line_color\":\"#377eb8\",\"line_alpha\":0.2,\"line_width\":2}}}},{\"type\":\"object\",\"name\":\"GlyphRenderer\",\"id\":\"p1230\",\"attributes\":{\"data_source\":{\"id\":\"p1105\"},\"view\":{\"type\":\"object\",\"name\":\"CDSView\",\"id\":\"p1231\",\"attributes\":{\"filter\":{\"type\":\"object\",\"name\":\"AllIndices\",\"id\":\"p1232\"}}},\"glyph\":{\"type\":\"object\",\"name\":\"Line\",\"id\":\"p1227\",\"attributes\":{\"x\":{\"type\":\"field\",\"field\":\"x\"},\"y\":{\"type\":\"field\",\"field\":\"y3\"},\"line_color\":\"#4daf4a\",\"line_alpha\":0.8,\"line_width\":2}},\"nonselection_glyph\":{\"type\":\"object\",\"name\":\"Line\",\"id\":\"p1228\",\"attributes\":{\"x\":{\"type\":\"field\",\"field\":\"x\"},\"y\":{\"type\":\"field\",\"field\":\"y3\"},\"line_color\":\"#4daf4a\",\"line_alpha\":0.1,\"line_width\":2}},\"muted_glyph\":{\"type\":\"object\",\"name\":\"Line\",\"id\":\"p1229\",\"attributes\":{\"x\":{\"type\":\"field\",\"field\":\"x\"},\"y\":{\"type\":\"field\",\"field\":\"y3\"},\"line_color\":\"#4daf4a\",\"line_alpha\":0.2,\"line_width\":2}}}}],\"toolbar\":{\"type\":\"object\",\"name\":\"Toolbar\",\"id\":\"p1179\",\"attributes\":{\"tools\":[{\"type\":\"object\",\"name\":\"PanTool\",\"id\":\"p1192\"},{\"type\":\"object\",\"name\":\"WheelZoomTool\",\"id\":\"p1193\",\"attributes\":{\"renderers\":\"auto\"}},{\"type\":\"object\",\"name\":\"BoxZoomTool\",\"id\":\"p1194\",\"attributes\":{\"overlay\":{\"type\":\"object\",\"name\":\"BoxAnnotation\",\"id\":\"p1195\",\"attributes\":{\"syncable\":false,\"level\":\"overlay\",\"visible\":false,\"left\":{\"type\":\"number\",\"value\":\"nan\"},\"right\":{\"type\":\"number\",\"value\":\"nan\"},\"top\":{\"type\":\"number\",\"value\":\"nan\"},\"bottom\":{\"type\":\"number\",\"value\":\"nan\"},\"left_units\":\"canvas\",\"right_units\":\"canvas\",\"top_units\":\"canvas\",\"bottom_units\":\"canvas\",\"line_color\":\"black\",\"line_alpha\":1.0,\"line_width\":2,\"line_dash\":[4,4],\"fill_color\":\"lightgrey\",\"fill_alpha\":0.5}}}},{\"type\":\"object\",\"name\":\"SaveTool\",\"id\":\"p1200\"},{\"type\":\"object\",\"name\":\"ResetTool\",\"id\":\"p1201\"},{\"type\":\"object\",\"name\":\"HelpTool\",\"id\":\"p1202\"}]}},\"left\":[{\"type\":\"object\",\"name\":\"LinearAxis\",\"id\":\"p1187\",\"attributes\":{\"ticker\":{\"type\":\"object\",\"name\":\"BasicTicker\",\"id\":\"p1188\",\"attributes\":{\"mantissas\":[1,2,5]}},\"formatter\":{\"type\":\"object\",\"name\":\"BasicTickFormatter\",\"id\":\"p1189\"},\"major_label_policy\":{\"type\":\"object\",\"name\":\"AllLabels\",\"id\":\"p1190\"}}}],\"below\":[{\"type\":\"object\",\"name\":\"LinearAxis\",\"id\":\"p1182\",\"attributes\":{\"ticker\":{\"type\":\"object\",\"name\":\"BasicTicker\",\"id\":\"p1183\",\"attributes\":{\"mantissas\":[1,2,5]}},\"formatter\":{\"type\":\"object\",\"name\":\"BasicTickFormatter\",\"id\":\"p1184\"},\"major_label_policy\":{\"type\":\"object\",\"name\":\"AllLabels\",\"id\":\"p1185\"}}}],\"center\":[{\"type\":\"object\",\"name\":\"Grid\",\"id\":\"p1186\",\"attributes\":{\"axis\":{\"id\":\"p1182\"}}},{\"type\":\"object\",\"name\":\"Grid\",\"id\":\"p1191\",\"attributes\":{\"dimension\":1,\"axis\":{\"id\":\"p1187\"}}},{\"type\":\"object\",\"name\":\"Legend\",\"id\":\"p1212\",\"attributes\":{\"click_policy\":\"mute\",\"items\":[{\"type\":\"object\",\"name\":\"LegendItem\",\"id\":\"p1213\",\"attributes\":{\"label\":{\"type\":\"value\",\"value\":\"y1\"},\"renderers\":[{\"id\":\"p1209\"}]}},{\"type\":\"object\",\"name\":\"LegendItem\",\"id\":\"p1223\",\"attributes\":{\"label\":{\"type\":\"value\",\"value\":\"y2\"},\"renderers\":[{\"id\":\"p1220\"}]}},{\"type\":\"object\",\"name\":\"LegendItem\",\"id\":\"p1233\",\"attributes\":{\"label\":{\"type\":\"value\",\"value\":\"y3\"},\"renderers\":[{\"id\":\"p1230\"}]}}]}}]}}]}}]}};\n  const render_items = [{\"docid\":\"dc90a520-396d-4506-96a4-9ffd418901dd\",\"roots\":{\"p1234\":\"ed79af9e-4530-46ef-b2fd-b4710f341984\"},\"root_ids\":[\"p1234\"]}];\n  root.Bokeh.embed.embed_items_notebook(docs_json, render_items);\n  }\n  if (root.Bokeh !== undefined) {\n    embed_document(root);\n  } else {\n    let attempts = 0;\n    const timer = setInterval(function(root) {\n      if (root.Bokeh !== undefined) {\n        clearInterval(timer);\n        embed_document(root);\n      } else {\n        attempts++;\n        if (attempts > 100) {\n          clearInterval(timer);\n          console.log(\"Bokeh: ERROR: Unable to run BokehJS code because BokehJS library is missing\");\n        }\n      }\n    }, 10, root)\n  }\n})(window);",
      "application/vnd.bokehjs_exec.v0+json": ""
     },
     "metadata": {
      "application/vnd.bokehjs_exec.v0+json": {
       "id": "p1234"
      }
     },
     "output_type": "display_data"
    }
   ],
   "source": [
    "from bokeh.plotting import figure, show, ColumnDataSource\n",
    "import pandas as pd\n",
    "from bokeh.palettes import Set1\n",
    "from bokeh.layouts import row\n",
    "\n",
    "# Data preparation\n",
    "df = pd.DataFrame(columns=[\"x\", \"y1\", \"y2\", \"y3\"])\n",
    "df[\"x\"] = [3, 4, 5, 6, 7]\n",
    "df[\"y1\"] = [12, 15, 16, 18, 20]\n",
    "df[\"y2\"] = [14, 15, 13, 12, 14]\n",
    "df[\"y3\"] = [14, 10, 8, 7, 6]\n",
    "\n",
    "data = ColumnDataSource(df)\n",
    "\n",
    "# Construct the first plot with a clickable legend\n",
    "p1 = figure()\n",
    "p1.title.text = \"Click on the legend to hide entries\"\n",
    "for name, color in zip([\"y1\", \"y2\", \"y3\"], Set1[3]):\n",
    "    p1.line(\"x\", name, source=data, line_width=2,\n",
    "            color=color, alpha=0.8, legend_label=name)\n",
    "\n",
    "p1.legend.click_policy = \"hide\"\n",
    "\n",
    "# Construct the second plot with a clickable legend\n",
    "p2 = figure()\n",
    "p2.title.text = 'Click on the legend to mute entries'\n",
    "for name, color in zip([\"y1\", \"y2\", \"y3\"], Set1[3]):\n",
    "    p2.line(\"x\", name, source=data, line_width=2, color=color, alpha=0.8, legend_label=name,\n",
    "            muted_color=color, muted_alpha=0.2)\n",
    "\n",
    "p2.legend.click_policy = \"mute\"\n",
    "\n",
    "layout = row(p1, p2)\n",
    "\n",
    "show(layout)"
   ]
  },
  {
   "cell_type": "markdown",
   "metadata": {},
   "source": [
    "# 3. Interactive Widgets\n",
    "\n",
    "Documentation: https://docs.bokeh.org/en/latest/docs/user_guide/interaction/widgets.html\n",
    "\n",
    "Bokeh offers a variety of widgets - tools for interacting with the content of the graph. Here is a list of available objects:\n",
    "\n",
    "- Button: button\n",
    "- Color Picker: colorpicker\n",
    "- Spinner: spinner\n",
    "- Checkbox Group: checkboxgroup\n",
    "- Data Table: datatable\n",
    "- Dropdown: dropdown\n",
    "- Radio Group: radiogroup\n",
    "- Slider: slider\n",
    "- ...\n",
    "\n",
    "The general principle of use is:\n",
    "\n",
    "1. Create the widget - create a button, for example.\n",
    "2. Include it in the web page using layout tools (rows and columns).\n",
    "3. Code the widget's behavior by linking it to a `Callback function`. This code, called `Callback function`, is executed dynamically on the web page when the widget is activated.\n",
    "\n",
    "Bokeh offers two ways to code `Callback function`:\n",
    "\n",
    "- Use a predefined method in Python: `js_link`\n",
    "- Directly code the JavaScript: `Custom_js`\n",
    "\n",
    "A callback is triggered when some events occurs:\n",
    "\n",
    "- Most Bokeh objects have a `.js_on_change` property whenever the state of the object changes.\n",
    "- Some widget also have a `js_on_event` property.\n",
    "\n",
    "## 3.1 Using js_link\n",
    "\n",
    "Consider the following example:\n"
   ]
  },
  {
   "cell_type": "code",
   "execution_count": 6,
   "metadata": {},
   "outputs": [
    {
     "data": {
      "text/html": [
       "\n",
       "  <div id=\"e630ce5f-bc58-473a-a51d-afedc570d3f2\" data-root-id=\"p1243\" style=\"display: contents;\"></div>\n"
      ]
     },
     "metadata": {},
     "output_type": "display_data"
    },
    {
     "data": {
      "application/javascript": "(function(root) {\n  function embed_document(root) {\n  const docs_json = {\"1c7e11c8-4893-4c83-af2a-3d8e5a418ea1\":{\"version\":\"3.3.4\",\"title\":\"Bokeh Application\",\"roots\":[{\"type\":\"object\",\"name\":\"Figure\",\"id\":\"p1243\",\"attributes\":{\"x_range\":{\"type\":\"object\",\"name\":\"DataRange1d\",\"id\":\"p1244\"},\"y_range\":{\"type\":\"object\",\"name\":\"DataRange1d\",\"id\":\"p1245\"},\"x_scale\":{\"type\":\"object\",\"name\":\"LinearScale\",\"id\":\"p1253\"},\"y_scale\":{\"type\":\"object\",\"name\":\"LinearScale\",\"id\":\"p1254\"},\"title\":{\"type\":\"object\",\"name\":\"Title\",\"id\":\"p1246\",\"attributes\":{\"text\":\"Application with colors\"}},\"renderers\":[{\"type\":\"object\",\"name\":\"GlyphRenderer\",\"id\":\"p1282\",\"attributes\":{\"data_source\":{\"type\":\"object\",\"name\":\"ColumnDataSource\",\"id\":\"p1240\",\"attributes\":{\"selected\":{\"type\":\"object\",\"name\":\"Selection\",\"id\":\"p1241\",\"attributes\":{\"indices\":[],\"line_indices\":[]}},\"selection_policy\":{\"type\":\"object\",\"name\":\"UnionRenderers\",\"id\":\"p1242\"},\"data\":{\"type\":\"map\",\"entries\":[[\"x\",[1,2,3,4,5,6]],[\"y\",[15,16,15,15,17,18]]]}}},\"view\":{\"type\":\"object\",\"name\":\"CDSView\",\"id\":\"p1283\",\"attributes\":{\"filter\":{\"type\":\"object\",\"name\":\"AllIndices\",\"id\":\"p1284\"}}},\"glyph\":{\"type\":\"object\",\"name\":\"Circle\",\"id\":\"p1279\",\"attributes\":{\"x\":{\"type\":\"field\",\"field\":\"x\"},\"y\":{\"type\":\"field\",\"field\":\"y\"},\"size\":{\"type\":\"value\",\"value\":15},\"line_color\":{\"type\":\"value\",\"value\":\"red\"},\"fill_color\":{\"type\":\"value\",\"value\":null}}},\"nonselection_glyph\":{\"type\":\"object\",\"name\":\"Circle\",\"id\":\"p1280\",\"attributes\":{\"x\":{\"type\":\"field\",\"field\":\"x\"},\"y\":{\"type\":\"field\",\"field\":\"y\"},\"size\":{\"type\":\"value\",\"value\":15},\"line_color\":{\"type\":\"value\",\"value\":\"red\"},\"line_alpha\":{\"type\":\"value\",\"value\":0.1},\"fill_color\":{\"type\":\"value\",\"value\":null},\"fill_alpha\":{\"type\":\"value\",\"value\":0.1},\"hatch_alpha\":{\"type\":\"value\",\"value\":0.1}}},\"muted_glyph\":{\"type\":\"object\",\"name\":\"Circle\",\"id\":\"p1281\",\"attributes\":{\"x\":{\"type\":\"field\",\"field\":\"x\"},\"y\":{\"type\":\"field\",\"field\":\"y\"},\"size\":{\"type\":\"value\",\"value\":15},\"line_color\":{\"type\":\"value\",\"value\":\"red\"},\"line_alpha\":{\"type\":\"value\",\"value\":0.2},\"fill_color\":{\"type\":\"value\",\"value\":null},\"fill_alpha\":{\"type\":\"value\",\"value\":0.2},\"hatch_alpha\":{\"type\":\"value\",\"value\":0.2}}}}}],\"toolbar\":{\"type\":\"object\",\"name\":\"Toolbar\",\"id\":\"p1252\",\"attributes\":{\"tools\":[{\"type\":\"object\",\"name\":\"PanTool\",\"id\":\"p1265\"},{\"type\":\"object\",\"name\":\"WheelZoomTool\",\"id\":\"p1266\",\"attributes\":{\"renderers\":\"auto\"}},{\"type\":\"object\",\"name\":\"BoxZoomTool\",\"id\":\"p1267\",\"attributes\":{\"overlay\":{\"type\":\"object\",\"name\":\"BoxAnnotation\",\"id\":\"p1268\",\"attributes\":{\"syncable\":false,\"level\":\"overlay\",\"visible\":false,\"left\":{\"type\":\"number\",\"value\":\"nan\"},\"right\":{\"type\":\"number\",\"value\":\"nan\"},\"top\":{\"type\":\"number\",\"value\":\"nan\"},\"bottom\":{\"type\":\"number\",\"value\":\"nan\"},\"left_units\":\"canvas\",\"right_units\":\"canvas\",\"top_units\":\"canvas\",\"bottom_units\":\"canvas\",\"line_color\":\"black\",\"line_alpha\":1.0,\"line_width\":2,\"line_dash\":[4,4],\"fill_color\":\"lightgrey\",\"fill_alpha\":0.5}}}},{\"type\":\"object\",\"name\":\"SaveTool\",\"id\":\"p1273\"},{\"type\":\"object\",\"name\":\"ResetTool\",\"id\":\"p1274\"},{\"type\":\"object\",\"name\":\"HelpTool\",\"id\":\"p1275\"}]}},\"left\":[{\"type\":\"object\",\"name\":\"LinearAxis\",\"id\":\"p1260\",\"attributes\":{\"ticker\":{\"type\":\"object\",\"name\":\"BasicTicker\",\"id\":\"p1261\",\"attributes\":{\"mantissas\":[1,2,5]}},\"formatter\":{\"type\":\"object\",\"name\":\"BasicTickFormatter\",\"id\":\"p1262\"},\"major_label_policy\":{\"type\":\"object\",\"name\":\"AllLabels\",\"id\":\"p1263\"}}}],\"below\":[{\"type\":\"object\",\"name\":\"LinearAxis\",\"id\":\"p1255\",\"attributes\":{\"ticker\":{\"type\":\"object\",\"name\":\"BasicTicker\",\"id\":\"p1256\",\"attributes\":{\"mantissas\":[1,2,5]}},\"formatter\":{\"type\":\"object\",\"name\":\"BasicTickFormatter\",\"id\":\"p1257\"},\"major_label_policy\":{\"type\":\"object\",\"name\":\"AllLabels\",\"id\":\"p1258\"}}}],\"center\":[{\"type\":\"object\",\"name\":\"Grid\",\"id\":\"p1259\",\"attributes\":{\"axis\":{\"id\":\"p1255\"}}},{\"type\":\"object\",\"name\":\"Grid\",\"id\":\"p1264\",\"attributes\":{\"dimension\":1,\"axis\":{\"id\":\"p1260\"}}}]}}]}};\n  const render_items = [{\"docid\":\"1c7e11c8-4893-4c83-af2a-3d8e5a418ea1\",\"roots\":{\"p1243\":\"e630ce5f-bc58-473a-a51d-afedc570d3f2\"},\"root_ids\":[\"p1243\"]}];\n  root.Bokeh.embed.embed_items_notebook(docs_json, render_items);\n  }\n  if (root.Bokeh !== undefined) {\n    embed_document(root);\n  } else {\n    let attempts = 0;\n    const timer = setInterval(function(root) {\n      if (root.Bokeh !== undefined) {\n        clearInterval(timer);\n        embed_document(root);\n      } else {\n        attempts++;\n        if (attempts > 100) {\n          clearInterval(timer);\n          console.log(\"Bokeh: ERROR: Unable to run BokehJS code because BokehJS library is missing\");\n        }\n      }\n    }, 10, root)\n  }\n})(window);",
      "application/vnd.bokehjs_exec.v0+json": ""
     },
     "metadata": {
      "application/vnd.bokehjs_exec.v0+json": {
       "id": "p1243"
      }
     },
     "output_type": "display_data"
    }
   ],
   "source": [
    "\n",
    "from bokeh.models import ColumnDataSource\n",
    "from bokeh.plotting import figure, show\n",
    "\n",
    "# Basic data\n",
    "x = [1, 2, 3, 4, 5, 6]\n",
    "y = [15, 16, 15, 15, 17, 18]\n",
    "data = ColumnDataSource(data={'x': x, 'y': y})\n",
    "\n",
    "# Construct the graph\n",
    "plt = figure(title=\"Application with colors\")\n",
    "points = plt.circle(x='x', y='y', source=data,\n",
    "                    fill_color=None, line_color='red', size=15)\n",
    "\n",
    "show(plt)"
   ]
  },
  {
   "cell_type": "markdown",
   "metadata": {},
   "source": [
    "We will customize this chart to add a color picker and a tool to choose the circle size.\n",
    "\n",
    "First step: create the `ColorPicker` and `Spinner` tools and organize them in the layout.\n"
   ]
  },
  {
   "cell_type": "code",
   "execution_count": 7,
   "metadata": {},
   "outputs": [
    {
     "data": {
      "text/html": [
       "\n",
       "  <div id=\"d3a7780d-ade9-400b-a933-c2b06ff38744\" data-root-id=\"p1333\" style=\"display: contents;\"></div>\n"
      ]
     },
     "metadata": {},
     "output_type": "display_data"
    },
    {
     "data": {
      "application/javascript": "(function(root) {\n  function embed_document(root) {\n  const docs_json = {\"d391281d-643c-43fc-9964-b51f95925e7e\":{\"version\":\"3.3.4\",\"title\":\"Bokeh Application\",\"roots\":[{\"type\":\"object\",\"name\":\"Row\",\"id\":\"p1333\",\"attributes\":{\"children\":[{\"type\":\"object\",\"name\":\"Figure\",\"id\":\"p1288\",\"attributes\":{\"x_range\":{\"type\":\"object\",\"name\":\"DataRange1d\",\"id\":\"p1289\"},\"y_range\":{\"type\":\"object\",\"name\":\"DataRange1d\",\"id\":\"p1290\"},\"x_scale\":{\"type\":\"object\",\"name\":\"LinearScale\",\"id\":\"p1298\"},\"y_scale\":{\"type\":\"object\",\"name\":\"LinearScale\",\"id\":\"p1299\"},\"title\":{\"type\":\"object\",\"name\":\"Title\",\"id\":\"p1291\",\"attributes\":{\"text\":\"Application with colors\"}},\"renderers\":[{\"type\":\"object\",\"name\":\"GlyphRenderer\",\"id\":\"p1327\",\"attributes\":{\"data_source\":{\"type\":\"object\",\"name\":\"ColumnDataSource\",\"id\":\"p1285\",\"attributes\":{\"selected\":{\"type\":\"object\",\"name\":\"Selection\",\"id\":\"p1286\",\"attributes\":{\"indices\":[],\"line_indices\":[]}},\"selection_policy\":{\"type\":\"object\",\"name\":\"UnionRenderers\",\"id\":\"p1287\"},\"data\":{\"type\":\"map\",\"entries\":[[\"x\",[1,2,3,4,5,6]],[\"y\",[15,16,15,15,17,18]]]}}},\"view\":{\"type\":\"object\",\"name\":\"CDSView\",\"id\":\"p1328\",\"attributes\":{\"filter\":{\"type\":\"object\",\"name\":\"AllIndices\",\"id\":\"p1329\"}}},\"glyph\":{\"type\":\"object\",\"name\":\"Circle\",\"id\":\"p1324\",\"attributes\":{\"x\":{\"type\":\"field\",\"field\":\"x\"},\"y\":{\"type\":\"field\",\"field\":\"y\"},\"size\":{\"type\":\"value\",\"value\":15},\"line_color\":{\"type\":\"value\",\"value\":\"red\"},\"fill_color\":{\"type\":\"value\",\"value\":null}}},\"nonselection_glyph\":{\"type\":\"object\",\"name\":\"Circle\",\"id\":\"p1325\",\"attributes\":{\"x\":{\"type\":\"field\",\"field\":\"x\"},\"y\":{\"type\":\"field\",\"field\":\"y\"},\"size\":{\"type\":\"value\",\"value\":15},\"line_color\":{\"type\":\"value\",\"value\":\"red\"},\"line_alpha\":{\"type\":\"value\",\"value\":0.1},\"fill_color\":{\"type\":\"value\",\"value\":null},\"fill_alpha\":{\"type\":\"value\",\"value\":0.1},\"hatch_alpha\":{\"type\":\"value\",\"value\":0.1}}},\"muted_glyph\":{\"type\":\"object\",\"name\":\"Circle\",\"id\":\"p1326\",\"attributes\":{\"x\":{\"type\":\"field\",\"field\":\"x\"},\"y\":{\"type\":\"field\",\"field\":\"y\"},\"size\":{\"type\":\"value\",\"value\":15},\"line_color\":{\"type\":\"value\",\"value\":\"red\"},\"line_alpha\":{\"type\":\"value\",\"value\":0.2},\"fill_color\":{\"type\":\"value\",\"value\":null},\"fill_alpha\":{\"type\":\"value\",\"value\":0.2},\"hatch_alpha\":{\"type\":\"value\",\"value\":0.2}}}}}],\"toolbar\":{\"type\":\"object\",\"name\":\"Toolbar\",\"id\":\"p1297\",\"attributes\":{\"tools\":[{\"type\":\"object\",\"name\":\"PanTool\",\"id\":\"p1310\"},{\"type\":\"object\",\"name\":\"WheelZoomTool\",\"id\":\"p1311\",\"attributes\":{\"renderers\":\"auto\"}},{\"type\":\"object\",\"name\":\"BoxZoomTool\",\"id\":\"p1312\",\"attributes\":{\"overlay\":{\"type\":\"object\",\"name\":\"BoxAnnotation\",\"id\":\"p1313\",\"attributes\":{\"syncable\":false,\"level\":\"overlay\",\"visible\":false,\"left\":{\"type\":\"number\",\"value\":\"nan\"},\"right\":{\"type\":\"number\",\"value\":\"nan\"},\"top\":{\"type\":\"number\",\"value\":\"nan\"},\"bottom\":{\"type\":\"number\",\"value\":\"nan\"},\"left_units\":\"canvas\",\"right_units\":\"canvas\",\"top_units\":\"canvas\",\"bottom_units\":\"canvas\",\"line_color\":\"black\",\"line_alpha\":1.0,\"line_width\":2,\"line_dash\":[4,4],\"fill_color\":\"lightgrey\",\"fill_alpha\":0.5}}}},{\"type\":\"object\",\"name\":\"SaveTool\",\"id\":\"p1318\"},{\"type\":\"object\",\"name\":\"ResetTool\",\"id\":\"p1319\"},{\"type\":\"object\",\"name\":\"HelpTool\",\"id\":\"p1320\"}]}},\"left\":[{\"type\":\"object\",\"name\":\"LinearAxis\",\"id\":\"p1305\",\"attributes\":{\"ticker\":{\"type\":\"object\",\"name\":\"BasicTicker\",\"id\":\"p1306\",\"attributes\":{\"mantissas\":[1,2,5]}},\"formatter\":{\"type\":\"object\",\"name\":\"BasicTickFormatter\",\"id\":\"p1307\"},\"major_label_policy\":{\"type\":\"object\",\"name\":\"AllLabels\",\"id\":\"p1308\"}}}],\"below\":[{\"type\":\"object\",\"name\":\"LinearAxis\",\"id\":\"p1300\",\"attributes\":{\"ticker\":{\"type\":\"object\",\"name\":\"BasicTicker\",\"id\":\"p1301\",\"attributes\":{\"mantissas\":[1,2,5]}},\"formatter\":{\"type\":\"object\",\"name\":\"BasicTickFormatter\",\"id\":\"p1302\"},\"major_label_policy\":{\"type\":\"object\",\"name\":\"AllLabels\",\"id\":\"p1303\"}}}],\"center\":[{\"type\":\"object\",\"name\":\"Grid\",\"id\":\"p1304\",\"attributes\":{\"axis\":{\"id\":\"p1300\"}}},{\"type\":\"object\",\"name\":\"Grid\",\"id\":\"p1309\",\"attributes\":{\"dimension\":1,\"axis\":{\"id\":\"p1305\"}}}]}},{\"type\":\"object\",\"name\":\"Column\",\"id\":\"p1332\",\"attributes\":{\"children\":[{\"type\":\"object\",\"name\":\"ColorPicker\",\"id\":\"p1330\",\"attributes\":{\"title\":\"Line Color\",\"color\":\"#ff0000\"}},{\"type\":\"object\",\"name\":\"Spinner\",\"id\":\"p1331\",\"attributes\":{\"title\":\"Circle Size\",\"value\":15,\"low\":0,\"high\":60,\"step\":5}}]}}]}}]}};\n  const render_items = [{\"docid\":\"d391281d-643c-43fc-9964-b51f95925e7e\",\"roots\":{\"p1333\":\"d3a7780d-ade9-400b-a933-c2b06ff38744\"},\"root_ids\":[\"p1333\"]}];\n  root.Bokeh.embed.embed_items_notebook(docs_json, render_items);\n  }\n  if (root.Bokeh !== undefined) {\n    embed_document(root);\n  } else {\n    let attempts = 0;\n    const timer = setInterval(function(root) {\n      if (root.Bokeh !== undefined) {\n        clearInterval(timer);\n        embed_document(root);\n      } else {\n        attempts++;\n        if (attempts > 100) {\n          clearInterval(timer);\n          console.log(\"Bokeh: ERROR: Unable to run BokehJS code because BokehJS library is missing\");\n        }\n      }\n    }, 10, root)\n  }\n})(window);",
      "application/vnd.bokehjs_exec.v0+json": ""
     },
     "metadata": {
      "application/vnd.bokehjs_exec.v0+json": {
       "id": "p1333"
      }
     },
     "output_type": "display_data"
    }
   ],
   "source": [
    "\n",
    "from bokeh.models import ColumnDataSource\n",
    "from bokeh.plotting import figure, show\n",
    "from bokeh.models import ColorPicker, Spinner\n",
    "from bokeh.layouts import row, column\n",
    "\n",
    "x = [1, 2, 3, 4, 5, 6]\n",
    "y = [15, 16, 15, 15, 17, 18]\n",
    "data = ColumnDataSource(data={'x': x, 'y': y})\n",
    "plt = figure(title=\"Application with colors\")\n",
    "points = plt.circle(x='x', y='y', source=data,\n",
    "                    fill_color=None, line_color='red', size=15)\n",
    "\n",
    "# Create widgets\n",
    "# Default color is the color of the points\n",
    "picker1 = ColorPicker(title=\"Line Color\", color=points.glyph.line_color)\n",
    "spinner1 = Spinner(title=\"Circle Size\", low=0, high=60, step=5,\n",
    "                   value=points.glyph.size)  # Default value is the size of the points\n",
    "\n",
    "# Construct the layout\n",
    "layout = row(plt, column(picker1, spinner1))\n",
    "\n",
    "show(layout)"
   ]
  },
  {
   "cell_type": "markdown",
   "metadata": {},
   "source": [
    "However, these widgets have no effect when used because\n",
    "\n",
    "it is necessary to define a `CallbackFunction`. We use the simple `jslink` function that acts on the color and size of the points. We add this to our code:\n"
   ]
  },
  {
   "cell_type": "code",
   "execution_count": 8,
   "metadata": {},
   "outputs": [
    {
     "data": {
      "text/html": [
       "\n",
       "  <div id=\"b4b9c0e1-59e2-432b-ba24-b98da79a2cd7\" data-root-id=\"p1384\" style=\"display: contents;\"></div>\n"
      ]
     },
     "metadata": {},
     "output_type": "display_data"
    },
    {
     "data": {
      "application/javascript": "(function(root) {\n  function embed_document(root) {\n  const docs_json = {\"1040d9e5-f3ea-426a-a3fd-1c25d9a5aea5\":{\"version\":\"3.3.4\",\"title\":\"Bokeh Application\",\"roots\":[{\"type\":\"object\",\"name\":\"Row\",\"id\":\"p1384\",\"attributes\":{\"children\":[{\"type\":\"object\",\"name\":\"Figure\",\"id\":\"p1337\",\"attributes\":{\"x_range\":{\"type\":\"object\",\"name\":\"DataRange1d\",\"id\":\"p1338\"},\"y_range\":{\"type\":\"object\",\"name\":\"DataRange1d\",\"id\":\"p1339\"},\"x_scale\":{\"type\":\"object\",\"name\":\"LinearScale\",\"id\":\"p1347\"},\"y_scale\":{\"type\":\"object\",\"name\":\"LinearScale\",\"id\":\"p1348\"},\"title\":{\"type\":\"object\",\"name\":\"Title\",\"id\":\"p1340\",\"attributes\":{\"text\":\"Application with colors\"}},\"renderers\":[{\"type\":\"object\",\"name\":\"GlyphRenderer\",\"id\":\"p1376\",\"attributes\":{\"data_source\":{\"type\":\"object\",\"name\":\"ColumnDataSource\",\"id\":\"p1334\",\"attributes\":{\"selected\":{\"type\":\"object\",\"name\":\"Selection\",\"id\":\"p1335\",\"attributes\":{\"indices\":[],\"line_indices\":[]}},\"selection_policy\":{\"type\":\"object\",\"name\":\"UnionRenderers\",\"id\":\"p1336\"},\"data\":{\"type\":\"map\",\"entries\":[[\"x\",[1,2,3,4,5,6]],[\"y\",[15,16,15,15,17,18]]]}}},\"view\":{\"type\":\"object\",\"name\":\"CDSView\",\"id\":\"p1377\",\"attributes\":{\"filter\":{\"type\":\"object\",\"name\":\"AllIndices\",\"id\":\"p1378\"}}},\"glyph\":{\"type\":\"object\",\"name\":\"Circle\",\"id\":\"p1373\",\"attributes\":{\"x\":{\"type\":\"field\",\"field\":\"x\"},\"y\":{\"type\":\"field\",\"field\":\"y\"},\"size\":{\"type\":\"value\",\"value\":15},\"line_color\":{\"type\":\"value\",\"value\":\"red\"},\"fill_color\":{\"type\":\"value\",\"value\":null}}},\"nonselection_glyph\":{\"type\":\"object\",\"name\":\"Circle\",\"id\":\"p1374\",\"attributes\":{\"x\":{\"type\":\"field\",\"field\":\"x\"},\"y\":{\"type\":\"field\",\"field\":\"y\"},\"size\":{\"type\":\"value\",\"value\":15},\"line_color\":{\"type\":\"value\",\"value\":\"red\"},\"line_alpha\":{\"type\":\"value\",\"value\":0.1},\"fill_color\":{\"type\":\"value\",\"value\":null},\"fill_alpha\":{\"type\":\"value\",\"value\":0.1},\"hatch_alpha\":{\"type\":\"value\",\"value\":0.1}}},\"muted_glyph\":{\"type\":\"object\",\"name\":\"Circle\",\"id\":\"p1375\",\"attributes\":{\"x\":{\"type\":\"field\",\"field\":\"x\"},\"y\":{\"type\":\"field\",\"field\":\"y\"},\"size\":{\"type\":\"value\",\"value\":15},\"line_color\":{\"type\":\"value\",\"value\":\"red\"},\"line_alpha\":{\"type\":\"value\",\"value\":0.2},\"fill_color\":{\"type\":\"value\",\"value\":null},\"fill_alpha\":{\"type\":\"value\",\"value\":0.2},\"hatch_alpha\":{\"type\":\"value\",\"value\":0.2}}}}}],\"toolbar\":{\"type\":\"object\",\"name\":\"Toolbar\",\"id\":\"p1346\",\"attributes\":{\"tools\":[{\"type\":\"object\",\"name\":\"PanTool\",\"id\":\"p1359\"},{\"type\":\"object\",\"name\":\"WheelZoomTool\",\"id\":\"p1360\",\"attributes\":{\"renderers\":\"auto\"}},{\"type\":\"object\",\"name\":\"BoxZoomTool\",\"id\":\"p1361\",\"attributes\":{\"overlay\":{\"type\":\"object\",\"name\":\"BoxAnnotation\",\"id\":\"p1362\",\"attributes\":{\"syncable\":false,\"level\":\"overlay\",\"visible\":false,\"left\":{\"type\":\"number\",\"value\":\"nan\"},\"right\":{\"type\":\"number\",\"value\":\"nan\"},\"top\":{\"type\":\"number\",\"value\":\"nan\"},\"bottom\":{\"type\":\"number\",\"value\":\"nan\"},\"left_units\":\"canvas\",\"right_units\":\"canvas\",\"top_units\":\"canvas\",\"bottom_units\":\"canvas\",\"line_color\":\"black\",\"line_alpha\":1.0,\"line_width\":2,\"line_dash\":[4,4],\"fill_color\":\"lightgrey\",\"fill_alpha\":0.5}}}},{\"type\":\"object\",\"name\":\"SaveTool\",\"id\":\"p1367\"},{\"type\":\"object\",\"name\":\"ResetTool\",\"id\":\"p1368\"},{\"type\":\"object\",\"name\":\"HelpTool\",\"id\":\"p1369\"}]}},\"left\":[{\"type\":\"object\",\"name\":\"LinearAxis\",\"id\":\"p1354\",\"attributes\":{\"ticker\":{\"type\":\"object\",\"name\":\"BasicTicker\",\"id\":\"p1355\",\"attributes\":{\"mantissas\":[1,2,5]}},\"formatter\":{\"type\":\"object\",\"name\":\"BasicTickFormatter\",\"id\":\"p1356\"},\"major_label_policy\":{\"type\":\"object\",\"name\":\"AllLabels\",\"id\":\"p1357\"}}}],\"below\":[{\"type\":\"object\",\"name\":\"LinearAxis\",\"id\":\"p1349\",\"attributes\":{\"ticker\":{\"type\":\"object\",\"name\":\"BasicTicker\",\"id\":\"p1350\",\"attributes\":{\"mantissas\":[1,2,5]}},\"formatter\":{\"type\":\"object\",\"name\":\"BasicTickFormatter\",\"id\":\"p1351\"},\"major_label_policy\":{\"type\":\"object\",\"name\":\"AllLabels\",\"id\":\"p1352\"}}}],\"center\":[{\"type\":\"object\",\"name\":\"Grid\",\"id\":\"p1353\",\"attributes\":{\"axis\":{\"id\":\"p1349\"}}},{\"type\":\"object\",\"name\":\"Grid\",\"id\":\"p1358\",\"attributes\":{\"dimension\":1,\"axis\":{\"id\":\"p1354\"}}}]}},{\"type\":\"object\",\"name\":\"Column\",\"id\":\"p1383\",\"attributes\":{\"children\":[{\"type\":\"object\",\"name\":\"ColorPicker\",\"id\":\"p1379\",\"attributes\":{\"js_property_callbacks\":{\"type\":\"map\",\"entries\":[[\"change:color\",[{\"type\":\"object\",\"name\":\"CustomJS\",\"id\":\"p1381\",\"attributes\":{\"args\":{\"type\":\"map\",\"entries\":[[\"other\",{\"id\":\"p1373\"}]]},\"code\":\"other.line_color = this.color\"}}]]]},\"title\":\"Line Color\",\"color\":\"#ff0000\"}},{\"type\":\"object\",\"name\":\"Spinner\",\"id\":\"p1380\",\"attributes\":{\"js_property_callbacks\":{\"type\":\"map\",\"entries\":[[\"change:value\",[{\"type\":\"object\",\"name\":\"CustomJS\",\"id\":\"p1382\",\"attributes\":{\"args\":{\"type\":\"map\",\"entries\":[[\"other\",{\"id\":\"p1373\"}]]},\"code\":\"other.size = this.value\"}}]]]},\"title\":\"Circle Size\",\"value\":15,\"low\":0,\"high\":60,\"step\":5}}]}}]}}]}};\n  const render_items = [{\"docid\":\"1040d9e5-f3ea-426a-a3fd-1c25d9a5aea5\",\"roots\":{\"p1384\":\"b4b9c0e1-59e2-432b-ba24-b98da79a2cd7\"},\"root_ids\":[\"p1384\"]}];\n  root.Bokeh.embed.embed_items_notebook(docs_json, render_items);\n  }\n  if (root.Bokeh !== undefined) {\n    embed_document(root);\n  } else {\n    let attempts = 0;\n    const timer = setInterval(function(root) {\n      if (root.Bokeh !== undefined) {\n        clearInterval(timer);\n        embed_document(root);\n      } else {\n        attempts++;\n        if (attempts > 100) {\n          clearInterval(timer);\n          console.log(\"Bokeh: ERROR: Unable to run BokehJS code because BokehJS library is missing\");\n        }\n      }\n    }, 10, root)\n  }\n})(window);",
      "application/vnd.bokehjs_exec.v0+json": ""
     },
     "metadata": {
      "application/vnd.bokehjs_exec.v0+json": {
       "id": "p1384"
      }
     },
     "output_type": "display_data"
    }
   ],
   "source": [
    "\n",
    "from bokeh.models import ColumnDataSource\n",
    "from bokeh.plotting import figure, show\n",
    "from bokeh.models import ColorPicker, Spinner\n",
    "from bokeh.layouts import row, column\n",
    "\n",
    "x = [1, 2, 3, 4, 5, 6]\n",
    "y = [15, 16, 15, 15, 17, 18]\n",
    "data = ColumnDataSource(data={'x': x, 'y': y})\n",
    "plt = figure(title=\"Application with colors\")\n",
    "points = plt.circle(x='x', y='y', source=data,\n",
    "                    fill_color=None, line_color='red', size=15)\n",
    "\n",
    "picker1 = ColorPicker(title=\"Line Color\", color=points.glyph.line_color)\n",
    "spinner1 = Spinner(title=\"Circle Size\", low=0, high=60,\n",
    "                   step=5, value=points.glyph.size)\n",
    "\n",
    "# When picker1 is activated\n",
    "# Get the selected 'color'\n",
    "# Use it to update the line_color attribute of points.glyph\n",
    "picker1.js_link('color', points.glyph, 'line_color')\n",
    "\n",
    "# When spinner1 is activated\n",
    "# Get the selected 'value'\n",
    "# Use it to update the size attribute of points.glyph\n",
    "spinner1.js_link(\"value\", points.glyph, \"size\")\n",
    "\n",
    "layout = row(plt, column(picker1, spinner1))\n",
    "show(layout)"
   ]
  },
  {
   "cell_type": "markdown",
   "metadata": {},
   "source": [
    "`js_link` is easy to use but restricted to very specific elements. For more modularity, `Custom_js` can be used.\n",
    "\n",
    "## 3.2 Custom JavaScript\n",
    "\n",
    "In the following example, we choose to display a series of different values based on the user's choice: temperatures of Rennes or Paris.\n",
    "\n",
    "The ColumnDataSource contains all the data, `trennes` and `tparis`, and the Rennes data is initially copied into the `temp` column. We plot a diamond curve of `temp` against `day`.\n",
    "\n",
    "We create a dropdown menu `menu` that contains two values: Rennes and Paris, associated with 1 and 2, respectively.\n"
   ]
  },
  {
   "cell_type": "code",
   "execution_count": 9,
   "metadata": {},
   "outputs": [
    {
     "data": {
      "text/html": [
       "<div>\n",
       "<style scoped>\n",
       "    .dataframe tbody tr th:only-of-type {\n",
       "        vertical-align: middle;\n",
       "    }\n",
       "\n",
       "    .dataframe tbody tr th {\n",
       "        vertical-align: top;\n",
       "    }\n",
       "\n",
       "    .dataframe thead th {\n",
       "        text-align: right;\n",
       "    }\n",
       "</style>\n",
       "<table border=\"1\" class=\"dataframe\">\n",
       "  <thead>\n",
       "    <tr style=\"text-align: right;\">\n",
       "      <th></th>\n",
       "      <th>day</th>\n",
       "      <th>temp</th>\n",
       "      <th>trennes</th>\n",
       "      <th>tparis</th>\n",
       "    </tr>\n",
       "  </thead>\n",
       "  <tbody>\n",
       "    <tr>\n",
       "      <th>0</th>\n",
       "      <td>1</td>\n",
       "      <td>15</td>\n",
       "      <td>15</td>\n",
       "      <td>14</td>\n",
       "    </tr>\n",
       "    <tr>\n",
       "      <th>1</th>\n",
       "      <td>2</td>\n",
       "      <td>16</td>\n",
       "      <td>16</td>\n",
       "      <td>13</td>\n",
       "    </tr>\n",
       "    <tr>\n",
       "      <th>2</th>\n",
       "      <td>3</td>\n",
       "      <td>15</td>\n",
       "      <td>15</td>\n",
       "      <td>17</td>\n",
       "    </tr>\n",
       "    <tr>\n",
       "      <th>3</th>\n",
       "      <td>4</td>\n",
       "      <td>15</td>\n",
       "      <td>15</td>\n",
       "      <td>18</td>\n",
       "    </tr>\n",
       "    <tr>\n",
       "      <th>4</th>\n",
       "      <td>5</td>\n",
       "      <td>17</td>\n",
       "      <td>17</td>\n",
       "      <td>16</td>\n",
       "    </tr>\n",
       "    <tr>\n",
       "      <th>5</th>\n",
       "      <td>6</td>\n",
       "      <td>18</td>\n",
       "      <td>18</td>\n",
       "      <td>12</td>\n",
       "    </tr>\n",
       "  </tbody>\n",
       "</table>\n",
       "</div>"
      ],
      "text/plain": [
       "   day  temp  trennes  tparis\n",
       "0    1    15       15      14\n",
       "1    2    16       16      13\n",
       "2    3    15       15      17\n",
       "3    4    15       15      18\n",
       "4    5    17       17      16\n",
       "5    6    18       18      12"
      ]
     },
     "execution_count": 9,
     "metadata": {},
     "output_type": "execute_result"
    }
   ],
   "source": [
    "from bokeh.models import ColumnDataSource, CustomJS, Dropdown\n",
    "from bokeh.plotting import figure, show\n",
    "from bokeh.layouts import row\n",
    "\n",
    "# Basic data\n",
    "day = [1, 2, 3, 4, 5, 6]\n",
    "Trennes = [15, 16, 15, 15, 17, 18]\n",
    "Tparis = [14, 13, 17, 18, 16, 12]\n",
    "df = pd.DataFrame({'day': day, 'temp': Trennes,\n",
    "                  'trennes': Trennes, 'tparis': Tparis})\n",
    "df"
   ]
  },
  {
   "cell_type": "code",
   "execution_count": 10,
   "metadata": {},
   "outputs": [
    {
     "data": {
      "text/html": [
       "\n",
       "  <div id=\"dd76759c-c0a2-4e90-93a6-352c4203e3ed\" data-root-id=\"p1432\" style=\"display: contents;\"></div>\n"
      ]
     },
     "metadata": {},
     "output_type": "display_data"
    },
    {
     "data": {
      "application/javascript": "(function(root) {\n  function embed_document(root) {\n  const docs_json = {\"1fa00f69-c1ce-49a7-a9e8-a80475f5b1d2\":{\"version\":\"3.3.4\",\"title\":\"Bokeh Application\",\"roots\":[{\"type\":\"object\",\"name\":\"Row\",\"id\":\"p1432\",\"attributes\":{\"children\":[{\"type\":\"object\",\"name\":\"Figure\",\"id\":\"p1388\",\"attributes\":{\"x_range\":{\"type\":\"object\",\"name\":\"DataRange1d\",\"id\":\"p1389\"},\"y_range\":{\"type\":\"object\",\"name\":\"DataRange1d\",\"id\":\"p1390\"},\"x_scale\":{\"type\":\"object\",\"name\":\"LinearScale\",\"id\":\"p1398\"},\"y_scale\":{\"type\":\"object\",\"name\":\"LinearScale\",\"id\":\"p1399\"},\"title\":{\"type\":\"object\",\"name\":\"Title\",\"id\":\"p1391\",\"attributes\":{\"text\":\"Temperatures\"}},\"renderers\":[{\"type\":\"object\",\"name\":\"GlyphRenderer\",\"id\":\"p1427\",\"attributes\":{\"data_source\":{\"type\":\"object\",\"name\":\"ColumnDataSource\",\"id\":\"p1385\",\"attributes\":{\"selected\":{\"type\":\"object\",\"name\":\"Selection\",\"id\":\"p1386\",\"attributes\":{\"indices\":[],\"line_indices\":[]}},\"selection_policy\":{\"type\":\"object\",\"name\":\"UnionRenderers\",\"id\":\"p1387\"},\"data\":{\"type\":\"map\",\"entries\":[[\"index\",{\"type\":\"ndarray\",\"array\":{\"type\":\"bytes\",\"data\":\"AAAAAAEAAAACAAAAAwAAAAQAAAAFAAAA\"},\"shape\":[6],\"dtype\":\"int32\",\"order\":\"little\"}],[\"day\",{\"type\":\"ndarray\",\"array\":{\"type\":\"bytes\",\"data\":\"AQAAAAIAAAADAAAABAAAAAUAAAAGAAAA\"},\"shape\":[6],\"dtype\":\"int32\",\"order\":\"little\"}],[\"temp\",{\"type\":\"ndarray\",\"array\":{\"type\":\"bytes\",\"data\":\"DwAAABAAAAAPAAAADwAAABEAAAASAAAA\"},\"shape\":[6],\"dtype\":\"int32\",\"order\":\"little\"}],[\"trennes\",{\"type\":\"ndarray\",\"array\":{\"type\":\"bytes\",\"data\":\"DwAAABAAAAAPAAAADwAAABEAAAASAAAA\"},\"shape\":[6],\"dtype\":\"int32\",\"order\":\"little\"}],[\"tparis\",{\"type\":\"ndarray\",\"array\":{\"type\":\"bytes\",\"data\":\"DgAAAA0AAAARAAAAEgAAABAAAAAMAAAA\"},\"shape\":[6],\"dtype\":\"int32\",\"order\":\"little\"}]]}}},\"view\":{\"type\":\"object\",\"name\":\"CDSView\",\"id\":\"p1428\",\"attributes\":{\"filter\":{\"type\":\"object\",\"name\":\"AllIndices\",\"id\":\"p1429\"}}},\"glyph\":{\"type\":\"object\",\"name\":\"Scatter\",\"id\":\"p1424\",\"attributes\":{\"x\":{\"type\":\"field\",\"field\":\"day\"},\"y\":{\"type\":\"field\",\"field\":\"temp\"},\"size\":{\"type\":\"value\",\"value\":15},\"line_color\":{\"type\":\"value\",\"value\":\"blue\"},\"fill_color\":{\"type\":\"value\",\"value\":\"blue\"},\"hatch_color\":{\"type\":\"value\",\"value\":\"blue\"},\"marker\":{\"type\":\"value\",\"value\":\"diamond\"}}},\"nonselection_glyph\":{\"type\":\"object\",\"name\":\"Scatter\",\"id\":\"p1425\",\"attributes\":{\"x\":{\"type\":\"field\",\"field\":\"day\"},\"y\":{\"type\":\"field\",\"field\":\"temp\"},\"size\":{\"type\":\"value\",\"value\":15},\"line_color\":{\"type\":\"value\",\"value\":\"blue\"},\"line_alpha\":{\"type\":\"value\",\"value\":0.1},\"fill_color\":{\"type\":\"value\",\"value\":\"blue\"},\"fill_alpha\":{\"type\":\"value\",\"value\":0.1},\"hatch_color\":{\"type\":\"value\",\"value\":\"blue\"},\"hatch_alpha\":{\"type\":\"value\",\"value\":0.1},\"marker\":{\"type\":\"value\",\"value\":\"diamond\"}}},\"muted_glyph\":{\"type\":\"object\",\"name\":\"Scatter\",\"id\":\"p1426\",\"attributes\":{\"x\":{\"type\":\"field\",\"field\":\"day\"},\"y\":{\"type\":\"field\",\"field\":\"temp\"},\"size\":{\"type\":\"value\",\"value\":15},\"line_color\":{\"type\":\"value\",\"value\":\"blue\"},\"line_alpha\":{\"type\":\"value\",\"value\":0.2},\"fill_color\":{\"type\":\"value\",\"value\":\"blue\"},\"fill_alpha\":{\"type\":\"value\",\"value\":0.2},\"hatch_color\":{\"type\":\"value\",\"value\":\"blue\"},\"hatch_alpha\":{\"type\":\"value\",\"value\":0.2},\"marker\":{\"type\":\"value\",\"value\":\"diamond\"}}}}}],\"toolbar\":{\"type\":\"object\",\"name\":\"Toolbar\",\"id\":\"p1397\",\"attributes\":{\"tools\":[{\"type\":\"object\",\"name\":\"PanTool\",\"id\":\"p1410\"},{\"type\":\"object\",\"name\":\"WheelZoomTool\",\"id\":\"p1411\",\"attributes\":{\"renderers\":\"auto\"}},{\"type\":\"object\",\"name\":\"BoxZoomTool\",\"id\":\"p1412\",\"attributes\":{\"overlay\":{\"type\":\"object\",\"name\":\"BoxAnnotation\",\"id\":\"p1413\",\"attributes\":{\"syncable\":false,\"level\":\"overlay\",\"visible\":false,\"left\":{\"type\":\"number\",\"value\":\"nan\"},\"right\":{\"type\":\"number\",\"value\":\"nan\"},\"top\":{\"type\":\"number\",\"value\":\"nan\"},\"bottom\":{\"type\":\"number\",\"value\":\"nan\"},\"left_units\":\"canvas\",\"right_units\":\"canvas\",\"top_units\":\"canvas\",\"bottom_units\":\"canvas\",\"line_color\":\"black\",\"line_alpha\":1.0,\"line_width\":2,\"line_dash\":[4,4],\"fill_color\":\"lightgrey\",\"fill_alpha\":0.5}}}},{\"type\":\"object\",\"name\":\"SaveTool\",\"id\":\"p1418\"},{\"type\":\"object\",\"name\":\"ResetTool\",\"id\":\"p1419\"},{\"type\":\"object\",\"name\":\"HelpTool\",\"id\":\"p1420\"}]}},\"left\":[{\"type\":\"object\",\"name\":\"LinearAxis\",\"id\":\"p1405\",\"attributes\":{\"ticker\":{\"type\":\"object\",\"name\":\"BasicTicker\",\"id\":\"p1406\",\"attributes\":{\"mantissas\":[1,2,5]}},\"formatter\":{\"type\":\"object\",\"name\":\"BasicTickFormatter\",\"id\":\"p1407\"},\"major_label_policy\":{\"type\":\"object\",\"name\":\"AllLabels\",\"id\":\"p1408\"}}}],\"below\":[{\"type\":\"object\",\"name\":\"LinearAxis\",\"id\":\"p1400\",\"attributes\":{\"ticker\":{\"type\":\"object\",\"name\":\"BasicTicker\",\"id\":\"p1401\",\"attributes\":{\"mantissas\":[1,2,5]}},\"formatter\":{\"type\":\"object\",\"name\":\"BasicTickFormatter\",\"id\":\"p1402\"},\"major_label_policy\":{\"type\":\"object\",\"name\":\"AllLabels\",\"id\":\"p1403\"}}}],\"center\":[{\"type\":\"object\",\"name\":\"Grid\",\"id\":\"p1404\",\"attributes\":{\"axis\":{\"id\":\"p1400\"}}},{\"type\":\"object\",\"name\":\"Grid\",\"id\":\"p1409\",\"attributes\":{\"dimension\":1,\"axis\":{\"id\":\"p1405\"}}}]}},{\"type\":\"object\",\"name\":\"Dropdown\",\"id\":\"p1430\",\"attributes\":{\"js_event_callbacks\":{\"type\":\"map\",\"entries\":[[\"menu_item_click\",[{\"type\":\"object\",\"name\":\"CustomJS\",\"id\":\"p1431\",\"attributes\":{\"args\":{\"type\":\"map\",\"entries\":[[\"source\",{\"id\":\"p1385\"}]]},\"code\":\"\\n    const data = source.data;\\n    const val = this.item;\\n    const x = data['day'];\\n    const y = data['temp'];\\n    const y1 = data['trennes'];\\n    const y2 = data['tparis'];\\n    console.log('Selected value: '+val);  \\n    if (val == 1) {\\n        for (let i = 0; i < x.length; i++) {\\n            y[i] = y1[i];\\n        }\\n    } else {\\n        for (let i = 0; i < x.length; i++) {\\n            y[i] = y2[i];\\n        }\\n    }\\n    source.change.emit();\\n\"}}]]]},\"label\":\"City Selection\",\"menu\":[[\"Rennes\",\"1\"],[\"Paris\",\"2\"]]}}]}}]}};\n  const render_items = [{\"docid\":\"1fa00f69-c1ce-49a7-a9e8-a80475f5b1d2\",\"roots\":{\"p1432\":\"dd76759c-c0a2-4e90-93a6-352c4203e3ed\"},\"root_ids\":[\"p1432\"]}];\n  root.Bokeh.embed.embed_items_notebook(docs_json, render_items);\n  }\n  if (root.Bokeh !== undefined) {\n    embed_document(root);\n  } else {\n    let attempts = 0;\n    const timer = setInterval(function(root) {\n      if (root.Bokeh !== undefined) {\n        clearInterval(timer);\n        embed_document(root);\n      } else {\n        attempts++;\n        if (attempts > 100) {\n          clearInterval(timer);\n          console.log(\"Bokeh: ERROR: Unable to run BokehJS code because BokehJS library is missing\");\n        }\n      }\n    }, 10, root)\n  }\n})(window);",
      "application/vnd.bokehjs_exec.v0+json": ""
     },
     "metadata": {
      "application/vnd.bokehjs_exec.v0+json": {
       "id": "p1432"
      }
     },
     "output_type": "display_data"
    }
   ],
   "source": [
    "\n",
    "source = ColumnDataSource(df)\n",
    "# Construct the graph\n",
    "p1 = figure(title=\"Temperatures\")\n",
    "p1.diamond(x='day', y='temp', source=source, color='blue', size=15)\n",
    "\n",
    "# Create the widget\n",
    "menu = Dropdown(label=\"City Selection\", menu=[('Rennes', '1'), ('Paris', '2')])\n",
    "\n",
    "# Indicate the effect of a click on the menu: it is the code described in CustomJS\n",
    "# Our goal is to display the data of Rennes or Paris, i.e., replace the values ​​contained in the 'temp' column of the DataFrame.\n",
    "# If it's Rennes, i.e., the value 1, that is selected, we put the values ​​of 'trennes' in the 'temp' column.\n",
    "# If it's Paris, i.e., the value 2, that is selected, we put the values ​​of 'tparis' in the 'temp' column.\n",
    "callback = CustomJS(args=dict(source=source), code=\"\"\"\n",
    "    const data = source.data;\n",
    "    const val = this.item;\n",
    "    const x = data['day'];\n",
    "    const y = data['temp'];\n",
    "    const y1 = data['trennes'];\n",
    "    const y2 = data['tparis'];\n",
    "    console.log('Selected value: '+val);  \n",
    "    if (val == 1) {\n",
    "        for (let i = 0; i < x.length; i++) {\n",
    "            y[i] = y1[i];\n",
    "        }\n",
    "    } else {\n",
    "        for (let i = 0; i < x.length; i++) {\n",
    "            y[i] = y2[i];\n",
    "        }\n",
    "    }\n",
    "    source.change.emit();\n",
    "\"\"\")\n",
    "\n",
    "# A click on the menu will call the callback code\n",
    "menu.js_on_event('menu_item_click', callback)\n",
    "\n",
    "# Construct the layout\n",
    "layout = row(p1, menu)\n",
    "show(layout)"
   ]
  },
  {
   "cell_type": "markdown",
   "metadata": {},
   "source": [
    "## 3.3 Complete Interaction Example\n",
    "\n",
    "To conclude this course, here is a complete example from the Bokeh documentation. It is a Lasso selector that dynamically traces a line corresponding to the average of the selected points.\n"
   ]
  },
  {
   "cell_type": "code",
   "execution_count": 11,
   "metadata": {},
   "outputs": [
    {
     "data": {
      "text/html": [
       "\n",
       "  <div id=\"e60fd669-bf4c-4a93-92a5-3c4810a53e82\" data-root-id=\"p1441\" style=\"display: contents;\"></div>\n"
      ]
     },
     "metadata": {},
     "output_type": "display_data"
    },
    {
     "data": {
      "application/javascript": "(function(root) {\n  function embed_document(root) {\n  const docs_json = {\"52796b90-addf-4f7c-ae77-2d2487518e28\":{\"version\":\"3.3.4\",\"title\":\"Bokeh Application\",\"roots\":[{\"type\":\"object\",\"name\":\"Figure\",\"id\":\"p1441\",\"attributes\":{\"width\":500,\"height\":500,\"x_range\":{\"type\":\"object\",\"name\":\"DataRange1d\",\"id\":\"p1442\"},\"y_range\":{\"type\":\"object\",\"name\":\"DataRange1d\",\"id\":\"p1443\"},\"x_scale\":{\"type\":\"object\",\"name\":\"LinearScale\",\"id\":\"p1450\"},\"y_scale\":{\"type\":\"object\",\"name\":\"LinearScale\",\"id\":\"p1451\"},\"title\":{\"type\":\"object\",\"name\":\"Title\",\"id\":\"p1448\"},\"renderers\":[{\"type\":\"object\",\"name\":\"GlyphRenderer\",\"id\":\"p1471\",\"attributes\":{\"data_source\":{\"type\":\"object\",\"name\":\"ColumnDataSource\",\"id\":\"p1438\",\"attributes\":{\"selected\":{\"type\":\"object\",\"name\":\"Selection\",\"id\":\"p1439\",\"attributes\":{\"js_property_callbacks\":{\"type\":\"map\",\"entries\":[[\"change:indices\",[{\"type\":\"object\",\"name\":\"CustomJS\",\"id\":\"p1486\",\"attributes\":{\"args\":{\"type\":\"map\",\"entries\":[[\"d1\",{\"id\":\"p1438\"}],[\"d2\",{\"type\":\"object\",\"name\":\"ColumnDataSource\",\"id\":\"p1474\",\"attributes\":{\"selected\":{\"type\":\"object\",\"name\":\"Selection\",\"id\":\"p1475\",\"attributes\":{\"indices\":[],\"line_indices\":[]}},\"selection_policy\":{\"type\":\"object\",\"name\":\"UnionRenderers\",\"id\":\"p1476\"},\"data\":{\"type\":\"map\",\"entries\":[[\"xm\",[0,1]],[\"ym\",[0.5,0.5]]]}}}]]},\"code\":\"\\n    var inds = d1.selected.indices;\\n    if (inds.length == 0)\\n        return;\\n    var ym=0;\\n    for (var i = 0; i < inds.length; i++){\\n        ym += d1.data.y[inds[i]];\\n    }\\n    ym /= inds.length;\\n    d2.data.ym = [ym, ym];\\n    d2.change.emit();\\n\"}}]]]},\"indices\":[],\"line_indices\":[]}},\"selection_policy\":{\"type\":\"object\",\"name\":\"UnionRenderers\",\"id\":\"p1440\"},\"data\":{\"type\":\"map\",\"entries\":[[\"x\",[0.9993555040251473,0.525866742530454,0.1904299289211272,0.16479342790893647,0.6538271996598614,0.2603669378392611,0.30658544228070683,0.9604361582259189,0.9530509622069292,0.8632426857900202,0.431956037790743,0.7634676178049051,0.8542068600593526,0.6452806911226822,0.13239624607232003,0.0015256937418344219,0.4319887916454582,0.12828445021634338,0.1336761709796005,0.3975307328067227,0.14002930326162455,0.8107875813172033,0.2551411307245576,0.0505415338828894,0.7582588307891013,0.40143023138339506,0.5283640976818674,0.08591250487843782,0.04739430352124352,0.9473955609033872,0.6257528419215679,0.5231283987437607,0.5209858593785612,0.03786567802307805,0.8373102192168881,0.002570599970677878,0.8714635466906334,0.5374338631503924,0.9485490070066737,0.33564785337771286,0.5911591767911722,0.7165914208568944,0.11482937025399664,0.09198798107563977,0.4140270047616428,0.5543862378514751,0.9612903235775438,0.691662501886398,0.3947744249710258,0.5136783650235038,0.8647830272392805,0.8702575613693818,0.22774309009679683,0.2976244052614866,0.16206475487934946,0.14800393451585958,0.2719846801588399,0.28652006245345485,0.6107558203527977,0.9410357072305334,0.009542458076321148,0.3863026534502777,0.9958444034371737,0.8390547544924953,0.500069242672786,0.43406526979463445,0.9463070927912665,0.9811735042845712,0.7301089259942801,0.3742755769786791,0.09279312157991204,0.19643326383407023,0.396292457217275,0.6194485361164949,0.41394373343547153,0.3445061220277955,0.7241440307323649,0.14160824685394302,0.06260692041056393,0.34371872147701865,0.30730417024707646,0.05436253547665837,0.334637141638614,0.5483531284903012,0.9096931025996507,0.575137436771805,0.8180389004902116,0.43655476685110917,0.23390044509957508,0.7977387955531097,0.21749262551291326,0.4977426148895894,0.25477484510354054,0.9226183179023553,0.921052046377647,0.846699939537135,0.41114657531726717,0.037061074990488496,0.5288116800482386,0.8309276104906875,0.03042414454911535,0.8528273177189931,0.7526737291710283,0.48122883821319995,0.1381041954228981,0.5677021156753812,0.682639703043192,0.2035942562018973,0.9501302853165483,0.3861741877903082,0.238051031125587,0.22770163295198098,0.10254317933358281,0.5877843501791015,0.07075700809623087,0.8116718176969527,0.6619034250348426,0.17869903151196553,0.26045514536638315,0.1079865652919082,0.16217697579881385,0.386652891002747,0.11865035112563183,0.1018118733319614,0.8560665070085381,0.13717386359102302,0.5164192927432446,0.9422430182762195,0.8922326440096603,0.5692781341864773,0.6592653118603649,0.1750609404316409,0.8450237987398024,0.44973563212899603,0.2644129955804846,0.09020210989879685,0.8157454289644964,0.9128513150172739,0.9206806756233619,0.9551537398044273,0.14480401768786233,0.43936029911487295,0.2315815659270346,0.20627418296862643,0.9619703780383805,0.43625426924526467,0.4910720152655558,0.5246007655267666,0.16197524578395806,0.8867942271319295,0.7038526396809414,0.13717574399030863,0.776423086961003,0.019147271079665185,0.19062308157507024,0.16771052309368573,0.6793513075057602,0.5759595437058319,0.07761834633580977,0.2906142926825245,0.22588377411762295,0.9169233234438419,0.44409853651647624,0.5874526835178283,0.5664421353112904,0.13343989357935426,0.5432047281509439,0.31237749436397444,0.9440138876571281,0.4392145245338609,0.004453304929977864,0.32992756753808705,0.6065883481957756,0.6897353655237369,0.6645771286870096,0.5993293750479523,0.400749949382496,0.4773348010284686,0.34297374110434875,0.8081519789362224,0.38196482345027494,0.578126944064957,0.967357605673009,0.9740578624723633,0.5876012402274149,0.8639338975688877,0.980997772311447,0.27078357306324874,0.08714421682646734,0.9254453000151042,0.5999191067695525,0.23228913985044664,0.5467147935624467,0.2980325657759235,0.798276445543368,0.3030154628469578,0.1551838527483742,0.0358387306467155,0.05041871072575177,0.18204585742353074,0.09365227991781211,0.14729426619042052,0.1752276052350854,0.18337273068796356,0.8699767275796246,0.07758646711389439,0.6318511990377856,0.5444316281938182,0.004864116116408357,0.43577146657900656,0.8534818159142875,0.7580136395871707,0.959499110234568,0.4974401286209609,0.06259195742750145,0.5487690063370638,0.4966132685266408,0.37615196773380766,0.20630986358587744,0.5706379697158752,0.1264334852362612,0.16426912021505602,0.15435250525772914,0.8680936339529032,0.2867854471501864,0.35238436159230047,0.1846227123389661,0.460513695128667,0.1812114312282025,0.2917766555946413,0.571924294804703,0.3584617146748903,0.16799160319231887,0.7943157819479273,0.5470644641152226,0.8087040716428546,0.8573978414605711,0.7352510443592498,0.1319464250495822,0.18040532931897046,0.7746410742864906,0.595389901920792,0.24937953151403114,0.7976927280012895,0.6857544831129452,0.6306931516911128,0.9464949923312215,0.9179737890500256,0.42093535044929653,0.7459012588961534,0.4335249507690401,0.6533992912184663,0.1745173133639789,0.6696487446428989,0.8671966396392934,0.8653346794293698,0.7161475467642444,0.5100148156449904,0.9710851140568697,0.9897069684402484,0.47346158303313035,0.672577260025727,0.9387913083708878,0.8232688129844303,0.32881332408770325,0.207273853124344,0.5059378398734488,0.6838591569327875,0.6151936955912995,0.8889170275712299,0.862650338838412,0.9450790940850231,0.43368948514721406,0.39331466471522103,0.6187579642145965,0.007923605231856423,0.19330832332173442,0.18488313137639822,0.008834518281886417,0.430271060675835,0.7881825441777384,0.2199983127792301,0.8005283855847294,0.8907479190641892,0.6775650786573959,0.3538083128110424,0.009488030285140114,0.3804861665027981,0.39733797216484623,0.2322761673812953,0.17213986526828173,0.9397607753700973,0.3436661074357471,0.13469833902300576,0.6812266701626384,0.6681658765912913,0.14159976954810694,0.37100805968420625,0.5051261708707838,0.9555403440066568,0.96711915768681,0.9875636307681984,0.18731842128017395,0.86454608826097,0.49937068519636263,0.5969129733129865,0.35346452323575184,0.8132403357508069,0.6447349176239616,0.370495568378992,0.014628202599565654,0.415662265291199,0.8814248601080497,0.5003261856427741,0.568552492988384,0.5541527173365458,0.8433300961277037,0.869584048149855,0.9698313042848099,0.2481309522976014,0.7442922509090709,0.7013744709643817,0.42436897805491136,0.0315575591276106,0.5652940534851847,0.1469832805496215,0.42686548764947696,0.7736769771451764,0.9905681031203705,0.817650385298637,0.162943249209355,0.7081949874641957,0.07829760866300173,0.14809476957828738,0.502601400458376,0.927933316284334,0.8533054550083911,0.5269693073479347,0.01913748060152587,0.5812441931203801,0.6920411181665562,0.6228636333059266,0.852852773332588,0.06462638810744414,0.1472217420699955,0.462114052960946,0.0178559896520345,0.1028705398926818,0.7513405074951793,0.7939450228306142,0.4342042766935945,0.4323512565787143,0.7499440240369005,0.6443000916696903,0.25366649537731933,0.8430039486797198,0.6274276384395578,0.016632489894077063,0.9832138005594919,0.4913927078117172,0.8474443090963928,0.009306543630798858,0.9841743496399541,0.6486984324871647,0.24006410109404264,0.2220582100807238,0.9072818439693976,0.8697546159041769,0.3164292786606152,0.25535569395084845,0.6343447917754714,0.25284937277215436,0.058410971431195335,0.3009866238346256,0.27324804393247115,0.7769435660310773,0.2120815412460726,0.35137396392364106,0.7671521876574766,0.6871862249485625,0.8418221264111576,0.9364060026385393,0.5790227488185966,0.4103119247572806,0.679046109759191,0.19654166227609393,0.37163605158899793,0.8515534900757039,0.7835566198541357,0.9145418162907659,0.7765864215219042,0.890097649716013,0.902788509819338,0.14361091394821157,0.3163017366005123,0.8329731012148817,0.12105220123163518,0.9591723038320148,0.31378332755843175,0.25246606417335793,0.8594843385581821,0.5227631004031863,0.1595044361221576,0.9204983399107687,0.5642059966297779,0.02576534436162836,0.6297242956191387,0.21538993897644187,0.7137204321033876,0.6225763649161766,0.9654099146826813,0.12371316366358232,0.8016131480386347,0.7261550045584478,0.37171943343971303,0.19429803378383936,0.7690606060727888,0.7497780682807146,0.8156830868117977,0.34395988208813233,0.6417119040587315,0.7343823081014395,0.07408696883009924,0.14485939024551753,0.029516260553265283,0.22237970294100273,0.3040507445688889,0.6043386569200654,0.5867026929494285,0.43793417279447766,0.24865849462537015,0.11888734434169124,0.5187559638778779,0.30438796867659923,0.4914791864744228,0.24108520304891146,0.7872106048801575,0.3131602202335768,0.05566472106762621,0.6533510179603383,0.6941592377222237,0.2700478553721003,0.03747784532844278,0.08621104904703802,0.9223914986689782,0.5452441828156939,0.5361711568042097,0.6435885945465608,0.395002226675522,0.13624595579494525,0.6169726018242081,0.6930598566475796,0.17138986136562495,0.18558090530669358,0.7072040697657629,0.8684887280067072,0.5564042028685119,0.5212359743385312,0.9774991059181682,0.4219936694139669,0.8241255867277739,0.04276545551831268,0.34152987953704816,0.9460980066328386,0.02032087974921415,0.9947315329925331,0.8847079256611192,0.2140189742091586,0.7177098454377022,0.5419802782061219,0.0727679820054089,0.3256828162285772,0.6942708428193411,0.894148687400554,0.9496207728882144,0.9716748565028006,0.9712114956133698,0.2401170029205575,0.6737197748404349,0.6636041744597816,0.4261395482958683,0.7650602847490646,0.13701304916905976,0.9554931554908207,0.6661693801402107,0.18869871485787681,0.09719450462701673,0.17021426721383948,0.8554069266459757,0.40603621611626683,0.42024815345682587,0.7512998990733636,0.42179294239916854,0.7149368467894259,0.7482384930257429,0.5030081706864847,0.10730960598623085,0.5785956308366391,0.08895099238521975,0.725888234780993]],[\"y\",[0.4070073794154846,0.3799187157163977,0.04614140421511126,0.6479137858664925,0.4699494487982748,0.877482839774108,0.7118015808276253,0.2677097345470043,0.7486195459443711,0.6342400696999746,0.534179057807651,0.4664432414297627,0.08361346238313838,0.9142600699568958,0.6754744597348199,0.05773801716030735,0.25574511840371583,0.3292142351283186,0.9692142397084551,0.7569056261954539,0.35151410063212574,0.3055404359397069,0.2182183323233634,0.7189579241664792,0.9539138577453095,0.23456779591180055,0.1566933875229637,0.9161203400673698,0.7860424487513648,0.3540876621468989,0.9544967485065603,0.4515739869433286,0.4697082977330874,0.5652296883876305,0.935644911809875,0.40991533233039745,0.6983123597497475,0.055683834618301065,0.8405381923853541,0.04942414143229823,0.5309637075125317,0.5048395075458049,0.8396199190649687,0.10331271383884089,0.35149329535921525,0.16072423295966598,0.6384303101065699,0.42501818322391827,0.6325049705429363,0.4068511815449304,0.47644341788246114,0.41645557407227507,0.18413889996047128,0.41855508747987846,0.5966364803859753,0.03304038796645892,0.007409055148499766,0.2942226801170196,0.7186602293038721,0.0021724198025910857,0.6152491037838428,0.2667539670188407,0.7645546757185467,0.39158199884037326,0.08809718252470955,0.13118594375399661,0.11915383471933638,0.7155426467032345,0.4678066203059169,0.25679056669788825,0.5725387437528424,0.33457055119745915,0.8490995611041153,0.12669813564760346,0.6779770967389964,0.9690427527074634,0.010738371795012913,0.8621033242223848,0.455549356328948,0.08252574311093908,0.957933424312613,0.03803978712331457,0.7764480852685518,0.10301366786760846,0.8342938605070445,0.9433632737518161,0.14549070302035816,0.9267656418613,0.07451690159649227,0.9584107601024525,0.7075654984048211,0.8192126720446085,0.17379517045306092,0.9970777041915885,0.5842435293560122,0.6607135783261646,0.776991823335649,0.6508569971415212,0.1808084495242409,0.44659427920711947,0.6527726926743221,0.14623020817980958,0.9237000091558759,0.045711140900188796,0.694509882244643,0.6295479787127737,0.17669584387065385,0.934298484937283,0.6984331932349426,0.8972057722310686,0.43084174033375144,0.828391972846806,0.4914572083688167,0.6055758660840761,0.2732897126557683,0.24521758809264282,0.29671045856324163,0.14996703377310272,0.7306183717219098,0.12978298623856666,0.05755717015457884,0.8147877456797477,0.29870359639795063,0.5130543311428094,0.7588783255631988,0.5156815298950429,0.7477266005784698,0.4998442802717741,0.5888457964378485,0.45229806291769115,0.16587053520923045,0.7237218974234356,0.2862817084972965,0.6096762933791324,0.13052353444262665,0.4550561828387706,0.1515557806096134,0.04998583933123302,0.9298349686842712,0.4723512456889589,0.45036631971156815,0.0791161459663231,0.8446672937084166,0.8225597090923463,0.5564885224301497,0.988435858005892,0.1817184447607525,0.7485195434184188,0.27979458771795385,0.7480664607283283,0.6006498016567593,0.18255212084660344,0.07812674487399884,0.07996532887093744,0.5954757835887298,0.08871554127133652,0.6376674162365545,0.7862932537494068,0.034403940700091784,0.65861725647874,0.09731390433631204,0.7055049263776084,0.8395110212340405,0.18222471353707714,0.08332349969524455,0.005211692329567197,0.25310220040853404,0.2569143239735585,0.9609746493268692,0.13163281418226802,0.11265270865125876,0.6994423549562022,0.13201393671679984,0.0018574928793942957,0.9716053258753637,0.24643887653616303,0.4567072340523748,0.8227415415416074,0.11634493322246509,0.5872028429695381,0.8742105729276034,0.4120626562208045,0.6420549843312968,0.5688983973108064,0.7136351376714312,0.6562251231976816,0.4298142716528617,0.6198618565331886,0.09013112336103801,0.06916571337816035,0.13593856429378937,0.33224810346996525,0.5212759394892975,0.34687976955973643,0.7920200378228562,0.4334284315443212,0.6220573299726695,0.13696967593069287,0.16723307740983562,0.8151058933229106,0.08193326992758232,0.8072517052004053,0.944995896516965,0.8638390341579504,0.6455699610416847,0.8287443782747124,0.4323178402133504,0.8594512439200257,0.9007948748409126,0.50085865283254,0.032646542716959326,0.10732767978543423,0.7331974097333214,0.0029467026827840748,0.06278820885869629,0.3095588578688814,0.592012417787453,0.5405711640507449,0.698100355455491,0.8710938642658471,0.5709175656285108,0.7970086844530502,0.34565566362811884,0.1911103413103109,0.9304114159073658,0.8180939465284605,0.15316867481032803,0.915541291737675,0.31984624122291605,0.013205841880581493,0.3893612324412352,0.9557813125054841,0.9069092691430807,0.3743153833774028,0.8112628178681427,0.673081503959187,0.10713569554679658,0.5168296446330293,0.49489066794200043,0.21426188928239887,0.654822115631866,0.12355944425864074,0.9079296172995889,0.4946073889345013,0.8731645651873207,0.20431011559485812,0.08255674454428086,0.7086622679569888,0.22754303067984694,0.3702385510995724,0.8729529855127992,0.40910098679208007,0.5445524361953124,0.5095911153586755,0.1910827242549239,0.39026491534959173,0.9915301041002402,0.7146195877338672,0.6960788818200213,0.05208958550376386,0.585583600627945,0.04712118984136382,0.5387914271666971,0.613841063515883,0.10394667031381821,0.06812402114196858,0.38157749071597535,0.032820238864885276,0.826213348498476,0.5457327669334072,0.6653077569952791,0.00043425028225052564,0.34086374164141997,0.5762408092602208,0.29539167246100073,0.36451115688861513,0.42922274118096937,0.8073344426706172,0.5717564185123521,0.9924424151570748,0.19037892049327354,0.9764532908539012,0.13684012357391007,0.0907781835486009,0.11498867955297254,0.820873776373607,0.7234985128271425,0.1394888591073613,0.6114396775022636,0.3993063327407944,0.33817815298947296,0.4917633420803297,0.7521300808308354,0.6828593578647247,0.2790329432510388,0.46351600552692074,0.20855870481313188,0.10237814689428615,0.3088806816657176,0.1478426013146117,0.4215080901738819,0.5859322743263549,0.334543196191062,0.9706625543442232,0.14319855885091692,0.8592605538454493,0.3673102920824486,0.30078318372815493,0.97160227483034,0.13805189777997395,0.9320169591227485,0.683683237083643,0.9437088435746311,0.3196357726778376,0.05751638241329515,0.45055744207517034,0.36486423428229287,0.9114220881507166,0.7349733348968707,0.24333731087284027,0.21725018821927367,0.9757061591223869,0.29436595065884563,0.02597370243443986,0.45566138813802404,0.540926673160846,0.3253848541773855,0.2561467564688671,0.3292151057850974,0.5256847522100334,0.817953354692471,0.7211382246903689,0.7417597663625202,0.3724483321335966,0.500972601635897,0.8890791711964235,0.9646687345517155,0.47224696263603505,0.09312841509690062,0.8777135294082659,0.258535919014908,0.029398867495411207,0.9539677369204276,0.8683301696051768,0.15181786917348217,0.3572621257903459,0.8018303918843473,0.9212462879023431,0.20503458822921328,0.36427110166010623,0.7904971765977263,0.9047494118211801,0.5069025562806743,0.9957495713129447,0.7273006842130759,0.8790933128531437,0.0894781000679784,0.9395386009791626,0.7663616619359356,0.434300512602782,0.8487725134757865,0.4063244300694461,0.17430971037583665,0.022532237647315156,0.29307577572234733,0.990660975750315,0.7772796130861198,0.06676116595773551,0.47608457252306713,0.09358891832310123,0.7110607138301656,0.8310281566820746,0.7604966769182432,0.16493384960926227,0.5706048954994489,0.8703291705810606,0.21699779500341054,0.839299565012044,0.6481470938487492,0.5804174493042206,0.09529167962640006,0.362978243176983,0.9377205994934792,0.4924455153500452,0.30791715475920534,0.4005173911499029,0.18245961959886603,0.594454834788913,0.5303551500624285,0.5284575274248486,0.7869525685874534,0.9166606847255732,0.9149741129961457,0.8651588002946072,0.5339186833260434,0.30971687322884744,0.9404529934975477,0.5035255171590935,0.8760365917967898,0.7252380153342757,0.7996474316929404,0.6209575050103129,0.9389417184117299,0.33888356948933873,0.5322090908057675,0.39692066763417455,0.39799931868553906,0.47241334720146766,0.35675800536296587,0.5983625031064076,0.7767479702559645,0.8124754102454237,0.9998101711425358,0.4410558997918309,0.5742767382503005,0.7238707930979299,0.5211419267561228,0.6443291478156161,0.05078678956540461,0.6575423619813775,0.4220208240464841,0.016376558464491042,0.8875580754927075,0.7232649431917325,0.22396951488665884,0.36811178499301733,0.1988871256615583,0.8786318563573678,0.3217376239209323,0.8454954625842965,0.07450534750556603,0.45360533769631517,0.5825949291366113,0.6567479700936708,0.41728926327747873,0.4984406514353197,0.9736803663413909,0.81890168119036,0.24547099437788722,0.37855879028982553,0.9290834075061347,0.98857780644734,0.9170475914616488,0.47038185975263325,0.9630205312142593,0.929582600376131,0.9858869413215299,0.8766092013973136,0.06177196393506279,0.8701532889672519,0.9586155306020651,0.8006262000369184,0.3188477146497668,0.45423354444381914,0.6470555764202948,0.7410661606233705,0.5652602237380272,0.07531210626186502,0.7180681241561246,0.2573069991925596,0.029964208391994873,0.6452667456633538,0.33333049912819934,0.41209576861822805,0.23775016564117823,0.6809385909615912,0.9200515188032827,0.6277157797125246,0.6501179585970538,0.32450393572635794,0.14557991070471354,0.7176377331039175,0.9640462672741931,0.25771978961482556,0.41364103020737775,0.8530258695693946,0.9590374859218602,0.5860683535060364,0.4081515155165628,0.7555016786141113,0.7157290764070886,0.13081719942745107,0.6094892190490472,0.04434687632885803,0.49368329901480534,0.28151620523220566,0.8464328704416356,0.023317249854649447,0.49228688097439754,0.22879995541244402,0.4670988335349575,0.4931603703741083,0.5948007246075481,0.5586653322727597,0.9671707147768959,0.13638372270060473,0.0585414057104946,0.959548350190873,0.8754603096359007,0.9712641101410525]]]}}},\"view\":{\"type\":\"object\",\"name\":\"CDSView\",\"id\":\"p1472\",\"attributes\":{\"filter\":{\"type\":\"object\",\"name\":\"AllIndices\",\"id\":\"p1473\"}}},\"glyph\":{\"type\":\"object\",\"name\":\"Circle\",\"id\":\"p1467\",\"attributes\":{\"x\":{\"type\":\"field\",\"field\":\"x\"},\"y\":{\"type\":\"field\",\"field\":\"y\"},\"size\":{\"type\":\"value\",\"value\":10},\"line_color\":{\"type\":\"value\",\"value\":\"navy\"},\"line_alpha\":{\"type\":\"value\",\"value\":0.4},\"fill_color\":{\"type\":\"value\",\"value\":\"navy\"},\"fill_alpha\":{\"type\":\"value\",\"value\":0.4},\"hatch_color\":{\"type\":\"value\",\"value\":\"navy\"},\"hatch_alpha\":{\"type\":\"value\",\"value\":0.4}}},\"selection_glyph\":{\"type\":\"object\",\"name\":\"Circle\",\"id\":\"p1469\",\"attributes\":{\"x\":{\"type\":\"field\",\"field\":\"x\"},\"y\":{\"type\":\"field\",\"field\":\"y\"},\"size\":{\"type\":\"value\",\"value\":10},\"line_color\":{\"type\":\"value\",\"value\":\"firebrick\"},\"line_alpha\":{\"type\":\"value\",\"value\":0.3},\"fill_color\":{\"type\":\"value\",\"value\":\"firebrick\"},\"fill_alpha\":{\"type\":\"value\",\"value\":0.3},\"hatch_color\":{\"type\":\"value\",\"value\":\"firebrick\"},\"hatch_alpha\":{\"type\":\"value\",\"value\":0.3}}},\"nonselection_glyph\":{\"type\":\"object\",\"name\":\"Circle\",\"id\":\"p1468\",\"attributes\":{\"x\":{\"type\":\"field\",\"field\":\"x\"},\"y\":{\"type\":\"field\",\"field\":\"y\"},\"size\":{\"type\":\"value\",\"value\":10},\"line_color\":{\"type\":\"value\",\"value\":\"navy\"},\"line_alpha\":{\"type\":\"value\",\"value\":0.1},\"fill_color\":{\"type\":\"value\",\"value\":\"navy\"},\"fill_alpha\":{\"type\":\"value\",\"value\":0.1},\"hatch_color\":{\"type\":\"value\",\"value\":\"navy\"},\"hatch_alpha\":{\"type\":\"value\",\"value\":0.1}}},\"muted_glyph\":{\"type\":\"object\",\"name\":\"Circle\",\"id\":\"p1470\",\"attributes\":{\"x\":{\"type\":\"field\",\"field\":\"x\"},\"y\":{\"type\":\"field\",\"field\":\"y\"},\"size\":{\"type\":\"value\",\"value\":10},\"line_color\":{\"type\":\"value\",\"value\":\"navy\"},\"line_alpha\":{\"type\":\"value\",\"value\":0.2},\"fill_color\":{\"type\":\"value\",\"value\":\"navy\"},\"fill_alpha\":{\"type\":\"value\",\"value\":0.2},\"hatch_color\":{\"type\":\"value\",\"value\":\"navy\"},\"hatch_alpha\":{\"type\":\"value\",\"value\":0.2}}}}},{\"type\":\"object\",\"name\":\"GlyphRenderer\",\"id\":\"p1483\",\"attributes\":{\"data_source\":{\"id\":\"p1474\"},\"view\":{\"type\":\"object\",\"name\":\"CDSView\",\"id\":\"p1484\",\"attributes\":{\"filter\":{\"type\":\"object\",\"name\":\"AllIndices\",\"id\":\"p1485\"}}},\"glyph\":{\"type\":\"object\",\"name\":\"Line\",\"id\":\"p1480\",\"attributes\":{\"x\":{\"type\":\"field\",\"field\":\"xm\"},\"y\":{\"type\":\"field\",\"field\":\"ym\"},\"line_color\":\"orange\",\"line_alpha\":0.6,\"line_width\":5}},\"nonselection_glyph\":{\"type\":\"object\",\"name\":\"Line\",\"id\":\"p1481\",\"attributes\":{\"x\":{\"type\":\"field\",\"field\":\"xm\"},\"y\":{\"type\":\"field\",\"field\":\"ym\"},\"line_color\":\"orange\",\"line_alpha\":0.1,\"line_width\":5}},\"muted_glyph\":{\"type\":\"object\",\"name\":\"Line\",\"id\":\"p1482\",\"attributes\":{\"x\":{\"type\":\"field\",\"field\":\"xm\"},\"y\":{\"type\":\"field\",\"field\":\"ym\"},\"line_color\":\"orange\",\"line_alpha\":0.2,\"line_width\":5}}}}],\"toolbar\":{\"type\":\"object\",\"name\":\"Toolbar\",\"id\":\"p1449\",\"attributes\":{\"tools\":[{\"type\":\"object\",\"name\":\"LassoSelectTool\",\"id\":\"p1462\",\"attributes\":{\"renderers\":\"auto\",\"overlay\":{\"type\":\"object\",\"name\":\"PolyAnnotation\",\"id\":\"p1463\",\"attributes\":{\"syncable\":false,\"level\":\"overlay\",\"visible\":false,\"xs\":[],\"ys\":[],\"editable\":true,\"line_color\":\"black\",\"line_alpha\":1.0,\"line_width\":2,\"line_dash\":[4,4],\"fill_color\":\"lightgrey\",\"fill_alpha\":0.5}}}}]}},\"left\":[{\"type\":\"object\",\"name\":\"LinearAxis\",\"id\":\"p1457\",\"attributes\":{\"ticker\":{\"type\":\"object\",\"name\":\"BasicTicker\",\"id\":\"p1458\",\"attributes\":{\"mantissas\":[1,2,5]}},\"formatter\":{\"type\":\"object\",\"name\":\"BasicTickFormatter\",\"id\":\"p1459\"},\"major_label_policy\":{\"type\":\"object\",\"name\":\"AllLabels\",\"id\":\"p1460\"}}}],\"below\":[{\"type\":\"object\",\"name\":\"LinearAxis\",\"id\":\"p1452\",\"attributes\":{\"ticker\":{\"type\":\"object\",\"name\":\"BasicTicker\",\"id\":\"p1453\",\"attributes\":{\"mantissas\":[1,2,5]}},\"formatter\":{\"type\":\"object\",\"name\":\"BasicTickFormatter\",\"id\":\"p1454\"},\"major_label_policy\":{\"type\":\"object\",\"name\":\"AllLabels\",\"id\":\"p1455\"}}}],\"center\":[{\"type\":\"object\",\"name\":\"Grid\",\"id\":\"p1456\",\"attributes\":{\"axis\":{\"id\":\"p1452\"}}},{\"type\":\"object\",\"name\":\"Grid\",\"id\":\"p1461\",\"attributes\":{\"dimension\":1,\"axis\":{\"id\":\"p1457\"}}}]}}]}};\n  const render_items = [{\"docid\":\"52796b90-addf-4f7c-ae77-2d2487518e28\",\"roots\":{\"p1441\":\"e60fd669-bf4c-4a93-92a5-3c4810a53e82\"},\"root_ids\":[\"p1441\"]}];\n  root.Bokeh.embed.embed_items_notebook(docs_json, render_items);\n  }\n  if (root.Bokeh !== undefined) {\n    embed_document(root);\n  } else {\n    let attempts = 0;\n    const timer = setInterval(function(root) {\n      if (root.Bokeh !== undefined) {\n        clearInterval(timer);\n        embed_document(root);\n      } else {\n        attempts++;\n        if (attempts > 100) {\n          clearInterval(timer);\n          console.log(\"Bokeh: ERROR: Unable to run BokehJS code because BokehJS library is missing\");\n        }\n      }\n    }, 10, root)\n  }\n})(window);",
      "application/vnd.bokehjs_exec.v0+json": ""
     },
     "metadata": {
      "application/vnd.bokehjs_exec.v0+json": {
       "id": "p1441"
      }
     },
     "output_type": "display_data"
    }
   ],
   "source": [
    "\n",
    "from random import random\n",
    "from bokeh.plotting import figure, show\n",
    "from bokeh.models import CustomJS, ColumnDataSource\n",
    "\n",
    "# Random data generation\n",
    "x = [random() for x in range(500)]\n",
    "y = [random() for y in range(500)]\n",
    "d1 = ColumnDataSource(data=dict(x=x, y=y))\n",
    "\n",
    "# Create a diagram with a selection tool\n",
    "p = figure(width=500, height=500, tools=\"lasso_select\")\n",
    "\n",
    "# Plot points\n",
    "p.circle('x', 'y', color='navy', size=10, alpha=0.4, source=d1,\n",
    "         selection_color=\"firebrick\", selection_alpha=0.3)\n",
    "\n",
    "# Plot a horizontal line corresponding to the average, by default set to 0.5\n",
    "d2 = ColumnDataSource(data=dict(xm=[0, 1], ym=[0.5, 0.5]))\n",
    "p.line(x='xm', y='ym', color='orange', line_width=5, alpha=0.6, source=d2)\n",
    "\n",
    "# The code of the callback function indicates:\n",
    "# when selecting, get the selected points, calculate their average\n",
    "# Update the d2 plot with this new average\n",
    "js_code = \"\"\"\n",
    "    var inds = d1.selected.indices;\n",
    "    if (inds.length == 0)\n",
    "        return;\n",
    "    var ym=0;\n",
    "    for (var i = 0; i < inds.length; i++){\n",
    "        ym += d1.data.y[inds[i]];\n",
    "    }\n",
    "    ym /= inds.length;\n",
    "    d2.data.ym = [ym, ym];\n",
    "    d2.change.emit();\n",
    "\"\"\"\n",
    "\n",
    "callback = CustomJS(args=dict(d1=d1, d2=d2), code=js_code)\n",
    "d1.selected.js_on_change(\"indices\", callback)\n",
    "\n",
    "show(p)"
   ]
  },
  {
   "cell_type": "markdown",
   "metadata": {},
   "source": [
    "# 4. Enhancing web pages\n"
   ]
  },
  {
   "cell_type": "markdown",
   "metadata": {},
   "source": [
    "Within a Bokeh Layout, two HTML content elements can be added:\n",
    "\n",
    "- A Paragraph `<p>` tag for inserting text.\n",
    "- A `<div>` block tag for inserting a block of HTML code.\n",
    "\n",
    "These elements can be included in Rows or Columns of the Bokeh layout.\n",
    "\n",
    "Here's an example:\n"
   ]
  },
  {
   "cell_type": "code",
   "execution_count": 12,
   "metadata": {},
   "outputs": [
    {
     "data": {
      "text/html": [
       "\n",
       "  <div id=\"a6ce843c-5658-4365-82c7-637d472ff2ad\" data-root-id=\"p1540\" style=\"display: contents;\"></div>\n"
      ]
     },
     "metadata": {},
     "output_type": "display_data"
    },
    {
     "data": {
      "application/javascript": "(function(root) {\n  function embed_document(root) {\n  const docs_json = {\"a82f96f3-9799-4a95-bda3-5e00aea2fba7\":{\"version\":\"3.3.4\",\"title\":\"Bokeh Application\",\"roots\":[{\"type\":\"object\",\"name\":\"Column\",\"id\":\"p1540\",\"attributes\":{\"children\":[{\"type\":\"object\",\"name\":\"Div\",\"id\":\"p1536\",\"attributes\":{\"text\":\"\\n<h1> Data Visualization Course 3 </h1>\\n<p> This course aims to demonstrate how to integrate HTML code</p>\\n<a href=\\\"http://www.univ-rennes2.fr \\\">A link to the University's website</a>\"}},{\"type\":\"object\",\"name\":\"Row\",\"id\":\"p1539\",\"attributes\":{\"children\":[{\"type\":\"object\",\"name\":\"Figure\",\"id\":\"p1490\",\"attributes\":{\"x_range\":{\"type\":\"object\",\"name\":\"DataRange1d\",\"id\":\"p1491\"},\"y_range\":{\"type\":\"object\",\"name\":\"DataRange1d\",\"id\":\"p1492\"},\"x_scale\":{\"type\":\"object\",\"name\":\"LinearScale\",\"id\":\"p1500\"},\"y_scale\":{\"type\":\"object\",\"name\":\"LinearScale\",\"id\":\"p1501\"},\"title\":{\"type\":\"object\",\"name\":\"Title\",\"id\":\"p1493\",\"attributes\":{\"text\":\"Application with colors\"}},\"renderers\":[{\"type\":\"object\",\"name\":\"GlyphRenderer\",\"id\":\"p1529\",\"attributes\":{\"data_source\":{\"type\":\"object\",\"name\":\"ColumnDataSource\",\"id\":\"p1487\",\"attributes\":{\"selected\":{\"type\":\"object\",\"name\":\"Selection\",\"id\":\"p1488\",\"attributes\":{\"indices\":[],\"line_indices\":[]}},\"selection_policy\":{\"type\":\"object\",\"name\":\"UnionRenderers\",\"id\":\"p1489\"},\"data\":{\"type\":\"map\",\"entries\":[[\"x\",[1,2,3,4,5,6]],[\"y\",[15,16,15,15,17,18]]]}}},\"view\":{\"type\":\"object\",\"name\":\"CDSView\",\"id\":\"p1530\",\"attributes\":{\"filter\":{\"type\":\"object\",\"name\":\"AllIndices\",\"id\":\"p1531\"}}},\"glyph\":{\"type\":\"object\",\"name\":\"Circle\",\"id\":\"p1526\",\"attributes\":{\"x\":{\"type\":\"field\",\"field\":\"x\"},\"y\":{\"type\":\"field\",\"field\":\"y\"},\"size\":{\"type\":\"value\",\"value\":15},\"line_color\":{\"type\":\"value\",\"value\":\"red\"},\"fill_color\":{\"type\":\"value\",\"value\":null}}},\"nonselection_glyph\":{\"type\":\"object\",\"name\":\"Circle\",\"id\":\"p1527\",\"attributes\":{\"x\":{\"type\":\"field\",\"field\":\"x\"},\"y\":{\"type\":\"field\",\"field\":\"y\"},\"size\":{\"type\":\"value\",\"value\":15},\"line_color\":{\"type\":\"value\",\"value\":\"red\"},\"line_alpha\":{\"type\":\"value\",\"value\":0.1},\"fill_color\":{\"type\":\"value\",\"value\":null},\"fill_alpha\":{\"type\":\"value\",\"value\":0.1},\"hatch_alpha\":{\"type\":\"value\",\"value\":0.1}}},\"muted_glyph\":{\"type\":\"object\",\"name\":\"Circle\",\"id\":\"p1528\",\"attributes\":{\"x\":{\"type\":\"field\",\"field\":\"x\"},\"y\":{\"type\":\"field\",\"field\":\"y\"},\"size\":{\"type\":\"value\",\"value\":15},\"line_color\":{\"type\":\"value\",\"value\":\"red\"},\"line_alpha\":{\"type\":\"value\",\"value\":0.2},\"fill_color\":{\"type\":\"value\",\"value\":null},\"fill_alpha\":{\"type\":\"value\",\"value\":0.2},\"hatch_alpha\":{\"type\":\"value\",\"value\":0.2}}}}}],\"toolbar\":{\"type\":\"object\",\"name\":\"Toolbar\",\"id\":\"p1499\",\"attributes\":{\"tools\":[{\"type\":\"object\",\"name\":\"PanTool\",\"id\":\"p1512\"},{\"type\":\"object\",\"name\":\"WheelZoomTool\",\"id\":\"p1513\",\"attributes\":{\"renderers\":\"auto\"}},{\"type\":\"object\",\"name\":\"BoxZoomTool\",\"id\":\"p1514\",\"attributes\":{\"overlay\":{\"type\":\"object\",\"name\":\"BoxAnnotation\",\"id\":\"p1515\",\"attributes\":{\"syncable\":false,\"level\":\"overlay\",\"visible\":false,\"left\":{\"type\":\"number\",\"value\":\"nan\"},\"right\":{\"type\":\"number\",\"value\":\"nan\"},\"top\":{\"type\":\"number\",\"value\":\"nan\"},\"bottom\":{\"type\":\"number\",\"value\":\"nan\"},\"left_units\":\"canvas\",\"right_units\":\"canvas\",\"top_units\":\"canvas\",\"bottom_units\":\"canvas\",\"line_color\":\"black\",\"line_alpha\":1.0,\"line_width\":2,\"line_dash\":[4,4],\"fill_color\":\"lightgrey\",\"fill_alpha\":0.5}}}},{\"type\":\"object\",\"name\":\"SaveTool\",\"id\":\"p1520\"},{\"type\":\"object\",\"name\":\"ResetTool\",\"id\":\"p1521\"},{\"type\":\"object\",\"name\":\"HelpTool\",\"id\":\"p1522\"}]}},\"left\":[{\"type\":\"object\",\"name\":\"LinearAxis\",\"id\":\"p1507\",\"attributes\":{\"ticker\":{\"type\":\"object\",\"name\":\"BasicTicker\",\"id\":\"p1508\",\"attributes\":{\"mantissas\":[1,2,5]}},\"formatter\":{\"type\":\"object\",\"name\":\"BasicTickFormatter\",\"id\":\"p1509\"},\"major_label_policy\":{\"type\":\"object\",\"name\":\"AllLabels\",\"id\":\"p1510\"}}}],\"below\":[{\"type\":\"object\",\"name\":\"LinearAxis\",\"id\":\"p1502\",\"attributes\":{\"ticker\":{\"type\":\"object\",\"name\":\"BasicTicker\",\"id\":\"p1503\",\"attributes\":{\"mantissas\":[1,2,5]}},\"formatter\":{\"type\":\"object\",\"name\":\"BasicTickFormatter\",\"id\":\"p1504\"},\"major_label_policy\":{\"type\":\"object\",\"name\":\"AllLabels\",\"id\":\"p1505\"}}}],\"center\":[{\"type\":\"object\",\"name\":\"Grid\",\"id\":\"p1506\",\"attributes\":{\"axis\":{\"id\":\"p1502\"}}},{\"type\":\"object\",\"name\":\"Grid\",\"id\":\"p1511\",\"attributes\":{\"dimension\":1,\"axis\":{\"id\":\"p1507\"}}}]}},{\"type\":\"object\",\"name\":\"Column\",\"id\":\"p1538\",\"attributes\":{\"children\":[{\"type\":\"object\",\"name\":\"Paragraph\",\"id\":\"p1537\",\"attributes\":{\"text\":\"You can change the rendering of the elements:\"}},{\"type\":\"object\",\"name\":\"ColorPicker\",\"id\":\"p1532\",\"attributes\":{\"js_property_callbacks\":{\"type\":\"map\",\"entries\":[[\"change:color\",[{\"type\":\"object\",\"name\":\"CustomJS\",\"id\":\"p1533\",\"attributes\":{\"args\":{\"type\":\"map\",\"entries\":[[\"other\",{\"id\":\"p1526\"}]]},\"code\":\"other.line_color = this.color\"}}]]]},\"title\":\"Line Color\",\"color\":\"#ff0000\"}},{\"type\":\"object\",\"name\":\"Spinner\",\"id\":\"p1534\",\"attributes\":{\"js_property_callbacks\":{\"type\":\"map\",\"entries\":[[\"change:value\",[{\"type\":\"object\",\"name\":\"CustomJS\",\"id\":\"p1535\",\"attributes\":{\"args\":{\"type\":\"map\",\"entries\":[[\"other\",{\"id\":\"p1526\"}]]},\"code\":\"other.size = this.value\"}}]]]},\"title\":\"Circle Size\",\"value\":15,\"low\":0,\"high\":60,\"step\":5}}]}}]}}]}}]}};\n  const render_items = [{\"docid\":\"a82f96f3-9799-4a95-bda3-5e00aea2fba7\",\"roots\":{\"p1540\":\"a6ce843c-5658-4365-82c7-637d472ff2ad\"},\"root_ids\":[\"p1540\"]}];\n  root.Bokeh.embed.embed_items_notebook(docs_json, render_items);\n  }\n  if (root.Bokeh !== undefined) {\n    embed_document(root);\n  } else {\n    let attempts = 0;\n    const timer = setInterval(function(root) {\n      if (root.Bokeh !== undefined) {\n        clearInterval(timer);\n        embed_document(root);\n      } else {\n        attempts++;\n        if (attempts > 100) {\n          clearInterval(timer);\n          console.log(\"Bokeh: ERROR: Unable to run BokehJS code because BokehJS library is missing\");\n        }\n      }\n    }, 10, root)\n  }\n})(window);",
      "application/vnd.bokehjs_exec.v0+json": ""
     },
     "metadata": {
      "application/vnd.bokehjs_exec.v0+json": {
       "id": "p1540"
      }
     },
     "output_type": "display_data"
    }
   ],
   "source": [
    "\n",
    "from bokeh.layouts import row, column\n",
    "from bokeh.models import ColorPicker, Spinner, Div, Paragraph\n",
    "from bokeh.plotting import figure, show\n",
    "from bokeh.models import ColumnDataSource\n",
    "from bokeh.io import output_notebook\n",
    "\n",
    "# Basic data\n",
    "x = [1, 2, 3, 4, 5, 6]\n",
    "y = [15, 16, 15, 15, 17, 18]\n",
    "data = ColumnDataSource(data={'x': x, 'y': y})\n",
    "\n",
    "# Construct the graph\n",
    "plt = figure(title=\"Application with colors\")\n",
    "points = plt.circle(x='x', y='y', source=data,\n",
    "                    fill_color=None, line_color='red', size=15)\n",
    "\n",
    "# Create widgets\n",
    "picker1 = ColorPicker(title=\"Line Color\", color=points.glyph.line_color)\n",
    "picker1.js_link('color', points.glyph, 'line_color')\n",
    "spinner1 = Spinner(title=\"Circle Size\", low=0, high=60,\n",
    "                   step=5, value=points.glyph.size)\n",
    "spinner1.js_link(\"value\", points.glyph, \"size\")\n",
    "\n",
    "# Add HTML code\n",
    "div = Div(text=\"\"\"\n",
    "<h1> Data Visualization Course 3 </h1>\n",
    "<p> This course aims to demonstrate how to integrate HTML code</p>\n",
    "<a href=\"http://www.univ-rennes2.fr \">A link to the University's website</a>\"\"\")\n",
    "\n",
    "par = Paragraph(text=\"You can change the rendering of the elements:\")\n",
    "\n",
    "# Construct the layout\n",
    "layout = column(div, row(plt, column(par, picker1, spinner1)))\n",
    "show(layout)"
   ]
  },
  {
   "cell_type": "markdown",
   "metadata": {},
   "source": [
    "In this example, a `div` block was added at the top of the page, containing an `<h1>` title, `<p>` text, and an `<a>` link.\n",
    "\n",
    "Additionally, a paragraph was added to the right above the widgets.\n",
    "\n",
    "It's worth noting that it's possible to specify style attributes for the elements. In the following example, a style is applied to the `div` block:\n"
   ]
  },
  {
   "cell_type": "code",
   "execution_count": 13,
   "metadata": {},
   "outputs": [
    {
     "data": {
      "text/html": [
       "\n",
       "  <div id=\"a1f33244-464a-4c20-9cb6-f097c68a366e\" data-root-id=\"p1594\" style=\"display: contents;\"></div>\n"
      ]
     },
     "metadata": {},
     "output_type": "display_data"
    },
    {
     "data": {
      "application/javascript": "(function(root) {\n  function embed_document(root) {\n  const docs_json = {\"621c12e2-f21f-4570-be9f-4318c96cfe7d\":{\"version\":\"3.3.4\",\"title\":\"Bokeh Application\",\"roots\":[{\"type\":\"object\",\"name\":\"Column\",\"id\":\"p1594\",\"attributes\":{\"children\":[{\"type\":\"object\",\"name\":\"Div\",\"id\":\"p1590\",\"attributes\":{\"styles\":{\"type\":\"map\",\"entries\":[[\"font-style\",\"italic\"],[\"color\",\"#00AAAA\"]]},\"text\":\"\\n<h1> Data Visualization Course 6 </h1>\\n<p> This course aims to demonstrate how to integrate HTML code</p>\\n<a href=\\\"http://www.univ-rennes2.fr \\\">A link to the University's website</a>\"}},{\"type\":\"object\",\"name\":\"Row\",\"id\":\"p1593\",\"attributes\":{\"children\":[{\"type\":\"object\",\"name\":\"Figure\",\"id\":\"p1544\",\"attributes\":{\"x_range\":{\"type\":\"object\",\"name\":\"DataRange1d\",\"id\":\"p1545\"},\"y_range\":{\"type\":\"object\",\"name\":\"DataRange1d\",\"id\":\"p1546\"},\"x_scale\":{\"type\":\"object\",\"name\":\"LinearScale\",\"id\":\"p1554\"},\"y_scale\":{\"type\":\"object\",\"name\":\"LinearScale\",\"id\":\"p1555\"},\"title\":{\"type\":\"object\",\"name\":\"Title\",\"id\":\"p1547\",\"attributes\":{\"text\":\"Application with colors\"}},\"renderers\":[{\"type\":\"object\",\"name\":\"GlyphRenderer\",\"id\":\"p1583\",\"attributes\":{\"data_source\":{\"type\":\"object\",\"name\":\"ColumnDataSource\",\"id\":\"p1541\",\"attributes\":{\"selected\":{\"type\":\"object\",\"name\":\"Selection\",\"id\":\"p1542\",\"attributes\":{\"indices\":[],\"line_indices\":[]}},\"selection_policy\":{\"type\":\"object\",\"name\":\"UnionRenderers\",\"id\":\"p1543\"},\"data\":{\"type\":\"map\",\"entries\":[[\"x\",[1,2,3,4,5,6]],[\"y\",[15,16,15,15,17,18]]]}}},\"view\":{\"type\":\"object\",\"name\":\"CDSView\",\"id\":\"p1584\",\"attributes\":{\"filter\":{\"type\":\"object\",\"name\":\"AllIndices\",\"id\":\"p1585\"}}},\"glyph\":{\"type\":\"object\",\"name\":\"Circle\",\"id\":\"p1580\",\"attributes\":{\"x\":{\"type\":\"field\",\"field\":\"x\"},\"y\":{\"type\":\"field\",\"field\":\"y\"},\"size\":{\"type\":\"value\",\"value\":15},\"line_color\":{\"type\":\"value\",\"value\":\"red\"},\"fill_color\":{\"type\":\"value\",\"value\":null}}},\"nonselection_glyph\":{\"type\":\"object\",\"name\":\"Circle\",\"id\":\"p1581\",\"attributes\":{\"x\":{\"type\":\"field\",\"field\":\"x\"},\"y\":{\"type\":\"field\",\"field\":\"y\"},\"size\":{\"type\":\"value\",\"value\":15},\"line_color\":{\"type\":\"value\",\"value\":\"red\"},\"line_alpha\":{\"type\":\"value\",\"value\":0.1},\"fill_color\":{\"type\":\"value\",\"value\":null},\"fill_alpha\":{\"type\":\"value\",\"value\":0.1},\"hatch_alpha\":{\"type\":\"value\",\"value\":0.1}}},\"muted_glyph\":{\"type\":\"object\",\"name\":\"Circle\",\"id\":\"p1582\",\"attributes\":{\"x\":{\"type\":\"field\",\"field\":\"x\"},\"y\":{\"type\":\"field\",\"field\":\"y\"},\"size\":{\"type\":\"value\",\"value\":15},\"line_color\":{\"type\":\"value\",\"value\":\"red\"},\"line_alpha\":{\"type\":\"value\",\"value\":0.2},\"fill_color\":{\"type\":\"value\",\"value\":null},\"fill_alpha\":{\"type\":\"value\",\"value\":0.2},\"hatch_alpha\":{\"type\":\"value\",\"value\":0.2}}}}}],\"toolbar\":{\"type\":\"object\",\"name\":\"Toolbar\",\"id\":\"p1553\",\"attributes\":{\"tools\":[{\"type\":\"object\",\"name\":\"PanTool\",\"id\":\"p1566\"},{\"type\":\"object\",\"name\":\"WheelZoomTool\",\"id\":\"p1567\",\"attributes\":{\"renderers\":\"auto\"}},{\"type\":\"object\",\"name\":\"BoxZoomTool\",\"id\":\"p1568\",\"attributes\":{\"overlay\":{\"type\":\"object\",\"name\":\"BoxAnnotation\",\"id\":\"p1569\",\"attributes\":{\"syncable\":false,\"level\":\"overlay\",\"visible\":false,\"left\":{\"type\":\"number\",\"value\":\"nan\"},\"right\":{\"type\":\"number\",\"value\":\"nan\"},\"top\":{\"type\":\"number\",\"value\":\"nan\"},\"bottom\":{\"type\":\"number\",\"value\":\"nan\"},\"left_units\":\"canvas\",\"right_units\":\"canvas\",\"top_units\":\"canvas\",\"bottom_units\":\"canvas\",\"line_color\":\"black\",\"line_alpha\":1.0,\"line_width\":2,\"line_dash\":[4,4],\"fill_color\":\"lightgrey\",\"fill_alpha\":0.5}}}},{\"type\":\"object\",\"name\":\"SaveTool\",\"id\":\"p1574\"},{\"type\":\"object\",\"name\":\"ResetTool\",\"id\":\"p1575\"},{\"type\":\"object\",\"name\":\"HelpTool\",\"id\":\"p1576\"}]}},\"left\":[{\"type\":\"object\",\"name\":\"LinearAxis\",\"id\":\"p1561\",\"attributes\":{\"ticker\":{\"type\":\"object\",\"name\":\"BasicTicker\",\"id\":\"p1562\",\"attributes\":{\"mantissas\":[1,2,5]}},\"formatter\":{\"type\":\"object\",\"name\":\"BasicTickFormatter\",\"id\":\"p1563\"},\"major_label_policy\":{\"type\":\"object\",\"name\":\"AllLabels\",\"id\":\"p1564\"}}}],\"below\":[{\"type\":\"object\",\"name\":\"LinearAxis\",\"id\":\"p1556\",\"attributes\":{\"ticker\":{\"type\":\"object\",\"name\":\"BasicTicker\",\"id\":\"p1557\",\"attributes\":{\"mantissas\":[1,2,5]}},\"formatter\":{\"type\":\"object\",\"name\":\"BasicTickFormatter\",\"id\":\"p1558\"},\"major_label_policy\":{\"type\":\"object\",\"name\":\"AllLabels\",\"id\":\"p1559\"}}}],\"center\":[{\"type\":\"object\",\"name\":\"Grid\",\"id\":\"p1560\",\"attributes\":{\"axis\":{\"id\":\"p1556\"}}},{\"type\":\"object\",\"name\":\"Grid\",\"id\":\"p1565\",\"attributes\":{\"dimension\":1,\"axis\":{\"id\":\"p1561\"}}}]}},{\"type\":\"object\",\"name\":\"Column\",\"id\":\"p1592\",\"attributes\":{\"children\":[{\"type\":\"object\",\"name\":\"Paragraph\",\"id\":\"p1591\",\"attributes\":{\"text\":\"You can change the rendering of the elements:\"}},{\"type\":\"object\",\"name\":\"ColorPicker\",\"id\":\"p1586\",\"attributes\":{\"js_property_callbacks\":{\"type\":\"map\",\"entries\":[[\"change:color\",[{\"type\":\"object\",\"name\":\"CustomJS\",\"id\":\"p1587\",\"attributes\":{\"args\":{\"type\":\"map\",\"entries\":[[\"other\",{\"id\":\"p1580\"}]]},\"code\":\"other.line_color = this.color\"}}]]]},\"title\":\"Line Color\",\"color\":\"#ff0000\"}},{\"type\":\"object\",\"name\":\"Spinner\",\"id\":\"p1588\",\"attributes\":{\"js_property_callbacks\":{\"type\":\"map\",\"entries\":[[\"change:value\",[{\"type\":\"object\",\"name\":\"CustomJS\",\"id\":\"p1589\",\"attributes\":{\"args\":{\"type\":\"map\",\"entries\":[[\"other\",{\"id\":\"p1580\"}]]},\"code\":\"other.size = this.value\"}}]]]},\"title\":\"Circle Size\",\"value\":15,\"low\":0,\"high\":60,\"step\":5}}]}}]}}]}}]}};\n  const render_items = [{\"docid\":\"621c12e2-f21f-4570-be9f-4318c96cfe7d\",\"roots\":{\"p1594\":\"a1f33244-464a-4c20-9cb6-f097c68a366e\"},\"root_ids\":[\"p1594\"]}];\n  root.Bokeh.embed.embed_items_notebook(docs_json, render_items);\n  }\n  if (root.Bokeh !== undefined) {\n    embed_document(root);\n  } else {\n    let attempts = 0;\n    const timer = setInterval(function(root) {\n      if (root.Bokeh !== undefined) {\n        clearInterval(timer);\n        embed_document(root);\n      } else {\n        attempts++;\n        if (attempts > 100) {\n          clearInterval(timer);\n          console.log(\"Bokeh: ERROR: Unable to run BokehJS code because BokehJS library is missing\");\n        }\n      }\n    }, 10, root)\n  }\n})(window);",
      "application/vnd.bokehjs_exec.v0+json": ""
     },
     "metadata": {
      "application/vnd.bokehjs_exec.v0+json": {
       "id": "p1594"
      }
     },
     "output_type": "display_data"
    }
   ],
   "source": [
    "from bokeh.models import ColumnDataSource\n",
    "from bokeh.plotting import figure, show\n",
    "from bokeh.models import ColorPicker, Spinner, Div, Paragraph\n",
    "from bokeh.layouts import row, column\n",
    "\n",
    "# Basic data\n",
    "x = [1, 2, 3, 4, 5, 6]\n",
    "y = [15, 16, 15, 15, 17, 18]\n",
    "data = ColumnDataSource(data={'x': x, 'y': y})\n",
    "\n",
    "# Construct the graph\n",
    "plt = figure(title=\"Application with colors\")\n",
    "points = plt.circle(x='x', y='y', source=data,\n",
    "                    fill_color=None, line_color='red', size=15)\n",
    "\n",
    "# Create widgets\n",
    "picker1 = ColorPicker(title=\"Line Color\", color=points.glyph.line_color)\n",
    "picker1.js_link('color', points.glyph, 'line_color')\n",
    "spinner1 = Spinner(title=\"Circle Size\", low=0, high=60,\n",
    "                   step=5, value=points.glyph.size)\n",
    "spinner1.js_link(\"value\", points.glyph, \"size\")\n",
    "\n",
    "# Add HTML code with styles\n",
    "div = Div(text=\"\"\"\n",
    "<h1> Data Visualization Course 6 </h1>\n",
    "<p> This course aims to demonstrate how to integrate HTML code</p>\n",
    "<a href=\"http://www.univ-rennes2.fr \">A link to the University's website</a>\"\"\", styles={'font-style': 'italic', 'color': '#00AAAA'})\n",
    "\n",
    "par = Paragraph(text=\"You can change the rendering of the elements:\")\n",
    "\n",
    "# Construct the layout\n",
    "layout = column(div, row(plt, column(par, picker1, spinner1)))\n",
    "show(layout)"
   ]
  },
  {
   "cell_type": "code",
   "execution_count": 14,
   "metadata": {},
   "outputs": [
    {
     "data": {
      "text/html": [
       "    <style>\n",
       "        .bk-notebook-logo {\n",
       "            display: block;\n",
       "            width: 20px;\n",
       "            height: 20px;\n",
       "            background-image: url(data:image/png;base64,iVBORw0KGgoAAAANSUhEUgAAABQAAAAUCAYAAACNiR0NAAAABHNCSVQICAgIfAhkiAAAAAlwSFlzAAALEgAACxIB0t1+/AAAABx0RVh0U29mdHdhcmUAQWRvYmUgRmlyZXdvcmtzIENTNui8sowAAAOkSURBVDiNjZRtaJVlGMd/1/08zzln5zjP1LWcU9N0NkN8m2CYjpgQYQXqSs0I84OLIC0hkEKoPtiH3gmKoiJDU7QpLgoLjLIQCpEsNJ1vqUOdO7ppbuec5+V+rj4ctwzd8IIbbi6u+8f1539dt3A78eXC7QizUF7gyV1fD1Yqg4JWz84yffhm0qkFqBogB9rM8tZdtwVsPUhWhGcFJngGeWrPzHm5oaMmkfEg1usvLFyc8jLRqDOMru7AyC8saQr7GG7f5fvDeH7Ej8CM66nIF+8yngt6HWaKh7k49Soy9nXurCi1o3qUbS3zWfrYeQDTB/Qj6kX6Ybhw4B+bOYoLKCC9H3Nu/leUTZ1JdRWkkn2ldcCamzrcf47KKXdAJllSlxAOkRgyHsGC/zRday5Qld9DyoM4/q/rUoy/CXh3jzOu3bHUVZeU+DEn8FInkPBFlu3+nW3Nw0mk6vCDiWg8CeJaxEwuHS3+z5RgY+YBR6V1Z1nxSOfoaPa4LASWxxdNp+VWTk7+4vzaou8v8PN+xo+KY2xsw6une2frhw05CTYOmQvsEhjhWjn0bmXPjpE1+kplmmkP3suftwTubK9Vq22qKmrBhpY4jvd5afdRA3wGjFAgcnTK2s4hY0/GPNIb0nErGMCRxWOOX64Z8RAC4oCXdklmEvcL8o0BfkNK4lUg9HTl+oPlQxdNo3Mg4Nv175e/1LDGzZen30MEjRUtmXSfiTVu1kK8W4txyV6BMKlbgk3lMwYCiusNy9fVfvvwMxv8Ynl6vxoByANLTWplvuj/nF9m2+PDtt1eiHPBr1oIfhCChQMBw6Aw0UulqTKZdfVvfG7VcfIqLG9bcldL/+pdWTLxLUy8Qq38heUIjh4XlzZxzQm19lLFlr8vdQ97rjZVOLf8nclzckbcD4wxXMidpX30sFd37Fv/GtwwhzhxGVAprjbg0gCAEeIgwCZyTV2Z1REEW8O4py0wsjeloKoMr6iCY6dP92H6Vw/oTyICIthibxjm/DfN9lVz8IqtqKYLUXfoKVMVQVVJOElGjrnnUt9T9wbgp8AyYKaGlqingHZU/uG2NTZSVqwHQTWkx9hxjkpWDaCg6Ckj5qebgBVbT3V3NNXMSiWSDdGV3hrtzla7J+duwPOToIg42ChPQOQjspnSlp1V+Gjdged7+8UN5CRAV7a5EdFNwCjEaBR27b3W890TE7g24NAP/mMDXRWrGoFPQI9ls/MWO2dWFAar/xcOIImbbpA3zgAAAABJRU5ErkJggg==);\n",
       "        }\n",
       "    </style>\n",
       "    <div>\n",
       "        <a href=\"https://bokeh.org\" target=\"_blank\" class=\"bk-notebook-logo\"></a>\n",
       "        <span id=\"f47bffcf-f7b1-43ae-a681-e86feb7d65f8\">Loading BokehJS ...</span>\n",
       "    </div>\n"
      ]
     },
     "metadata": {},
     "output_type": "display_data"
    },
    {
     "data": {
      "application/javascript": "(function(root) {\n  function now() {\n    return new Date();\n  }\n\n  const force = true;\n\n  if (typeof root._bokeh_onload_callbacks === \"undefined\" || force === true) {\n    root._bokeh_onload_callbacks = [];\n    root._bokeh_is_loading = undefined;\n  }\n\nconst JS_MIME_TYPE = 'application/javascript';\n  const HTML_MIME_TYPE = 'text/html';\n  const EXEC_MIME_TYPE = 'application/vnd.bokehjs_exec.v0+json';\n  const CLASS_NAME = 'output_bokeh rendered_html';\n\n  /**\n   * Render data to the DOM node\n   */\n  function render(props, node) {\n    const script = document.createElement(\"script\");\n    node.appendChild(script);\n  }\n\n  /**\n   * Handle when an output is cleared or removed\n   */\n  function handleClearOutput(event, handle) {\n    function drop(id) {\n      const view = Bokeh.index.get_by_id(id)\n      if (view != null) {\n        view.model.document.clear()\n        Bokeh.index.delete(view)\n      }\n    }\n\n    const cell = handle.cell;\n\n    const id = cell.output_area._bokeh_element_id;\n    const server_id = cell.output_area._bokeh_server_id;\n\n    // Clean up Bokeh references\n    if (id != null) {\n      drop(id)\n    }\n\n    if (server_id !== undefined) {\n      // Clean up Bokeh references\n      const cmd_clean = \"from bokeh.io.state import curstate; print(curstate().uuid_to_server['\" + server_id + \"'].get_sessions()[0].document.roots[0]._id)\";\n      cell.notebook.kernel.execute(cmd_clean, {\n        iopub: {\n          output: function(msg) {\n            const id = msg.content.text.trim()\n            drop(id)\n          }\n        }\n      });\n      // Destroy server and session\n      const cmd_destroy = \"import bokeh.io.notebook as ion; ion.destroy_server('\" + server_id + \"')\";\n      cell.notebook.kernel.execute(cmd_destroy);\n    }\n  }\n\n  /**\n   * Handle when a new output is added\n   */\n  function handleAddOutput(event, handle) {\n    const output_area = handle.output_area;\n    const output = handle.output;\n\n    // limit handleAddOutput to display_data with EXEC_MIME_TYPE content only\n    if ((output.output_type != \"display_data\") || (!Object.prototype.hasOwnProperty.call(output.data, EXEC_MIME_TYPE))) {\n      return\n    }\n\n    const toinsert = output_area.element.find(\".\" + CLASS_NAME.split(' ')[0]);\n\n    if (output.metadata[EXEC_MIME_TYPE][\"id\"] !== undefined) {\n      toinsert[toinsert.length - 1].firstChild.textContent = output.data[JS_MIME_TYPE];\n      // store reference to embed id on output_area\n      output_area._bokeh_element_id = output.metadata[EXEC_MIME_TYPE][\"id\"];\n    }\n    if (output.metadata[EXEC_MIME_TYPE][\"server_id\"] !== undefined) {\n      const bk_div = document.createElement(\"div\");\n      bk_div.innerHTML = output.data[HTML_MIME_TYPE];\n      const script_attrs = bk_div.children[0].attributes;\n      for (let i = 0; i < script_attrs.length; i++) {\n        toinsert[toinsert.length - 1].firstChild.setAttribute(script_attrs[i].name, script_attrs[i].value);\n        toinsert[toinsert.length - 1].firstChild.textContent = bk_div.children[0].textContent\n      }\n      // store reference to server id on output_area\n      output_area._bokeh_server_id = output.metadata[EXEC_MIME_TYPE][\"server_id\"];\n    }\n  }\n\n  function register_renderer(events, OutputArea) {\n\n    function append_mime(data, metadata, element) {\n      // create a DOM node to render to\n      const toinsert = this.create_output_subarea(\n        metadata,\n        CLASS_NAME,\n        EXEC_MIME_TYPE\n      );\n      this.keyboard_manager.register_events(toinsert);\n      // Render to node\n      const props = {data: data, metadata: metadata[EXEC_MIME_TYPE]};\n      render(props, toinsert[toinsert.length - 1]);\n      element.append(toinsert);\n      return toinsert\n    }\n\n    /* Handle when an output is cleared or removed */\n    events.on('clear_output.CodeCell', handleClearOutput);\n    events.on('delete.Cell', handleClearOutput);\n\n    /* Handle when a new output is added */\n    events.on('output_added.OutputArea', handleAddOutput);\n\n    /**\n     * Register the mime type and append_mime function with output_area\n     */\n    OutputArea.prototype.register_mime_type(EXEC_MIME_TYPE, append_mime, {\n      /* Is output safe? */\n      safe: true,\n      /* Index of renderer in `output_area.display_order` */\n      index: 0\n    });\n  }\n\n  // register the mime type if in Jupyter Notebook environment and previously unregistered\n  if (root.Jupyter !== undefined) {\n    const events = require('base/js/events');\n    const OutputArea = require('notebook/js/outputarea').OutputArea;\n\n    if (OutputArea.prototype.mime_types().indexOf(EXEC_MIME_TYPE) == -1) {\n      register_renderer(events, OutputArea);\n    }\n  }\n  if (typeof (root._bokeh_timeout) === \"undefined\" || force === true) {\n    root._bokeh_timeout = Date.now() + 5000;\n    root._bokeh_failed_load = false;\n  }\n\n  const NB_LOAD_WARNING = {'data': {'text/html':\n     \"<div style='background-color: #fdd'>\\n\"+\n     \"<p>\\n\"+\n     \"BokehJS does not appear to have successfully loaded. If loading BokehJS from CDN, this \\n\"+\n     \"may be due to a slow or bad network connection. Possible fixes:\\n\"+\n     \"</p>\\n\"+\n     \"<ul>\\n\"+\n     \"<li>re-rerun `output_notebook()` to attempt to load from CDN again, or</li>\\n\"+\n     \"<li>use INLINE resources instead, as so:</li>\\n\"+\n     \"</ul>\\n\"+\n     \"<code>\\n\"+\n     \"from bokeh.resources import INLINE\\n\"+\n     \"output_notebook(resources=INLINE)\\n\"+\n     \"</code>\\n\"+\n     \"</div>\"}};\n\n  function display_loaded() {\n    const el = document.getElementById(\"f47bffcf-f7b1-43ae-a681-e86feb7d65f8\");\n    if (el != null) {\n      el.textContent = \"BokehJS is loading...\";\n    }\n    if (root.Bokeh !== undefined) {\n      if (el != null) {\n        el.textContent = \"BokehJS \" + root.Bokeh.version + \" successfully loaded.\";\n      }\n    } else if (Date.now() < root._bokeh_timeout) {\n      setTimeout(display_loaded, 100)\n    }\n  }\n\n  function run_callbacks() {\n    try {\n      root._bokeh_onload_callbacks.forEach(function(callback) {\n        if (callback != null)\n          callback();\n      });\n    } finally {\n      delete root._bokeh_onload_callbacks\n    }\n    console.debug(\"Bokeh: all callbacks have finished\");\n  }\n\n  function load_libs(css_urls, js_urls, callback) {\n    if (css_urls == null) css_urls = [];\n    if (js_urls == null) js_urls = [];\n\n    root._bokeh_onload_callbacks.push(callback);\n    if (root._bokeh_is_loading > 0) {\n      console.debug(\"Bokeh: BokehJS is being loaded, scheduling callback at\", now());\n      return null;\n    }\n    if (js_urls == null || js_urls.length === 0) {\n      run_callbacks();\n      return null;\n    }\n    console.debug(\"Bokeh: BokehJS not loaded, scheduling load and callback at\", now());\n    root._bokeh_is_loading = css_urls.length + js_urls.length;\n\n    function on_load() {\n      root._bokeh_is_loading--;\n      if (root._bokeh_is_loading === 0) {\n        console.debug(\"Bokeh: all BokehJS libraries/stylesheets loaded\");\n        run_callbacks()\n      }\n    }\n\n    function on_error(url) {\n      console.error(\"failed to load \" + url);\n    }\n\n    for (let i = 0; i < css_urls.length; i++) {\n      const url = css_urls[i];\n      const element = document.createElement(\"link\");\n      element.onload = on_load;\n      element.onerror = on_error.bind(null, url);\n      element.rel = \"stylesheet\";\n      element.type = \"text/css\";\n      element.href = url;\n      console.debug(\"Bokeh: injecting link tag for BokehJS stylesheet: \", url);\n      document.body.appendChild(element);\n    }\n\n    for (let i = 0; i < js_urls.length; i++) {\n      const url = js_urls[i];\n      const element = document.createElement('script');\n      element.onload = on_load;\n      element.onerror = on_error.bind(null, url);\n      element.async = false;\n      element.src = url;\n      console.debug(\"Bokeh: injecting script tag for BokehJS library: \", url);\n      document.head.appendChild(element);\n    }\n  };\n\n  function inject_raw_css(css) {\n    const element = document.createElement(\"style\");\n    element.appendChild(document.createTextNode(css));\n    document.body.appendChild(element);\n  }\n\n  const js_urls = [\"https://cdn.bokeh.org/bokeh/release/bokeh-3.3.4.min.js\", \"https://cdn.bokeh.org/bokeh/release/bokeh-gl-3.3.4.min.js\", \"https://cdn.bokeh.org/bokeh/release/bokeh-widgets-3.3.4.min.js\", \"https://cdn.bokeh.org/bokeh/release/bokeh-tables-3.3.4.min.js\", \"https://cdn.bokeh.org/bokeh/release/bokeh-mathjax-3.3.4.min.js\"];\n  const css_urls = [];\n\n  const inline_js = [    function(Bokeh) {\n      Bokeh.set_log_level(\"info\");\n    },\nfunction(Bokeh) {\n    }\n  ];\n\n  function run_inline_js() {\n    if (root.Bokeh !== undefined || force === true) {\n          for (let i = 0; i < inline_js.length; i++) {\n      inline_js[i].call(root, root.Bokeh);\n    }\nif (force === true) {\n        display_loaded();\n      }} else if (Date.now() < root._bokeh_timeout) {\n      setTimeout(run_inline_js, 100);\n    } else if (!root._bokeh_failed_load) {\n      console.log(\"Bokeh: BokehJS failed to load within specified timeout.\");\n      root._bokeh_failed_load = true;\n    } else if (force !== true) {\n      const cell = $(document.getElementById(\"f47bffcf-f7b1-43ae-a681-e86feb7d65f8\")).parents('.cell').data().cell;\n      cell.output_area.append_execute_result(NB_LOAD_WARNING)\n    }\n  }\n\n  if (root._bokeh_is_loading === 0) {\n    console.debug(\"Bokeh: BokehJS loaded, going straight to plotting\");\n    run_inline_js();\n  } else {\n    load_libs(css_urls, js_urls, function() {\n      console.debug(\"Bokeh: BokehJS plotting callback run at\", now());\n      run_inline_js();\n    });\n  }\n}(window));",
      "application/vnd.bokehjs_load.v0+json": ""
     },
     "metadata": {},
     "output_type": "display_data"
    }
   ],
   "source": [
    "from bokeh.io import output_notebook\n",
    "output_notebook()"
   ]
  },
  {
   "cell_type": "code",
   "execution_count": 15,
   "metadata": {},
   "outputs": [
    {
     "data": {
      "text/html": [
       "<div>\n",
       "<style scoped>\n",
       "    .dataframe tbody tr th:only-of-type {\n",
       "        vertical-align: middle;\n",
       "    }\n",
       "\n",
       "    .dataframe tbody tr th {\n",
       "        vertical-align: top;\n",
       "    }\n",
       "\n",
       "    .dataframe thead th {\n",
       "        text-align: right;\n",
       "    }\n",
       "</style>\n",
       "<table border=\"1\" class=\"dataframe\">\n",
       "  <thead>\n",
       "    <tr style=\"text-align: right;\">\n",
       "      <th></th>\n",
       "      <th>ANNEE</th>\n",
       "      <th>POPULATION</th>\n",
       "      <th>COLL_DECHETS_ENS</th>\n",
       "      <th>COLL_OM_HAB</th>\n",
       "      <th>COLL_DMREC_HAB</th>\n",
       "      <th>COLL_DECHETERIESENC_HAB</th>\n",
       "      <th>COLL_VEG_HAB</th>\n",
       "    </tr>\n",
       "  </thead>\n",
       "  <tbody>\n",
       "    <tr>\n",
       "      <th>16</th>\n",
       "      <td>2002</td>\n",
       "      <td>385130</td>\n",
       "      <td>181926.000000</td>\n",
       "      <td>301.0</td>\n",
       "      <td>43.0</td>\n",
       "      <td>72.0</td>\n",
       "      <td>56.0</td>\n",
       "    </tr>\n",
       "    <tr>\n",
       "      <th>3</th>\n",
       "      <td>2003</td>\n",
       "      <td>392410</td>\n",
       "      <td>180593.640000</td>\n",
       "      <td>266.0</td>\n",
       "      <td>65.0</td>\n",
       "      <td>78.0</td>\n",
       "      <td>52.0</td>\n",
       "    </tr>\n",
       "    <tr>\n",
       "      <th>4</th>\n",
       "      <td>2004</td>\n",
       "      <td>396091</td>\n",
       "      <td>187154.065000</td>\n",
       "      <td>236.0</td>\n",
       "      <td>82.0</td>\n",
       "      <td>81.0</td>\n",
       "      <td>73.0</td>\n",
       "    </tr>\n",
       "    <tr>\n",
       "      <th>11</th>\n",
       "      <td>2005</td>\n",
       "      <td>399819</td>\n",
       "      <td>186832.463998</td>\n",
       "      <td>231.0</td>\n",
       "      <td>86.0</td>\n",
       "      <td>87.0</td>\n",
       "      <td>62.0</td>\n",
       "    </tr>\n",
       "    <tr>\n",
       "      <th>9</th>\n",
       "      <td>2006</td>\n",
       "      <td>403925</td>\n",
       "      <td>190536.803994</td>\n",
       "      <td>224.0</td>\n",
       "      <td>89.0</td>\n",
       "      <td>87.0</td>\n",
       "      <td>72.0</td>\n",
       "    </tr>\n",
       "  </tbody>\n",
       "</table>\n",
       "</div>"
      ],
      "text/plain": [
       "    ANNEE  POPULATION  COLL_DECHETS_ENS  COLL_OM_HAB  COLL_DMREC_HAB  \\\n",
       "16   2002      385130     181926.000000        301.0            43.0   \n",
       "3    2003      392410     180593.640000        266.0            65.0   \n",
       "4    2004      396091     187154.065000        236.0            82.0   \n",
       "11   2005      399819     186832.463998        231.0            86.0   \n",
       "9    2006      403925     190536.803994        224.0            89.0   \n",
       "\n",
       "    COLL_DECHETERIESENC_HAB  COLL_VEG_HAB  \n",
       "16                     72.0          56.0  \n",
       "3                      78.0          52.0  \n",
       "4                      81.0          73.0  \n",
       "11                     87.0          62.0  \n",
       "9                      87.0          72.0  "
      ]
     },
     "execution_count": 15,
     "metadata": {},
     "output_type": "execute_result"
    }
   ],
   "source": [
    "import pandas as pd\n",
    "from bokeh.models import ColumnDataSource\n",
    "df_waste = pd.read_csv(\"stats-collecte-dechets.csv\", delimiter=\";\")\n",
    "df_waste = df_waste.astype({'ANNEE':'int'})\n",
    "df_waste = df_waste.sort_values('ANNEE')\n",
    "data_waste = ColumnDataSource(data=df_waste)\n",
    "df_waste.head(5)"
   ]
  },
  {
   "cell_type": "code",
   "execution_count": 16,
   "metadata": {},
   "outputs": [
    {
     "data": {
      "text/html": [
       "<div>\n",
       "<style scoped>\n",
       "    .dataframe tbody tr th:only-of-type {\n",
       "        vertical-align: middle;\n",
       "    }\n",
       "\n",
       "    .dataframe tbody tr th {\n",
       "        vertical-align: top;\n",
       "    }\n",
       "\n",
       "    .dataframe thead th {\n",
       "        text-align: right;\n",
       "    }\n",
       "</style>\n",
       "<table border=\"1\" class=\"dataframe\">\n",
       "  <thead>\n",
       "    <tr style=\"text-align: right;\">\n",
       "      <th>ANNEE</th>\n",
       "      <th>2002</th>\n",
       "      <th>2003</th>\n",
       "      <th>2004</th>\n",
       "      <th>2005</th>\n",
       "      <th>2006</th>\n",
       "      <th>2007</th>\n",
       "      <th>2008</th>\n",
       "      <th>2009</th>\n",
       "      <th>2010</th>\n",
       "      <th>2011</th>\n",
       "      <th>...</th>\n",
       "      <th>2015</th>\n",
       "      <th>2016</th>\n",
       "      <th>2017</th>\n",
       "      <th>2018</th>\n",
       "      <th>2019</th>\n",
       "      <th>2020</th>\n",
       "      <th>2021</th>\n",
       "      <th>Color</th>\n",
       "      <th>Label</th>\n",
       "      <th>Value</th>\n",
       "    </tr>\n",
       "  </thead>\n",
       "  <tbody>\n",
       "    <tr>\n",
       "      <th>COLL_OM_HAB</th>\n",
       "      <td>301.0</td>\n",
       "      <td>266.0</td>\n",
       "      <td>236.0</td>\n",
       "      <td>231.0</td>\n",
       "      <td>224.0</td>\n",
       "      <td>216.0</td>\n",
       "      <td>228.0</td>\n",
       "      <td>224.0</td>\n",
       "      <td>216.0</td>\n",
       "      <td>215.0</td>\n",
       "      <td>...</td>\n",
       "      <td>202.0</td>\n",
       "      <td>199.0</td>\n",
       "      <td>192.0</td>\n",
       "      <td>188.0</td>\n",
       "      <td>183.0</td>\n",
       "      <td>180.0</td>\n",
       "      <td>181.0</td>\n",
       "      <td>grey</td>\n",
       "      <td>Household Waste</td>\n",
       "      <td>181.0</td>\n",
       "    </tr>\n",
       "    <tr>\n",
       "      <th>COLL_DMREC_HAB</th>\n",
       "      <td>43.0</td>\n",
       "      <td>65.0</td>\n",
       "      <td>82.0</td>\n",
       "      <td>86.0</td>\n",
       "      <td>89.0</td>\n",
       "      <td>89.0</td>\n",
       "      <td>96.0</td>\n",
       "      <td>96.0</td>\n",
       "      <td>94.0</td>\n",
       "      <td>96.0</td>\n",
       "      <td>...</td>\n",
       "      <td>89.0</td>\n",
       "      <td>90.0</td>\n",
       "      <td>93.0</td>\n",
       "      <td>97.0</td>\n",
       "      <td>99.0</td>\n",
       "      <td>98.0</td>\n",
       "      <td>101.0</td>\n",
       "      <td>yellow</td>\n",
       "      <td>Recyclable Waste</td>\n",
       "      <td>101.0</td>\n",
       "    </tr>\n",
       "    <tr>\n",
       "      <th>COLL_DECHETERIESENC_HAB</th>\n",
       "      <td>72.0</td>\n",
       "      <td>78.0</td>\n",
       "      <td>81.0</td>\n",
       "      <td>87.0</td>\n",
       "      <td>87.0</td>\n",
       "      <td>93.0</td>\n",
       "      <td>99.0</td>\n",
       "      <td>101.0</td>\n",
       "      <td>107.0</td>\n",
       "      <td>109.0</td>\n",
       "      <td>...</td>\n",
       "      <td>116.0</td>\n",
       "      <td>119.0</td>\n",
       "      <td>116.0</td>\n",
       "      <td>119.0</td>\n",
       "      <td>121.0</td>\n",
       "      <td>117.0</td>\n",
       "      <td>137.0</td>\n",
       "      <td>orange</td>\n",
       "      <td>Recycling Center</td>\n",
       "      <td>137.0</td>\n",
       "    </tr>\n",
       "    <tr>\n",
       "      <th>COLL_VEG_HAB</th>\n",
       "      <td>56.0</td>\n",
       "      <td>52.0</td>\n",
       "      <td>73.0</td>\n",
       "      <td>62.0</td>\n",
       "      <td>72.0</td>\n",
       "      <td>84.0</td>\n",
       "      <td>83.0</td>\n",
       "      <td>86.0</td>\n",
       "      <td>68.0</td>\n",
       "      <td>73.0</td>\n",
       "      <td>...</td>\n",
       "      <td>71.0</td>\n",
       "      <td>69.0</td>\n",
       "      <td>65.0</td>\n",
       "      <td>64.0</td>\n",
       "      <td>66.0</td>\n",
       "      <td>56.0</td>\n",
       "      <td>67.0</td>\n",
       "      <td>green</td>\n",
       "      <td>Green Waste</td>\n",
       "      <td>67.0</td>\n",
       "    </tr>\n",
       "  </tbody>\n",
       "</table>\n",
       "<p>4 rows × 23 columns</p>\n",
       "</div>"
      ],
      "text/plain": [
       "ANNEE                     2002   2003   2004   2005   2006   2007   2008  \\\n",
       "COLL_OM_HAB              301.0  266.0  236.0  231.0  224.0  216.0  228.0   \n",
       "COLL_DMREC_HAB            43.0   65.0   82.0   86.0   89.0   89.0   96.0   \n",
       "COLL_DECHETERIESENC_HAB   72.0   78.0   81.0   87.0   87.0   93.0   99.0   \n",
       "COLL_VEG_HAB              56.0   52.0   73.0   62.0   72.0   84.0   83.0   \n",
       "\n",
       "ANNEE                     2009   2010   2011  ...   2015   2016   2017   2018  \\\n",
       "COLL_OM_HAB              224.0  216.0  215.0  ...  202.0  199.0  192.0  188.0   \n",
       "COLL_DMREC_HAB            96.0   94.0   96.0  ...   89.0   90.0   93.0   97.0   \n",
       "COLL_DECHETERIESENC_HAB  101.0  107.0  109.0  ...  116.0  119.0  116.0  119.0   \n",
       "COLL_VEG_HAB              86.0   68.0   73.0  ...   71.0   69.0   65.0   64.0   \n",
       "\n",
       "ANNEE                     2019   2020   2021   Color             Label  Value  \n",
       "COLL_OM_HAB              183.0  180.0  181.0    grey   Household Waste  181.0  \n",
       "COLL_DMREC_HAB            99.0   98.0  101.0  yellow  Recyclable Waste  101.0  \n",
       "COLL_DECHETERIESENC_HAB  121.0  117.0  137.0  orange  Recycling Center  137.0  \n",
       "COLL_VEG_HAB              66.0   56.0   67.0   green       Green Waste   67.0  \n",
       "\n",
       "[4 rows x 23 columns]"
      ]
     },
     "execution_count": 16,
     "metadata": {},
     "output_type": "execute_result"
    }
   ],
   "source": [
    "df_waste[\"ANNEE\"] = df_waste[\"ANNEE\"].astype(\"str\")\n",
    "df_waste_year = df_waste.set_index(\"ANNEE\")\n",
    "df_waste_year = df_waste_year.loc[:, ~df_waste_year.columns.isin([\"POPULATION\", \"COLL_DECHETS_ENS\"])].T\n",
    "\n",
    "color = [\"grey\", \"yellow\", \"orange\", \"green\"]\n",
    "label = [\"Household Waste\", \"Recyclable Waste\", \"Recycling Center\", \"Green Waste\"]\n",
    "value = df_waste_year.loc[:, \"2021\"]\n",
    "\n",
    "df_waste_year['Color'] = color\n",
    "df_waste_year['Label'] = label\n",
    "df_waste_year['Value'] = value\n",
    "\n",
    "\n",
    "data_waste_year = ColumnDataSource(data=df_waste_year)\n",
    "\n",
    "df_waste_year"
   ]
  },
  {
   "cell_type": "code",
   "execution_count": 17,
   "metadata": {},
   "outputs": [
    {
     "data": {
      "text/html": [
       "\n",
       "  <div id=\"f2bc0b41-1900-46b3-a22d-e9264d1e8179\" data-root-id=\"p1778\" style=\"display: contents;\"></div>\n"
      ]
     },
     "metadata": {},
     "output_type": "display_data"
    },
    {
     "data": {
      "application/javascript": "(function(root) {\n  function embed_document(root) {\n  const docs_json = {\"e825d627-6cea-4363-b7de-bad44b51df21\":{\"version\":\"3.3.4\",\"title\":\"Bokeh Application\",\"roots\":[{\"type\":\"object\",\"name\":\"Column\",\"id\":\"p1778\",\"attributes\":{\"children\":[{\"type\":\"object\",\"name\":\"Div\",\"id\":\"p1777\",\"attributes\":{\"text\":\"\\n<h1> Waste collection in Rennes Metropole from 2002 to 2022 </h1>\\n<p> This data is provided by \\n<a href=\\\"https://data.rennesmetropole.fr/explore/dataset/stats-collecte-dechets/table/\\\"> Rennes Metropole open data</a> </p>\"}},{\"type\":\"object\",\"name\":\"Tabs\",\"id\":\"p1776\",\"attributes\":{\"tabs\":[{\"type\":\"object\",\"name\":\"TabPanel\",\"id\":\"p1726\",\"attributes\":{\"title\":\"Total Waste Evolution\",\"child\":{\"type\":\"object\",\"name\":\"Row\",\"id\":\"p1725\",\"attributes\":{\"children\":[{\"type\":\"object\",\"name\":\"Figure\",\"id\":\"p1601\",\"attributes\":{\"x_range\":{\"type\":\"object\",\"name\":\"DataRange1d\",\"id\":\"p1602\"},\"y_range\":{\"type\":\"object\",\"name\":\"DataRange1d\",\"id\":\"p1603\"},\"x_scale\":{\"type\":\"object\",\"name\":\"LinearScale\",\"id\":\"p1611\"},\"y_scale\":{\"type\":\"object\",\"name\":\"LinearScale\",\"id\":\"p1612\"},\"title\":{\"type\":\"object\",\"name\":\"Title\",\"id\":\"p1604\",\"attributes\":{\"text\":\"Collected Waste in Rennes M\\u00e9tropole\"}},\"renderers\":[{\"type\":\"object\",\"name\":\"GlyphRenderer\",\"id\":\"p1640\",\"attributes\":{\"data_source\":{\"type\":\"object\",\"name\":\"ColumnDataSource\",\"id\":\"p1595\",\"attributes\":{\"selected\":{\"type\":\"object\",\"name\":\"Selection\",\"id\":\"p1596\",\"attributes\":{\"indices\":[],\"line_indices\":[]}},\"selection_policy\":{\"type\":\"object\",\"name\":\"UnionRenderers\",\"id\":\"p1597\"},\"data\":{\"type\":\"map\",\"entries\":[[\"index\",{\"type\":\"ndarray\",\"array\":{\"type\":\"bytes\",\"data\":\"EAAAAAMAAAAEAAAACwAAAAkAAAAFAAAABgAAAAwAAAARAAAAAAAAAA0AAAAHAAAAAQAAAAIAAAAKAAAADgAAABIAAAATAAAADwAAAAgAAAA=\"},\"shape\":[20],\"dtype\":\"int32\",\"order\":\"little\"}],[\"ANNEE\",{\"type\":\"ndarray\",\"array\":{\"type\":\"bytes\",\"data\":\"0gcAANMHAADUBwAA1QcAANYHAADXBwAA2AcAANkHAADaBwAA2wcAANwHAADdBwAA3gcAAN8HAADgBwAA4QcAAOIHAADjBwAA5AcAAOUHAAA=\"},\"shape\":[20],\"dtype\":\"int32\",\"order\":\"little\"}],[\"POPULATION\",{\"type\":\"ndarray\",\"array\":{\"type\":\"bytes\",\"data\":\"auAFANr8BQA7CwYAyxkGANUpBgCcVwYAEuQFAFrrBQB29gUA5gMGALskBgCiNQYA6U4GAB9lBgC1fQYAUbIGADjDBgDF0wYAsuQGAMj6BgA=\"},\"shape\":[20],\"dtype\":\"int32\",\"order\":\"little\"}],[\"COLL_DECHETS_ENS\",{\"type\":\"ndarray\",\"array\":{\"type\":\"bytes\",\"data\":\"AAAAADA1BkHsUbgejQsGQVK4HoWQ2AZBBGxEtoPOBkG8o5RuRkIHQeW2mBn2bwhBXmNVOfvdB0HMmBRqT/gHQUewH9sCKgdBwcqhxdm4B0GpATj3XaYHQZHtfD/H9wdBea9amcHDCEH/AMdt1nAIQVJrmnf/yAhBC+TO3D/4CEFGX0FaH0gJQQqre661jQlBVikqn2PjCEFJTnZKtxELQQ==\"},\"shape\":[20],\"dtype\":\"float64\",\"order\":\"little\"}],[\"COLL_OM_HAB\",{\"type\":\"ndarray\",\"array\":{\"type\":\"bytes\",\"data\":\"AAAAAADQckAAAAAAAKBwQAAAAAAAgG1AAAAAAADgbEAAAAAAAABsQAAAAAAAAGtAAAAAAACAbEAAAAAAAABsQAAAAAAAAGtAAAAAAADgakAAAAAAAGBqQAAAAAAAwGlAAAAAAACAaUAAAAAAAEBpQAAAAAAA4GhAAAAAAAAAaEAAAAAAAIBnQAAAAAAA4GZAAAAAAACAZkAAAAAAAKBmQA==\"},\"shape\":[20],\"dtype\":\"float64\",\"order\":\"little\"}],[\"COLL_DMREC_HAB\",{\"type\":\"ndarray\",\"array\":{\"type\":\"bytes\",\"data\":\"AAAAAACARUAAAAAAAEBQQAAAAAAAgFRAAAAAAACAVUAAAAAAAEBWQAAAAAAAQFZAAAAAAAAAWEAAAAAAAABYQAAAAAAAgFdAAAAAAAAAWEAAAAAAAEBXQAAAAAAAwFZAAAAAAADAVkAAAAAAAEBWQAAAAAAAgFZAAAAAAABAV0AAAAAAAEBYQAAAAAAAwFhAAAAAAACAWEAAAAAAAEBZQA==\"},\"shape\":[20],\"dtype\":\"float64\",\"order\":\"little\"}],[\"COLL_DECHETERIESENC_HAB\",{\"type\":\"ndarray\",\"array\":{\"type\":\"bytes\",\"data\":\"AAAAAAAAUkAAAAAAAIBTQAAAAAAAQFRAAAAAAADAVUAAAAAAAMBVQAAAAAAAQFdAAAAAAADAWEAAAAAAAEBZQAAAAAAAwFpAAAAAAABAW0AAAAAAAABaQAAAAAAAwFtAAAAAAABAXUAAAAAAAABdQAAAAAAAwF1AAAAAAAAAXUAAAAAAAMBdQAAAAAAAQF5AAAAAAABAXUAAAAAAACBhQA==\"},\"shape\":[20],\"dtype\":\"float64\",\"order\":\"little\"}],[\"COLL_VEG_HAB\",{\"type\":\"ndarray\",\"array\":{\"type\":\"bytes\",\"data\":\"AAAAAAAATEAAAAAAAABKQAAAAAAAQFJAAAAAAAAAT0AAAAAAAABSQAAAAAAAAFVAAAAAAADAVEAAAAAAAIBVQAAAAAAAAFFAAAAAAABAUkAAAAAAAEBSQAAAAAAAQFJAAAAAAACAU0AAAAAAAMBRQAAAAAAAQFFAAAAAAABAUEAAAAAAAABQQAAAAAAAgFBAAAAAAAAATEAAAAAAAMBQQA==\"},\"shape\":[20],\"dtype\":\"float64\",\"order\":\"little\"}]]}}},\"view\":{\"type\":\"object\",\"name\":\"CDSView\",\"id\":\"p1641\",\"attributes\":{\"filter\":{\"type\":\"object\",\"name\":\"AllIndices\",\"id\":\"p1642\"}}},\"glyph\":{\"type\":\"object\",\"name\":\"Line\",\"id\":\"p1637\",\"attributes\":{\"x\":{\"type\":\"field\",\"field\":\"ANNEE\"},\"y\":{\"type\":\"field\",\"field\":\"COLL_OM_HAB\"},\"line_color\":\"#66c2a5\",\"line_alpha\":0.8,\"line_width\":5}},\"nonselection_glyph\":{\"type\":\"object\",\"name\":\"Line\",\"id\":\"p1638\",\"attributes\":{\"x\":{\"type\":\"field\",\"field\":\"ANNEE\"},\"y\":{\"type\":\"field\",\"field\":\"COLL_OM_HAB\"},\"line_color\":\"#66c2a5\",\"line_alpha\":0.1,\"line_width\":5}},\"muted_glyph\":{\"type\":\"object\",\"name\":\"Line\",\"id\":\"p1639\",\"attributes\":{\"x\":{\"type\":\"field\",\"field\":\"ANNEE\"},\"y\":{\"type\":\"field\",\"field\":\"COLL_OM_HAB\"},\"line_color\":\"#66c2a5\",\"line_alpha\":0.2,\"line_width\":5}}}},{\"type\":\"object\",\"name\":\"GlyphRenderer\",\"id\":\"p1651\",\"attributes\":{\"data_source\":{\"id\":\"p1595\"},\"view\":{\"type\":\"object\",\"name\":\"CDSView\",\"id\":\"p1652\",\"attributes\":{\"filter\":{\"type\":\"object\",\"name\":\"AllIndices\",\"id\":\"p1653\"}}},\"glyph\":{\"type\":\"object\",\"name\":\"Line\",\"id\":\"p1648\",\"attributes\":{\"x\":{\"type\":\"field\",\"field\":\"ANNEE\"},\"y\":{\"type\":\"field\",\"field\":\"COLL_DMREC_HAB\"},\"line_color\":\"#fc8d62\",\"line_alpha\":0.8,\"line_width\":5}},\"nonselection_glyph\":{\"type\":\"object\",\"name\":\"Line\",\"id\":\"p1649\",\"attributes\":{\"x\":{\"type\":\"field\",\"field\":\"ANNEE\"},\"y\":{\"type\":\"field\",\"field\":\"COLL_DMREC_HAB\"},\"line_color\":\"#fc8d62\",\"line_alpha\":0.1,\"line_width\":5}},\"muted_glyph\":{\"type\":\"object\",\"name\":\"Line\",\"id\":\"p1650\",\"attributes\":{\"x\":{\"type\":\"field\",\"field\":\"ANNEE\"},\"y\":{\"type\":\"field\",\"field\":\"COLL_DMREC_HAB\"},\"line_color\":\"#fc8d62\",\"line_alpha\":0.2,\"line_width\":5}}}},{\"type\":\"object\",\"name\":\"GlyphRenderer\",\"id\":\"p1661\",\"attributes\":{\"data_source\":{\"id\":\"p1595\"},\"view\":{\"type\":\"object\",\"name\":\"CDSView\",\"id\":\"p1662\",\"attributes\":{\"filter\":{\"type\":\"object\",\"name\":\"AllIndices\",\"id\":\"p1663\"}}},\"glyph\":{\"type\":\"object\",\"name\":\"Line\",\"id\":\"p1658\",\"attributes\":{\"x\":{\"type\":\"field\",\"field\":\"ANNEE\"},\"y\":{\"type\":\"field\",\"field\":\"COLL_VEG_HAB\"},\"line_color\":\"#8da0cb\",\"line_alpha\":0.8,\"line_width\":5}},\"nonselection_glyph\":{\"type\":\"object\",\"name\":\"Line\",\"id\":\"p1659\",\"attributes\":{\"x\":{\"type\":\"field\",\"field\":\"ANNEE\"},\"y\":{\"type\":\"field\",\"field\":\"COLL_VEG_HAB\"},\"line_color\":\"#8da0cb\",\"line_alpha\":0.1,\"line_width\":5}},\"muted_glyph\":{\"type\":\"object\",\"name\":\"Line\",\"id\":\"p1660\",\"attributes\":{\"x\":{\"type\":\"field\",\"field\":\"ANNEE\"},\"y\":{\"type\":\"field\",\"field\":\"COLL_VEG_HAB\"},\"line_color\":\"#8da0cb\",\"line_alpha\":0.2,\"line_width\":5}}}},{\"type\":\"object\",\"name\":\"GlyphRenderer\",\"id\":\"p1671\",\"attributes\":{\"data_source\":{\"id\":\"p1595\"},\"view\":{\"type\":\"object\",\"name\":\"CDSView\",\"id\":\"p1672\",\"attributes\":{\"filter\":{\"type\":\"object\",\"name\":\"AllIndices\",\"id\":\"p1673\"}}},\"glyph\":{\"type\":\"object\",\"name\":\"Line\",\"id\":\"p1668\",\"attributes\":{\"x\":{\"type\":\"field\",\"field\":\"ANNEE\"},\"y\":{\"type\":\"field\",\"field\":\"COLL_DECHETERIESENC_HAB\"},\"line_color\":\"#e78ac3\",\"line_alpha\":0.8,\"line_width\":5}},\"nonselection_glyph\":{\"type\":\"object\",\"name\":\"Line\",\"id\":\"p1669\",\"attributes\":{\"x\":{\"type\":\"field\",\"field\":\"ANNEE\"},\"y\":{\"type\":\"field\",\"field\":\"COLL_DECHETERIESENC_HAB\"},\"line_color\":\"#e78ac3\",\"line_alpha\":0.1,\"line_width\":5}},\"muted_glyph\":{\"type\":\"object\",\"name\":\"Line\",\"id\":\"p1670\",\"attributes\":{\"x\":{\"type\":\"field\",\"field\":\"ANNEE\"},\"y\":{\"type\":\"field\",\"field\":\"COLL_DECHETERIESENC_HAB\"},\"line_color\":\"#e78ac3\",\"line_alpha\":0.2,\"line_width\":5}}}}],\"toolbar\":{\"type\":\"object\",\"name\":\"Toolbar\",\"id\":\"p1610\",\"attributes\":{\"tools\":[{\"type\":\"object\",\"name\":\"PanTool\",\"id\":\"p1623\"},{\"type\":\"object\",\"name\":\"WheelZoomTool\",\"id\":\"p1624\",\"attributes\":{\"renderers\":\"auto\"}},{\"type\":\"object\",\"name\":\"BoxZoomTool\",\"id\":\"p1625\",\"attributes\":{\"overlay\":{\"type\":\"object\",\"name\":\"BoxAnnotation\",\"id\":\"p1626\",\"attributes\":{\"syncable\":false,\"level\":\"overlay\",\"visible\":false,\"left\":{\"type\":\"number\",\"value\":\"nan\"},\"right\":{\"type\":\"number\",\"value\":\"nan\"},\"top\":{\"type\":\"number\",\"value\":\"nan\"},\"bottom\":{\"type\":\"number\",\"value\":\"nan\"},\"left_units\":\"canvas\",\"right_units\":\"canvas\",\"top_units\":\"canvas\",\"bottom_units\":\"canvas\",\"line_color\":\"black\",\"line_alpha\":1.0,\"line_width\":2,\"line_dash\":[4,4],\"fill_color\":\"lightgrey\",\"fill_alpha\":0.5}}}},{\"type\":\"object\",\"name\":\"SaveTool\",\"id\":\"p1631\"},{\"type\":\"object\",\"name\":\"ResetTool\",\"id\":\"p1632\"},{\"type\":\"object\",\"name\":\"HelpTool\",\"id\":\"p1633\"}]}},\"left\":[{\"type\":\"object\",\"name\":\"LinearAxis\",\"id\":\"p1618\",\"attributes\":{\"ticker\":{\"type\":\"object\",\"name\":\"BasicTicker\",\"id\":\"p1619\",\"attributes\":{\"mantissas\":[1,2,5]}},\"formatter\":{\"type\":\"object\",\"name\":\"BasicTickFormatter\",\"id\":\"p1620\"},\"major_label_policy\":{\"type\":\"object\",\"name\":\"AllLabels\",\"id\":\"p1621\"}}}],\"below\":[{\"type\":\"object\",\"name\":\"LinearAxis\",\"id\":\"p1613\",\"attributes\":{\"ticker\":{\"type\":\"object\",\"name\":\"BasicTicker\",\"id\":\"p1614\",\"attributes\":{\"mantissas\":[1,2,5]}},\"formatter\":{\"type\":\"object\",\"name\":\"BasicTickFormatter\",\"id\":\"p1615\"},\"major_label_policy\":{\"type\":\"object\",\"name\":\"AllLabels\",\"id\":\"p1616\"}}}],\"center\":[{\"type\":\"object\",\"name\":\"Grid\",\"id\":\"p1617\",\"attributes\":{\"axis\":{\"id\":\"p1613\"}}},{\"type\":\"object\",\"name\":\"Grid\",\"id\":\"p1622\",\"attributes\":{\"dimension\":1,\"axis\":{\"id\":\"p1618\"}}},{\"type\":\"object\",\"name\":\"Legend\",\"id\":\"p1643\",\"attributes\":{\"click_policy\":\"hide\",\"items\":[{\"type\":\"object\",\"name\":\"LegendItem\",\"id\":\"p1644\",\"attributes\":{\"label\":{\"type\":\"value\",\"value\":\"Household Waste\"},\"renderers\":[{\"id\":\"p1640\"}]}},{\"type\":\"object\",\"name\":\"LegendItem\",\"id\":\"p1654\",\"attributes\":{\"label\":{\"type\":\"value\",\"value\":\"Recyclable Waste\"},\"renderers\":[{\"id\":\"p1651\"}]}},{\"type\":\"object\",\"name\":\"LegendItem\",\"id\":\"p1664\",\"attributes\":{\"label\":{\"type\":\"value\",\"value\":\"Recycling Center\"},\"renderers\":[{\"id\":\"p1661\"}]}},{\"type\":\"object\",\"name\":\"LegendItem\",\"id\":\"p1674\",\"attributes\":{\"label\":{\"type\":\"value\",\"value\":\"Green Waste\"},\"renderers\":[{\"id\":\"p1671\"}]}}]}}]}},{\"type\":\"object\",\"name\":\"Column\",\"id\":\"p1724\",\"attributes\":{\"children\":[{\"type\":\"object\",\"name\":\"Figure\",\"id\":\"p1675\",\"attributes\":{\"x_range\":{\"type\":\"object\",\"name\":\"DataRange1d\",\"id\":\"p1676\"},\"y_range\":{\"type\":\"object\",\"name\":\"DataRange1d\",\"id\":\"p1677\"},\"x_scale\":{\"type\":\"object\",\"name\":\"LinearScale\",\"id\":\"p1685\"},\"y_scale\":{\"type\":\"object\",\"name\":\"LinearScale\",\"id\":\"p1686\"},\"title\":{\"type\":\"object\",\"name\":\"Title\",\"id\":\"p1678\",\"attributes\":{\"text\":\"Population evolution of Rennes M\\u00e9tropole\"}},\"renderers\":[{\"type\":\"object\",\"name\":\"GlyphRenderer\",\"id\":\"p1714\",\"attributes\":{\"data_source\":{\"id\":\"p1595\"},\"view\":{\"type\":\"object\",\"name\":\"CDSView\",\"id\":\"p1715\",\"attributes\":{\"filter\":{\"type\":\"object\",\"name\":\"AllIndices\",\"id\":\"p1716\"}}},\"glyph\":{\"type\":\"object\",\"name\":\"Line\",\"id\":\"p1711\",\"attributes\":{\"x\":{\"type\":\"field\",\"field\":\"ANNEE\"},\"y\":{\"type\":\"field\",\"field\":\"POPULATION\"},\"line_color\":\"red\"}},\"nonselection_glyph\":{\"type\":\"object\",\"name\":\"Line\",\"id\":\"p1712\",\"attributes\":{\"x\":{\"type\":\"field\",\"field\":\"ANNEE\"},\"y\":{\"type\":\"field\",\"field\":\"POPULATION\"},\"line_color\":\"red\",\"line_alpha\":0.1}},\"muted_glyph\":{\"type\":\"object\",\"name\":\"Line\",\"id\":\"p1713\",\"attributes\":{\"x\":{\"type\":\"field\",\"field\":\"ANNEE\"},\"y\":{\"type\":\"field\",\"field\":\"POPULATION\"},\"line_color\":\"red\",\"line_alpha\":0.2}}}}],\"toolbar\":{\"type\":\"object\",\"name\":\"Toolbar\",\"id\":\"p1684\",\"attributes\":{\"tools\":[{\"type\":\"object\",\"name\":\"PanTool\",\"id\":\"p1697\"},{\"type\":\"object\",\"name\":\"WheelZoomTool\",\"id\":\"p1698\",\"attributes\":{\"renderers\":\"auto\"}},{\"type\":\"object\",\"name\":\"BoxZoomTool\",\"id\":\"p1699\",\"attributes\":{\"overlay\":{\"type\":\"object\",\"name\":\"BoxAnnotation\",\"id\":\"p1700\",\"attributes\":{\"syncable\":false,\"level\":\"overlay\",\"visible\":false,\"left\":{\"type\":\"number\",\"value\":\"nan\"},\"right\":{\"type\":\"number\",\"value\":\"nan\"},\"top\":{\"type\":\"number\",\"value\":\"nan\"},\"bottom\":{\"type\":\"number\",\"value\":\"nan\"},\"left_units\":\"canvas\",\"right_units\":\"canvas\",\"top_units\":\"canvas\",\"bottom_units\":\"canvas\",\"line_color\":\"black\",\"line_alpha\":1.0,\"line_width\":2,\"line_dash\":[4,4],\"fill_color\":\"lightgrey\",\"fill_alpha\":0.5}}}},{\"type\":\"object\",\"name\":\"SaveTool\",\"id\":\"p1705\"},{\"type\":\"object\",\"name\":\"ResetTool\",\"id\":\"p1706\"},{\"type\":\"object\",\"name\":\"HelpTool\",\"id\":\"p1707\"}]}},\"left\":[{\"type\":\"object\",\"name\":\"LinearAxis\",\"id\":\"p1692\",\"attributes\":{\"ticker\":{\"type\":\"object\",\"name\":\"BasicTicker\",\"id\":\"p1693\",\"attributes\":{\"mantissas\":[1,2,5]}},\"formatter\":{\"type\":\"object\",\"name\":\"NumeralTickFormatter\",\"id\":\"p1717\",\"attributes\":{\"format\":\"0\"}},\"major_label_policy\":{\"type\":\"object\",\"name\":\"AllLabels\",\"id\":\"p1695\"}}}],\"below\":[{\"type\":\"object\",\"name\":\"LinearAxis\",\"id\":\"p1687\",\"attributes\":{\"ticker\":{\"type\":\"object\",\"name\":\"BasicTicker\",\"id\":\"p1688\",\"attributes\":{\"mantissas\":[1,2,5]}},\"formatter\":{\"type\":\"object\",\"name\":\"BasicTickFormatter\",\"id\":\"p1689\"},\"major_label_policy\":{\"type\":\"object\",\"name\":\"AllLabels\",\"id\":\"p1690\"}}}],\"center\":[{\"type\":\"object\",\"name\":\"Grid\",\"id\":\"p1691\",\"attributes\":{\"axis\":{\"id\":\"p1687\"}}},{\"type\":\"object\",\"name\":\"Grid\",\"id\":\"p1696\",\"attributes\":{\"dimension\":1,\"axis\":{\"id\":\"p1692\"}}}]}},{\"type\":\"object\",\"name\":\"Div\",\"id\":\"p1722\",\"attributes\":{\"text\":\"\\n<p>Customize the appearence of the population evolution plot</p>\\n\"}},{\"type\":\"object\",\"name\":\"Row\",\"id\":\"p1723\",\"attributes\":{\"children\":[{\"type\":\"object\",\"name\":\"ColorPicker\",\"id\":\"p1718\",\"attributes\":{\"js_property_callbacks\":{\"type\":\"map\",\"entries\":[[\"change:color\",[{\"type\":\"object\",\"name\":\"CustomJS\",\"id\":\"p1719\",\"attributes\":{\"args\":{\"type\":\"map\",\"entries\":[[\"other\",{\"id\":\"p1711\"}]]},\"code\":\"other.line_color = this.color\"}}]]]},\"title\":\"Line Color\",\"color\":\"#ff0000\"}},{\"type\":\"object\",\"name\":\"Spinner\",\"id\":\"p1720\",\"attributes\":{\"js_property_callbacks\":{\"type\":\"map\",\"entries\":[[\"change:value\",[{\"type\":\"object\",\"name\":\"CustomJS\",\"id\":\"p1721\",\"attributes\":{\"args\":{\"type\":\"map\",\"entries\":[[\"other\",{\"id\":\"p1711\"}]]},\"code\":\"other.line_width = this.value\"}}]]]},\"title\":\"Line Thickness\",\"value\":1,\"low\":0,\"high\":20}}]}}]}}]}}}},{\"type\":\"object\",\"name\":\"TabPanel\",\"id\":\"p1775\",\"attributes\":{\"title\":\"Waste per inhabitant\",\"child\":{\"type\":\"object\",\"name\":\"Column\",\"id\":\"p1774\",\"attributes\":{\"children\":[{\"type\":\"object\",\"name\":\"Select\",\"id\":\"p1759\",\"attributes\":{\"js_property_callbacks\":{\"type\":\"map\",\"entries\":[[\"change:value\",[{\"type\":\"object\",\"name\":\"CustomJS\",\"id\":\"p1760\",\"attributes\":{\"args\":{\"type\":\"map\",\"entries\":[[\"source\",{\"type\":\"object\",\"name\":\"ColumnDataSource\",\"id\":\"p1598\",\"attributes\":{\"selected\":{\"type\":\"object\",\"name\":\"Selection\",\"id\":\"p1599\",\"attributes\":{\"indices\":[],\"line_indices\":[]}},\"selection_policy\":{\"type\":\"object\",\"name\":\"UnionRenderers\",\"id\":\"p1600\"},\"data\":{\"type\":\"map\",\"entries\":[[\"index\",{\"type\":\"ndarray\",\"array\":[\"COLL_OM_HAB\",\"COLL_DMREC_HAB\",\"COLL_DECHETERIESENC_HAB\",\"COLL_VEG_HAB\"],\"shape\":[4],\"dtype\":\"object\",\"order\":\"little\"}],[\"2002\",{\"type\":\"ndarray\",\"array\":{\"type\":\"bytes\",\"data\":\"AAAAAADQckAAAAAAAIBFQAAAAAAAAFJAAAAAAAAATEA=\"},\"shape\":[4],\"dtype\":\"float64\",\"order\":\"little\"}],[\"2003\",{\"type\":\"ndarray\",\"array\":{\"type\":\"bytes\",\"data\":\"AAAAAACgcEAAAAAAAEBQQAAAAAAAgFNAAAAAAAAASkA=\"},\"shape\":[4],\"dtype\":\"float64\",\"order\":\"little\"}],[\"2004\",{\"type\":\"ndarray\",\"array\":{\"type\":\"bytes\",\"data\":\"AAAAAACAbUAAAAAAAIBUQAAAAAAAQFRAAAAAAABAUkA=\"},\"shape\":[4],\"dtype\":\"float64\",\"order\":\"little\"}],[\"2005\",{\"type\":\"ndarray\",\"array\":{\"type\":\"bytes\",\"data\":\"AAAAAADgbEAAAAAAAIBVQAAAAAAAwFVAAAAAAAAAT0A=\"},\"shape\":[4],\"dtype\":\"float64\",\"order\":\"little\"}],[\"2006\",{\"type\":\"ndarray\",\"array\":{\"type\":\"bytes\",\"data\":\"AAAAAAAAbEAAAAAAAEBWQAAAAAAAwFVAAAAAAAAAUkA=\"},\"shape\":[4],\"dtype\":\"float64\",\"order\":\"little\"}],[\"2007\",{\"type\":\"ndarray\",\"array\":{\"type\":\"bytes\",\"data\":\"AAAAAAAAa0AAAAAAAEBWQAAAAAAAQFdAAAAAAAAAVUA=\"},\"shape\":[4],\"dtype\":\"float64\",\"order\":\"little\"}],[\"2008\",{\"type\":\"ndarray\",\"array\":{\"type\":\"bytes\",\"data\":\"AAAAAACAbEAAAAAAAABYQAAAAAAAwFhAAAAAAADAVEA=\"},\"shape\":[4],\"dtype\":\"float64\",\"order\":\"little\"}],[\"2009\",{\"type\":\"ndarray\",\"array\":{\"type\":\"bytes\",\"data\":\"AAAAAAAAbEAAAAAAAABYQAAAAAAAQFlAAAAAAACAVUA=\"},\"shape\":[4],\"dtype\":\"float64\",\"order\":\"little\"}],[\"2010\",{\"type\":\"ndarray\",\"array\":{\"type\":\"bytes\",\"data\":\"AAAAAAAAa0AAAAAAAIBXQAAAAAAAwFpAAAAAAAAAUUA=\"},\"shape\":[4],\"dtype\":\"float64\",\"order\":\"little\"}],[\"2011\",{\"type\":\"ndarray\",\"array\":{\"type\":\"bytes\",\"data\":\"AAAAAADgakAAAAAAAABYQAAAAAAAQFtAAAAAAABAUkA=\"},\"shape\":[4],\"dtype\":\"float64\",\"order\":\"little\"}],[\"2012\",{\"type\":\"ndarray\",\"array\":{\"type\":\"bytes\",\"data\":\"AAAAAABgakAAAAAAAEBXQAAAAAAAAFpAAAAAAABAUkA=\"},\"shape\":[4],\"dtype\":\"float64\",\"order\":\"little\"}],[\"2013\",{\"type\":\"ndarray\",\"array\":{\"type\":\"bytes\",\"data\":\"AAAAAADAaUAAAAAAAMBWQAAAAAAAwFtAAAAAAABAUkA=\"},\"shape\":[4],\"dtype\":\"float64\",\"order\":\"little\"}],[\"2014\",{\"type\":\"ndarray\",\"array\":{\"type\":\"bytes\",\"data\":\"AAAAAACAaUAAAAAAAMBWQAAAAAAAQF1AAAAAAACAU0A=\"},\"shape\":[4],\"dtype\":\"float64\",\"order\":\"little\"}],[\"2015\",{\"type\":\"ndarray\",\"array\":{\"type\":\"bytes\",\"data\":\"AAAAAABAaUAAAAAAAEBWQAAAAAAAAF1AAAAAAADAUUA=\"},\"shape\":[4],\"dtype\":\"float64\",\"order\":\"little\"}],[\"2016\",{\"type\":\"ndarray\",\"array\":{\"type\":\"bytes\",\"data\":\"AAAAAADgaEAAAAAAAIBWQAAAAAAAwF1AAAAAAABAUUA=\"},\"shape\":[4],\"dtype\":\"float64\",\"order\":\"little\"}],[\"2017\",{\"type\":\"ndarray\",\"array\":{\"type\":\"bytes\",\"data\":\"AAAAAAAAaEAAAAAAAEBXQAAAAAAAAF1AAAAAAABAUEA=\"},\"shape\":[4],\"dtype\":\"float64\",\"order\":\"little\"}],[\"2018\",{\"type\":\"ndarray\",\"array\":{\"type\":\"bytes\",\"data\":\"AAAAAACAZ0AAAAAAAEBYQAAAAAAAwF1AAAAAAAAAUEA=\"},\"shape\":[4],\"dtype\":\"float64\",\"order\":\"little\"}],[\"2019\",{\"type\":\"ndarray\",\"array\":{\"type\":\"bytes\",\"data\":\"AAAAAADgZkAAAAAAAMBYQAAAAAAAQF5AAAAAAACAUEA=\"},\"shape\":[4],\"dtype\":\"float64\",\"order\":\"little\"}],[\"2020\",{\"type\":\"ndarray\",\"array\":{\"type\":\"bytes\",\"data\":\"AAAAAACAZkAAAAAAAIBYQAAAAAAAQF1AAAAAAAAATEA=\"},\"shape\":[4],\"dtype\":\"float64\",\"order\":\"little\"}],[\"2021\",{\"type\":\"ndarray\",\"array\":{\"type\":\"bytes\",\"data\":\"AAAAAACgZkAAAAAAAEBZQAAAAAAAIGFAAAAAAADAUEA=\"},\"shape\":[4],\"dtype\":\"float64\",\"order\":\"little\"}],[\"Color\",{\"type\":\"ndarray\",\"array\":[\"grey\",\"yellow\",\"orange\",\"green\"],\"shape\":[4],\"dtype\":\"object\",\"order\":\"little\"}],[\"Label\",{\"type\":\"ndarray\",\"array\":[\"Household Waste\",\"Recyclable Waste\",\"Recycling Center\",\"Green Waste\"],\"shape\":[4],\"dtype\":\"object\",\"order\":\"little\"}],[\"Value\",{\"type\":\"ndarray\",\"array\":{\"type\":\"bytes\",\"data\":\"AAAAAACgZkAAAAAAAEBZQAAAAAAAIGFAAAAAAADAUEA=\"},\"shape\":[4],\"dtype\":\"float64\",\"order\":\"little\"}]]}}}]]},\"code\":\"\\n    const data = source.data;\\n    const selected_year = cb_obj.value;  // Use cb_obj.value for Select widget\\n    const labels = data['Label'];\\n    \\n    for (let i = 0; i < labels.length; i++) {\\n        data['Value'][i] = data[selected_year][i];\\n    }\\n\\n    source.change.emit();\\n\"}}]]]},\"title\":\"Choose the Year\",\"options\":[[\"2002\",\"2002\"],[\"2003\",\"2003\"],[\"2004\",\"2004\"],[\"2005\",\"2005\"],[\"2006\",\"2006\"],[\"2007\",\"2007\"],[\"2008\",\"2008\"],[\"2009\",\"2009\"],[\"2010\",\"2010\"],[\"2011\",\"2011\"],[\"2012\",\"2012\"],[\"2013\",\"2013\"],[\"2014\",\"2014\"],[\"2015\",\"2015\"],[\"2016\",\"2016\"],[\"2017\",\"2017\"],[\"2018\",\"2018\"],[\"2019\",\"2019\"],[\"2020\",\"2020\"],[\"2021\",\"2021\"]],\"value\":\"2021\"}},{\"type\":\"object\",\"name\":\"Row\",\"id\":\"p1773\",\"attributes\":{\"children\":[{\"type\":\"object\",\"name\":\"Figure\",\"id\":\"p1727\",\"attributes\":{\"x_range\":{\"type\":\"object\",\"name\":\"FactorRange\",\"id\":\"p1736\",\"attributes\":{\"factors\":[\"Household Waste\",\"Recyclable Waste\",\"Recycling Center\",\"Green Waste\"]}},\"y_range\":{\"type\":\"object\",\"name\":\"DataRange1d\",\"id\":\"p1729\"},\"x_scale\":{\"type\":\"object\",\"name\":\"CategoricalScale\",\"id\":\"p1737\"},\"y_scale\":{\"type\":\"object\",\"name\":\"LinearScale\",\"id\":\"p1738\"},\"title\":{\"type\":\"object\",\"name\":\"Title\",\"id\":\"p1734\"},\"renderers\":[{\"type\":\"object\",\"name\":\"GlyphRenderer\",\"id\":\"p1756\",\"attributes\":{\"data_source\":{\"id\":\"p1598\"},\"view\":{\"type\":\"object\",\"name\":\"CDSView\",\"id\":\"p1757\",\"attributes\":{\"filter\":{\"type\":\"object\",\"name\":\"AllIndices\",\"id\":\"p1758\"}}},\"glyph\":{\"type\":\"object\",\"name\":\"VBar\",\"id\":\"p1753\",\"attributes\":{\"x\":{\"type\":\"field\",\"field\":\"Label\"},\"width\":{\"type\":\"value\",\"value\":0.5},\"top\":{\"type\":\"field\",\"field\":\"Value\"},\"line_color\":{\"type\":\"field\",\"field\":\"Color\"},\"fill_color\":{\"type\":\"field\",\"field\":\"Color\"},\"hatch_color\":{\"type\":\"field\",\"field\":\"Color\"}}},\"nonselection_glyph\":{\"type\":\"object\",\"name\":\"VBar\",\"id\":\"p1754\",\"attributes\":{\"x\":{\"type\":\"field\",\"field\":\"Label\"},\"width\":{\"type\":\"value\",\"value\":0.5},\"top\":{\"type\":\"field\",\"field\":\"Value\"},\"line_color\":{\"type\":\"field\",\"field\":\"Color\"},\"line_alpha\":{\"type\":\"value\",\"value\":0.1},\"fill_color\":{\"type\":\"field\",\"field\":\"Color\"},\"fill_alpha\":{\"type\":\"value\",\"value\":0.1},\"hatch_color\":{\"type\":\"field\",\"field\":\"Color\"},\"hatch_alpha\":{\"type\":\"value\",\"value\":0.1}}},\"muted_glyph\":{\"type\":\"object\",\"name\":\"VBar\",\"id\":\"p1755\",\"attributes\":{\"x\":{\"type\":\"field\",\"field\":\"Label\"},\"width\":{\"type\":\"value\",\"value\":0.5},\"top\":{\"type\":\"field\",\"field\":\"Value\"},\"line_color\":{\"type\":\"field\",\"field\":\"Color\"},\"line_alpha\":{\"type\":\"value\",\"value\":0.2},\"fill_color\":{\"type\":\"field\",\"field\":\"Color\"},\"fill_alpha\":{\"type\":\"value\",\"value\":0.2},\"hatch_color\":{\"type\":\"field\",\"field\":\"Color\"},\"hatch_alpha\":{\"type\":\"value\",\"value\":0.2}}}}}],\"toolbar\":{\"type\":\"object\",\"name\":\"Toolbar\",\"id\":\"p1735\",\"attributes\":{\"tools\":[{\"type\":\"object\",\"name\":\"HoverTool\",\"id\":\"p1749\",\"attributes\":{\"renderers\":\"auto\",\"tooltips\":\"@Label: @Value kg/inhabitant\"}}]}},\"toolbar_location\":null,\"left\":[{\"type\":\"object\",\"name\":\"LinearAxis\",\"id\":\"p1744\",\"attributes\":{\"ticker\":{\"type\":\"object\",\"name\":\"BasicTicker\",\"id\":\"p1745\",\"attributes\":{\"mantissas\":[1,2,5]}},\"formatter\":{\"type\":\"object\",\"name\":\"BasicTickFormatter\",\"id\":\"p1746\"},\"major_label_policy\":{\"type\":\"object\",\"name\":\"AllLabels\",\"id\":\"p1747\"}}}],\"below\":[{\"type\":\"object\",\"name\":\"CategoricalAxis\",\"id\":\"p1739\",\"attributes\":{\"ticker\":{\"type\":\"object\",\"name\":\"CategoricalTicker\",\"id\":\"p1740\"},\"formatter\":{\"type\":\"object\",\"name\":\"CategoricalTickFormatter\",\"id\":\"p1741\"},\"major_label_policy\":{\"type\":\"object\",\"name\":\"AllLabels\",\"id\":\"p1742\"}}}],\"center\":[{\"type\":\"object\",\"name\":\"Grid\",\"id\":\"p1743\",\"attributes\":{\"axis\":{\"id\":\"p1739\"}}},{\"type\":\"object\",\"name\":\"Grid\",\"id\":\"p1748\",\"attributes\":{\"dimension\":1,\"axis\":{\"id\":\"p1744\"}}}]}},{\"type\":\"object\",\"name\":\"DataTable\",\"id\":\"p1767\",\"attributes\":{\"source\":{\"id\":\"p1598\"},\"view\":{\"type\":\"object\",\"name\":\"CDSView\",\"id\":\"p1771\",\"attributes\":{\"filter\":{\"type\":\"object\",\"name\":\"AllIndices\",\"id\":\"p1772\"}}},\"columns\":[{\"type\":\"object\",\"name\":\"TableColumn\",\"id\":\"p1761\",\"attributes\":{\"field\":\"Label\",\"title\":\"Category\",\"formatter\":{\"type\":\"object\",\"name\":\"StringFormatter\",\"id\":\"p1762\"},\"editor\":{\"type\":\"object\",\"name\":\"StringEditor\",\"id\":\"p1763\"}}},{\"type\":\"object\",\"name\":\"TableColumn\",\"id\":\"p1764\",\"attributes\":{\"field\":\"Value\",\"title\":\"Weight per inhabitant (kg)\",\"formatter\":{\"type\":\"object\",\"name\":\"StringFormatter\",\"id\":\"p1765\"},\"editor\":{\"type\":\"object\",\"name\":\"StringEditor\",\"id\":\"p1766\"}}}]}}]}}]}}}}]}}]}}]}};\n  const render_items = [{\"docid\":\"e825d627-6cea-4363-b7de-bad44b51df21\",\"roots\":{\"p1778\":\"f2bc0b41-1900-46b3-a22d-e9264d1e8179\"},\"root_ids\":[\"p1778\"]}];\n  root.Bokeh.embed.embed_items_notebook(docs_json, render_items);\n  }\n  if (root.Bokeh !== undefined) {\n    embed_document(root);\n  } else {\n    let attempts = 0;\n    const timer = setInterval(function(root) {\n      if (root.Bokeh !== undefined) {\n        clearInterval(timer);\n        embed_document(root);\n      } else {\n        attempts++;\n        if (attempts > 100) {\n          clearInterval(timer);\n          console.log(\"Bokeh: ERROR: Unable to run BokehJS code because BokehJS library is missing\");\n        }\n      }\n    }, 10, root)\n  }\n})(window);",
      "application/vnd.bokehjs_exec.v0+json": ""
     },
     "metadata": {
      "application/vnd.bokehjs_exec.v0+json": {
       "id": "p1778"
      }
     },
     "output_type": "display_data"
    }
   ],
   "source": [
    "from bokeh.models import Tabs, TabPanel, ColumnDataSource, CustomJS, Select\n",
    "from bokeh.palettes import Set2\n",
    "\n",
    "from bokeh.layouts import row, column\n",
    "from bokeh.models import ColorPicker, Spinner, Div, Paragraph, NumeralTickFormatter, TableColumn, DataTable, HoverTool\n",
    "from bokeh.plotting import figure, show\n",
    "\n",
    "p1 = figure(title=\"Collected Waste in Rennes Métropole\")\n",
    "data_column_names_p1 = [\"COLL_OM_HAB\", \"COLL_DMREC_HAB\", \"COLL_VEG_HAB\", \"COLL_DECHETERIESENC_HAB\"]\n",
    "data_legend_label_p1 = [\"Household Waste\", \"Recyclable Waste\", \"Recycling Center\", \"Green Waste\"]\n",
    "\n",
    "for column_name, legend_label, color in zip(data_column_names_p1, data_legend_label_p1, Set2[4]):\n",
    "    p1.line(\"ANNEE\", column_name, source=data_waste, line_width=5, color=color, alpha=0.8, legend_label=legend_label,\n",
    "            muted_color=color, muted_alpha=0.2)\n",
    "\n",
    "p1.legend.click_policy = \"hide\"\n",
    "\n",
    "p2 = figure(title=\"Population evolution of Rennes Métropole\")\n",
    "lines_p2 = p2.line('ANNEE', 'POPULATION', color='red', source=data_waste)\n",
    "p2.yaxis.formatter = NumeralTickFormatter(format=\"0\")\n",
    "picker_p2 = ColorPicker(title=\"Line Color\", color=lines_p2.glyph.line_color)\n",
    "picker_p2.js_link('color', lines_p2.glyph, 'line_color')\n",
    "spinner_p2 = Spinner(title=\"Line Thickness\", low=0, high=20, value=lines_p2.glyph.line_width)\n",
    "spinner_p2.js_link(\"value\", lines_p2.glyph, \"line_width\")\n",
    "div_p2 = Div(text=\"\"\"\n",
    "<p>Customize the appearence of the population evolution plot</p>\n",
    "\"\"\")\n",
    "\n",
    "layout_p2 = column(p2, div_p2, row(picker_p2, spinner_p2))\n",
    "\n",
    "layout_tab1 = row([p1, layout_p2])\n",
    "\n",
    "\n",
    "\n",
    "tab1 = TabPanel(child=layout_tab1, title=\"Total Waste Evolution\")\n",
    "\n",
    "\n",
    "p3 = figure(x_range=data_waste_year.data['Label'], toolbar_location=None, tools=\"\", tooltips=\"@Label: @Value kg/inhabitant\")\n",
    "p3.vbar(x='Label', top='Value', width=0.5, color='Color', source=data_waste_year)\n",
    "\n",
    "year_tuples = [(str(year), str(year)) for year in df_waste[\"ANNEE\"].unique()]\n",
    "\n",
    "menu_p3 = Select(title=\"Choose the Year\", value=year_tuples[-1][0], options=year_tuples)\n",
    "\n",
    "# Update the CustomJS callback for the Select widget\n",
    "callback_p3 = CustomJS(args=dict(source=data_waste_year), code=\"\"\"\n",
    "    const data = source.data;\n",
    "    const selected_year = cb_obj.value;  // Use cb_obj.value for Select widget\n",
    "    const labels = data['Label'];\n",
    "    \n",
    "    for (let i = 0; i < labels.length; i++) {\n",
    "        data['Value'][i] = data[selected_year][i];\n",
    "    }\n",
    "\n",
    "    source.change.emit();\n",
    "\"\"\")\n",
    "\n",
    "# Attach the callback to the Select widget\n",
    "menu_p3.js_on_change('value', callback_p3)\n",
    "\n",
    "# # Create a HoverTool instance\n",
    "# hover_tool = HoverTool(tooltips=[\n",
    "#     ('Category', '@Label'),  # Display the label/category\n",
    "#     ('Value', '@Value')      # Display the corresponding value\n",
    "# ])\n",
    "# p3.add_tools(hover_tool)\n",
    "\n",
    "columns = [\n",
    "        TableColumn(field=\"Label\", title=\"Category\"),\n",
    "        TableColumn(field=\"Value\", title=\"Weight per inhabitant (kg)\"),\n",
    "    ]\n",
    "data_table = DataTable(source=data_waste_year, columns=columns)\n",
    "\n",
    "\n",
    "layout_tab2 = column(menu_p3, row(p3, data_table))\n",
    "tab2 = TabPanel(child=layout_tab2, title=\"Waste per inhabitant\")\n",
    "\n",
    "\n",
    "tabs = Tabs(tabs=[tab1, tab2])\n",
    "\n",
    "div_main = Div(text=\"\"\"\n",
    "<h1> Waste collection in Rennes Metropole from 2002 to 2022 </h1>\n",
    "<p> This data is provided by \n",
    "<a href=\"https://data.rennesmetropole.fr/explore/dataset/stats-collecte-dechets/table/\"> Rennes Metropole open data</a> </p>\"\"\")\n",
    "\n",
    "\n",
    "layout_main = column(div_main, tabs)\n",
    "\n",
    "show(layout_main)"
   ]
  },
  {
   "cell_type": "code",
   "execution_count": null,
   "metadata": {},
   "outputs": [],
   "source": []
  }
 ],
 "metadata": {
  "kernelspec": {
   "display_name": "base",
   "language": "python",
   "name": "python3"
  },
  "language_info": {
   "codemirror_mode": {
    "name": "ipython",
    "version": 3
   },
   "file_extension": ".py",
   "mimetype": "text/x-python",
   "name": "python",
   "nbconvert_exporter": "python",
   "pygments_lexer": "ipython3",
   "version": "3.10.13"
  }
 },
 "nbformat": 4,
 "nbformat_minor": 2
}
